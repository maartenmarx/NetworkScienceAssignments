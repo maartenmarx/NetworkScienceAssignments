{
 "cells": [
  {
   "cell_type": "markdown",
   "metadata": {},
   "source": [
    "# Assignment Netwerkanalyse"
   ]
  },
  {
   "cell_type": "markdown",
   "metadata": {
    "nbgrader": {
     "grade": false,
     "grade_id": "privacy",
     "locked": false,
     "schema_version": 3,
     "solution": false
    }
   },
   "source": [
    "## Notebook made by\n",
    "\n",
    "**Gebruik graag dit formaat**\n",
    "\n",
    "* Voor de namen:  voornaam rest van je naam, voornaam rest van je naam,....\n",
    "* je studentnummers: hetzelfde: scheidt met `,`\n",
    "* je emails: hetzelfde: scheidt met `,`\n",
    "* voor je groep: alleen de hoofdletter (dus voor de groep van Marx zou je `A` kiezen)\n",
    "\n",
    "__Namen__:Anoniem\n",
    "__Emails__:Anoniem\n",
    "__Student id__:Anoniem\n",
    "__Groep__:Anoniem"
   ]
  },
  {
   "cell_type": "markdown",
   "metadata": {},
   "source": [
    "## Toelichting\n",
    "\n",
    "* De meeste opgaven worden automatisch nagekeken. Bij vrijwel alle opdrachten staan er een paar tests onder de opdracht, dit is voornamelijk om te zorgen dat je de juiste type output geeft. Dit zijn dus *NIET* alle tests, die komen er bij het graden nog bij.\n",
    "* Elke vraag is 1 punt waard, tenzij anders aangegeven. Soms is die punt onderverdeeld in deelpunten, maar niet altijd. \n",
    "\n",
    "## Voor het inleveren!\n",
    "\n",
    "* Pas niet de cellen aan, vooral niet die je niet kunt editen. Dit levert problemen op bij nakijken. Twijfel je of je per ongeluk iets hebt gewijzigd, kopieer dan bij inleveren je antwoorden naar een nieuw bestand, zodat het niet fout kan gaan.\n",
    "\n",
    "* Zorg dat de code goed runt van boven naar beneden, verifieer dat door boven in Kernel -> Restart & Run All uit te voeren\n",
    "\n",
    "## Na het inleveren!\n",
    "\n",
    "* Het gebeurt erg vaak dat mensen een \"leeg bestand\" inleveren. Vaak een andere versie van de opgave die nog ergens op je computer rondslingerde. Zonde van al je werk toch!\n",
    "* Dus, lever **minstens een half uur voor tijd in**. Download dan wat je hebt ingeleverd op Canvas. Geef het een andere naam om verwarring te voorkomen. En draai alle cellen, en bekijk het. Geen syntax fouten? Alle vragen gemaakt? Dan zit het vast wel goed, en hoef je niet in de zenuwen te zitten."
   ]
  },
  {
   "cell_type": "markdown",
   "metadata": {
    "deletable": false,
    "editable": false,
    "nbgrader": {
     "cell_type": "markdown",
     "checksum": "590282fb39e2d9716aa51f423b64a56e",
     "grade": false,
     "grade_id": "cell-92f4d17e6afb4903",
     "locked": true,
     "schema_version": 3,
     "solution": false
    }
   },
   "source": [
    "# Week 2"
   ]
  },
  {
   "cell_type": "code",
   "execution_count": 1,
   "metadata": {
    "deletable": false,
    "editable": false,
    "execution": {
     "iopub.execute_input": "2024-04-14T12:30:10.147598Z",
     "iopub.status.busy": "2024-04-14T12:30:10.147273Z",
     "iopub.status.idle": "2024-04-14T12:30:10.777655Z",
     "shell.execute_reply": "2024-04-14T12:30:10.776841Z"
    },
    "nbgrader": {
     "cell_type": "code",
     "checksum": "65122c755746ceaef2b948b2ecba7c65",
     "grade": false,
     "grade_id": "cell-9709ca0c1acbe1bf",
     "locked": true,
     "schema_version": 3,
     "solution": false
    }
   },
   "outputs": [],
   "source": [
    "%matplotlib inline\n",
    "import matplotlib.pyplot as plt\n",
    "import numpy as np\n",
    "import os\n",
    "import networkx as nx\n",
    "import requests\n",
    "from nose.tools import assert_equal, assert_count_equal\n",
    "from itertools import combinations\n",
    "from collections import defaultdict"
   ]
  },
  {
   "cell_type": "code",
   "execution_count": 2,
   "metadata": {
    "execution": {
     "iopub.execute_input": "2024-04-14T12:30:10.781009Z",
     "iopub.status.busy": "2024-04-14T12:30:10.780802Z",
     "iopub.status.idle": "2024-04-14T12:30:10.819914Z",
     "shell.execute_reply": "2024-04-14T12:30:10.818811Z"
    }
   },
   "outputs": [],
   "source": [
    "range?"
   ]
  },
  {
   "cell_type": "markdown",
   "metadata": {},
   "source": [
    "# Deel -1\n",
    "\n",
    "* Verzamelingen\n",
    "    * Maak alle opgaven op [deze site](https://set.kuleuven.be/voorkennis/zomercursus/zomercursusZ/logica/verzamelingen_light). Dus ook die in sectie 2.1 en 2.1.1! "
   ]
  },
  {
   "cell_type": "markdown",
   "metadata": {},
   "source": [
    "# Deel 0: First Course Chap 1\n",
    "\n",
    "*  First Course Chap 1, alle overige opgaven (dus vanaf 22) (plus opnieuw die je vorige week fout had)"
   ]
  },
  {
   "cell_type": "markdown",
   "metadata": {
    "deletable": false,
    "nbgrader": {
     "cell_type": "markdown",
     "checksum": "292dae5d5ad35d20f58b877046a8d62d",
     "grade": true,
     "grade_id": "fc",
     "locked": false,
     "points": 1,
     "schema_version": 3,
     "solution": true
    }
   },
   "source": [
    "# Deel 0: First Course Chap 1\n",
    "\n",
    "*  First Course Chap 1, alle overige opgaven (dus vanaf 22) (plus opnieuw die je vorige week fout had)\n",
    "\n",
    "First course chap 1\n",
    "\n",
    "22. Minimum degree: 2. Maximum degree: 5. Mean degree: 3. Density: 0.6\n",
    "\n",
    "23. They don't have to have the same maximum and minimum degree. Take for example the network which has the same number of nodes and links as the network from excersise 21. This network has 6 nodes and 18 links, with a mean degree of 3 (on average 3 links to every node). This can also be accomplished by giving every node 3 links, thus making both the minimum and maximum degree 3. This is not the same minimum and maximum degree as the network from excersise 21, and thus a contradiction. They must have the same mean degree, since the only way to change that is to change the number of links, or the number of nodes, which would make contradict the premise.\n",
    "24. 1. The density has increased. $d = \\frac{\\langle k\\rangle}{N-1}$ and $\\langle k \\rangle = \\frac{\\Sigma_i k_i}{N} $. So if total number of links increases, the avarage degree increases, and thus the density also increases.\n",
    "    2. This means that nodes and average number of links are both doubled. The density would decrease slightly because of the N-1 in the denominator, but would practically stay the same because of the large number of nodes and links.\n",
    "25. There are approximately 33 million * 1000 = 33 billion (33 miljard) links in the network. This is a sparse network, as the density is approximately $\\dfrac{2\\cdot(33 \\times 10^{9})}{(33\\times10^6)^2} \\thickapprox 6.0606 \\times 10^{-5}$\n",
    "26. The density has stayed the same."
   ]
  },
  {
   "cell_type": "markdown",
   "metadata": {
    "deletable": false,
    "editable": false,
    "nbgrader": {
     "cell_type": "markdown",
     "checksum": "80501b1fd9f17ed072f62d9d9366be8a",
     "grade": false,
     "grade_id": "cell-a9e3236ad755a7db",
     "locked": true,
     "schema_version": 3,
     "solution": false
    }
   },
   "source": [
    "# Deel 1: MacBeth"
   ]
  },
  {
   "cell_type": "code",
   "execution_count": 3,
   "metadata": {
    "deletable": false,
    "editable": false,
    "execution": {
     "iopub.execute_input": "2024-04-14T12:30:10.823233Z",
     "iopub.status.busy": "2024-04-14T12:30:10.823032Z",
     "iopub.status.idle": "2024-04-14T12:30:10.827151Z",
     "shell.execute_reply": "2024-04-14T12:30:10.826378Z"
    },
    "nbgrader": {
     "cell_type": "code",
     "checksum": "e85ec1c1e8ac7ab6dde2e0348c9947f5",
     "grade": false,
     "grade_id": "cell-fcd256812ccff2ce",
     "locked": true,
     "schema_version": 3,
     "solution": false
    }
   },
   "outputs": [],
   "source": [
    "def open_graph():\n",
    "    \"\"\"Loads the graphml\"\"\"\n",
    "    if 'macbethcorrected.graphml' in os.listdir():\n",
    "        return nx.read_graphml('macbethcorrected.graphml')\n",
    "    elif os.path.exists('../../data/Week2'):\n",
    "        return nx.read_graphml('../../data/Week2/macbethcorrected.graphml')\n",
    "    elif os.path.exists('../../../data/Week2'):\n",
    "        return nx.read_graphml('../../../data/Week2/macbethcorrected.graphml')"
   ]
  },
  {
   "cell_type": "code",
   "execution_count": 4,
   "metadata": {
    "deletable": false,
    "editable": false,
    "execution": {
     "iopub.execute_input": "2024-04-14T12:30:10.830574Z",
     "iopub.status.busy": "2024-04-14T12:30:10.830374Z",
     "iopub.status.idle": "2024-04-14T12:30:10.997981Z",
     "shell.execute_reply": "2024-04-14T12:30:10.997300Z"
    },
    "nbgrader": {
     "cell_type": "code",
     "checksum": "45eec244be8f9c3181b122adcbde89b7",
     "grade": false,
     "grade_id": "cell-8bbe1c78fae27fb3",
     "locked": true,
     "schema_version": 3,
     "solution": false
    }
   },
   "outputs": [
    {
     "data": {
      "image/png": "[encoded data removed]",
      "text/plain": [
       "<Figure size 640x480 with 1 Axes>"
      ]
     },
     "metadata": {},
     "output_type": "display_data"
    }
   ],
   "source": [
    "MacB = open_graph()\n",
    "nx.draw(MacB, with_labels=True)"
   ]
  },
  {
   "cell_type": "markdown",
   "metadata": {
    "deletable": false,
    "editable": false,
    "nbgrader": {
     "cell_type": "markdown",
     "checksum": "36cad9c88244ec6a7e6bee4743812aaf",
     "grade": false,
     "grade_id": "cell-fef740c5ed742f4a",
     "locked": true,
     "schema_version": 3,
     "solution": false
    }
   },
   "source": [
    "## Vraag 1\n",
    " \n",
    "In deze vraag gaan we kijken naar de vorm van deelgrafen in MacB. We vragen ons voor elke hoeveelheid knopen af, hoeveel verschillende \"vormen\" deelnetwerken met zoveel knopen er in MacB zitten.\n",
    "\n",
    "Voorbeeld: met 2 knopen hebben we ook 2 \"vormen\" in MacB, namelijk de twee knopen onverbonden, en de twee knopen verbonden. Met drie knopen zijn er meer mogelijkheden (vogel ze zelf uit), en het is de vraag of we die ook allemaal terugzien in MacB. \n",
    "\n",
    "Alle deelnetwerken van dezelfde vorm noemen we isomorf. \n",
    "\n",
    "Geef voor `n in range(5)` het aantal niet isomorfe deelnetwerken in MacB met `n` knopen als een dict met het aantal knopen als sleutel en het aantal niet isomorfe deelnetwerken als waarde. \n",
    "\n",
    "**Hint:** teken voor elk aantal knopen eerst zelf alle mogelijke niet isomorfe netwerkjes die je met zoveel knopen kunt maken, en ga dan op zoek in de Macbeth graaf of je die allemaal kunt vinden.  Voor $n=2$ zijn er 2 mogelijke niet isomorfe netwerkjes: $\\langle\\{1,2\\},\\emptyset\\rangle$ en $\\langle\\{1,2\\},\\{(1,2)\\}\\rangle$.\n",
    "\n",
    "**Tip:** Je mag dit natuurlijk programmeren, maar het hoeft niet. \n"
   ]
  },
  {
   "cell_type": "code",
   "execution_count": 5,
   "metadata": {
    "deletable": false,
    "execution": {
     "iopub.execute_input": "2024-04-14T12:30:11.031829Z",
     "iopub.status.busy": "2024-04-14T12:30:11.031549Z",
     "iopub.status.idle": "2024-04-14T12:30:11.036575Z",
     "shell.execute_reply": "2024-04-14T12:30:11.036108Z"
    },
    "nbgrader": {
     "cell_type": "code",
     "checksum": "1ca761e0f62724349f1a2f01246994f0",
     "grade": false,
     "grade_id": "Vraag1",
     "locked": false,
     "schema_version": 3,
     "solution": true
    }
   },
   "outputs": [
    {
     "data": {
      "text/plain": [
       "{0: 0, 1: 1, 2: 2, 3: 4, 4: 10}"
      ]
     },
     "execution_count": 5,
     "metadata": {},
     "output_type": "execute_result"
    }
   ],
   "source": [
    "iso_types = {0: 0, 1: 1, 2: 2, 3: 4, 4: 10}\n",
    "\n",
    "iso_types"
   ]
  },
  {
   "cell_type": "code",
   "execution_count": 6,
   "metadata": {
    "deletable": false,
    "editable": false,
    "execution": {
     "iopub.execute_input": "2024-04-14T12:30:11.039796Z",
     "iopub.status.busy": "2024-04-14T12:30:11.039562Z",
     "iopub.status.idle": "2024-04-14T12:30:11.043695Z",
     "shell.execute_reply": "2024-04-14T12:30:11.043159Z"
    },
    "nbgrader": {
     "cell_type": "code",
     "checksum": "3c2fb9b5c3db7e4b3a8e13b3ff68cabb",
     "grade": true,
     "grade_id": "Vraag1_antwoord",
     "locked": true,
     "points": 1,
     "schema_version": 3,
     "solution": false
    }
   },
   "outputs": [],
   "source": [
    "assert_equal(type(iso_types), dict)\n",
    "assert_equal(len(iso_types),5)\n",
    "assert_equal(set(iso_types.keys()),set(range(5)))\n",
    "\n",
    "for n in iso_types:\n",
    "    assert isinstance(iso_types[n], int)"
   ]
  },
  {
   "cell_type": "markdown",
   "metadata": {
    "deletable": false,
    "editable": false,
    "nbgrader": {
     "cell_type": "markdown",
     "checksum": "aa1cfd7ff4cdb6d9a8066ce585af3c0e",
     "grade": false,
     "grade_id": "cell-ddfb1f04263cbd38",
     "locked": true,
     "schema_version": 3,
     "solution": false
    }
   },
   "source": [
    "## Vraag 2\n",
    "Bereken voor ieder personage zijn \"degree\" en zijn \"neighbour set\". Stop dit in een dictionary genaamd `personage_dict` waar de key het personage is en de value een tuple (een paar in dit geval)  met eerst de degree en dan de neighbour set in de vorm van een lijst.\n",
    "\n",
    "* Voorbeeld:\n",
    "`{FirstWitch: (4, ['ALL', 'ThirdWitch', 'MACBETH', 'SecondWitch'])...}`\n",
    "* Hint: gebruik weer een dict comprehensie. Dit kan in 1 regel."
   ]
  },
  {
   "cell_type": "code",
   "execution_count": 7,
   "metadata": {
    "deletable": false,
    "execution": {
     "iopub.execute_input": "2024-04-14T12:30:11.046602Z",
     "iopub.status.busy": "2024-04-14T12:30:11.046271Z",
     "iopub.status.idle": "2024-04-14T12:30:11.050899Z",
     "shell.execute_reply": "2024-04-14T12:30:11.050496Z"
    },
    "nbgrader": {
     "cell_type": "code",
     "checksum": "664830f3f33420342ba803821e174f94",
     "grade": false,
     "grade_id": "Vraag2",
     "locked": false,
     "schema_version": 3,
     "solution": true
    }
   },
   "outputs": [
    {
     "data": {
      "text/plain": [
       "(18,\n",
       " (15,\n",
       "  ['FirstWitch',\n",
       "   'SecondWitch',\n",
       "   'ThirdWitch',\n",
       "   'ALL',\n",
       "   'MALCOLM',\n",
       "   'LENNOX',\n",
       "   'ROSS',\n",
       "   'BANQUO',\n",
       "   'LADYMACBETH',\n",
       "   'Messenger',\n",
       "   'MACDUFF',\n",
       "   'FirstMurderer',\n",
       "   'Servant',\n",
       "   'SEYTON',\n",
       "   'SIWARD']))"
      ]
     },
     "execution_count": 7,
     "metadata": {},
     "output_type": "execute_result"
    }
   ],
   "source": [
    "personage_dict = None\n",
    "personage_dict = {node: (MacB.degree(node), list(MacB.neighbors(node))) for node in MacB}\n",
    "len(personage_dict),personage_dict['MACBETH']"
   ]
  },
  {
   "cell_type": "code",
   "execution_count": 8,
   "metadata": {
    "deletable": false,
    "editable": false,
    "execution": {
     "iopub.execute_input": "2024-04-14T12:30:11.053494Z",
     "iopub.status.busy": "2024-04-14T12:30:11.053341Z",
     "iopub.status.idle": "2024-04-14T12:30:11.056925Z",
     "shell.execute_reply": "2024-04-14T12:30:11.056425Z"
    },
    "nbgrader": {
     "cell_type": "code",
     "checksum": "0a43ff4a25aed3d22f0dd8bf3c013a4f",
     "grade": true,
     "grade_id": "Vraag2_antwoord",
     "locked": true,
     "points": 1,
     "schema_version": 3,
     "solution": false
    }
   },
   "outputs": [],
   "source": [
    "assert_equal(type(personage_dict), dict)\n",
    "assert_equal(type(list(personage_dict.values())[0]), tuple)\n",
    "assert_equal(type(list(personage_dict.values())[0][0]), int)\n",
    "assert_equal(type(list(personage_dict.values())[0][1]), list)\n",
    "assert_equal(type(list(personage_dict.values())[0][1][0]), str)\n"
   ]
  },
  {
   "cell_type": "markdown",
   "metadata": {
    "deletable": false,
    "editable": false,
    "nbgrader": {
     "cell_type": "markdown",
     "checksum": "3826f87ef496529028fccffe1ff5b251",
     "grade": false,
     "grade_id": "cell-b3f6397767797978",
     "locked": true,
     "schema_version": 3,
     "solution": false
    }
   },
   "source": [
    "## Vraag 3\n",
    "Maak de lijst met alle maximale cliques **die (strict) meer dan 3 knopen bevatten** in de Macbeth graaf.\n",
    "\n",
    "Geef een maximale clique weer als een lijst van de knopen (dus een lijst in een lijst). Noem deze `cliques`\n",
    "\n",
    "Zorg dat alle lijsten alfabetisch gesorteerd zijn, ook de buitenste lijst. Dus je krijgt:\n",
    "\n",
    "```\n",
    "[['ALL', 'BANQUO', 'MACBETH', 'MALCOLM'],\n",
    " ['ALL', 'FirstWitch', 'MACBETH', 'SecondWitch', 'ThirdWitch'],\n",
    " ['ALL', 'LENNOX', 'MACBETH', 'MALCOLM', 'ROSS'],\n",
    " ....]\n",
    " ```\n",
    "\n",
    "* Hint: gebruik `sorted` om te sorteren en natuurlijk doe je dit met een list comprehensie. 1 regel is genoeg.\n",
    "* HINT: bedenk wat een maximale kliek in een netwerk is. (het driehoek netwerk heeft dus maar 1 maximale kliek, zichzelf, ook al zitten er meerdere klieks in (alle paartjes zijn ook klieks bijvoorbeeld))"
   ]
  },
  {
   "cell_type": "code",
   "execution_count": 9,
   "metadata": {
    "deletable": false,
    "execution": {
     "iopub.execute_input": "2024-04-14T12:30:11.059368Z",
     "iopub.status.busy": "2024-04-14T12:30:11.059204Z",
     "iopub.status.idle": "2024-04-14T12:30:11.064036Z",
     "shell.execute_reply": "2024-04-14T12:30:11.063618Z"
    },
    "nbgrader": {
     "cell_type": "code",
     "checksum": "81eb7f66625c69c2e6d69dbc1a250d80",
     "grade": false,
     "grade_id": "Vraag4",
     "locked": false,
     "schema_version": 3,
     "solution": true
    }
   },
   "outputs": [
    {
     "data": {
      "text/plain": [
       "[['ALL', 'BANQUO', 'MACBETH', 'MALCOLM'],\n",
       " ['ALL', 'FirstWitch', 'MACBETH', 'SecondWitch', 'ThirdWitch'],\n",
       " ['ALL', 'LENNOX', 'MACBETH', 'MALCOLM', 'ROSS'],\n",
       " ['ALL', 'MACBETH', 'MACDUFF', 'MALCOLM', 'ROSS'],\n",
       " ['BANQUO', 'FirstMurderer', 'LADYMACBETH', 'MACBETH'],\n",
       " ['MACBETH', 'MACDUFF', 'MALCOLM', 'SIWARD']]"
      ]
     },
     "execution_count": 9,
     "metadata": {},
     "output_type": "execute_result"
    }
   ],
   "source": [
    "cliques = None\n",
    "\n",
    "cliques = sorted([sorted(clique) for clique in nx.find_cliques(MacB) if len(clique) > 3])\n",
    "cliques"
   ]
  },
  {
   "cell_type": "code",
   "execution_count": 10,
   "metadata": {
    "deletable": false,
    "editable": false,
    "execution": {
     "iopub.execute_input": "2024-04-14T12:30:11.066539Z",
     "iopub.status.busy": "2024-04-14T12:30:11.066381Z",
     "iopub.status.idle": "2024-04-14T12:30:11.069566Z",
     "shell.execute_reply": "2024-04-14T12:30:11.069093Z"
    },
    "nbgrader": {
     "cell_type": "code",
     "checksum": "99fce910accdc75f5cdeeaa5d1fdf23d",
     "grade": true,
     "grade_id": "Vraag4_antwoord",
     "locked": true,
     "points": 1,
     "schema_version": 3,
     "solution": false
    }
   },
   "outputs": [],
   "source": [
    "assert_equal(type(cliques), list)\n",
    "assert_equal(type(cliques[0]), list)\n",
    "# elk element in zo'n kliek is een knoop\n",
    "for L in cliques:\n",
    "    for n in L:\n",
    "        assert_equal(n in MacB,True,msg= 'elk element in zon kliek is een knoop')     "
   ]
  },
  {
   "cell_type": "markdown",
   "metadata": {
    "deletable": false,
    "editable": false,
    "nbgrader": {
     "cell_type": "markdown",
     "checksum": "afe46730a09618220822e02c46a6d206",
     "grade": false,
     "grade_id": "cell-45b3a8528c824354",
     "locked": true,
     "schema_version": 3,
     "solution": false
    }
   },
   "source": [
    "## Vraag 4\n",
    " \n",
    "  \n",
    "Hoeveel  deelnetwerken  in het MacBeth netwerk hebben een dichtheid (_density_) van 1?\n",
    "\n",
    "Hint: kijk eens wat er gebeurt als je `nx.density` gebruikt op subgraven van verschillende lengtes."
   ]
  },
  {
   "cell_type": "code",
   "execution_count": 11,
   "metadata": {
    "deletable": false,
    "execution": {
     "iopub.execute_input": "2024-04-14T12:30:11.072076Z",
     "iopub.status.busy": "2024-04-14T12:30:11.071919Z",
     "iopub.status.idle": "2024-04-14T12:30:11.075909Z",
     "shell.execute_reply": "2024-04-14T12:30:11.075442Z"
    },
    "nbgrader": {
     "cell_type": "code",
     "checksum": "387662eaf3e0d9340e242ee71068861d",
     "grade": false,
     "grade_id": "Vraag3",
     "locked": false,
     "schema_version": 3,
     "solution": true
    }
   },
   "outputs": [
    {
     "data": {
      "text/plain": [
       "56"
      ]
     },
     "execution_count": 11,
     "metadata": {},
     "output_type": "execute_result"
    }
   ],
   "source": [
    "deelnetwerken = 0\n",
    "\n",
    "deelnetwerken = len(list(nx.find_cliques(MacB))) + len(MacB.edges())\n",
    "\n",
    "deelnetwerken"
   ]
  },
  {
   "cell_type": "code",
   "execution_count": 12,
   "metadata": {
    "deletable": false,
    "editable": false,
    "execution": {
     "iopub.execute_input": "2024-04-14T12:30:11.078688Z",
     "iopub.status.busy": "2024-04-14T12:30:11.078513Z",
     "iopub.status.idle": "2024-04-14T12:30:11.081630Z",
     "shell.execute_reply": "2024-04-14T12:30:11.081030Z"
    },
    "nbgrader": {
     "cell_type": "code",
     "checksum": "f006ee3f87174374911e652f4e7b1dbd",
     "grade": true,
     "grade_id": "Vraag3_antwoord",
     "locked": true,
     "points": 1,
     "schema_version": 3,
     "solution": false
    }
   },
   "outputs": [],
   "source": [
    "assert isinstance(deelnetwerken,int), \"We vragen om een geheel getal.\""
   ]
  },
  {
   "cell_type": "markdown",
   "metadata": {
    "deletable": false,
    "editable": false,
    "nbgrader": {
     "cell_type": "markdown",
     "checksum": "c39661da959d4fa1c618591c60e078b8",
     "grade": false,
     "grade_id": "cell-357faa0fd360e2ff",
     "locked": true,
     "schema_version": 3,
     "solution": false
    }
   },
   "source": [
    "# Deel 2: Easley and Kleinberg"
   ]
  },
  {
   "cell_type": "markdown",
   "metadata": {
    "deletable": false,
    "editable": false,
    "nbgrader": {
     "cell_type": "markdown",
     "checksum": "1318cce5351cefba9c416d1845c2a838",
     "grade": false,
     "grade_id": "Vraag5",
     "locked": true,
     "schema_version": 3,
     "solution": false
    }
   },
   "source": [
    "## Vraag 5\n",
    "Maak opdracht [3.7.1 van Easley and Kleinberg](http://www.cs.cornell.edu/home/kleinber/networks-book/networks-book-ch03.pdf). \n",
    "Geef je antwoord in de cell hieronder"
   ]
  },
  {
   "cell_type": "markdown",
   "metadata": {
    "deletable": false,
    "nbgrader": {
     "cell_type": "markdown",
     "checksum": "0c192a2d1ce4f07d8561e0a925ecd9c1",
     "grade": true,
     "grade_id": "Vraag5_antwoord",
     "locked": false,
     "points": 1,
     "schema_version": 3,
     "solution": true
    }
   },
   "source": [
    "In 2-3 sentences, explain what triadic closure is, and how it plays a role in the formation\n",
    "of social networks. You can draw a schematic picture in case this is useful.\n",
    "\n",
    "Als 2 personen beide dezelfde vriend hebben, is het waarschijnlijk dat die 2 personen zelf ook vrienden worden. \n",
    "\n",
    "Dit speelt een rol in social networks, omdat dit concept ervoor zorgt dat, met tijd, er nieuwe verbindingen worden gevormd tussen 2 aparte nodes die beide zijn verbonden met 1 andere node. Dit concept zorgt er dus voor dat een social network 'vanzelf' groeit.\n",
    "\n"
   ]
  },
  {
   "cell_type": "markdown",
   "metadata": {
    "deletable": false,
    "editable": false,
    "nbgrader": {
     "cell_type": "markdown",
     "checksum": "7bc208cbf31107c67e2522f4914333f6",
     "grade": false,
     "grade_id": "cell-b4413c8de56f0157",
     "locked": true,
     "schema_version": 3,
     "solution": false
    }
   },
   "source": [
    "## Vraag 6\n",
    "Maak opdracht [3.7.2 van Easley and Kleinberg](http://www.cs.cornell.edu/home/kleinber/networks-book/networks-book-ch03.pdf).\n",
    "\n",
    "Geef het antwoord als `'S'` of `'W'` aan de variabele `a`"
   ]
  },
  {
   "cell_type": "code",
   "execution_count": 13,
   "metadata": {
    "deletable": false,
    "execution": {
     "iopub.execute_input": "2024-04-14T12:30:11.084605Z",
     "iopub.status.busy": "2024-04-14T12:30:11.084444Z",
     "iopub.status.idle": "2024-04-14T12:30:11.088063Z",
     "shell.execute_reply": "2024-04-14T12:30:11.087628Z"
    },
    "nbgrader": {
     "cell_type": "code",
     "checksum": "6cadc228285887b930130aa0919ae991",
     "grade": false,
     "grade_id": "Vraag6",
     "locked": false,
     "schema_version": 3,
     "solution": true
    }
   },
   "outputs": [
    {
     "data": {
      "text/plain": [
       "'W'"
      ]
     },
     "execution_count": 13,
     "metadata": {},
     "output_type": "execute_result"
    }
   ],
   "source": [
    "a = 'W'\n",
    "#WRITE YOUR CODE HERE\n",
    "#This is because if edge BC was a strong tie, according to the Strong Triadic\n",
    "#Closure Property, a weak tie had to exist between nodes C and E.\n",
    "#This edge doesn't exist, and therefore BC is a weak tie.\n",
    "a"
   ]
  },
  {
   "cell_type": "code",
   "execution_count": 14,
   "metadata": {
    "deletable": false,
    "editable": false,
    "execution": {
     "iopub.execute_input": "2024-04-14T12:30:11.090404Z",
     "iopub.status.busy": "2024-04-14T12:30:11.090249Z",
     "iopub.status.idle": "2024-04-14T12:30:11.092973Z",
     "shell.execute_reply": "2024-04-14T12:30:11.092556Z"
    },
    "nbgrader": {
     "cell_type": "code",
     "checksum": "3589af4510f69daee7c7a6be983e1511",
     "grade": true,
     "grade_id": "Vraag6_antwoord",
     "locked": true,
     "points": 1,
     "schema_version": 3,
     "solution": false
    }
   },
   "outputs": [],
   "source": [
    "assert_equal(a == 'W' or a == 'S', True)\n"
   ]
  },
  {
   "cell_type": "markdown",
   "metadata": {
    "deletable": false,
    "editable": false,
    "nbgrader": {
     "cell_type": "markdown",
     "checksum": "4f8a138ce9cbc91210bc7b10129923a7",
     "grade": false,
     "grade_id": "cell-3f081ec58750cb11",
     "locked": true,
     "schema_version": 3,
     "solution": false
    }
   },
   "source": [
    "## Vraag 7\n",
    "Maak opdracht [3.7.3 van Easley and Kleinberg](http://www.cs.cornell.edu/home/kleinber/networks-book/networks-book-ch03.pdf).\n",
    "\n",
    "Geef alle nodes die voldoen in hoofdletters, als lijst van strings aan variabele `b`.\n",
    "\n",
    "Voorbeeld: `x = ['A', 'B'...]`"
   ]
  },
  {
   "cell_type": "code",
   "execution_count": 15,
   "metadata": {
    "deletable": false,
    "execution": {
     "iopub.execute_input": "2024-04-14T12:30:11.095477Z",
     "iopub.status.busy": "2024-04-14T12:30:11.095319Z",
     "iopub.status.idle": "2024-04-14T12:30:11.098976Z",
     "shell.execute_reply": "2024-04-14T12:30:11.098523Z"
    },
    "nbgrader": {
     "cell_type": "code",
     "checksum": "05fa26c365a7fad6bfb3fef97d7e293c",
     "grade": false,
     "grade_id": "Vraag7",
     "locked": false,
     "schema_version": 3,
     "solution": true
    }
   },
   "outputs": [
    {
     "data": {
      "text/plain": [
       "['D', 'B', 'A']"
      ]
     },
     "execution_count": 15,
     "metadata": {},
     "output_type": "execute_result"
    }
   ],
   "source": [
    "b = ['D', 'B', 'A']\n",
    "#WRITE YOUR CODE HERE\n",
    "# Only these nodes satisfy the Strong Triadic Closure Property.\n",
    "# For node C to satisfy the property, an edge had to exist between B and E, since\n",
    "# these two nodes are both connected to C by a strong tie, but don't share an edge.\n",
    "# For node E to satisfy the property, an edge had to exist between C and D, since\n",
    "# these two nodes are both connected to E by a strong tie, but don't share an edge.\n",
    "b"
   ]
  },
  {
   "cell_type": "code",
   "execution_count": 16,
   "metadata": {
    "deletable": false,
    "editable": false,
    "execution": {
     "iopub.execute_input": "2024-04-14T12:30:11.101438Z",
     "iopub.status.busy": "2024-04-14T12:30:11.101282Z",
     "iopub.status.idle": "2024-04-14T12:30:11.104241Z",
     "shell.execute_reply": "2024-04-14T12:30:11.103764Z"
    },
    "nbgrader": {
     "cell_type": "code",
     "checksum": "a0d870475283d7fe306d7f1c10e68ded",
     "grade": true,
     "grade_id": "Vraag7_antwoord",
     "locked": true,
     "points": 1,
     "schema_version": 3,
     "solution": false
    }
   },
   "outputs": [],
   "source": [
    "assert_equal(type(b), list)\n",
    "for x in b:\n",
    "    if x not in ['A', 'B', 'C', 'D', 'E']:\n",
    "        raise AssertionError(\"Een van de knopen in je lijst bestaat niet\")\n"
   ]
  },
  {
   "cell_type": "markdown",
   "metadata": {
    "deletable": false,
    "editable": false,
    "nbgrader": {
     "cell_type": "markdown",
     "checksum": "93e15f632bb0f4c2e547e3c4019c8936",
     "grade": false,
     "grade_id": "cell-e82df599560bad12",
     "locked": true,
     "schema_version": 3,
     "solution": false
    }
   },
   "source": [
    "## Vraag 8\n",
    "Maak opdracht [3.7.4 van Easley and Kleinberg](http://www.cs.cornell.edu/home/kleinber/networks-book/networks-book-ch03.pdf).\n",
    "\n",
    "Geef alle nodes die niet voldoen in hoofdletters, als lijst van strings aan variabele `c`.\n",
    "\n",
    "Voorbeeld: `x = ['A', 'B']`"
   ]
  },
  {
   "cell_type": "code",
   "execution_count": 17,
   "metadata": {
    "deletable": false,
    "execution": {
     "iopub.execute_input": "2024-04-14T12:30:11.106709Z",
     "iopub.status.busy": "2024-04-14T12:30:11.106547Z",
     "iopub.status.idle": "2024-04-14T12:30:11.110006Z",
     "shell.execute_reply": "2024-04-14T12:30:11.109592Z"
    },
    "nbgrader": {
     "cell_type": "code",
     "checksum": "56b450db3c76ca7ed97f01c0083b794a",
     "grade": false,
     "grade_id": "Vraag8",
     "locked": false,
     "schema_version": 3,
     "solution": true
    }
   },
   "outputs": [
    {
     "data": {
      "text/plain": [
       "['C', 'E']"
      ]
     },
     "execution_count": 17,
     "metadata": {},
     "output_type": "execute_result"
    }
   ],
   "source": [
    "c = ['C', 'E']\n",
    "# Node C has strong ties to nodes B and E, but there is no edge between B and E.\n",
    "# Node E has strong ties to nodes C and D, but there is no edge between C and D.\n",
    "#WRITE YOUR CODE HERE\n",
    "c"
   ]
  },
  {
   "cell_type": "code",
   "execution_count": 18,
   "metadata": {
    "deletable": false,
    "editable": false,
    "execution": {
     "iopub.execute_input": "2024-04-14T12:30:11.112455Z",
     "iopub.status.busy": "2024-04-14T12:30:11.112296Z",
     "iopub.status.idle": "2024-04-14T12:30:11.115199Z",
     "shell.execute_reply": "2024-04-14T12:30:11.114756Z"
    },
    "nbgrader": {
     "cell_type": "code",
     "checksum": "015f5fbe8e781a9f7c27f048833a9452",
     "grade": true,
     "grade_id": "Vraag8_antwoord",
     "locked": true,
     "points": 1,
     "schema_version": 3,
     "solution": false
    }
   },
   "outputs": [],
   "source": [
    "assert_equal(type(c), list)\n",
    "for x in c:\n",
    "    if x not in ['A', 'B', 'C', 'D', 'E']:\n",
    "        raise AssertionError(\"Een van de knopen in je lijst bestaat niet\")\n"
   ]
  },
  {
   "cell_type": "markdown",
   "metadata": {
    "deletable": false,
    "editable": false,
    "nbgrader": {
     "cell_type": "markdown",
     "checksum": "478f1d8312d34ddc32c6bd7a68d8f21c",
     "grade": false,
     "grade_id": "cell-448fb7e5407f73e2",
     "locked": true,
     "schema_version": 3,
     "solution": false
    }
   },
   "source": [
    "## Vraag 9\n",
    "Maak opdracht [3.7.5 van Easley and Kleinberg](http://www.cs.cornell.edu/home/kleinber/networks-book/networks-book-ch03.pdf).\n",
    "\n",
    "Geef alle nodes die voldoen in hoofdletters, als lijst van strings aan variabele `d`.\n",
    "\n",
    "Voorbeeld: `x = ['A', 'B'...]`"
   ]
  },
  {
   "cell_type": "code",
   "execution_count": 19,
   "metadata": {
    "deletable": false,
    "execution": {
     "iopub.execute_input": "2024-04-14T12:30:11.117641Z",
     "iopub.status.busy": "2024-04-14T12:30:11.117492Z",
     "iopub.status.idle": "2024-04-14T12:30:11.121100Z",
     "shell.execute_reply": "2024-04-14T12:30:11.120675Z"
    },
    "nbgrader": {
     "cell_type": "code",
     "checksum": "e1a1c5572a141e6c06b0890a62f0a5e1",
     "grade": false,
     "grade_id": "Vraag9",
     "locked": false,
     "schema_version": 3,
     "solution": true
    }
   },
   "outputs": [
    {
     "data": {
      "text/plain": [
       "['A', 'B', 'E', 'D']"
      ]
     },
     "execution_count": 19,
     "metadata": {},
     "output_type": "execute_result"
    }
   ],
   "source": [
    "d = ['A', 'B', 'E', 'D']\n",
    "\n",
    "#Nodes A and B satisfiy the Strong Triadic Closure Property, since the nodes that\n",
    "# they have strong ties to, also share an edge.\n",
    "#Nodes D and E satisy the Property, since they have less than 2 strong ties.\n",
    "#Node C doesn't satisfy the Strong Triadic Closure Property, since it has a strong\n",
    "# tie to nodes B and E, but there is no edge between B and E.\n",
    "#WRITE YOUR CODE HERE\n",
    "d"
   ]
  },
  {
   "cell_type": "code",
   "execution_count": 20,
   "metadata": {
    "deletable": false,
    "editable": false,
    "execution": {
     "iopub.execute_input": "2024-04-14T12:30:11.123569Z",
     "iopub.status.busy": "2024-04-14T12:30:11.123412Z",
     "iopub.status.idle": "2024-04-14T12:30:11.126311Z",
     "shell.execute_reply": "2024-04-14T12:30:11.125873Z"
    },
    "nbgrader": {
     "cell_type": "code",
     "checksum": "4e3e831f552168345ecbbd5223db55fa",
     "grade": true,
     "grade_id": "Vraag9_antwoord",
     "locked": true,
     "points": 1,
     "schema_version": 3,
     "solution": false
    }
   },
   "outputs": [],
   "source": [
    "assert_equal(type(d), list)\n",
    "for x in d:\n",
    "    if x not in ['A', 'B', 'C', 'D', 'E']:\n",
    "        raise AssertionError(\"Een van de knopen in je lijst bestaat niet\")\n"
   ]
  },
  {
   "cell_type": "markdown",
   "metadata": {
    "deletable": false,
    "editable": false,
    "nbgrader": {
     "cell_type": "markdown",
     "checksum": "cf2a71b55cae5f98a4d0344b65f4a34e",
     "grade": false,
     "grade_id": "cell-6918d4eb71d8156a",
     "locked": true,
     "schema_version": 3,
     "solution": false
    }
   },
   "source": [
    "# Deel 3: Strong Triadic Closure"
   ]
  },
  {
   "cell_type": "code",
   "execution_count": 21,
   "metadata": {
    "execution": {
     "iopub.execute_input": "2024-04-14T12:30:11.128786Z",
     "iopub.status.busy": "2024-04-14T12:30:11.128594Z",
     "iopub.status.idle": "2024-04-14T12:30:11.283851Z",
     "shell.execute_reply": "2024-04-14T12:30:11.283369Z"
    }
   },
   "outputs": [
    {
     "data": {
      "image/png": "[encoded data removed]",
      "text/plain": [
       "<Figure size 640x480 with 1 Axes>"
      ]
     },
     "metadata": {},
     "output_type": "display_data"
    }
   ],
   "source": [
    "# Hier staat een netwerk waarmee je je code kunt testen\n",
    "# Je kunt ook zelf dingen veranderen in deze cel\n",
    "\n",
    "G = nx.Graph()\n",
    "G.add_edges_from([('D', 'E'), ('C', 'F'), ('A', 'F'), ('G', 'K'), ('G', 'H'),\n",
    "                  ('H', 'B'), ('A', 'B')],\n",
    "                 tie='w')\n",
    "G.add_edges_from([('D', 'C'), ('D', 'A'), ('C', 'A'), ('E', 'A'), ('E', 'C'),\n",
    "                  ('F', 'J'), ('F', 'G'), ('J', 'G'), ('K', 'H')],\n",
    "                 tie='s')\n",
    "\n",
    "pos = nx.spring_layout(G)\n",
    "nx.draw(G, pos, with_labels=True)\n",
    "my_edge_labels = {(u,v,): d['tie']\n",
    "                   for u, v, d in G.edges(data=True)\n",
    "                 }\n",
    "\n",
    "nx.draw_networkx_edge_labels(G, pos, edge_labels=my_edge_labels);"
   ]
  },
  {
   "cell_type": "markdown",
   "metadata": {},
   "source": [
    "## Vraag 10\n",
    "\n",
    "Schrijf de Python functie `STC_node(G, n)` die voor een knoop `n` in een willekeurige invoer  graaf `G`, met sterke en zwakke relaties zoals hierboven, uitzoekt of die knoop voldoet aan Strong Triadic Closure.\n",
    "\n",
    "* Als node `n` voldoet aan de Strong Triadic Closure eigenschap return dan de lege verzameling.\n",
    "* Zo niet geef dan de verzameling van alle driehoeken waarvan `n` 1 van de knopen is en die niet voldoen aan de STC eigenschap. \n",
    "    * De verzameling heeft de vorm `{frozenset({'A', 'C', 'D'}), frozenset({'A', 'E', 'D'})}`. \n",
    "        * **waarbij `{'A', 'C', 'D'}` een `frozenset` is**\n",
    "        * Die maak je heel makkelijk met `frozenset(('A', 'C', 'D'))`\n",
    "        * Je moet frozensets gebruiken omdat verzamelingen geen immutables mogen bevatten\n",
    "    *  Dus de \"ongesloten driehoekjes\" representeren we als verzamelingen\n",
    "\n",
    "1.            Check dat [Figuur 3.5](http://www.cs.cornell.edu/home/kleinber/networks-book/networks-book-ch03.pdf) inderdaad voldoet aan de STC.    Dit is het netwerk `G` wat boven gedefinieerd is.       \n",
    "2.            Verander wat in Fig 3.5 zodat STC niet meer opgaat en draai je programma opnieuw. Doe dit door een copy van het netwerk `G` te maken. \n",
    "\n",
    "#### Hint: \n",
    "Zoals te zien in voorbeeldgraaf `G` hebben alle edges het attribuut `tie`. Deze kun je opvragen door `G[u][v]['tie']` voor edge `(u,v)`"
   ]
  },
  {
   "cell_type": "code",
   "execution_count": 22,
   "metadata": {
    "deletable": false,
    "execution": {
     "iopub.execute_input": "2024-04-14T12:30:11.287234Z",
     "iopub.status.busy": "2024-04-14T12:30:11.286982Z",
     "iopub.status.idle": "2024-04-14T12:30:11.292710Z",
     "shell.execute_reply": "2024-04-14T12:30:11.292165Z"
    },
    "nbgrader": {
     "cell_type": "code",
     "checksum": "2554a446490ffd8797943109c52373a5",
     "grade": false,
     "grade_id": "Vraag10",
     "locked": false,
     "schema_version": 3,
     "solution": true
    }
   },
   "outputs": [
    {
     "name": "stdout",
     "output_type": "stream",
     "text": [
      "set()\n",
      "A True set()\n",
      "B True None\n",
      "C True set()\n",
      "D True set()\n",
      "E True set()\n",
      "F True set()\n",
      "G True set()\n",
      "H True None\n",
      "J True set()\n",
      "K True None\n"
     ]
    }
   ],
   "source": [
    "def STC_node(G, v):\n",
    "    # Strong Triadic Closure Property at each node: if the node has strong ties\n",
    "    # to two neighbors, then these neighbors must have at least a weak tie between them\n",
    "    \n",
    "    neighbors = G.neighbors(v)\n",
    "    for i in neighbors:\n",
    "        if G.has_edge(v, i) and G[v][i]['tie'] == 's':\n",
    "            for j in neighbors:\n",
    "                if G.has_edge(v,j) and G[v][j]['tie'] == 's':\n",
    "                    if G.has_edge(i,j):\n",
    "                        return set()\n",
    "                    else:\n",
    "                        return frozenset((v, i, j))\n",
    "                        \n",
    "    \n",
    "    \n",
    "    \n",
    "    \n",
    "# test\n",
    "print(STC_node(G, 'J'))\n",
    "for N in sorted(G):\n",
    "    print(N, not bool(STC_node(G,N)), STC_node(G,N))"
   ]
  },
  {
   "cell_type": "code",
   "execution_count": 23,
   "metadata": {
    "deletable": false,
    "editable": false,
    "execution": {
     "iopub.execute_input": "2024-04-14T12:30:11.295512Z",
     "iopub.status.busy": "2024-04-14T12:30:11.295338Z",
     "iopub.status.idle": "2024-04-14T12:30:11.298526Z",
     "shell.execute_reply": "2024-04-14T12:30:11.297747Z"
    },
    "nbgrader": {
     "cell_type": "code",
     "checksum": "a96a6b3f4d867af4ac32ad899457bd2b",
     "grade": true,
     "grade_id": "Vraag10_antwoord",
     "locked": true,
     "points": 1,
     "schema_version": 3,
     "solution": false
    }
   },
   "outputs": [],
   "source": [
    " \n",
    "assert_equal(type(STC_node(G, 'A')) == set , True)\n",
    "\n"
   ]
  },
  {
   "cell_type": "markdown",
   "metadata": {
    "deletable": false,
    "editable": false,
    "nbgrader": {
     "cell_type": "markdown",
     "checksum": "c3bf8091dfdf8ed4e07d3ba046ae2e2b",
     "grade": false,
     "grade_id": "cell-535453762bb1dc4e",
     "locked": true,
     "schema_version": 3,
     "solution": false
    }
   },
   "source": [
    "## Vraag 11\n",
    "\n",
    "Schrijf nu de Python functie `STC_graph(G)` die voor de hele graaf `G` uitzoekt of `G` voldoet aan Strong Triadic Closure (dit betekent dat elke knoop er aan voldoet).\n",
    "\n",
    "\n",
    "* Als G voldoet aan de Strong Triadic Closure eigenschap return dan de lege verzameling.\n",
    "* Zo niet return dan net zoals bij `STC_node` voor `STC_graph(G)`, de verzameling  met alle driehoeken (weer als frozensets)  die een tegenvoorbeeld voor STC zijn.    \n",
    "\n",
    "\n",
    "          \n",
    "#### Hint:\n",
    "Je gebruikt natuurlijk `STC_node(G, x)` om `STC_graph(G)` te bepalen. Want de laatste is waar als de eerste waar is voor elke knoop in `G`."
   ]
  },
  {
   "cell_type": "code",
   "execution_count": 24,
   "metadata": {
    "deletable": false,
    "execution": {
     "iopub.execute_input": "2024-04-14T12:30:11.301474Z",
     "iopub.status.busy": "2024-04-14T12:30:11.301293Z",
     "iopub.status.idle": "2024-04-14T12:30:11.306017Z",
     "shell.execute_reply": "2024-04-14T12:30:11.305492Z"
    },
    "nbgrader": {
     "cell_type": "code",
     "checksum": "34c1ac7441f1b4e05908c7cf726053d7",
     "grade": false,
     "grade_id": "Vraag11",
     "locked": false,
     "schema_version": 3,
     "solution": true
    }
   },
   "outputs": [
    {
     "name": "stdout",
     "output_type": "stream",
     "text": [
      "set()\n"
     ]
    }
   ],
   "source": [
    "def STC_graph(G):\n",
    "    list_triangles = set()\n",
    "    \n",
    "    for v in G:\n",
    "        neighbors = G.neighbors(v)\n",
    "        for i in neighbors:\n",
    "            if G.has_edge(v, i) and G[v][i]['tie'] == 's':\n",
    "                for j in neighbors:\n",
    "                    if G.has_edge(v,j) and G[v][j]['tie'] == 's':\n",
    "                        if G.has_edge(i,j):\n",
    "                            continue\n",
    "                        else:\n",
    "                            list_triangles.add(frozenset((v, i, j)))\n",
    "    return list_triangles\n",
    "\n",
    "print(STC_graph(G))\n",
    "    \n",
    "    \n",
    "    "
   ]
  },
  {
   "cell_type": "code",
   "execution_count": 25,
   "metadata": {
    "deletable": false,
    "editable": false,
    "execution": {
     "iopub.execute_input": "2024-04-14T12:30:11.308822Z",
     "iopub.status.busy": "2024-04-14T12:30:11.308636Z",
     "iopub.status.idle": "2024-04-14T12:30:11.311610Z",
     "shell.execute_reply": "2024-04-14T12:30:11.311105Z"
    },
    "nbgrader": {
     "cell_type": "code",
     "checksum": "90201a2cc7a595a0dfb131f8e602496f",
     "grade": true,
     "grade_id": "Vraag11_antwoord",
     "locked": true,
     "points": 1,
     "schema_version": 3,
     "solution": false
    }
   },
   "outputs": [],
   "source": [
    " \n",
    "assert_equal(type(STC_graph(G)) == set  , True)\n"
   ]
  },
  {
   "cell_type": "code",
   "execution_count": null,
   "metadata": {},
   "outputs": [],
   "source": []
  }
 ],
 "metadata": {
  "anaconda-cloud": {},
  "hide_input": false,
  "kernelspec": {
   "display_name": "Python 3 (ipykernel)",
   "language": "python",
   "name": "python3"
  },
  "language_info": {
   "codemirror_mode": {
    "name": "ipython",
    "version": 3
   },
   "file_extension": ".py",
   "mimetype": "text/x-python",
   "name": "python",
   "nbconvert_exporter": "python",
   "pygments_lexer": "ipython3",
   "version": "3.10.13"
  },
  "toc": {
   "nav_menu": {},
   "number_sections": true,
   "sideBar": true,
   "skip_h1_title": false,
   "title_cell": "Table of Contents",
   "title_sidebar": "Contents",
   "toc_cell": false,
   "toc_position": {},
   "toc_section_display": true,
   "toc_window_display": false
  },
  "varInspector": {
   "cols": {
    "lenName": 16,
    "lenType": 16,
    "lenVar": 40
   },
   "kernels_config": {
    "python": {
     "delete_cmd_postfix": "",
     "delete_cmd_prefix": "del ",
     "library": "var_list.py",
     "varRefreshCmd": "print(var_dic_list())"
    },
    "r": {
     "delete_cmd_postfix": ") ",
     "delete_cmd_prefix": "rm(",
     "library": "var_list.r",
     "varRefreshCmd": "cat(var_dic_list()) "
    }
   },
   "types_to_exclude": [
    "module",
    "function",
    "builtin_function_or_method",
    "instance",
    "_Feature"
   ],
   "window_display": false
  }
 },
 "nbformat": 4,
 "nbformat_minor": 4
}
