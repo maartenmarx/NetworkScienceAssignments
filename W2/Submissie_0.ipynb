{
 "cells": [
  {
   "cell_type": "markdown",
   "metadata": {},
   "source": [
    "# Assignment Netwerkanalyse"
   ]
  },
  {
   "cell_type": "markdown",
   "metadata": {
    "nbgrader": {
     "grade": false,
     "grade_id": "privacy",
     "locked": false,
     "schema_version": 3,
     "solution": false
    }
   },
   "source": [
    "## Notebook made by\n",
    "\n",
    "**Gebruik graag dit formaat**\n",
    "\n",
    "* Voor de namen:  voornaam rest van je naam, voornaam rest van je naam,....\n",
    "* je studentnummers: hetzelfde: scheidt met `,`\n",
    "* je emails: hetzelfde: scheidt met `,`\n",
    "* voor je groep: alleen de hoofdletter (dus voor de groep van Marx zou je `A` kiezen)\n",
    "\n",
    "__Namen__:Anoniem\n",
    "__Emails__:Anoniem\n",
    "__Student id__:Anoniem\n",
    "__Groep__:Anoniem"
   ]
  },
  {
   "cell_type": "markdown",
   "metadata": {},
   "source": [
    "## Toelichting\n",
    "\n",
    "* De meeste opgaven worden automatisch nagekeken. Bij vrijwel alle opdrachten staan er een paar tests onder de opdracht, dit is voornamelijk om te zorgen dat je de juiste type output geeft. Dit zijn dus *NIET* alle tests, die komen er bij het graden nog bij.\n",
    "* Elke vraag is 1 punt waard, tenzij anders aangegeven. Soms is die punt onderverdeeld in deelpunten, maar niet altijd. \n",
    "\n",
    "## Voor het inleveren!\n",
    "\n",
    "* Pas niet de cellen aan, vooral niet die je niet kunt editen. Dit levert problemen op bij nakijken. Twijfel je of je per ongeluk iets hebt gewijzigd, kopieer dan bij inleveren je antwoorden naar een nieuw bestand, zodat het niet fout kan gaan.\n",
    "\n",
    "* Zorg dat de code goed runt van boven naar beneden, verifieer dat door boven in Kernel -> Restart & Run All uit te voeren\n",
    "\n",
    "## Na het inleveren!\n",
    "\n",
    "* Het gebeurt erg vaak dat mensen een \"leeg bestand\" inleveren. Vaak een andere versie van de opgave die nog ergens op je computer rondslingerde. Zonde van al je werk toch!\n",
    "* Dus, lever **minstens een half uur voor tijd in**. Download dan wat je hebt ingeleverd op Canvas. Geef het een andere naam om verwarring te voorkomen. En draai alle cellen, en bekijk het. Geen syntax fouten? Alle vragen gemaakt? Dan zit het vast wel goed, en hoef je niet in de zenuwen te zitten."
   ]
  },
  {
   "cell_type": "markdown",
   "metadata": {
    "deletable": false,
    "editable": false,
    "nbgrader": {
     "cell_type": "markdown",
     "checksum": "590282fb39e2d9716aa51f423b64a56e",
     "grade": false,
     "grade_id": "cell-92f4d17e6afb4903",
     "locked": true,
     "schema_version": 3,
     "solution": false
    }
   },
   "source": [
    "# Week 2"
   ]
  },
  {
   "cell_type": "code",
   "execution_count": 1,
   "metadata": {
    "deletable": false,
    "editable": false,
    "execution": {
     "iopub.execute_input": "2024-04-16T11:49:11.462444Z",
     "iopub.status.busy": "2024-04-16T11:49:11.461765Z",
     "iopub.status.idle": "2024-04-16T11:49:12.007870Z",
     "shell.execute_reply": "2024-04-16T11:49:12.007086Z"
    },
    "nbgrader": {
     "cell_type": "code",
     "checksum": "65122c755746ceaef2b948b2ecba7c65",
     "grade": false,
     "grade_id": "cell-9709ca0c1acbe1bf",
     "locked": true,
     "schema_version": 3,
     "solution": false
    }
   },
   "outputs": [],
   "source": [
    "%matplotlib inline\n",
    "import matplotlib.pyplot as plt\n",
    "import numpy as np\n",
    "import os\n",
    "import networkx as nx\n",
    "import requests\n",
    "from nose.tools import assert_equal, assert_count_equal\n",
    "from itertools import combinations\n",
    "from collections import defaultdict"
   ]
  },
  {
   "cell_type": "code",
   "execution_count": 2,
   "metadata": {
    "execution": {
     "iopub.execute_input": "2024-04-16T11:49:12.011577Z",
     "iopub.status.busy": "2024-04-16T11:49:12.011332Z",
     "iopub.status.idle": "2024-04-16T11:49:12.049044Z",
     "shell.execute_reply": "2024-04-16T11:49:12.048259Z"
    }
   },
   "outputs": [],
   "source": [
    "range?"
   ]
  },
  {
   "cell_type": "markdown",
   "metadata": {},
   "source": [
    "# Deel -1\n",
    "\n",
    "* Verzamelingen\n",
    "    * Maak alle opgaven op [deze site](https://set.kuleuven.be/voorkennis/zomercursus/zomercursusZ/logica/verzamelingen_light). Dus ook die in sectie 2.1 en 2.1.1! "
   ]
  },
  {
   "cell_type": "markdown",
   "metadata": {},
   "source": [
    "# Deel 0: First Course Chap 1\n",
    "\n",
    "*  First Course Chap 1, alle overige opgaven (dus vanaf 22) (plus opnieuw die je vorige week fout had)"
   ]
  },
  {
   "cell_type": "markdown",
   "metadata": {
    "deletable": false,
    "nbgrader": {
     "cell_type": "markdown",
     "checksum": "292dae5d5ad35d20f58b877046a8d62d",
     "grade": true,
     "grade_id": "fc",
     "locked": false,
     "points": 1,
     "schema_version": 3,
     "solution": true
    }
   },
   "source": [
    "### Hoofstuk 1 (1.22–)\n",
    "\n",
    "- 1.22 \n",
    "\n",
    "D: nx.DiGraph() = nx.DiGraph()\n",
    "...\n",
    "\n",
    "calculate the average degree connectivity\n",
    "degree_connectivity = nx.average_degree_connectivity(D)\n",
    "\n",
    "berekent de gemiddelde grade\n",
    "mean_degree = sum(degree_connectivity.values()) / len(degree_connectivity)\n",
    "\n",
    "Berekent de dichtheid\n",
    "density = nx.density(D)\n",
    "\n",
    "De minumumgrade van dit netwerk is 1 (verbinding; knoop D of E); de maximumgrade van het netwerk is 5 (knoop F); het gemiddelde is 2.6666666666666665; de dichtheid is 0.4666666666666667.\n",
    "\n",
    "- 1.23 Als twee verschillende ongerichte netwerken elk hetzelfde aantal knooppunten en verbindingen hebben, dan is het niet noodzakelijk dat ze dezelfde maximale en minimale graad hebben. Dit komt doordat de manier waarop de verbindingen tussen de knooppunten zijn gerangschikt, kan verschillen tussen de netwerken.\n",
    "\tBijvoorbeeld, stel dat we twee ongerichte netwerken hebben elk met 4 knooppunten en 4 verbindingen, maar de manier waarop de verbindingen zijn gerangschikt is anders. Het eerste netwerk heeft de verbindingen (A-B, B-C, C-D, A-D) en het tweede netwerk heeft de verbindingen (A-B, B-C, C-A, A-D). In het eerste netwerk zijn zowel de maximale als minimale graad 2 — terwijl in het tweede netwerk de maximale graad 3 is (voor knooppunt A) en de minimale graad 1 is (voor knooppunt B en C).\n",
    "\tWat betreft de gemiddelde graad, als beide netwerken hetzelfde aantal knooppunten en verbindingen hebben, dan is het gemiddelde van de graad gelijk voor beide netwerken. Dit komt omdat het gemiddelde van de graad alleen afhankelijk is van het totale aantal verbindingen en het totale aantal knooppunten in het netwerk. Het maakt niet uit hoe deze verbindingen tussen de knooppunten zijn gerangschikt. Daarom zouden beide netwerken dezelfde gemiddelde graad hebben.\n",
    "\n",
    "- 1.24 Nee, de netwerkdichtheid is niet toegenomen. De netwerkdichtheid is een maatstaf voor de verhouding tussen het aantal daadwerkelijke verbindingen in het netwerk ten opzichte van het totale aantal mogelijke verbindingen. Het wordt gedefinieerd als de verhouding tussen het aantal verbindingen in het netwerk en het maximale aantal mogelijke verbindingen.\n",
    "\tIn dit scenario is het aantal gebruikers in het netwerk gelijk gebleven, dus het totale aantal mogelijke verbindingen tussen gebruikers is nog steeds hetzelfde. Zelfs als het gemiddelde aantal vrienden per gebruiker is toegenomen, betekent dit niet dat er meer verbindingen in het netwerk zijn. De netwerkdichtheid blijft dus hetzelfde omdat het aantal verbindingen niet is toegenomen ten opzichte van het totale aantal mogelijke verbindingen.\n",
    "\tAls zowel het aantal vrienden per gebruiker als het aantal gebruikers toeneemt, kan de netwerkdichtheid veranderen, afhankelijk van hoe snel beide aantallen groeien en hoe ze zich tot elkaar verhouden.\n",
    "\n",
    "Als het aantal vrienden per gebruiker en het aantal gebruikers tegelijkertijd evenredig groeien, dan blijft de netwerkdichtheid gelijk. Dit komt omdat elke nieuwe gebruiker evenredig veel nieuwe verbindingen toevoegt aan het netwerk, waardoor de verhouding tussen het aantal daadwerkelijke verbindingen en het totale aantal mogelijke verbindingen hetzelfde blijft.\n",
    "\tAls echter het aantal vrienden per gebruiker sneller groeit dan het aantal gebruikers, dan zal de netwerkdichtheid toenemen. Dit komt omdat er dan meer verbindingen in het netwerk worden toegevoegd dan er nieuwe gebruikers zijn, waardoor de verhouding tussen het aantal daadwerkelijke verbindingen en het totale aantal mogelijke verbindingen toeneemt. Omgekeerd, als het aantal gebruikers sneller groeit dan het aantal vrienden per gebruiker, zal de netwerkdichtheid afnemen omdat elke nieuwe gebruiker relatief minder nieuwe verbindingen toevoegt aan het netwerk.\n",
    "\n",
    "- 1.25 & 1.26 Het aantal links in dit netwerk kan worden berekend door het gemiddelde aantal vrienden per gebruiker te vermenigvuldigen met het aantal gebruikers:\n",
    "\n",
    "33 miljoen gebruikers x 1000 vrienden per gebruiker = 33 miljard links\n",
    "\n",
    "Dit betekent dat er 33 miljard links zouden zijn in dit netwerk van bibliotheken en gebruikers.\n",
    "\n",
    "Of dit netwerk als dicht of schaars wordt beschouwd, hangt af van de context en vergelijking met andere netwerken. Als we de netwerkdichtheid berekenen door het aantal werkelijke verbindingen te delen door het totale aantal mogelijke verbindingen, dan is dit netwerk waarschijnlijk relatief schaars, gezien het grote aantal gebruikers en titels in de bibliotheek. Echter, als we het vergelijken met andere sociale netwerken met dezelfde gemiddelde graad, dan zou dit netwerk als relatief dicht kunnen worden beschouwd. Over het algemeen is het dus afhankelijk van de context hoe we dit netwerk zouden beoordelen in termen van dichtheid.\n",
    "\n",
    "\n"
   ]
  },
  {
   "cell_type": "markdown",
   "metadata": {
    "deletable": false,
    "editable": false,
    "nbgrader": {
     "cell_type": "markdown",
     "checksum": "80501b1fd9f17ed072f62d9d9366be8a",
     "grade": false,
     "grade_id": "cell-a9e3236ad755a7db",
     "locked": true,
     "schema_version": 3,
     "solution": false
    }
   },
   "source": [
    "# Deel 1: MacBeth"
   ]
  },
  {
   "cell_type": "code",
   "execution_count": 3,
   "metadata": {
    "deletable": false,
    "editable": false,
    "execution": {
     "iopub.execute_input": "2024-04-16T11:49:12.052958Z",
     "iopub.status.busy": "2024-04-16T11:49:12.052677Z",
     "iopub.status.idle": "2024-04-16T11:49:12.057195Z",
     "shell.execute_reply": "2024-04-16T11:49:12.056420Z"
    },
    "nbgrader": {
     "cell_type": "code",
     "checksum": "e85ec1c1e8ac7ab6dde2e0348c9947f5",
     "grade": false,
     "grade_id": "cell-fcd256812ccff2ce",
     "locked": true,
     "schema_version": 3,
     "solution": false
    }
   },
   "outputs": [],
   "source": [
    "def open_graph():\n",
    "    \"\"\"Loads the graphml\"\"\"\n",
    "    if 'macbethcorrected.graphml' in os.listdir():\n",
    "        return nx.read_graphml('macbethcorrected.graphml')\n",
    "    elif os.path.exists('../../data/Week2'):\n",
    "        return nx.read_graphml('../../data/Week2/macbethcorrected.graphml')\n",
    "    elif os.path.exists('../../../data/Week2'):\n",
    "        return nx.read_graphml('../../../data/Week2/macbethcorrected.graphml')"
   ]
  },
  {
   "cell_type": "code",
   "execution_count": 4,
   "metadata": {
    "deletable": false,
    "editable": false,
    "execution": {
     "iopub.execute_input": "2024-04-16T11:49:12.060064Z",
     "iopub.status.busy": "2024-04-16T11:49:12.059853Z",
     "iopub.status.idle": "2024-04-16T11:49:12.219644Z",
     "shell.execute_reply": "2024-04-16T11:49:12.218928Z"
    },
    "nbgrader": {
     "cell_type": "code",
     "checksum": "45eec244be8f9c3181b122adcbde89b7",
     "grade": false,
     "grade_id": "cell-8bbe1c78fae27fb3",
     "locked": true,
     "schema_version": 3,
     "solution": false
    }
   },
   "outputs": [
    {
     "data": {
      "image/png": "[encoded data removed]",
      "text/plain": [
       "<Figure size 640x480 with 1 Axes>"
      ]
     },
     "metadata": {},
     "output_type": "display_data"
    }
   ],
   "source": [
    "MacB = open_graph()\n",
    "nx.draw(MacB, with_labels=True)"
   ]
  },
  {
   "cell_type": "markdown",
   "metadata": {
    "deletable": false,
    "editable": false,
    "nbgrader": {
     "cell_type": "markdown",
     "checksum": "36cad9c88244ec6a7e6bee4743812aaf",
     "grade": false,
     "grade_id": "cell-fef740c5ed742f4a",
     "locked": true,
     "schema_version": 3,
     "solution": false
    }
   },
   "source": [
    "## Vraag 1\n",
    " \n",
    "In deze vraag gaan we kijken naar de vorm van deelgrafen in MacB. We vragen ons voor elke hoeveelheid knopen af, hoeveel verschillende \"vormen\" deelnetwerken met zoveel knopen er in MacB zitten.\n",
    "\n",
    "Voorbeeld: met 2 knopen hebben we ook 2 \"vormen\" in MacB, namelijk de twee knopen onverbonden, en de twee knopen verbonden. Met drie knopen zijn er meer mogelijkheden (vogel ze zelf uit), en het is de vraag of we die ook allemaal terugzien in MacB. \n",
    "\n",
    "Alle deelnetwerken van dezelfde vorm noemen we isomorf. \n",
    "\n",
    "Geef voor `n in range(5)` het aantal niet isomorfe deelnetwerken in MacB met `n` knopen als een dict met het aantal knopen als sleutel en het aantal niet isomorfe deelnetwerken als waarde. \n",
    "\n",
    "**Hint:** teken voor elk aantal knopen eerst zelf alle mogelijke niet isomorfe netwerkjes die je met zoveel knopen kunt maken, en ga dan op zoek in de Macbeth graaf of je die allemaal kunt vinden.  Voor $n=2$ zijn er 2 mogelijke niet isomorfe netwerkjes: $\\langle\\{1,2\\},\\emptyset\\rangle$ en $\\langle\\{1,2\\},\\{(1,2)\\}\\rangle$.\n",
    "\n",
    "**Tip:** Je mag dit natuurlijk programmeren, maar het hoeft niet. \n"
   ]
  },
  {
   "cell_type": "code",
   "execution_count": 5,
   "metadata": {
    "deletable": false,
    "execution": {
     "iopub.execute_input": "2024-04-16T11:49:12.254562Z",
     "iopub.status.busy": "2024-04-16T11:49:12.254285Z",
     "iopub.status.idle": "2024-04-16T11:49:12.259462Z",
     "shell.execute_reply": "2024-04-16T11:49:12.258954Z"
    },
    "nbgrader": {
     "cell_type": "code",
     "checksum": "1ca761e0f62724349f1a2f01246994f0",
     "grade": false,
     "grade_id": "Vraag1",
     "locked": false,
     "schema_version": 3,
     "solution": true
    }
   },
   "outputs": [
    {
     "data": {
      "text/plain": [
       "{0: 0, 1: 1, 2: 2, 3: 4, 4: 11}"
      ]
     },
     "execution_count": 5,
     "metadata": {},
     "output_type": "execute_result"
    }
   ],
   "source": [
    "iso_types =  {0: 0, 1: 1, 2: 2, 3: 4, 4: 11}\n",
    "\n",
    "iso_types"
   ]
  },
  {
   "cell_type": "code",
   "execution_count": 6,
   "metadata": {
    "deletable": false,
    "editable": false,
    "execution": {
     "iopub.execute_input": "2024-04-16T11:49:12.262743Z",
     "iopub.status.busy": "2024-04-16T11:49:12.262466Z",
     "iopub.status.idle": "2024-04-16T11:49:12.266333Z",
     "shell.execute_reply": "2024-04-16T11:49:12.265748Z"
    },
    "nbgrader": {
     "cell_type": "code",
     "checksum": "3c2fb9b5c3db7e4b3a8e13b3ff68cabb",
     "grade": true,
     "grade_id": "Vraag1_antwoord",
     "locked": true,
     "points": 1,
     "schema_version": 3,
     "solution": false
    }
   },
   "outputs": [],
   "source": [
    "assert_equal(type(iso_types), dict)\n",
    "assert_equal(len(iso_types),5)\n",
    "assert_equal(set(iso_types.keys()),set(range(5)))\n",
    "\n",
    "for n in iso_types:\n",
    "    assert isinstance(iso_types[n], int)"
   ]
  },
  {
   "cell_type": "markdown",
   "metadata": {
    "deletable": false,
    "editable": false,
    "nbgrader": {
     "cell_type": "markdown",
     "checksum": "aa1cfd7ff4cdb6d9a8066ce585af3c0e",
     "grade": false,
     "grade_id": "cell-ddfb1f04263cbd38",
     "locked": true,
     "schema_version": 3,
     "solution": false
    }
   },
   "source": [
    "## Vraag 2\n",
    "Bereken voor ieder personage zijn \"degree\" en zijn \"neighbour set\". Stop dit in een dictionary genaamd `personage_dict` waar de key het personage is en de value een tuple (een paar in dit geval)  met eerst de degree en dan de neighbour set in de vorm van een lijst.\n",
    "\n",
    "* Voorbeeld:\n",
    "`{FirstWitch: (4, ['ALL', 'ThirdWitch', 'MACBETH', 'SecondWitch'])...}`\n",
    "* Hint: gebruik weer een dict comprehensie. Dit kan in 1 regel."
   ]
  },
  {
   "cell_type": "code",
   "execution_count": 7,
   "metadata": {
    "deletable": false,
    "execution": {
     "iopub.execute_input": "2024-04-16T11:49:12.269371Z",
     "iopub.status.busy": "2024-04-16T11:49:12.269190Z",
     "iopub.status.idle": "2024-04-16T11:49:12.273878Z",
     "shell.execute_reply": "2024-04-16T11:49:12.273473Z"
    },
    "nbgrader": {
     "cell_type": "code",
     "checksum": "664830f3f33420342ba803821e174f94",
     "grade": false,
     "grade_id": "Vraag2",
     "locked": false,
     "schema_version": 3,
     "solution": true
    }
   },
   "outputs": [
    {
     "data": {
      "text/plain": [
       "(18,\n",
       " (15,\n",
       "  ['FirstWitch',\n",
       "   'SecondWitch',\n",
       "   'ThirdWitch',\n",
       "   'ALL',\n",
       "   'MALCOLM',\n",
       "   'LENNOX',\n",
       "   'ROSS',\n",
       "   'BANQUO',\n",
       "   'LADYMACBETH',\n",
       "   'Messenger',\n",
       "   'MACDUFF',\n",
       "   'FirstMurderer',\n",
       "   'Servant',\n",
       "   'SEYTON',\n",
       "   'SIWARD']))"
      ]
     },
     "execution_count": 7,
     "metadata": {},
     "output_type": "execute_result"
    }
   ],
   "source": [
    "personage_dict = {personage: (MacB.degree(personage), list(MacB.neighbors(personage))) for personage in MacB.nodes()}\n",
    "\n",
    "len(personage_dict),personage_dict['MACBETH']"
   ]
  },
  {
   "cell_type": "code",
   "execution_count": 8,
   "metadata": {
    "deletable": false,
    "editable": false,
    "execution": {
     "iopub.execute_input": "2024-04-16T11:49:12.276294Z",
     "iopub.status.busy": "2024-04-16T11:49:12.276142Z",
     "iopub.status.idle": "2024-04-16T11:49:12.279694Z",
     "shell.execute_reply": "2024-04-16T11:49:12.279237Z"
    },
    "nbgrader": {
     "cell_type": "code",
     "checksum": "0a43ff4a25aed3d22f0dd8bf3c013a4f",
     "grade": true,
     "grade_id": "Vraag2_antwoord",
     "locked": true,
     "points": 1,
     "schema_version": 3,
     "solution": false
    }
   },
   "outputs": [],
   "source": [
    "assert_equal(type(personage_dict), dict)\n",
    "assert_equal(type(list(personage_dict.values())[0]), tuple)\n",
    "assert_equal(type(list(personage_dict.values())[0][0]), int)\n",
    "assert_equal(type(list(personage_dict.values())[0][1]), list)\n",
    "assert_equal(type(list(personage_dict.values())[0][1][0]), str)\n"
   ]
  },
  {
   "cell_type": "markdown",
   "metadata": {
    "deletable": false,
    "editable": false,
    "nbgrader": {
     "cell_type": "markdown",
     "checksum": "3826f87ef496529028fccffe1ff5b251",
     "grade": false,
     "grade_id": "cell-b3f6397767797978",
     "locked": true,
     "schema_version": 3,
     "solution": false
    }
   },
   "source": [
    "## Vraag 3\n",
    "Maak de lijst met alle maximale cliques **die (strict) meer dan 3 knopen bevatten** in de Macbeth graaf.\n",
    "\n",
    "Geef een maximale clique weer als een lijst van de knopen (dus een lijst in een lijst). Noem deze `cliques`\n",
    "\n",
    "Zorg dat alle lijsten alfabetisch gesorteerd zijn, ook de buitenste lijst. Dus je krijgt:\n",
    "\n",
    "```\n",
    "[['ALL', 'BANQUO', 'MACBETH', 'MALCOLM'],\n",
    " ['ALL', 'FirstWitch', 'MACBETH', 'SecondWitch', 'ThirdWitch'],\n",
    " ['ALL', 'LENNOX', 'MACBETH', 'MALCOLM', 'ROSS'],\n",
    " ....]\n",
    " ```\n",
    "\n",
    "* Hint: gebruik `sorted` om te sorteren en natuurlijk doe je dit met een list comprehensie. 1 regel is genoeg.\n",
    "* HINT: bedenk wat een maximale kliek in een netwerk is. (het driehoek netwerk heeft dus maar 1 maximale kliek, zichzelf, ook al zitten er meerdere klieks in (alle paartjes zijn ook klieks bijvoorbeeld))"
   ]
  },
  {
   "cell_type": "code",
   "execution_count": 9,
   "metadata": {
    "deletable": false,
    "execution": {
     "iopub.execute_input": "2024-04-16T11:49:12.282118Z",
     "iopub.status.busy": "2024-04-16T11:49:12.281962Z",
     "iopub.status.idle": "2024-04-16T11:49:12.286232Z",
     "shell.execute_reply": "2024-04-16T11:49:12.285800Z"
    },
    "nbgrader": {
     "cell_type": "code",
     "checksum": "81eb7f66625c69c2e6d69dbc1a250d80",
     "grade": false,
     "grade_id": "Vraag4",
     "locked": false,
     "schema_version": 3,
     "solution": true
    }
   },
   "outputs": [
    {
     "data": {
      "text/plain": [
       "[['ALL', 'BANQUO', 'MACBETH', 'MALCOLM'],\n",
       " ['ALL', 'FirstWitch', 'MACBETH', 'SecondWitch', 'ThirdWitch'],\n",
       " ['ALL', 'LENNOX', 'MACBETH', 'MALCOLM', 'ROSS'],\n",
       " ['ALL', 'MACBETH', 'MACDUFF', 'MALCOLM', 'ROSS'],\n",
       " ['BANQUO', 'FirstMurderer', 'LADYMACBETH', 'MACBETH'],\n",
       " ['MACBETH', 'MACDUFF', 'MALCOLM', 'SIWARD']]"
      ]
     },
     "execution_count": 9,
     "metadata": {},
     "output_type": "execute_result"
    }
   ],
   "source": [
    "cliques = sorted([sorted(clique) for clique in nx.find_cliques(MacB) if len(clique) > 3])\n",
    "\n",
    "cliques"
   ]
  },
  {
   "cell_type": "code",
   "execution_count": 10,
   "metadata": {
    "deletable": false,
    "editable": false,
    "execution": {
     "iopub.execute_input": "2024-04-16T11:49:12.288671Z",
     "iopub.status.busy": "2024-04-16T11:49:12.288511Z",
     "iopub.status.idle": "2024-04-16T11:49:12.291688Z",
     "shell.execute_reply": "2024-04-16T11:49:12.291193Z"
    },
    "nbgrader": {
     "cell_type": "code",
     "checksum": "99fce910accdc75f5cdeeaa5d1fdf23d",
     "grade": true,
     "grade_id": "Vraag4_antwoord",
     "locked": true,
     "points": 1,
     "schema_version": 3,
     "solution": false
    }
   },
   "outputs": [],
   "source": [
    "assert_equal(type(cliques), list)\n",
    "assert_equal(type(cliques[0]), list)\n",
    "# elk element in zo'n kliek is een knoop\n",
    "for L in cliques:\n",
    "    for n in L:\n",
    "        assert_equal(n in MacB,True,msg= 'elk element in zon kliek is een knoop')     "
   ]
  },
  {
   "cell_type": "markdown",
   "metadata": {
    "deletable": false,
    "editable": false,
    "nbgrader": {
     "cell_type": "markdown",
     "checksum": "afe46730a09618220822e02c46a6d206",
     "grade": false,
     "grade_id": "cell-45b3a8528c824354",
     "locked": true,
     "schema_version": 3,
     "solution": false
    }
   },
   "source": [
    "## Vraag 4\n",
    " \n",
    "  \n",
    "Hoeveel  deelnetwerken  in het MacBeth netwerk hebben een dichtheid (_density_) van 1?\n",
    "\n",
    "Hint: kijk eens wat er gebeurt als je `nx.density` gebruikt op subgraven van verschillende lengtes."
   ]
  },
  {
   "cell_type": "code",
   "execution_count": 11,
   "metadata": {
    "deletable": false,
    "execution": {
     "iopub.execute_input": "2024-04-16T11:49:12.294168Z",
     "iopub.status.busy": "2024-04-16T11:49:12.294012Z",
     "iopub.status.idle": "2024-04-16T11:49:12.298198Z",
     "shell.execute_reply": "2024-04-16T11:49:12.297775Z"
    },
    "nbgrader": {
     "cell_type": "code",
     "checksum": "387662eaf3e0d9340e242ee71068861d",
     "grade": false,
     "grade_id": "Vraag3",
     "locked": false,
     "schema_version": 3,
     "solution": true
    }
   },
   "outputs": [
    {
     "data": {
      "text/plain": [
       "103"
      ]
     },
     "execution_count": 11,
     "metadata": {},
     "output_type": "execute_result"
    }
   ],
   "source": [
    "deelnetwerken = len([clique for clique in nx.enumerate_all_cliques(MacB) if len(clique) > 1])\n",
    "deelnetwerken"
   ]
  },
  {
   "cell_type": "code",
   "execution_count": 12,
   "metadata": {
    "deletable": false,
    "editable": false,
    "execution": {
     "iopub.execute_input": "2024-04-16T11:49:12.300610Z",
     "iopub.status.busy": "2024-04-16T11:49:12.300462Z",
     "iopub.status.idle": "2024-04-16T11:49:12.302997Z",
     "shell.execute_reply": "2024-04-16T11:49:12.302549Z"
    },
    "nbgrader": {
     "cell_type": "code",
     "checksum": "f006ee3f87174374911e652f4e7b1dbd",
     "grade": true,
     "grade_id": "Vraag3_antwoord",
     "locked": true,
     "points": 1,
     "schema_version": 3,
     "solution": false
    }
   },
   "outputs": [],
   "source": [
    "assert isinstance(deelnetwerken,int), \"We vragen om een geheel getal.\""
   ]
  },
  {
   "cell_type": "markdown",
   "metadata": {
    "deletable": false,
    "editable": false,
    "nbgrader": {
     "cell_type": "markdown",
     "checksum": "c39661da959d4fa1c618591c60e078b8",
     "grade": false,
     "grade_id": "cell-357faa0fd360e2ff",
     "locked": true,
     "schema_version": 3,
     "solution": false
    }
   },
   "source": [
    "# Deel 2: Easley and Kleinberg"
   ]
  },
  {
   "cell_type": "markdown",
   "metadata": {
    "deletable": false,
    "editable": false,
    "nbgrader": {
     "cell_type": "markdown",
     "checksum": "1318cce5351cefba9c416d1845c2a838",
     "grade": false,
     "grade_id": "Vraag5",
     "locked": true,
     "schema_version": 3,
     "solution": false
    }
   },
   "source": [
    "## Vraag 5\n",
    "Maak opdracht [3.7.1 van Easley and Kleinberg](http://www.cs.cornell.edu/home/kleinber/networks-book/networks-book-ch03.pdf). \n",
    "Geef je antwoord in de cell hieronder"
   ]
  },
  {
   "cell_type": "markdown",
   "metadata": {
    "deletable": false,
    "nbgrader": {
     "cell_type": "markdown",
     "checksum": "0c192a2d1ce4f07d8561e0a925ecd9c1",
     "grade": true,
     "grade_id": "Vraag5_antwoord",
     "locked": false,
     "points": 1,
     "schema_version": 3,
     "solution": true
    }
   },
   "source": [
    "Triadische sluiting ('triadic closure') is het verschijnsel waarbij — als twee individuen A en B bevriend zijn met een derde individu C — de kans groter wordt dat A en B ook bevriend raken. Dit fenomeen speelt een cruciale rol bij de vorming van sociale netwerken omdat het de neiging van mensen weerspiegelt om relaties aan te gaan met vrienden van vrienden — waardoor dichte en samenhangende netwerken ontstaan. Dit kan worden geïllustreerd met een diagram waarin drie individuen A, B en C worden verbonden door lijnen die hun vriendschappen aangeven —waarbij de vriendschap tussen A en B wordt versterkt door hun gemeenschappelijke vriend C."
   ]
  },
  {
   "cell_type": "markdown",
   "metadata": {
    "deletable": false,
    "editable": false,
    "nbgrader": {
     "cell_type": "markdown",
     "checksum": "7bc208cbf31107c67e2522f4914333f6",
     "grade": false,
     "grade_id": "cell-b4413c8de56f0157",
     "locked": true,
     "schema_version": 3,
     "solution": false
    }
   },
   "source": [
    "## Vraag 6\n",
    "Maak opdracht [3.7.2 van Easley and Kleinberg](http://www.cs.cornell.edu/home/kleinber/networks-book/networks-book-ch03.pdf).\n",
    "\n",
    "Geef het antwoord als `'S'` of `'W'` aan de variabele `a`"
   ]
  },
  {
   "cell_type": "code",
   "execution_count": 13,
   "metadata": {
    "deletable": false,
    "execution": {
     "iopub.execute_input": "2024-04-16T11:49:12.305659Z",
     "iopub.status.busy": "2024-04-16T11:49:12.305502Z",
     "iopub.status.idle": "2024-04-16T11:49:12.309132Z",
     "shell.execute_reply": "2024-04-16T11:49:12.308715Z"
    },
    "nbgrader": {
     "cell_type": "code",
     "checksum": "6cadc228285887b930130aa0919ae991",
     "grade": false,
     "grade_id": "Vraag6",
     "locked": false,
     "schema_version": 3,
     "solution": true
    }
   },
   "outputs": [
    {
     "data": {
      "text/plain": [
       "'W'"
      ]
     },
     "execution_count": 13,
     "metadata": {},
     "output_type": "execute_result"
    }
   ],
   "source": [
    "a = 'W'\n",
    "a \n",
    "# Op basis van de theorie van sterke en zwakke banden,\n",
    "# en de aanname van sterke triadische sluiting, \n",
    "# verwachten we dat de verbinding tussen knooppunten B en C wordt gelabeld als een zwakke band (W).\n",
    "# Dit komt doordat zwakke banden vaak fungeren als bruggen tussen gesloten driehoeken gevormd door sterke banden, \n",
    "# en aangezien knooppunten B en C deel uitmaken van twee sterke driehoeken, \n",
    "# is het waarschijnlijk dat hun verbinding wordt overbrugd door een zwakke band om connectiviteit \n",
    "# tussen deze driehoeken mogelijk te maken."
   ]
  },
  {
   "cell_type": "code",
   "execution_count": 14,
   "metadata": {
    "deletable": false,
    "editable": false,
    "execution": {
     "iopub.execute_input": "2024-04-16T11:49:12.311492Z",
     "iopub.status.busy": "2024-04-16T11:49:12.311338Z",
     "iopub.status.idle": "2024-04-16T11:49:12.313837Z",
     "shell.execute_reply": "2024-04-16T11:49:12.313418Z"
    },
    "nbgrader": {
     "cell_type": "code",
     "checksum": "3589af4510f69daee7c7a6be983e1511",
     "grade": true,
     "grade_id": "Vraag6_antwoord",
     "locked": true,
     "points": 1,
     "schema_version": 3,
     "solution": false
    }
   },
   "outputs": [],
   "source": [
    "assert_equal(a == 'W' or a == 'S', True)\n"
   ]
  },
  {
   "cell_type": "markdown",
   "metadata": {
    "deletable": false,
    "editable": false,
    "nbgrader": {
     "cell_type": "markdown",
     "checksum": "4f8a138ce9cbc91210bc7b10129923a7",
     "grade": false,
     "grade_id": "cell-3f081ec58750cb11",
     "locked": true,
     "schema_version": 3,
     "solution": false
    }
   },
   "source": [
    "## Vraag 7\n",
    "Maak opdracht [3.7.3 van Easley and Kleinberg](http://www.cs.cornell.edu/home/kleinber/networks-book/networks-book-ch03.pdf).\n",
    "\n",
    "Geef alle nodes die voldoen in hoofdletters, als lijst van strings aan variabele `b`.\n",
    "\n",
    "Voorbeeld: `x = ['A', 'B'...]`"
   ]
  },
  {
   "cell_type": "code",
   "execution_count": 15,
   "metadata": {
    "deletable": false,
    "execution": {
     "iopub.execute_input": "2024-04-16T11:49:12.316316Z",
     "iopub.status.busy": "2024-04-16T11:49:12.316164Z",
     "iopub.status.idle": "2024-04-16T11:49:12.319648Z",
     "shell.execute_reply": "2024-04-16T11:49:12.319224Z"
    },
    "nbgrader": {
     "cell_type": "code",
     "checksum": "05fa26c365a7fad6bfb3fef97d7e293c",
     "grade": false,
     "grade_id": "Vraag7",
     "locked": false,
     "schema_version": 3,
     "solution": true
    }
   },
   "outputs": [
    {
     "data": {
      "text/plain": [
       "['B', 'D', 'A']"
      ]
     },
     "execution_count": 15,
     "metadata": {},
     "output_type": "execute_result"
    }
   ],
   "source": [
    "b= ['B', 'D', 'A']\n",
    "# niet C omdat C twee sterke heeft (C,E) en (B,C) maar er is geen relatie (B,E).\n",
    "# niet E omdat E twee sterke heeft (D,E) en (C,E) maar er is geen relatie (C,D)\n",
    "b"
   ]
  },
  {
   "cell_type": "code",
   "execution_count": 16,
   "metadata": {
    "deletable": false,
    "editable": false,
    "execution": {
     "iopub.execute_input": "2024-04-16T11:49:12.322056Z",
     "iopub.status.busy": "2024-04-16T11:49:12.321903Z",
     "iopub.status.idle": "2024-04-16T11:49:12.324747Z",
     "shell.execute_reply": "2024-04-16T11:49:12.324310Z"
    },
    "nbgrader": {
     "cell_type": "code",
     "checksum": "a0d870475283d7fe306d7f1c10e68ded",
     "grade": true,
     "grade_id": "Vraag7_antwoord",
     "locked": true,
     "points": 1,
     "schema_version": 3,
     "solution": false
    }
   },
   "outputs": [],
   "source": [
    "assert_equal(type(b), list)\n",
    "for x in b:\n",
    "    if x not in ['A', 'B', 'C', 'D', 'E']:\n",
    "        raise AssertionError(\"Een van de knopen in je lijst bestaat niet\")\n"
   ]
  },
  {
   "cell_type": "markdown",
   "metadata": {
    "deletable": false,
    "editable": false,
    "nbgrader": {
     "cell_type": "markdown",
     "checksum": "93e15f632bb0f4c2e547e3c4019c8936",
     "grade": false,
     "grade_id": "cell-e82df599560bad12",
     "locked": true,
     "schema_version": 3,
     "solution": false
    }
   },
   "source": [
    "## Vraag 8\n",
    "Maak opdracht [3.7.4 van Easley and Kleinberg](http://www.cs.cornell.edu/home/kleinber/networks-book/networks-book-ch03.pdf).\n",
    "\n",
    "Geef alle nodes die niet voldoen in hoofdletters, als lijst van strings aan variabele `c`.\n",
    "\n",
    "Voorbeeld: `x = ['A', 'B']`"
   ]
  },
  {
   "cell_type": "code",
   "execution_count": 17,
   "metadata": {
    "deletable": false,
    "execution": {
     "iopub.execute_input": "2024-04-16T11:49:12.327199Z",
     "iopub.status.busy": "2024-04-16T11:49:12.327045Z",
     "iopub.status.idle": "2024-04-16T11:49:12.330448Z",
     "shell.execute_reply": "2024-04-16T11:49:12.330027Z"
    },
    "nbgrader": {
     "cell_type": "code",
     "checksum": "56b450db3c76ca7ed97f01c0083b794a",
     "grade": false,
     "grade_id": "Vraag8",
     "locked": false,
     "schema_version": 3,
     "solution": true
    }
   },
   "outputs": [
    {
     "data": {
      "text/plain": [
       "['C', 'E']"
      ]
     },
     "execution_count": 17,
     "metadata": {},
     "output_type": "execute_result"
    }
   ],
   "source": [
    "c = ['C', 'E']\n",
    "# Er zijn twee sterke relaties (D,E) en (C,E) vanuit E maar er is geen relatie (C,D), dus E voldoet niet.\n",
    "# Er zijn twee sterken relaties (B,C) en (E,C) vanuit C, maar er is geen relatie (B,E) dus C voldoet niet.\n",
    "c"
   ]
  },
  {
   "cell_type": "code",
   "execution_count": 18,
   "metadata": {
    "deletable": false,
    "editable": false,
    "execution": {
     "iopub.execute_input": "2024-04-16T11:49:12.332821Z",
     "iopub.status.busy": "2024-04-16T11:49:12.332667Z",
     "iopub.status.idle": "2024-04-16T11:49:12.335503Z",
     "shell.execute_reply": "2024-04-16T11:49:12.335067Z"
    },
    "nbgrader": {
     "cell_type": "code",
     "checksum": "015f5fbe8e781a9f7c27f048833a9452",
     "grade": true,
     "grade_id": "Vraag8_antwoord",
     "locked": true,
     "points": 1,
     "schema_version": 3,
     "solution": false
    }
   },
   "outputs": [],
   "source": [
    "assert_equal(type(c), list)\n",
    "for x in c:\n",
    "    if x not in ['A', 'B', 'C', 'D', 'E']:\n",
    "        raise AssertionError(\"Een van de knopen in je lijst bestaat niet\")\n"
   ]
  },
  {
   "cell_type": "markdown",
   "metadata": {
    "deletable": false,
    "editable": false,
    "nbgrader": {
     "cell_type": "markdown",
     "checksum": "478f1d8312d34ddc32c6bd7a68d8f21c",
     "grade": false,
     "grade_id": "cell-448fb7e5407f73e2",
     "locked": true,
     "schema_version": 3,
     "solution": false
    }
   },
   "source": [
    "## Vraag 9\n",
    "Maak opdracht [3.7.5 van Easley and Kleinberg](http://www.cs.cornell.edu/home/kleinber/networks-book/networks-book-ch03.pdf).\n",
    "\n",
    "Geef alle nodes die voldoen in hoofdletters, als lijst van strings aan variabele `d`.\n",
    "\n",
    "Voorbeeld: `x = ['A', 'B'...]`"
   ]
  },
  {
   "cell_type": "code",
   "execution_count": 19,
   "metadata": {
    "deletable": false,
    "execution": {
     "iopub.execute_input": "2024-04-16T11:49:12.338038Z",
     "iopub.status.busy": "2024-04-16T11:49:12.337884Z",
     "iopub.status.idle": "2024-04-16T11:49:12.341278Z",
     "shell.execute_reply": "2024-04-16T11:49:12.340864Z"
    },
    "nbgrader": {
     "cell_type": "code",
     "checksum": "e1a1c5572a141e6c06b0890a62f0a5e1",
     "grade": false,
     "grade_id": "Vraag9",
     "locked": false,
     "schema_version": 3,
     "solution": true
    }
   },
   "outputs": [
    {
     "data": {
      "text/plain": [
       "['A', 'B', 'D', 'E']"
      ]
     },
     "execution_count": 19,
     "metadata": {},
     "output_type": "execute_result"
    }
   ],
   "source": [
    "d= ['A', 'B', 'D', 'E']\n",
    "# C voldoet niet omdat er twee sterke relaties (B,C) en (C,E) zijn, maar er is geen relatie (B,E)\n",
    "d"
   ]
  },
  {
   "cell_type": "code",
   "execution_count": 20,
   "metadata": {
    "deletable": false,
    "editable": false,
    "execution": {
     "iopub.execute_input": "2024-04-16T11:49:12.343738Z",
     "iopub.status.busy": "2024-04-16T11:49:12.343583Z",
     "iopub.status.idle": "2024-04-16T11:49:12.346549Z",
     "shell.execute_reply": "2024-04-16T11:49:12.346063Z"
    },
    "nbgrader": {
     "cell_type": "code",
     "checksum": "4e3e831f552168345ecbbd5223db55fa",
     "grade": true,
     "grade_id": "Vraag9_antwoord",
     "locked": true,
     "points": 1,
     "schema_version": 3,
     "solution": false
    }
   },
   "outputs": [],
   "source": [
    "assert_equal(type(d), list)\n",
    "for x in d:\n",
    "    if x not in ['A', 'B', 'C', 'D', 'E']:\n",
    "        raise AssertionError(\"Een van de knopen in je lijst bestaat niet\")\n"
   ]
  },
  {
   "cell_type": "markdown",
   "metadata": {
    "deletable": false,
    "editable": false,
    "nbgrader": {
     "cell_type": "markdown",
     "checksum": "cf2a71b55cae5f98a4d0344b65f4a34e",
     "grade": false,
     "grade_id": "cell-6918d4eb71d8156a",
     "locked": true,
     "schema_version": 3,
     "solution": false
    }
   },
   "source": [
    "# Deel 3: Strong Triadic Closure"
   ]
  },
  {
   "cell_type": "code",
   "execution_count": 21,
   "metadata": {
    "execution": {
     "iopub.execute_input": "2024-04-16T11:49:12.348980Z",
     "iopub.status.busy": "2024-04-16T11:49:12.348822Z",
     "iopub.status.idle": "2024-04-16T11:49:12.504792Z",
     "shell.execute_reply": "2024-04-16T11:49:12.504047Z"
    }
   },
   "outputs": [
    {
     "data": {
      "image/png": "[encoded data removed]",
      "text/plain": [
       "<Figure size 640x480 with 1 Axes>"
      ]
     },
     "metadata": {},
     "output_type": "display_data"
    }
   ],
   "source": [
    "# Hier staat een netwerk waarmee je je code kunt testen\n",
    "# Je kunt ook zelf dingen veranderen in deze cel\n",
    "\n",
    "G = nx.Graph()\n",
    "G.add_edges_from([('D', 'E'), ('C', 'F'), ('A', 'F'), ('G', 'K'), ('G', 'H'),\n",
    "                  ('H', 'B'), ('A', 'B')],\n",
    "                 tie='w')\n",
    "G.add_edges_from([('D', 'C'), ('D', 'A'), ('C', 'A'), ('E', 'A'), ('E', 'C'),\n",
    "                  ('F', 'J'), ('F', 'G'), ('J', 'G'), ('K', 'H')],\n",
    "                 tie='s')\n",
    "\n",
    "pos = nx.spring_layout(G)\n",
    "nx.draw(G, pos, with_labels=True)\n",
    "my_edge_labels = {(u,v,): d['tie']\n",
    "                   for u, v, d in G.edges(data=True)\n",
    "                 }\n",
    "\n",
    "nx.draw_networkx_edge_labels(G, pos, edge_labels=my_edge_labels);"
   ]
  },
  {
   "cell_type": "markdown",
   "metadata": {},
   "source": [
    "## Vraag 10\n",
    "\n",
    "Schrijf de Python functie `STC_node(G, n)` die voor een knoop `n` in een willekeurige invoer  graaf `G`, met sterke en zwakke relaties zoals hierboven, uitzoekt of die knoop voldoet aan Strong Triadic Closure.\n",
    "\n",
    "* Als node `n` voldoet aan de Strong Triadic Closure eigenschap return dan de lege verzameling.\n",
    "* Zo niet geef dan de verzameling van alle driehoeken waarvan `n` 1 van de knopen is en die niet voldoen aan de STC eigenschap. \n",
    "    * De verzameling heeft de vorm `{frozenset({'A', 'C', 'D'}), frozenset({'A', 'E', 'D'})}`. \n",
    "        * **waarbij `{'A', 'C', 'D'}` een `frozenset` is**\n",
    "        * Die maak je heel makkelijk met `frozenset(('A', 'C', 'D'))`\n",
    "        * Je moet frozensets gebruiken omdat verzamelingen geen immutables mogen bevatten\n",
    "    *  Dus de \"ongesloten driehoekjes\" representeren we als verzamelingen\n",
    "\n",
    "1.            Check dat [Figuur 3.5](http://www.cs.cornell.edu/home/kleinber/networks-book/networks-book-ch03.pdf) inderdaad voldoet aan de STC.    Dit is het netwerk `G` wat boven gedefinieerd is.       \n",
    "2.            Verander wat in Fig 3.5 zodat STC niet meer opgaat en draai je programma opnieuw. Doe dit door een copy van het netwerk `G` te maken. \n",
    "\n",
    "#### Hint: \n",
    "Zoals te zien in voorbeeldgraaf `G` hebben alle edges het attribuut `tie`. Deze kun je opvragen door `G[u][v]['tie']` voor edge `(u,v)`"
   ]
  },
  {
   "cell_type": "code",
   "execution_count": 22,
   "metadata": {
    "deletable": false,
    "execution": {
     "iopub.execute_input": "2024-04-16T11:49:12.508215Z",
     "iopub.status.busy": "2024-04-16T11:49:12.507970Z",
     "iopub.status.idle": "2024-04-16T11:49:12.514239Z",
     "shell.execute_reply": "2024-04-16T11:49:12.513809Z"
    },
    "nbgrader": {
     "cell_type": "code",
     "checksum": "2554a446490ffd8797943109c52373a5",
     "grade": false,
     "grade_id": "Vraag10",
     "locked": false,
     "schema_version": 3,
     "solution": true
    }
   },
   "outputs": [
    {
     "name": "stdout",
     "output_type": "stream",
     "text": [
      "A True set()\n",
      "B True set()\n",
      "C True set()\n",
      "D True set()\n",
      "E True set()\n",
      "F True set()\n",
      "G True set()\n",
      "H True set()\n",
      "J True set()\n",
      "K True set()\n"
     ]
    }
   ],
   "source": [
    "def STC_node(G, n):\n",
    "    \"\"\"\n",
    "    Ontvangt een graaf met sterke en zwakke verbindingen (s & w) en een knoop (n), en geeft aan of de knoop voldoet aan de strong triadic closure property (stcp): als een knoop een sterke verbinding heeft met twee buren, dan zijn die buren onderling minstens éénmaal zwak verbonden.\n",
    "    Voldoet de knoop aan de sluiting, dan geeft deze functie een lege verzameling terug — anders geeft de functie een frozenset van de ontoereikende driehoek terug.\n",
    "    \"\"\"\n",
    "    neighbors = list(G.neighbors(n))\n",
    "    strong_neighbors = []\n",
    "    weak_neighbors = []\n",
    "    \n",
    "    \n",
    "    for nbr in neighbors:\n",
    "        if G[n][nbr]['tie'] == 's':\n",
    "            strong_neighbors.append(nbr)\n",
    "        elif G[n][nbr]['tie'] == 'w':\n",
    "            weak_neighbors.append(nbr)\n",
    "    \n",
    "    if len(strong_neighbors) < 2:\n",
    "        return set()\n",
    "    \n",
    "    for i in range(len(strong_neighbors)):\n",
    "        for j in range(i + 1, len(strong_neighbors)):\n",
    "            if not G.has_edge(strong_neighbors[i], strong_neighbors[j]):\n",
    "                return {frozenset((n, strong_neighbors[i], strong_neighbors[j]))}\n",
    "    \n",
    "    return set()\n",
    "\n",
    "for N in sorted(G):\n",
    "    print(N, not bool(STC_node(G, N)), STC_node(G, N))\n"
   ]
  },
  {
   "cell_type": "code",
   "execution_count": 23,
   "metadata": {
    "deletable": false,
    "editable": false,
    "execution": {
     "iopub.execute_input": "2024-04-16T11:49:12.517004Z",
     "iopub.status.busy": "2024-04-16T11:49:12.516799Z",
     "iopub.status.idle": "2024-04-16T11:49:12.520127Z",
     "shell.execute_reply": "2024-04-16T11:49:12.519599Z"
    },
    "nbgrader": {
     "cell_type": "code",
     "checksum": "a96a6b3f4d867af4ac32ad899457bd2b",
     "grade": true,
     "grade_id": "Vraag10_antwoord",
     "locked": true,
     "points": 1,
     "schema_version": 3,
     "solution": false
    }
   },
   "outputs": [],
   "source": [
    " \n",
    "assert_equal(type(STC_node(G, 'A')) == set , True)\n",
    "\n"
   ]
  },
  {
   "cell_type": "markdown",
   "metadata": {
    "deletable": false,
    "editable": false,
    "nbgrader": {
     "cell_type": "markdown",
     "checksum": "c3bf8091dfdf8ed4e07d3ba046ae2e2b",
     "grade": false,
     "grade_id": "cell-535453762bb1dc4e",
     "locked": true,
     "schema_version": 3,
     "solution": false
    }
   },
   "source": [
    "## Vraag 11\n",
    "\n",
    "Schrijf nu de Python functie `STC_graph(G)` die voor de hele graaf `G` uitzoekt of `G` voldoet aan Strong Triadic Closure (dit betekent dat elke knoop er aan voldoet).\n",
    "\n",
    "\n",
    "* Als G voldoet aan de Strong Triadic Closure eigenschap return dan de lege verzameling.\n",
    "* Zo niet return dan net zoals bij `STC_node` voor `STC_graph(G)`, de verzameling  met alle driehoeken (weer als frozensets)  die een tegenvoorbeeld voor STC zijn.    \n",
    "\n",
    "\n",
    "          \n",
    "#### Hint:\n",
    "Je gebruikt natuurlijk `STC_node(G, x)` om `STC_graph(G)` te bepalen. Want de laatste is waar als de eerste waar is voor elke knoop in `G`."
   ]
  },
  {
   "cell_type": "code",
   "execution_count": 24,
   "metadata": {
    "deletable": false,
    "execution": {
     "iopub.execute_input": "2024-04-16T11:49:12.522599Z",
     "iopub.status.busy": "2024-04-16T11:49:12.522443Z",
     "iopub.status.idle": "2024-04-16T11:49:12.525680Z",
     "shell.execute_reply": "2024-04-16T11:49:12.525249Z"
    },
    "nbgrader": {
     "cell_type": "code",
     "checksum": "34c1ac7441f1b4e05908c7cf726053d7",
     "grade": false,
     "grade_id": "Vraag11",
     "locked": false,
     "schema_version": 3,
     "solution": true
    }
   },
   "outputs": [],
   "source": [
    " def STC_graph(G):\n",
    "    \"\"\"\n",
    "    Gaat na of voor iedere knoop in een graaf G geldt dat deze voldoet aan de sterke triadische sluiting ('strong triadic closure').\n",
    "    Geeft als dit zo is een lege verzameling terug, en anders de verzameling driekhoeken als frozensets die het tegendeel bewijzen.\n",
    "    \"\"\"\n",
    "    non_compliant_triangles = set()\n",
    "    \n",
    "    for node in G.nodes():\n",
    "        non_compliant_triangles.update(STC_node(G, node))\n",
    "    \n",
    "    if not non_compliant_triangles:\n",
    "        return set()  \n",
    "    else:\n",
    "        return non_compliant_triangles\n"
   ]
  },
  {
   "cell_type": "code",
   "execution_count": 25,
   "metadata": {
    "deletable": false,
    "editable": false,
    "execution": {
     "iopub.execute_input": "2024-04-16T11:49:12.528001Z",
     "iopub.status.busy": "2024-04-16T11:49:12.527848Z",
     "iopub.status.idle": "2024-04-16T11:49:12.530637Z",
     "shell.execute_reply": "2024-04-16T11:49:12.530176Z"
    },
    "nbgrader": {
     "cell_type": "code",
     "checksum": "90201a2cc7a595a0dfb131f8e602496f",
     "grade": true,
     "grade_id": "Vraag11_antwoord",
     "locked": true,
     "points": 1,
     "schema_version": 3,
     "solution": false
    }
   },
   "outputs": [],
   "source": [
    " \n",
    "assert_equal(type(STC_graph(G)) == set  , True)\n"
   ]
  },
  {
   "cell_type": "code",
   "execution_count": null,
   "metadata": {},
   "outputs": [],
   "source": []
  }
 ],
 "metadata": {
  "anaconda-cloud": {},
  "hide_input": false,
  "kernelspec": {
   "display_name": "Python 3 (ipykernel)",
   "language": "python",
   "name": "python3"
  },
  "language_info": {
   "codemirror_mode": {
    "name": "ipython",
    "version": 3
   },
   "file_extension": ".py",
   "mimetype": "text/x-python",
   "name": "python",
   "nbconvert_exporter": "python",
   "pygments_lexer": "ipython3",
   "version": "3.10.13"
  },
  "toc": {
   "nav_menu": {},
   "number_sections": true,
   "sideBar": true,
   "skip_h1_title": false,
   "title_cell": "Table of Contents",
   "title_sidebar": "Contents",
   "toc_cell": false,
   "toc_position": {},
   "toc_section_display": true,
   "toc_window_display": false
  },
  "varInspector": {
   "cols": {
    "lenName": 16,
    "lenType": 16,
    "lenVar": 40
   },
   "kernels_config": {
    "python": {
     "delete_cmd_postfix": "",
     "delete_cmd_prefix": "del ",
     "library": "var_list.py",
     "varRefreshCmd": "print(var_dic_list())"
    },
    "r": {
     "delete_cmd_postfix": ") ",
     "delete_cmd_prefix": "rm(",
     "library": "var_list.r",
     "varRefreshCmd": "cat(var_dic_list()) "
    }
   },
   "types_to_exclude": [
    "module",
    "function",
    "builtin_function_or_method",
    "instance",
    "_Feature"
   ],
   "window_display": false
  }
 },
 "nbformat": 4,
 "nbformat_minor": 4
}
