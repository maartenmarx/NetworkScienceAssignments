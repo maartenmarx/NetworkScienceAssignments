{
 "cells": [
  {
   "cell_type": "markdown",
   "metadata": {},
   "source": [
    "# Assignment Netwerkanalyse"
   ]
  },
  {
   "cell_type": "markdown",
   "metadata": {
    "nbgrader": {
     "grade": false,
     "grade_id": "privacy",
     "locked": false,
     "schema_version": 3,
     "solution": false
    }
   },
   "source": [
    "## Notebook made by\n",
    "\n",
    "**Gebruik graag dit formaat**\n",
    "\n",
    "* Voor de namen:  voornaam rest van je naam, voornaam rest van je naam,....\n",
    "* je studentnummers: hetzelfde: scheidt met `,`\n",
    "* je emails: hetzelfde: scheidt met `,`\n",
    "* voor je groep: alleen de hoofdletter (dus voor de groep van Marx zou je `A` kiezen)\n",
    "\n",
    "__Namen__:Anoniem\n",
    "__Emails__:Anoniem\n",
    "__Student id__:Anoniem\n",
    "__Groep__:Anoniem"
   ]
  },
  {
   "cell_type": "markdown",
   "metadata": {},
   "source": [
    "## Toelichting\n",
    "\n",
    "* De meeste opgaven worden automatisch nagekeken. Bij vrijwel alle opdrachten staan er een paar tests onder de opdracht, dit is voornamelijk om te zorgen dat je de juiste type output geeft. Dit zijn dus *NIET* alle tests, die komen er bij het graden nog bij.\n",
    "* Elke vraag is 1 punt waard, tenzij anders aangegeven. Soms is die punt onderverdeeld in deelpunten, maar niet altijd. \n",
    "\n",
    "## Voor het inleveren!\n",
    "\n",
    "* Pas niet de cellen aan, vooral niet die je niet kunt editen. Dit levert problemen op bij nakijken. Twijfel je of je per ongeluk iets hebt gewijzigd, kopieer dan bij inleveren je antwoorden naar een nieuw bestand, zodat het niet fout kan gaan.\n",
    "\n",
    "* Zorg dat de code goed runt van boven naar beneden, verifieer dat door boven in Kernel -> Restart & Run All uit te voeren\n",
    "\n",
    "## Na het inleveren!\n",
    "\n",
    "* Het gebeurt erg vaak dat mensen een \"leeg bestand\" inleveren. Vaak een andere versie van de opgave die nog ergens op je computer rondslingerde. Zonde van al je werk toch!\n",
    "* Dus, lever **minstens een half uur voor tijd in**. Download dan wat je hebt ingeleverd op Canvas. Geef het een andere naam om verwarring te voorkomen. En draai alle cellen, en bekijk het. Geen syntax fouten? Alle vragen gemaakt? Dan zit het vast wel goed, en hoef je niet in de zenuwen te zitten."
   ]
  },
  {
   "cell_type": "markdown",
   "metadata": {
    "deletable": false,
    "editable": false,
    "nbgrader": {
     "cell_type": "markdown",
     "checksum": "590282fb39e2d9716aa51f423b64a56e",
     "grade": false,
     "grade_id": "cell-92f4d17e6afb4903",
     "locked": true,
     "schema_version": 3,
     "solution": false
    }
   },
   "source": [
    "# Week 2"
   ]
  },
  {
   "cell_type": "code",
   "execution_count": 1,
   "metadata": {
    "deletable": false,
    "editable": false,
    "execution": {
     "iopub.execute_input": "2024-04-14T12:29:55.564815Z",
     "iopub.status.busy": "2024-04-14T12:29:55.564524Z",
     "iopub.status.idle": "2024-04-14T12:29:56.193260Z",
     "shell.execute_reply": "2024-04-14T12:29:56.192383Z"
    },
    "nbgrader": {
     "cell_type": "code",
     "checksum": "65122c755746ceaef2b948b2ecba7c65",
     "grade": false,
     "grade_id": "cell-9709ca0c1acbe1bf",
     "locked": true,
     "schema_version": 3,
     "solution": false
    }
   },
   "outputs": [],
   "source": [
    "%matplotlib inline\n",
    "import matplotlib.pyplot as plt\n",
    "import numpy as np\n",
    "import os\n",
    "import networkx as nx\n",
    "import requests\n",
    "from nose.tools import assert_equal, assert_count_equal\n",
    "from itertools import combinations\n",
    "from collections import defaultdict"
   ]
  },
  {
   "cell_type": "markdown",
   "metadata": {},
   "source": [
    "# Deel -1\n",
    "\n",
    "* Verzamelingen\n",
    "    * Maak alle opgaven op [deze site](https://set.kuleuven.be/voorkennis/zomercursus/zomercursusZ/logica/verzamelingen_light). Dus ook die in sectie 2.1 en 2.1.1! "
   ]
  },
  {
   "cell_type": "markdown",
   "metadata": {},
   "source": [
    "# Deel 0: First Course Chap 1\n",
    "\n",
    "*  First Course Chap 1, alle overige opgaven (dus vanaf 22) (plus opnieuw die je vorige week fout had)"
   ]
  },
  {
   "cell_type": "markdown",
   "metadata": {
    "deletable": false,
    "nbgrader": {
     "cell_type": "markdown",
     "checksum": "292dae5d5ad35d20f58b877046a8d62d",
     "grade": true,
     "grade_id": "fc",
     "locked": false,
     "points": 1,
     "schema_version": 3,
     "solution": true
    }
   },
   "source": [
    "23. No, because the networks can have nodes with different degrees. It could be that one node in one of the networks has more edges than in the other and the other way around. The degrees can be different so the maximum and minimum degree too and also the mean degree. It could be that in one network all nodes have the same amount of neighbors and in the other network that one node has a lot and the others less.\n",
    "24. The density of the network increased since the nodes (the users) stay the same but the edges (friendships) increase.\n",
    "25. Yes because there are 33 million users and 1000 edges per user on average which are connected to only 100.000 titles. So it is dense.\n",
    "26. Even more dense, increased. The same amount of nodes for titles, but more users connected to titles even if the degree stays consistent, more users with edges are connected to the same amount of titles."
   ]
  },
  {
   "cell_type": "markdown",
   "metadata": {
    "deletable": false,
    "editable": false,
    "nbgrader": {
     "cell_type": "markdown",
     "checksum": "80501b1fd9f17ed072f62d9d9366be8a",
     "grade": false,
     "grade_id": "cell-a9e3236ad755a7db",
     "locked": true,
     "schema_version": 3,
     "solution": false
    }
   },
   "source": [
    "# Deel 1: MacBeth"
   ]
  },
  {
   "cell_type": "code",
   "execution_count": 2,
   "metadata": {
    "deletable": false,
    "editable": false,
    "execution": {
     "iopub.execute_input": "2024-04-14T12:29:56.196897Z",
     "iopub.status.busy": "2024-04-14T12:29:56.196691Z",
     "iopub.status.idle": "2024-04-14T12:29:56.200770Z",
     "shell.execute_reply": "2024-04-14T12:29:56.200196Z"
    },
    "nbgrader": {
     "cell_type": "code",
     "checksum": "e85ec1c1e8ac7ab6dde2e0348c9947f5",
     "grade": false,
     "grade_id": "cell-fcd256812ccff2ce",
     "locked": true,
     "schema_version": 3,
     "solution": false
    }
   },
   "outputs": [],
   "source": [
    "def open_graph():\n",
    "    \"\"\"Loads the graphml\"\"\"\n",
    "    if 'macbethcorrected.graphml' in os.listdir():\n",
    "        return nx.read_graphml('macbethcorrected.graphml')\n",
    "    elif os.path.exists('../../data/Week2'):\n",
    "        return nx.read_graphml('../../data/Week2/macbethcorrected.graphml')\n",
    "    elif os.path.exists('../../../data/Week2'):\n",
    "        return nx.read_graphml('../../../data/Week2/macbethcorrected.graphml')"
   ]
  },
  {
   "cell_type": "code",
   "execution_count": 3,
   "metadata": {
    "deletable": false,
    "editable": false,
    "execution": {
     "iopub.execute_input": "2024-04-14T12:29:56.203875Z",
     "iopub.status.busy": "2024-04-14T12:29:56.203602Z",
     "iopub.status.idle": "2024-04-14T12:29:56.376927Z",
     "shell.execute_reply": "2024-04-14T12:29:56.376100Z"
    },
    "nbgrader": {
     "cell_type": "code",
     "checksum": "45eec244be8f9c3181b122adcbde89b7",
     "grade": false,
     "grade_id": "cell-8bbe1c78fae27fb3",
     "locked": true,
     "schema_version": 3,
     "solution": false
    }
   },
   "outputs": [
    {
     "data": {
      "image/png": "[encoded data removed]",
      "text/plain": [
       "<Figure size 640x480 with 1 Axes>"
      ]
     },
     "metadata": {},
     "output_type": "display_data"
    }
   ],
   "source": [
    "MacB = open_graph()\n",
    "nx.draw(MacB, with_labels=True)"
   ]
  },
  {
   "cell_type": "markdown",
   "metadata": {
    "deletable": false,
    "editable": false,
    "nbgrader": {
     "cell_type": "markdown",
     "checksum": "36cad9c88244ec6a7e6bee4743812aaf",
     "grade": false,
     "grade_id": "cell-fef740c5ed742f4a",
     "locked": true,
     "schema_version": 3,
     "solution": false
    }
   },
   "source": [
    "## Vraag 1\n",
    " \n",
    "In deze vraag gaan we kijken naar de vorm van deelgrafen in MacB. We vragen ons voor elke hoeveelheid knopen af, hoeveel verschillende \"vormen\" deelnetwerken met zoveel knopen er in MacB zitten.\n",
    "\n",
    "Voorbeeld: met 2 knopen hebben we ook 2 \"vormen\" in MacB, namelijk de twee knopen onverbonden, en de twee knopen verbonden. Met drie knopen zijn er meer mogelijkheden (vogel ze zelf uit), en het is de vraag of we die ook allemaal terugzien in MacB. \n",
    "\n",
    "Alle deelnetwerken van dezelfde vorm noemen we isomorf. \n",
    "\n",
    "Geef voor `n in range(5)` het aantal niet isomorfe deelnetwerken in MacB met `n` knopen als een dict met het aantal knopen als sleutel en het aantal niet isomorfe deelnetwerken als waarde. \n",
    "\n",
    "**Hint:** teken voor elk aantal knopen eerst zelf alle mogelijke niet isomorfe netwerkjes die je met zoveel knopen kunt maken, en ga dan op zoek in de Macbeth graaf of je die allemaal kunt vinden.  Voor $n=2$ zijn er 2 mogelijke niet isomorfe netwerkjes: $\\langle\\{1,2\\},\\emptyset\\rangle$ en $\\langle\\{1,2\\},\\{(1,2)\\}\\rangle$.\n",
    "\n",
    "**Tip:** Je mag dit natuurlijk programmeren, maar het hoeft niet. \n"
   ]
  },
  {
   "cell_type": "code",
   "execution_count": 4,
   "metadata": {
    "deletable": false,
    "execution": {
     "iopub.execute_input": "2024-04-14T12:29:56.412205Z",
     "iopub.status.busy": "2024-04-14T12:29:56.411940Z",
     "iopub.status.idle": "2024-04-14T12:29:56.417326Z",
     "shell.execute_reply": "2024-04-14T12:29:56.416575Z"
    },
    "nbgrader": {
     "cell_type": "code",
     "checksum": "1ca761e0f62724349f1a2f01246994f0",
     "grade": false,
     "grade_id": "Vraag1",
     "locked": false,
     "schema_version": 3,
     "solution": true
    }
   },
   "outputs": [
    {
     "data": {
      "text/plain": [
       "{0: 1, 1: 1, 2: 2, 3: 4, 4: 11}"
      ]
     },
     "execution_count": 4,
     "metadata": {},
     "output_type": "execute_result"
    }
   ],
   "source": [
    "# Goed gedaan!\n",
    "\n",
    "iso_types = {0: 1, 1: 1, 2: 2, 3: 4, 4: 11}\n",
    "#WRITE YOUR CODE HERE\n",
    "iso_types"
   ]
  },
  {
   "cell_type": "code",
   "execution_count": 5,
   "metadata": {
    "deletable": false,
    "editable": false,
    "execution": {
     "iopub.execute_input": "2024-04-14T12:29:56.420615Z",
     "iopub.status.busy": "2024-04-14T12:29:56.420217Z",
     "iopub.status.idle": "2024-04-14T12:29:56.424095Z",
     "shell.execute_reply": "2024-04-14T12:29:56.423481Z"
    },
    "nbgrader": {
     "cell_type": "code",
     "checksum": "3c2fb9b5c3db7e4b3a8e13b3ff68cabb",
     "grade": true,
     "grade_id": "Vraag1_antwoord",
     "locked": true,
     "points": 1,
     "schema_version": 3,
     "solution": false
    }
   },
   "outputs": [],
   "source": [
    "assert_equal(type(iso_types), dict)\n",
    "assert_equal(len(iso_types),5)\n",
    "assert_equal(set(iso_types.keys()),set(range(5)))\n",
    "\n",
    "for n in iso_types:\n",
    "    assert isinstance(iso_types[n], int)"
   ]
  },
  {
   "cell_type": "markdown",
   "metadata": {
    "deletable": false,
    "editable": false,
    "nbgrader": {
     "cell_type": "markdown",
     "checksum": "aa1cfd7ff4cdb6d9a8066ce585af3c0e",
     "grade": false,
     "grade_id": "cell-ddfb1f04263cbd38",
     "locked": true,
     "schema_version": 3,
     "solution": false
    }
   },
   "source": [
    "## Vraag 2\n",
    "Bereken voor ieder personage zijn \"degree\" en zijn \"neighbour set\". Stop dit in een dictionary genaamd `personage_dict` waar de key het personage is en de value een tuple (een paar in dit geval)  met eerst de degree en dan de neighbour set in de vorm van een lijst.\n",
    "\n",
    "* Voorbeeld:\n",
    "`{FirstWitch: (4, ['ALL', 'ThirdWitch', 'MACBETH', 'SecondWitch'])...}`\n",
    "* Hint: gebruik weer een dict comprehensie. Dit kan in 1 regel."
   ]
  },
  {
   "cell_type": "code",
   "execution_count": 6,
   "metadata": {
    "deletable": false,
    "execution": {
     "iopub.execute_input": "2024-04-14T12:29:56.427083Z",
     "iopub.status.busy": "2024-04-14T12:29:56.426911Z",
     "iopub.status.idle": "2024-04-14T12:29:56.432513Z",
     "shell.execute_reply": "2024-04-14T12:29:56.431910Z"
    },
    "nbgrader": {
     "cell_type": "code",
     "checksum": "664830f3f33420342ba803821e174f94",
     "grade": false,
     "grade_id": "Vraag2",
     "locked": false,
     "schema_version": 3,
     "solution": true
    }
   },
   "outputs": [
    {
     "data": {
      "text/plain": [
       "(18,\n",
       " (15,\n",
       "  ['FirstWitch',\n",
       "   'SecondWitch',\n",
       "   'ThirdWitch',\n",
       "   'ALL',\n",
       "   'MALCOLM',\n",
       "   'LENNOX',\n",
       "   'ROSS',\n",
       "   'BANQUO',\n",
       "   'LADYMACBETH',\n",
       "   'Messenger',\n",
       "   'MACDUFF',\n",
       "   'FirstMurderer',\n",
       "   'Servant',\n",
       "   'SEYTON',\n",
       "   'SIWARD']))"
      ]
     },
     "execution_count": 6,
     "metadata": {},
     "output_type": "execute_result"
    }
   ],
   "source": [
    "# Bijna helemaal goed. Je krijgt wel de juiste output alleen om de neighbors lijst te krijgen \n",
    "# hoef je natuurlijk niet door neighbors heen te loopen opnieuw maar kan je ook gewoon \n",
    "# list(MacB.neighbors(node)) gebruiken.\n",
    "\n",
    "personage_dict = {node: (MacB.degree(node), [neighbor for neighbor in MacB.neighbors(node)]) for node in MacB.nodes}\n",
    "#WRITE YOUR CODE HERE\n",
    "len(personage_dict),personage_dict['MACBETH']"
   ]
  },
  {
   "cell_type": "code",
   "execution_count": 7,
   "metadata": {
    "deletable": false,
    "editable": false,
    "execution": {
     "iopub.execute_input": "2024-04-14T12:29:56.435018Z",
     "iopub.status.busy": "2024-04-14T12:29:56.434846Z",
     "iopub.status.idle": "2024-04-14T12:29:56.438564Z",
     "shell.execute_reply": "2024-04-14T12:29:56.438086Z"
    },
    "nbgrader": {
     "cell_type": "code",
     "checksum": "0a43ff4a25aed3d22f0dd8bf3c013a4f",
     "grade": true,
     "grade_id": "Vraag2_antwoord",
     "locked": true,
     "points": 1,
     "schema_version": 3,
     "solution": false
    }
   },
   "outputs": [],
   "source": [
    "assert_equal(type(personage_dict), dict)\n",
    "assert_equal(type(list(personage_dict.values())[0]), tuple)\n",
    "assert_equal(type(list(personage_dict.values())[0][0]), int)\n",
    "assert_equal(type(list(personage_dict.values())[0][1]), list)\n",
    "assert_equal(type(list(personage_dict.values())[0][1][0]), str)\n"
   ]
  },
  {
   "cell_type": "markdown",
   "metadata": {
    "deletable": false,
    "editable": false,
    "nbgrader": {
     "cell_type": "markdown",
     "checksum": "3826f87ef496529028fccffe1ff5b251",
     "grade": false,
     "grade_id": "cell-b3f6397767797978",
     "locked": true,
     "schema_version": 3,
     "solution": false
    }
   },
   "source": [
    "## Vraag 3\n",
    "Maak de lijst met alle maximale cliques **die (strict) meer dan 3 knopen bevatten** in de Macbeth graaf.\n",
    "\n",
    "Geef een maximale clique weer als een lijst van de knopen (dus een lijst in een lijst). Noem deze `cliques`\n",
    "\n",
    "Zorg dat alle lijsten alfabetisch gesorteerd zijn, ook de buitenste lijst. Dus je krijgt:\n",
    "\n",
    "```\n",
    "[['ALL', 'BANQUO', 'MACBETH', 'MALCOLM'],\n",
    " ['ALL', 'FirstWitch', 'MACBETH', 'SecondWitch', 'ThirdWitch'],\n",
    " ['ALL', 'LENNOX', 'MACBETH', 'MALCOLM', 'ROSS'],\n",
    " ....]\n",
    " ```\n",
    "\n",
    "* Hint: gebruik `sorted` om te sorteren en natuurlijk doe je dit met een list comprehensie. 1 regel is genoeg.\n",
    "* HINT: bedenk wat een maximale kliek in een netwerk is. (het driehoek netwerk heeft dus maar 1 maximale kliek, zichzelf, ook al zitten er meerdere klieks in (alle paartjes zijn ook klieks bijvoorbeeld))"
   ]
  },
  {
   "cell_type": "code",
   "execution_count": 8,
   "metadata": {
    "deletable": false,
    "execution": {
     "iopub.execute_input": "2024-04-14T12:29:56.441155Z",
     "iopub.status.busy": "2024-04-14T12:29:56.440986Z",
     "iopub.status.idle": "2024-04-14T12:29:56.445725Z",
     "shell.execute_reply": "2024-04-14T12:29:56.445218Z"
    },
    "nbgrader": {
     "cell_type": "code",
     "checksum": "81eb7f66625c69c2e6d69dbc1a250d80",
     "grade": false,
     "grade_id": "Vraag4",
     "locked": false,
     "schema_version": 3,
     "solution": true
    }
   },
   "outputs": [
    {
     "data": {
      "text/plain": [
       "[['ALL', 'BANQUO', 'MACBETH', 'MALCOLM'],\n",
       " ['ALL', 'FirstWitch', 'MACBETH', 'SecondWitch', 'ThirdWitch'],\n",
       " ['ALL', 'LENNOX', 'MACBETH', 'MALCOLM', 'ROSS'],\n",
       " ['ALL', 'MACBETH', 'MACDUFF', 'MALCOLM', 'ROSS'],\n",
       " ['BANQUO', 'FirstMurderer', 'LADYMACBETH', 'MACBETH'],\n",
       " ['MACBETH', 'MACDUFF', 'MALCOLM', 'SIWARD']]"
      ]
     },
     "execution_count": 8,
     "metadata": {},
     "output_type": "execute_result"
    }
   ],
   "source": [
    "# Goed gedaan!\n",
    "\n",
    "cliques = sorted([sorted(clique) for clique in list(nx.find_cliques(MacB)) if len(clique) > 3])\n",
    "\n",
    "#WRITE YOUR CODE HERE\n",
    "cliques"
   ]
  },
  {
   "cell_type": "code",
   "execution_count": 9,
   "metadata": {
    "deletable": false,
    "editable": false,
    "execution": {
     "iopub.execute_input": "2024-04-14T12:29:56.448493Z",
     "iopub.status.busy": "2024-04-14T12:29:56.448323Z",
     "iopub.status.idle": "2024-04-14T12:29:56.451705Z",
     "shell.execute_reply": "2024-04-14T12:29:56.451164Z"
    },
    "nbgrader": {
     "cell_type": "code",
     "checksum": "99fce910accdc75f5cdeeaa5d1fdf23d",
     "grade": true,
     "grade_id": "Vraag4_antwoord",
     "locked": true,
     "points": 1,
     "schema_version": 3,
     "solution": false
    }
   },
   "outputs": [],
   "source": [
    "assert_equal(type(cliques), list)\n",
    "assert_equal(type(cliques[0]), list)\n",
    "# elk element in zo'n kliek is een knoop\n",
    "for L in cliques:\n",
    "    for n in L:\n",
    "        assert_equal(n in MacB,True,msg= 'elk element in zon kliek is een knoop')     "
   ]
  },
  {
   "cell_type": "markdown",
   "metadata": {
    "deletable": false,
    "editable": false,
    "nbgrader": {
     "cell_type": "markdown",
     "checksum": "afe46730a09618220822e02c46a6d206",
     "grade": false,
     "grade_id": "cell-45b3a8528c824354",
     "locked": true,
     "schema_version": 3,
     "solution": false
    }
   },
   "source": [
    "## Vraag 4\n",
    " \n",
    "  \n",
    "Hoeveel  deelnetwerken  in het MacBeth netwerk hebben een dichtheid (_density_) van 1?\n",
    "\n",
    "Hint: kijk eens wat er gebeurt als je `nx.density` gebruikt op subgraven van verschillende lengtes."
   ]
  },
  {
   "cell_type": "code",
   "execution_count": 10,
   "metadata": {
    "deletable": false,
    "execution": {
     "iopub.execute_input": "2024-04-14T12:29:56.454380Z",
     "iopub.status.busy": "2024-04-14T12:29:56.454221Z",
     "iopub.status.idle": "2024-04-14T12:29:56.462270Z",
     "shell.execute_reply": "2024-04-14T12:29:56.461805Z"
    },
    "nbgrader": {
     "cell_type": "code",
     "checksum": "387662eaf3e0d9340e242ee71068861d",
     "grade": false,
     "grade_id": "Vraag3",
     "locked": false,
     "schema_version": 3,
     "solution": true
    }
   },
   "outputs": [
    {
     "data": {
      "text/plain": [
       "103"
      ]
     },
     "execution_count": 10,
     "metadata": {},
     "output_type": "execute_result"
    }
   ],
   "source": [
    "# Bijna helemaal goed want de dichtheid van een kleikje is altijd 1 natuurlijk. Dus het\n",
    "# if statement is overbodig wel kan een kliekje ook uit een singleton betaan dus die zou je \n",
    "# wel willen filteren want die heeft een dichtheid van 0\n",
    "\n",
    "deelnetwerken = len([subgraph for subgraph in nx.enumerate_all_cliques(MacB) if nx.density(MacB.subgraph(subgraph)) == 1])\n",
    "#WRITE YOUR CODE HERE\n",
    "deelnetwerken"
   ]
  },
  {
   "cell_type": "code",
   "execution_count": 11,
   "metadata": {
    "deletable": false,
    "editable": false,
    "execution": {
     "iopub.execute_input": "2024-04-14T12:29:56.465233Z",
     "iopub.status.busy": "2024-04-14T12:29:56.464997Z",
     "iopub.status.idle": "2024-04-14T12:29:56.468033Z",
     "shell.execute_reply": "2024-04-14T12:29:56.467622Z"
    },
    "nbgrader": {
     "cell_type": "code",
     "checksum": "f006ee3f87174374911e652f4e7b1dbd",
     "grade": true,
     "grade_id": "Vraag3_antwoord",
     "locked": true,
     "points": 1,
     "schema_version": 3,
     "solution": false
    }
   },
   "outputs": [],
   "source": [
    "assert isinstance(deelnetwerken,int), \"We vragen om een geheel getal.\""
   ]
  },
  {
   "cell_type": "markdown",
   "metadata": {
    "deletable": false,
    "editable": false,
    "nbgrader": {
     "cell_type": "markdown",
     "checksum": "c39661da959d4fa1c618591c60e078b8",
     "grade": false,
     "grade_id": "cell-357faa0fd360e2ff",
     "locked": true,
     "schema_version": 3,
     "solution": false
    }
   },
   "source": [
    "# Deel 2: Easley and Kleinberg"
   ]
  },
  {
   "cell_type": "markdown",
   "metadata": {
    "deletable": false,
    "editable": false,
    "nbgrader": {
     "cell_type": "markdown",
     "checksum": "1318cce5351cefba9c416d1845c2a838",
     "grade": false,
     "grade_id": "Vraag5",
     "locked": true,
     "schema_version": 3,
     "solution": false
    }
   },
   "source": [
    "## Vraag 5\n",
    "Maak opdracht [3.7.1 van Easley and Kleinberg](http://www.cs.cornell.edu/home/kleinber/networks-book/networks-book-ch03.pdf). \n",
    "Geef je antwoord in de cell hieronder"
   ]
  },
  {
   "cell_type": "markdown",
   "metadata": {
    "deletable": false,
    "nbgrader": {
     "cell_type": "markdown",
     "checksum": "0c192a2d1ce4f07d8561e0a925ecd9c1",
     "grade": true,
     "grade_id": "Vraag5_antwoord",
     "locked": false,
     "points": 1,
     "schema_version": 3,
     "solution": true
    }
   },
   "source": [
    "Triadic closure is bijvoorbeeld als je twee vrienden hebt en dan de kans dat zij ook vrienden worden. Dit is essentieel in het vormen van sociale netwerken, omdat netwerken hierdoor steeds meer verbonden raken met elkaar."
   ]
  },
  {
   "cell_type": "markdown",
   "metadata": {
    "deletable": false,
    "editable": false,
    "nbgrader": {
     "cell_type": "markdown",
     "checksum": "7bc208cbf31107c67e2522f4914333f6",
     "grade": false,
     "grade_id": "cell-b4413c8de56f0157",
     "locked": true,
     "schema_version": 3,
     "solution": false
    }
   },
   "source": [
    "## Vraag 6\n",
    "Maak opdracht [3.7.2 van Easley and Kleinberg](http://www.cs.cornell.edu/home/kleinber/networks-book/networks-book-ch03.pdf).\n",
    "\n",
    "Geef het antwoord als `'S'` of `'W'` aan de variabele `a`"
   ]
  },
  {
   "cell_type": "code",
   "execution_count": 12,
   "metadata": {
    "deletable": false,
    "execution": {
     "iopub.execute_input": "2024-04-14T12:29:56.471264Z",
     "iopub.status.busy": "2024-04-14T12:29:56.470998Z",
     "iopub.status.idle": "2024-04-14T12:29:56.474625Z",
     "shell.execute_reply": "2024-04-14T12:29:56.474172Z"
    },
    "nbgrader": {
     "cell_type": "code",
     "checksum": "6cadc228285887b930130aa0919ae991",
     "grade": false,
     "grade_id": "Vraag6",
     "locked": false,
     "schema_version": 3,
     "solution": true
    }
   },
   "outputs": [
    {
     "data": {
      "text/plain": [
       "'W'"
      ]
     },
     "execution_count": 12,
     "metadata": {},
     "output_type": "execute_result"
    }
   ],
   "source": [
    "# Goed gedaan!\n",
    "\n",
    "a = 'W'\n",
    "#WRITE YOUR CODE HERE\n",
    "a"
   ]
  },
  {
   "cell_type": "code",
   "execution_count": 13,
   "metadata": {
    "deletable": false,
    "editable": false,
    "execution": {
     "iopub.execute_input": "2024-04-14T12:29:56.477519Z",
     "iopub.status.busy": "2024-04-14T12:29:56.477338Z",
     "iopub.status.idle": "2024-04-14T12:29:56.480246Z",
     "shell.execute_reply": "2024-04-14T12:29:56.479723Z"
    },
    "nbgrader": {
     "cell_type": "code",
     "checksum": "3589af4510f69daee7c7a6be983e1511",
     "grade": true,
     "grade_id": "Vraag6_antwoord",
     "locked": true,
     "points": 1,
     "schema_version": 3,
     "solution": false
    }
   },
   "outputs": [],
   "source": [
    "assert_equal(a == 'W' or a == 'S', True)\n"
   ]
  },
  {
   "cell_type": "markdown",
   "metadata": {
    "deletable": false,
    "editable": false,
    "nbgrader": {
     "cell_type": "markdown",
     "checksum": "4f8a138ce9cbc91210bc7b10129923a7",
     "grade": false,
     "grade_id": "cell-3f081ec58750cb11",
     "locked": true,
     "schema_version": 3,
     "solution": false
    }
   },
   "source": [
    "## Vraag 7\n",
    "Maak opdracht [3.7.3 van Easley and Kleinberg](http://www.cs.cornell.edu/home/kleinber/networks-book/networks-book-ch03.pdf).\n",
    "\n",
    "Geef alle nodes die voldoen in hoofdletters, als lijst van strings aan variabele `b`.\n",
    "\n",
    "Voorbeeld: `x = ['A', 'B'...]`"
   ]
  },
  {
   "cell_type": "code",
   "execution_count": 14,
   "metadata": {
    "deletable": false,
    "execution": {
     "iopub.execute_input": "2024-04-14T12:29:56.482975Z",
     "iopub.status.busy": "2024-04-14T12:29:56.482807Z",
     "iopub.status.idle": "2024-04-14T12:29:56.486765Z",
     "shell.execute_reply": "2024-04-14T12:29:56.486327Z"
    },
    "nbgrader": {
     "cell_type": "code",
     "checksum": "05fa26c365a7fad6bfb3fef97d7e293c",
     "grade": false,
     "grade_id": "Vraag7",
     "locked": false,
     "schema_version": 3,
     "solution": true
    }
   },
   "outputs": [
    {
     "data": {
      "text/plain": [
       "['A', 'B', 'D']"
      ]
     },
     "execution_count": 14,
     "metadata": {},
     "output_type": "execute_result"
    }
   ],
   "source": [
    "# Goed gedaan!\n",
    "\n",
    "b = ['A','B', 'D']\n",
    "#WRITE YOUR CODE HERE\n",
    "b"
   ]
  },
  {
   "cell_type": "code",
   "execution_count": 15,
   "metadata": {
    "deletable": false,
    "editable": false,
    "execution": {
     "iopub.execute_input": "2024-04-14T12:29:56.489247Z",
     "iopub.status.busy": "2024-04-14T12:29:56.489084Z",
     "iopub.status.idle": "2024-04-14T12:29:56.492030Z",
     "shell.execute_reply": "2024-04-14T12:29:56.491547Z"
    },
    "nbgrader": {
     "cell_type": "code",
     "checksum": "a0d870475283d7fe306d7f1c10e68ded",
     "grade": true,
     "grade_id": "Vraag7_antwoord",
     "locked": true,
     "points": 1,
     "schema_version": 3,
     "solution": false
    }
   },
   "outputs": [],
   "source": [
    "assert_equal(type(b), list)\n",
    "for x in b:\n",
    "    if x not in ['A', 'B', 'C', 'D', 'E']:\n",
    "        raise AssertionError(\"Een van de knopen in je lijst bestaat niet\")\n"
   ]
  },
  {
   "cell_type": "markdown",
   "metadata": {
    "deletable": false,
    "editable": false,
    "nbgrader": {
     "cell_type": "markdown",
     "checksum": "93e15f632bb0f4c2e547e3c4019c8936",
     "grade": false,
     "grade_id": "cell-e82df599560bad12",
     "locked": true,
     "schema_version": 3,
     "solution": false
    }
   },
   "source": [
    "## Vraag 8\n",
    "Maak opdracht [3.7.4 van Easley and Kleinberg](http://www.cs.cornell.edu/home/kleinber/networks-book/networks-book-ch03.pdf).\n",
    "\n",
    "Geef alle nodes die niet voldoen in hoofdletters, als lijst van strings aan variabele `c`.\n",
    "\n",
    "Voorbeeld: `x = ['A', 'B']`"
   ]
  },
  {
   "cell_type": "code",
   "execution_count": 16,
   "metadata": {
    "deletable": false,
    "execution": {
     "iopub.execute_input": "2024-04-14T12:29:56.494650Z",
     "iopub.status.busy": "2024-04-14T12:29:56.494481Z",
     "iopub.status.idle": "2024-04-14T12:29:56.498037Z",
     "shell.execute_reply": "2024-04-14T12:29:56.497588Z"
    },
    "nbgrader": {
     "cell_type": "code",
     "checksum": "56b450db3c76ca7ed97f01c0083b794a",
     "grade": false,
     "grade_id": "Vraag8",
     "locked": false,
     "schema_version": 3,
     "solution": true
    }
   },
   "outputs": [
    {
     "data": {
      "text/plain": [
       "['C', 'E']"
      ]
     },
     "execution_count": 16,
     "metadata": {},
     "output_type": "execute_result"
    }
   ],
   "source": [
    "# Goed gedaan!\n",
    "\n",
    "c = ['C', 'E']\n",
    "\n",
    "#WRITE YOUR CODE HERE\n",
    "c"
   ]
  },
  {
   "cell_type": "code",
   "execution_count": 17,
   "metadata": {
    "deletable": false,
    "editable": false,
    "execution": {
     "iopub.execute_input": "2024-04-14T12:29:56.500603Z",
     "iopub.status.busy": "2024-04-14T12:29:56.500417Z",
     "iopub.status.idle": "2024-04-14T12:29:56.503929Z",
     "shell.execute_reply": "2024-04-14T12:29:56.503141Z"
    },
    "nbgrader": {
     "cell_type": "code",
     "checksum": "015f5fbe8e781a9f7c27f048833a9452",
     "grade": true,
     "grade_id": "Vraag8_antwoord",
     "locked": true,
     "points": 1,
     "schema_version": 3,
     "solution": false
    }
   },
   "outputs": [],
   "source": [
    "assert_equal(type(c), list)\n",
    "for x in c:\n",
    "    if x not in ['A', 'B', 'C', 'D', 'E']:\n",
    "        raise AssertionError(\"Een van de knopen in je lijst bestaat niet\")\n"
   ]
  },
  {
   "cell_type": "markdown",
   "metadata": {
    "deletable": false,
    "editable": false,
    "nbgrader": {
     "cell_type": "markdown",
     "checksum": "478f1d8312d34ddc32c6bd7a68d8f21c",
     "grade": false,
     "grade_id": "cell-448fb7e5407f73e2",
     "locked": true,
     "schema_version": 3,
     "solution": false
    }
   },
   "source": [
    "## Vraag 9\n",
    "Maak opdracht [3.7.5 van Easley and Kleinberg](http://www.cs.cornell.edu/home/kleinber/networks-book/networks-book-ch03.pdf).\n",
    "\n",
    "Geef alle nodes die voldoen in hoofdletters, als lijst van strings aan variabele `d`.\n",
    "\n",
    "Voorbeeld: `x = ['A', 'B'...]`"
   ]
  },
  {
   "cell_type": "code",
   "execution_count": 18,
   "metadata": {
    "deletable": false,
    "execution": {
     "iopub.execute_input": "2024-04-14T12:29:56.507012Z",
     "iopub.status.busy": "2024-04-14T12:29:56.506807Z",
     "iopub.status.idle": "2024-04-14T12:29:56.510748Z",
     "shell.execute_reply": "2024-04-14T12:29:56.510287Z"
    },
    "nbgrader": {
     "cell_type": "code",
     "checksum": "e1a1c5572a141e6c06b0890a62f0a5e1",
     "grade": false,
     "grade_id": "Vraag9",
     "locked": false,
     "schema_version": 3,
     "solution": true
    }
   },
   "outputs": [
    {
     "data": {
      "text/plain": [
       "['A', 'B', 'C']"
      ]
     },
     "execution_count": 18,
     "metadata": {},
     "output_type": "execute_result"
    }
   ],
   "source": [
    "# Niet helemaal goed. Het goede antwoord was ['A', 'B', 'D', 'E'].\n",
    "\n",
    "d = ['A', 'B', 'C']\n",
    "\n",
    "#WRITE YOUR CODE HERE\n",
    "d"
   ]
  },
  {
   "cell_type": "code",
   "execution_count": 19,
   "metadata": {
    "deletable": false,
    "editable": false,
    "execution": {
     "iopub.execute_input": "2024-04-14T12:29:56.513411Z",
     "iopub.status.busy": "2024-04-14T12:29:56.513249Z",
     "iopub.status.idle": "2024-04-14T12:29:56.516252Z",
     "shell.execute_reply": "2024-04-14T12:29:56.515815Z"
    },
    "nbgrader": {
     "cell_type": "code",
     "checksum": "4e3e831f552168345ecbbd5223db55fa",
     "grade": true,
     "grade_id": "Vraag9_antwoord",
     "locked": true,
     "points": 1,
     "schema_version": 3,
     "solution": false
    }
   },
   "outputs": [],
   "source": [
    "assert_equal(type(d), list)\n",
    "for x in d:\n",
    "    if x not in ['A', 'B', 'C', 'D', 'E']:\n",
    "        raise AssertionError(\"Een van de knopen in je lijst bestaat niet\")\n"
   ]
  },
  {
   "cell_type": "markdown",
   "metadata": {
    "deletable": false,
    "editable": false,
    "nbgrader": {
     "cell_type": "markdown",
     "checksum": "cf2a71b55cae5f98a4d0344b65f4a34e",
     "grade": false,
     "grade_id": "cell-6918d4eb71d8156a",
     "locked": true,
     "schema_version": 3,
     "solution": false
    }
   },
   "source": [
    "# Deel 3: Strong Triadic Closure"
   ]
  },
  {
   "cell_type": "code",
   "execution_count": 20,
   "metadata": {
    "execution": {
     "iopub.execute_input": "2024-04-14T12:29:56.518775Z",
     "iopub.status.busy": "2024-04-14T12:29:56.518618Z",
     "iopub.status.idle": "2024-04-14T12:29:56.677003Z",
     "shell.execute_reply": "2024-04-14T12:29:56.676124Z"
    }
   },
   "outputs": [
    {
     "data": {
      "image/png": "[encoded data removed]",
      "text/plain": [
       "<Figure size 640x480 with 1 Axes>"
      ]
     },
     "metadata": {},
     "output_type": "display_data"
    }
   ],
   "source": [
    "# Hier staat een netwerk waarmee je je code kunt testen\n",
    "# Je kunt ook zelf dingen veranderen in deze cel\n",
    "\n",
    "G = nx.Graph()\n",
    "G.add_edges_from([('D', 'E'), ('C', 'F'), ('A', 'F'), ('G', 'K'), ('G', 'H'),\n",
    "                  ('H', 'B'), ('A', 'B')],\n",
    "                 tie='w')\n",
    "G.add_edges_from([('D', 'C'), ('D', 'A'), ('C', 'A'), ('E', 'A'), ('E', 'C'),\n",
    "                  ('F', 'J'), ('F', 'G'), ('J', 'G'), ('K', 'H')],\n",
    "                 tie='s')\n",
    "\n",
    "pos = nx.spring_layout(G)\n",
    "nx.draw(G, pos, with_labels=True)\n",
    "my_edge_labels = {(u,v,): d['tie']\n",
    "                   for u, v, d in G.edges(data=True)\n",
    "                 }\n",
    "\n",
    "nx.draw_networkx_edge_labels(G, pos, edge_labels=my_edge_labels);"
   ]
  },
  {
   "cell_type": "markdown",
   "metadata": {},
   "source": [
    "## Vraag 10\n",
    "\n",
    "Schrijf de Python functie `STC_node(G, n)` die voor een knoop `n` in een willekeurige invoer  graaf `G`, met sterke en zwakke relaties zoals hierboven, uitzoekt of die knoop voldoet aan Strong Triadic Closure.\n",
    "\n",
    "* Als node `n` voldoet aan de Strong Triadic Closure eigenschap return dan de lege verzameling.\n",
    "* Zo niet geef dan de verzameling van alle driehoeken waarvan `n` 1 van de knopen is en die niet voldoen aan de STC eigenschap. \n",
    "    * De verzameling heeft de vorm `{frozenset({'A', 'C', 'D'}), frozenset({'A', 'E', 'D'})}`. \n",
    "        * **waarbij `{'A', 'C', 'D'}` een `frozenset` is**\n",
    "        * Die maak je heel makkelijk met `frozenset(('A', 'C', 'D'))`\n",
    "        * Je moet frozensets gebruiken omdat verzamelingen geen immutables mogen bevatten\n",
    "    *  Dus de \"ongesloten driehoekjes\" representeren we als verzamelingen\n",
    "\n",
    "1.            Check dat [Figuur 3.5](http://www.cs.cornell.edu/home/kleinber/networks-book/networks-book-ch03.pdf) inderdaad voldoet aan de STC.    Dit is het netwerk `G` wat boven gedefinieerd is.       \n",
    "2.            Verander wat in Fig 3.5 zodat STC niet meer opgaat en draai je programma opnieuw. Doe dit door een copy van het netwerk `G` te maken. \n",
    "\n",
    "#### Hint: \n",
    "Zoals te zien in voorbeeldgraaf `G` hebben alle edges het attribuut `tie`. Deze kun je opvragen door `G[u][v]['tie']` voor edge `(u,v)`"
   ]
  },
  {
   "cell_type": "code",
   "execution_count": 21,
   "metadata": {
    "deletable": false,
    "execution": {
     "iopub.execute_input": "2024-04-14T12:29:56.680422Z",
     "iopub.status.busy": "2024-04-14T12:29:56.680209Z",
     "iopub.status.idle": "2024-04-14T12:29:56.685702Z",
     "shell.execute_reply": "2024-04-14T12:29:56.684876Z"
    },
    "nbgrader": {
     "cell_type": "code",
     "checksum": "2554a446490ffd8797943109c52373a5",
     "grade": false,
     "grade_id": "Vraag10",
     "locked": false,
     "schema_version": 3,
     "solution": true
    }
   },
   "outputs": [
    {
     "name": "stdout",
     "output_type": "stream",
     "text": [
      "A True set()\n",
      "B True set()\n",
      "C True set()\n",
      "D True set()\n",
      "E True set()\n",
      "F True set()\n",
      "G True set()\n",
      "H True set()\n",
      "J True set()\n",
      "K True set()\n"
     ]
    }
   ],
   "source": [
    "# Perfect gedaan!\n",
    "\n",
    "def STC_node(G, v):\n",
    "    # Strong Triadic Closure Property at each node: if the node has strong ties\n",
    "    # to two neighbors, then these neighbors must have at least a weak tie between them\n",
    "    strongneighbors = {u for u in G.neighbors(v) if G[u][v]['tie'] == 's'}\n",
    "    \n",
    "    Bad = {frozenset((v, m, n)) for m in strongneighbors for n in strongneighbors if m<n and not (G.has_edge(m,n))}\n",
    "    \n",
    "    return Bad\n",
    "# test\n",
    "\n",
    "for N in sorted(G):\n",
    "    print(N, not bool(STC_node(G,N)), STC_node(G,N))"
   ]
  },
  {
   "cell_type": "code",
   "execution_count": 22,
   "metadata": {
    "deletable": false,
    "editable": false,
    "execution": {
     "iopub.execute_input": "2024-04-14T12:29:56.688596Z",
     "iopub.status.busy": "2024-04-14T12:29:56.688384Z",
     "iopub.status.idle": "2024-04-14T12:29:56.691580Z",
     "shell.execute_reply": "2024-04-14T12:29:56.690962Z"
    },
    "nbgrader": {
     "cell_type": "code",
     "checksum": "a96a6b3f4d867af4ac32ad899457bd2b",
     "grade": true,
     "grade_id": "Vraag10_antwoord",
     "locked": true,
     "points": 1,
     "schema_version": 3,
     "solution": false
    }
   },
   "outputs": [],
   "source": [
    " \n",
    "assert_equal(type(STC_node(G, 'A')) == set , True)\n",
    "\n"
   ]
  },
  {
   "cell_type": "markdown",
   "metadata": {
    "deletable": false,
    "editable": false,
    "nbgrader": {
     "cell_type": "markdown",
     "checksum": "c3bf8091dfdf8ed4e07d3ba046ae2e2b",
     "grade": false,
     "grade_id": "cell-535453762bb1dc4e",
     "locked": true,
     "schema_version": 3,
     "solution": false
    }
   },
   "source": [
    "## Vraag 11\n",
    "\n",
    "Schrijf nu de Python functie `STC_graph(G)` die voor de hele graaf `G` uitzoekt of `G` voldoet aan Strong Triadic Closure (dit betekent dat elke knoop er aan voldoet).\n",
    "\n",
    "\n",
    "* Als G voldoet aan de Strong Triadic Closure eigenschap return dan de lege verzameling.\n",
    "* Zo niet return dan net zoals bij `STC_node` voor `STC_graph(G)`, de verzameling  met alle driehoeken (weer als frozensets)  die een tegenvoorbeeld voor STC zijn.    \n",
    "\n",
    "\n",
    "          \n",
    "#### Hint:\n",
    "Je gebruikt natuurlijk `STC_node(G, x)` om `STC_graph(G)` te bepalen. Want de laatste is waar als de eerste waar is voor elke knoop in `G`."
   ]
  },
  {
   "cell_type": "code",
   "execution_count": 23,
   "metadata": {
    "deletable": false,
    "execution": {
     "iopub.execute_input": "2024-04-14T12:29:56.694315Z",
     "iopub.status.busy": "2024-04-14T12:29:56.694146Z",
     "iopub.status.idle": "2024-04-14T12:29:56.697571Z",
     "shell.execute_reply": "2024-04-14T12:29:56.697060Z"
    },
    "nbgrader": {
     "cell_type": "code",
     "checksum": "34c1ac7441f1b4e05908c7cf726053d7",
     "grade": false,
     "grade_id": "Vraag11",
     "locked": false,
     "schema_version": 3,
     "solution": true
    }
   },
   "outputs": [
    {
     "ename": "SyntaxError",
     "evalue": "incomplete input (2126049714.py, line 3)",
     "output_type": "error",
     "traceback": [
      "\u001b[0;36m  Cell \u001b[0;32mIn[23], line 3\u001b[0;36m\u001b[0m\n\u001b[0;31m    #WRITE YOUR CODE HERE\u001b[0m\n\u001b[0m                         ^\u001b[0m\n\u001b[0;31mSyntaxError\u001b[0m\u001b[0;31m:\u001b[0m incomplete input\n"
     ]
    }
   ],
   "source": [
    "def STC_graph(G):\n",
    "     \n",
    "    #WRITE YOUR CODE HERE"
   ]
  },
  {
   "cell_type": "code",
   "execution_count": 24,
   "metadata": {
    "deletable": false,
    "editable": false,
    "execution": {
     "iopub.execute_input": "2024-04-14T12:29:56.700357Z",
     "iopub.status.busy": "2024-04-14T12:29:56.700190Z",
     "iopub.status.idle": "2024-04-14T12:29:57.023751Z",
     "shell.execute_reply": "2024-04-14T12:29:57.023183Z"
    },
    "nbgrader": {
     "cell_type": "code",
     "checksum": "90201a2cc7a595a0dfb131f8e602496f",
     "grade": true,
     "grade_id": "Vraag11_antwoord",
     "locked": true,
     "points": 1,
     "schema_version": 3,
     "solution": false
    }
   },
   "outputs": [
    {
     "ename": "NameError",
     "evalue": "name 'STC_graph' is not defined",
     "output_type": "error",
     "traceback": [
      "\u001b[0;31m---------------------------------------------------------------------------\u001b[0m",
      "\u001b[0;31mNameError\u001b[0m                                 Traceback (most recent call last)",
      "Cell \u001b[0;32mIn[24], line 1\u001b[0m\n\u001b[0;32m----> 1\u001b[0m assert_equal(\u001b[38;5;28mtype\u001b[39m(\u001b[43mSTC_graph\u001b[49m(G)) \u001b[38;5;241m==\u001b[39m \u001b[38;5;28mset\u001b[39m  , \u001b[38;5;28;01mTrue\u001b[39;00m)\n",
      "\u001b[0;31mNameError\u001b[0m: name 'STC_graph' is not defined"
     ]
    }
   ],
   "source": [
    " \n",
    "assert_equal(type(STC_graph(G)) == set  , True)\n"
   ]
  },
  {
   "cell_type": "code",
   "execution_count": null,
   "metadata": {},
   "outputs": [],
   "source": []
  }
 ],
 "metadata": {
  "anaconda-cloud": {},
  "hide_input": false,
  "kernelspec": {
   "display_name": "Python 3 (ipykernel)",
   "language": "python",
   "name": "python3"
  },
  "language_info": {
   "codemirror_mode": {
    "name": "ipython",
    "version": 3
   },
   "file_extension": ".py",
   "mimetype": "text/x-python",
   "name": "python",
   "nbconvert_exporter": "python",
   "pygments_lexer": "ipython3",
   "version": "3.10.13"
  },
  "toc": {
   "nav_menu": {},
   "number_sections": true,
   "sideBar": true,
   "skip_h1_title": false,
   "title_cell": "Table of Contents",
   "title_sidebar": "Contents",
   "toc_cell": false,
   "toc_position": {},
   "toc_section_display": true,
   "toc_window_display": false
  },
  "varInspector": {
   "cols": {
    "lenName": 16,
    "lenType": 16,
    "lenVar": 40
   },
   "kernels_config": {
    "python": {
     "delete_cmd_postfix": "",
     "delete_cmd_prefix": "del ",
     "library": "var_list.py",
     "varRefreshCmd": "print(var_dic_list())"
    },
    "r": {
     "delete_cmd_postfix": ") ",
     "delete_cmd_prefix": "rm(",
     "library": "var_list.r",
     "varRefreshCmd": "cat(var_dic_list()) "
    }
   },
   "types_to_exclude": [
    "module",
    "function",
    "builtin_function_or_method",
    "instance",
    "_Feature"
   ],
   "window_display": false
  }
 },
 "nbformat": 4,
 "nbformat_minor": 4
}
