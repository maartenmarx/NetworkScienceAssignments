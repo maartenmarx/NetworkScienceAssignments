{
 "cells": [
  {
   "cell_type": "markdown",
   "metadata": {},
   "source": [
    "# Assignment Netwerkanalyse"
   ]
  },
  {
   "cell_type": "markdown",
   "metadata": {
    "nbgrader": {
     "grade": false,
     "grade_id": "privacy",
     "locked": false,
     "schema_version": 3,
     "solution": false
    }
   },
   "source": [
    "## Notebook made by\n",
    "\n",
    "**Gebruik graag dit formaat**\n",
    "\n",
    "* Voor de namen:  voornaam rest van je naam, voornaam rest van je naam,....\n",
    "* je studentnummers: hetzelfde: scheidt met `,`\n",
    "* je emails: hetzelfde: scheidt met `,`\n",
    "* voor je groep: alleen de hoofdletter (dus voor de groep van Marx zou je `A` kiezen)\n",
    "\n",
    "__Namen__:Anoniem\n",
    "__Emails__:Anoniem\n",
    "__Student id__:Anoniem\n",
    "__Groep__:Anoniem"
   ]
  },
  {
   "cell_type": "markdown",
   "metadata": {},
   "source": [
    "## Toelichting\n",
    "\n",
    "* De meeste opgaven worden automatisch nagekeken. Bij vrijwel alle opdrachten staan er een paar tests onder de opdracht, dit is voornamelijk om te zorgen dat je de juiste type output geeft. Dit zijn dus *NIET* alle tests, die komen er bij het graden nog bij.\n",
    "* Elke vraag is 1 punt waard, tenzij anders aangegeven. Soms is die punt onderverdeeld in deelpunten, maar niet altijd. \n",
    "\n",
    "## Voor het inleveren!\n",
    "\n",
    "* Pas niet de cellen aan, vooral niet die je niet kunt editen. Dit levert problemen op bij nakijken. Twijfel je of je per ongeluk iets hebt gewijzigd, kopieer dan bij inleveren je antwoorden naar een nieuw bestand, zodat het niet fout kan gaan.\n",
    "\n",
    "* Zorg dat de code goed runt van boven naar beneden, verifieer dat door boven in Kernel -> Restart & Run All uit te voeren\n",
    "\n",
    "## Na het inleveren!\n",
    "\n",
    "* Het gebeurt erg vaak dat mensen een \"leeg bestand\" inleveren. Vaak een andere versie van de opgave die nog ergens op je computer rondslingerde. Zonde van al je werk toch!\n",
    "* Dus, lever **minstens een half uur voor tijd in**. Download dan wat je hebt ingeleverd op Canvas. Geef het een andere naam om verwarring te voorkomen. En draai alle cellen, en bekijk het. Geen syntax fouten? Alle vragen gemaakt? Dan zit het vast wel goed, en hoef je niet in de zenuwen te zitten."
   ]
  },
  {
   "cell_type": "markdown",
   "metadata": {
    "deletable": false,
    "editable": false,
    "nbgrader": {
     "cell_type": "markdown",
     "checksum": "dd3ded8aee810700514967f470e4251c",
     "grade": false,
     "grade_id": "cell-29b47934d085ca5d",
     "locked": true,
     "schema_version": 3,
     "solution": false
    }
   },
   "source": [
    "# Week 6"
   ]
  },
  {
   "cell_type": "code",
   "execution_count": 1,
   "metadata": {
    "deletable": false,
    "editable": false,
    "execution": {
     "iopub.execute_input": "2024-05-21T22:12:24.834493Z",
     "iopub.status.busy": "2024-05-21T22:12:24.833673Z",
     "iopub.status.idle": "2024-05-21T22:12:25.383205Z",
     "shell.execute_reply": "2024-05-21T22:12:25.382089Z"
    },
    "nbgrader": {
     "cell_type": "code",
     "checksum": "50e1ede8200b511b4d46cdfa44c40fd4",
     "grade": false,
     "grade_id": "cell-ef7fcbdc74fb7c74",
     "locked": true,
     "schema_version": 3,
     "solution": false
    }
   },
   "outputs": [],
   "source": [
    "%matplotlib inline\n",
    "import numpy as np\n",
    "import networkx as nx\n",
    "import matplotlib.pyplot as plt\n",
    "from nose.tools import assert_equal, assert_count_equal\n",
    "from numpy.testing import assert_almost_equal\n",
    "import math"
   ]
  },
  {
   "cell_type": "markdown",
   "metadata": {
    "deletable": false,
    "editable": false,
    "nbgrader": {
     "cell_type": "markdown",
     "checksum": "b7213d5c3b3c20887a3955da648228a2",
     "grade": false,
     "grade_id": "FP",
     "locked": true,
     "schema_version": 3,
     "solution": false
    }
   },
   "source": [
    "# First Course: chap 3.3 Friendship Paradox\n",
    "\n",
    "1. Maak een netwerkx netwerk van Figuur 3.5.\n",
    "2. Waarom is de kans dat je Tom vindt met de \"random friend of picked person\" methode $\\frac{5}{21}$. Geef een heel helder antwoord.\n",
    "3. Programmeer de functie `kans_op_knoop(G,knoop)` die voor elk netwerk, voor elke knoop de kans berekent dat je die knoop trekt met de \"random friend of picked person\" methode.\n",
    "4. Schrijf een test die checked dat die kansen optellen tot 1.\n",
    "5. **Advanced** In de een na laatste paragraaf van 3.3 op blz 76 wordt een andere manier om die kansen te berekenen gemeld, die dezelfde uitkomst geeft. Programmeer die ook, en vergelijk de uitkomsten.\n",
    "\n",
    "\n"
   ]
  },
  {
   "cell_type": "markdown",
   "metadata": {},
   "source": [
    "2. Voor elke persoon in het netwerk is er een $\\frac{1}{7}$ kans om willekeurig gekozen te worden. Er is bijvoorbeeld een $\\frac{1}{7}$ kans dat John willekeurig gekozen wordt, en wanneer één van zijn vrienden willekeurig gekozen wordt, is er een $\\frac{1}{2}$ kans dat dit Tom is. Deze twee kansen worden dus vermenigvuldigd. Voor Mary bestaat er geen kans dat een willekeurig gekozen vriend van haar Tom is, en voor Nancy geldt dat deze kans $\\frac{1}{3}$ is. Voer dit uit voor alle nodes (waarvan één van hun vrienden Tom is, waar Tom zelf dus niet bij hoort) en je komt uit op een kans van $\\frac{1}{7} \\cdot \\frac{1}{2} + \\frac{1}{7} \\cdot \\frac{1}{3} + \\frac{1}{7} \\cdot \\frac{1}{3} + \\frac{1}{7} \\cdot \\frac{1}{2} = \\frac{5}{21}$."
   ]
  },
  {
   "cell_type": "code",
   "execution_count": 2,
   "metadata": {
    "deletable": false,
    "execution": {
     "iopub.execute_input": "2024-05-21T22:12:25.388925Z",
     "iopub.status.busy": "2024-05-21T22:12:25.388232Z",
     "iopub.status.idle": "2024-05-21T22:12:25.399936Z",
     "shell.execute_reply": "2024-05-21T22:12:25.399339Z"
    },
    "nbgrader": {
     "cell_type": "code",
     "checksum": "5f08f7beffdccb10c60698cefc566776",
     "grade": false,
     "grade_id": "FPa",
     "locked": false,
     "schema_version": 3,
     "solution": true
    }
   },
   "outputs": [
    {
     "data": {
      "text/plain": [
       "0.23809523809523805"
      ]
     },
     "execution_count": 2,
     "metadata": {},
     "output_type": "execute_result"
    }
   ],
   "source": [
    "Fig35=nx.Graph()\n",
    "Fig35.add_nodes_from(['Mary', 'Nancy', 'Tom', 'Tara', 'John', 'Bob', 'Pam'])\n",
    "Fig35.add_edges_from([('Mary', 'Nancy'), ('Nancy', 'Tom'), ('Nancy', 'Bob'), ('Tara', 'Bob'), ('Tom', 'John'), ('Tom', 'Bob'), ('Tom', 'Pam'), ('Pam', 'John')])\n",
    "\n",
    "def kans_op_knoop(G,knoop):\n",
    "    #WRITE YOUR CODE HERE\n",
    "    random_knoop = 1 / G.number_of_nodes()\n",
    "    neighbor_kans = 0\n",
    "    for node in G:\n",
    "        if knoop in G[node]:\n",
    "            neighbor_kans += 1 / G.degree(node)\n",
    "    return random_knoop * neighbor_kans\n",
    " \n",
    "\n",
    "H= nx.karate_club_graph() \n",
    "# test\n",
    "sum(kans_op_knoop(H,x) for x in H)\n",
    "\n",
    "kans_op_knoop(Fig35, 'Tom')"
   ]
  },
  {
   "cell_type": "code",
   "execution_count": 3,
   "metadata": {
    "deletable": false,
    "editable": false,
    "execution": {
     "iopub.execute_input": "2024-05-21T22:12:25.435396Z",
     "iopub.status.busy": "2024-05-21T22:12:25.435182Z",
     "iopub.status.idle": "2024-05-21T22:12:25.438991Z",
     "shell.execute_reply": "2024-05-21T22:12:25.438484Z"
    },
    "nbgrader": {
     "cell_type": "code",
     "checksum": "089bbe5ff2b275be4e29c0e2663f3145",
     "grade": true,
     "grade_id": "FPt",
     "locked": true,
     "points": 1,
     "schema_version": 3,
     "solution": false
    }
   },
   "outputs": [],
   "source": [
    "assert isinstance(Fig35, nx.Graph)\n",
    "H= nx.karate_club_graph()\n",
    "assert 0 <= kans_op_knoop(H,1)<= 1\n"
   ]
  },
  {
   "cell_type": "markdown",
   "metadata": {
    "deletable": false,
    "editable": false,
    "nbgrader": {
     "cell_type": "markdown",
     "checksum": "605d184f9d2327c9ee0d298adf8c4a47",
     "grade": false,
     "grade_id": "cell-94dc147cb0980df4",
     "locked": true,
     "schema_version": 3,
     "solution": false,
     "task": false
    }
   },
   "source": [
    "# First course\n",
    "\n",
    "Maak de sommen 3.11-3.24."
   ]
  },
  {
   "cell_type": "markdown",
   "metadata": {},
   "source": [
    "11. 1. Tie between 2, 3, and 5, since they all have a degree of 3.\n",
    "    2. Tie between 2 and 5.\n",
    "    3. Node 2.\n",
    "12. In this graph, all the nodes will need to connect to one singular node, the hub. This will mean that the avarage degree is $\\frac{1 \\cdot 9 + 9}{10} = 1.8$. The avarage square degree is $\\frac{1^2 \\cdot 9 + 9^2}{10} = 9$, meaning the heterogeinity parameter is $\\frac{9}{1.8} = 5$.\n",
    "13. 1. No heavy tailed distribution, there aren't a lot of people with an extraordinarily high shoe size.\n",
    "    2. Heavy tailed distribution, there are quite a few people in the US that make more than the modal income.\n",
    "    3. Heavy tailed distribution, thanks to people like celebrities. These nodes are still quite abundant and have a high degree.\n",
    "    4. No heavy tailed distribution, since the majority of pair distances is low. A high distance is way less abundant.\n",
    "14. I would not be.\n",
    "15. 1. $1e08$ pages.\n",
    "    2. $1e06$ pages.\n",
    "    3. 10000 pages.\n",
    "\n",
    "3.16\n",
    "\n",
    "    What is the maximum degree and what does this mean?\n",
    "\n",
    "    A: The degree in this study is the amount of sexual partners. The maximum degree is the maximum amount of sexual partners one reports in the survey of the study\n",
    "\n",
    "    If you consider the subnetworks with nodes corresponding to males and females, respectively, do they have the same degree distribition? Why or why not?\n",
    "\n",
    "    A: Males relatively report a higher degree of sexual partners than females. This could be explained by different social theories. One might be that it socially more acceptable in certain cultures for men to have more sexual partner than women, thus resulting in an overestimation of reports whereas women tend to lower their degree as a socially acceptable answer to the survey\n",
    "    \n",
    "20. The degree must be the same for every node. (regular network)\n",
    "\n",
    "21. Targeted, since they will just remove the nodes with the highest degrees.  \n",
    "22. D, since nodes with a high betweenness centrality lie on the shortest path of many nodes, deleting that node will cause the shortest paths of these nodes to be longer.\n",
    "23. The one with the lowest clustering coëfficient, that way as many paths as possible will be disrupted."
   ]
  },
  {
   "cell_type": "code",
   "execution_count": 4,
   "metadata": {
    "execution": {
     "iopub.execute_input": "2024-05-21T22:12:25.442096Z",
     "iopub.status.busy": "2024-05-21T22:12:25.441882Z",
     "iopub.status.idle": "2024-05-21T22:12:25.876558Z",
     "shell.execute_reply": "2024-05-21T22:12:25.875875Z"
    }
   },
   "outputs": [
    {
     "ename": "FileNotFoundError",
     "evalue": "[Errno 2] No such file or directory: './openflights_usa.edges'",
     "output_type": "error",
     "traceback": [
      "\u001b[0;31m---------------------------------------------------------------------------\u001b[0m",
      "\u001b[0;31mFileNotFoundError\u001b[0m                         Traceback (most recent call last)",
      "Cell \u001b[0;32mIn[4], line 2\u001b[0m\n\u001b[1;32m      1\u001b[0m \u001b[38;5;66;03m# Opdracht 17\u001b[39;00m\n\u001b[0;32m----> 2\u001b[0m Flights \u001b[38;5;241m=\u001b[39m \u001b[43mnx\u001b[49m\u001b[38;5;241;43m.\u001b[39;49m\u001b[43mread_edgelist\u001b[49m\u001b[43m(\u001b[49m\u001b[38;5;124;43m'\u001b[39;49m\u001b[38;5;124;43m./openflights_usa.edges\u001b[39;49m\u001b[38;5;124;43m'\u001b[39;49m\u001b[43m)\u001b[49m\n\u001b[1;32m      3\u001b[0m nx\u001b[38;5;241m.\u001b[39mdraw(Flights)\n",
      "File \u001b[0;32m~/anaconda3/envs/Teaching2024/lib/python3.10/site-packages/networkx/utils/decorators.py:770\u001b[0m, in \u001b[0;36margmap.__call__.<locals>.func\u001b[0;34m(_argmap__wrapper, *args, **kwargs)\u001b[0m\n\u001b[1;32m    769\u001b[0m \u001b[38;5;28;01mdef\u001b[39;00m \u001b[38;5;21mfunc\u001b[39m(\u001b[38;5;241m*\u001b[39margs, __wrapper\u001b[38;5;241m=\u001b[39m\u001b[38;5;28;01mNone\u001b[39;00m, \u001b[38;5;241m*\u001b[39m\u001b[38;5;241m*\u001b[39mkwargs):\n\u001b[0;32m--> 770\u001b[0m     \u001b[38;5;28;01mreturn\u001b[39;00m \u001b[43margmap\u001b[49m\u001b[38;5;241;43m.\u001b[39;49m\u001b[43m_lazy_compile\u001b[49m\u001b[43m(\u001b[49m\u001b[43m__wrapper\u001b[49m\u001b[43m)\u001b[49m\u001b[43m(\u001b[49m\u001b[38;5;241;43m*\u001b[39;49m\u001b[43margs\u001b[49m\u001b[43m,\u001b[49m\u001b[43m \u001b[49m\u001b[38;5;241;43m*\u001b[39;49m\u001b[38;5;241;43m*\u001b[39;49m\u001b[43mkwargs\u001b[49m\u001b[43m)\u001b[49m\n",
      "File \u001b[0;32m<class 'networkx.utils.decorators.argmap'> compilation 5:3\u001b[0m, in \u001b[0;36margmap_read_edgelist_1\u001b[0;34m(path, comments, delimiter, create_using, nodetype, data, edgetype, encoding, backend, **backend_kwargs)\u001b[0m\n\u001b[1;32m      1\u001b[0m \u001b[38;5;28;01mimport\u001b[39;00m \u001b[38;5;21;01mbz2\u001b[39;00m\n\u001b[1;32m      2\u001b[0m \u001b[38;5;28;01mimport\u001b[39;00m \u001b[38;5;21;01mcollections\u001b[39;00m\n\u001b[0;32m----> 3\u001b[0m \u001b[38;5;28;01mimport\u001b[39;00m \u001b[38;5;21;01mgzip\u001b[39;00m\n\u001b[1;32m      4\u001b[0m \u001b[38;5;28;01mimport\u001b[39;00m \u001b[38;5;21;01minspect\u001b[39;00m\n\u001b[1;32m      5\u001b[0m \u001b[38;5;28;01mimport\u001b[39;00m \u001b[38;5;21;01mitertools\u001b[39;00m\n",
      "File \u001b[0;32m~/anaconda3/envs/Teaching2024/lib/python3.10/site-packages/networkx/utils/decorators.py:193\u001b[0m, in \u001b[0;36mopen_file.<locals>._open_file\u001b[0;34m(path)\u001b[0m\n\u001b[1;32m    189\u001b[0m \u001b[38;5;28;01melse\u001b[39;00m:\n\u001b[1;32m    190\u001b[0m     \u001b[38;5;66;03m# could be None, or a file handle, in which case the algorithm will deal with it\u001b[39;00m\n\u001b[1;32m    191\u001b[0m     \u001b[38;5;28;01mreturn\u001b[39;00m path, \u001b[38;5;28;01mlambda\u001b[39;00m: \u001b[38;5;28;01mNone\u001b[39;00m\n\u001b[0;32m--> 193\u001b[0m fobj \u001b[38;5;241m=\u001b[39m \u001b[43m_dispatch_dict\u001b[49m\u001b[43m[\u001b[49m\u001b[43mext\u001b[49m\u001b[43m]\u001b[49m\u001b[43m(\u001b[49m\u001b[43mpath\u001b[49m\u001b[43m,\u001b[49m\u001b[43m \u001b[49m\u001b[43mmode\u001b[49m\u001b[38;5;241;43m=\u001b[39;49m\u001b[43mmode\u001b[49m\u001b[43m)\u001b[49m\n\u001b[1;32m    194\u001b[0m \u001b[38;5;28;01mreturn\u001b[39;00m fobj, \u001b[38;5;28;01mlambda\u001b[39;00m: fobj\u001b[38;5;241m.\u001b[39mclose()\n",
      "\u001b[0;31mFileNotFoundError\u001b[0m: [Errno 2] No such file or directory: './openflights_usa.edges'"
     ]
    }
   ],
   "source": [
    "# Opdracht 17\n",
    "Flights = nx.read_edgelist('./openflights_usa.edges')\n",
    "nx.draw(Flights)\n"
   ]
  },
  {
   "cell_type": "code",
   "execution_count": 5,
   "metadata": {
    "deletable": false,
    "execution": {
     "iopub.execute_input": "2024-05-21T22:12:25.879865Z",
     "iopub.status.busy": "2024-05-21T22:12:25.879610Z",
     "iopub.status.idle": "2024-05-21T22:12:25.903627Z",
     "shell.execute_reply": "2024-05-21T22:12:25.903068Z"
    },
    "nbgrader": {
     "cell_type": "code",
     "checksum": "95522439bf5f7cf1d8dba330546de33a",
     "grade": true,
     "grade_id": "fc",
     "locked": false,
     "points": 14,
     "schema_version": 3,
     "solution": true
    }
   },
   "outputs": [
    {
     "ename": "NameError",
     "evalue": "name 'Flights' is not defined",
     "output_type": "error",
     "traceback": [
      "\u001b[0;31m---------------------------------------------------------------------------\u001b[0m",
      "\u001b[0;31mNameError\u001b[0m                                 Traceback (most recent call last)",
      "Cell \u001b[0;32mIn[5], line 5\u001b[0m\n\u001b[1;32m      2\u001b[0m     total \u001b[38;5;241m=\u001b[39m \u001b[38;5;28msum\u001b[39m([G\u001b[38;5;241m.\u001b[39mdegree(node) \u001b[38;5;28;01mfor\u001b[39;00m node \u001b[38;5;129;01min\u001b[39;00m G])\n\u001b[1;32m      3\u001b[0m     \u001b[38;5;28;01mreturn\u001b[39;00m total \u001b[38;5;241m/\u001b[39m G\u001b[38;5;241m.\u001b[39mnumber_of_nodes()\n\u001b[0;32m----> 5\u001b[0m \u001b[38;5;28mprint\u001b[39m(\u001b[38;5;124mf\u001b[39m\u001b[38;5;124m\"\u001b[39m\u001b[38;5;124mAverage number of routes: \u001b[39m\u001b[38;5;132;01m{\u001b[39;00mVraag1(\u001b[43mFlights\u001b[49m)\u001b[38;5;132;01m}\u001b[39;00m\u001b[38;5;124m\"\u001b[39m)\n\u001b[1;32m      7\u001b[0m \u001b[38;5;28;01mdef\u001b[39;00m \u001b[38;5;21mVraag2\u001b[39m(G):\n\u001b[1;32m      8\u001b[0m     num_routes \u001b[38;5;241m=\u001b[39m \u001b[38;5;28mlist\u001b[39m(G\u001b[38;5;241m.\u001b[39mdegree())\n",
      "\u001b[0;31mNameError\u001b[0m: name 'Flights' is not defined"
     ]
    }
   ],
   "source": [
    "def Vraag1(G):\n",
    "    total = sum([G.degree(node) for node in G])\n",
    "    return total / G.number_of_nodes()\n",
    "\n",
    "print(f\"Average number of routes: {Vraag1(Flights)}\")\n",
    "\n",
    "def Vraag2(G):\n",
    "    num_routes = list(G.degree())\n",
    "    num_routes.sort(key=lambda a: a[1], reverse = True)\n",
    "    return \", \".join([info[0] for info in num_routes[:5]])\n",
    "\n",
    "print(f\"Top 5 airports with highest routes: {Vraag2(Flights)}.\")\n",
    "\n",
    "def Vraag3(G):\n",
    "    one_route_ports = [port for port in G.degree() if port[1] == 1]\n",
    "    return len(one_route_ports)\n",
    "\n",
    "print(f\"There are {Vraag3(Flights)} airports that serve only a single route.\")\n",
    "\n",
    "def Vraag4(G):\n",
    "    return max(G.nodes, key=nx.closeness_centrality(G).get)\n",
    "\n",
    "print(f\"The airport with the highest closeness centrality is {Vraag4(Flights)}\")\n",
    "\n",
    "def Vraag5(G):\n",
    "    betweenness = nx.betweenness_centrality(G)\n",
    "    betweenness = dict(sorted(betweenness.items(), key=lambda item: item[1], reverse = True))\n",
    "    return list(betweenness)[0]\n",
    "\n",
    "print(f\"The airport with the highest betweenness centrality is {Vraag5(Flights)}\")\n",
    "\n",
    "def Vraag6(G):\n",
    "    avg_sq_degree = sum([(G.degree(node)) ** 2 for node in G]) / G.number_of_nodes()\n",
    "    avg_degree = Vraag1(G)\n",
    "    return avg_sq_degree / (avg_degree ** 2)\n",
    "\n",
    "print(f\"The heterogeneity of the network is equal to {Vraag6(Flights)}.\")"
   ]
  },
  {
   "cell_type": "code",
   "execution_count": 6,
   "metadata": {
    "deletable": false,
    "execution": {
     "iopub.execute_input": "2024-05-21T22:12:25.906723Z",
     "iopub.status.busy": "2024-05-21T22:12:25.906526Z",
     "iopub.status.idle": "2024-05-21T22:12:26.054737Z",
     "shell.execute_reply": "2024-05-21T22:12:26.053966Z"
    },
    "nbgrader": {
     "cell_type": "code",
     "checksum": "cece48ed18f36ba8fb8e13c128848419",
     "grade": true,
     "grade_id": "fc324",
     "locked": false,
     "points": 6,
     "schema_version": 3,
     "solution": true
    }
   },
   "outputs": [
    {
     "ename": "FileNotFoundError",
     "evalue": "[Errno 2] No such file or directory: './enwiki_math.graphml.gz'",
     "output_type": "error",
     "traceback": [
      "\u001b[0;31m---------------------------------------------------------------------------\u001b[0m",
      "\u001b[0;31mFileNotFoundError\u001b[0m                         Traceback (most recent call last)",
      "Cell \u001b[0;32mIn[6], line 4\u001b[0m\n\u001b[1;32m      1\u001b[0m \u001b[38;5;66;03m#WRITE YOUR CODE HERE\u001b[39;00m\n\u001b[1;32m      2\u001b[0m \u001b[38;5;66;03m# 3.18\u001b[39;00m\n\u001b[0;32m----> 4\u001b[0m W \u001b[38;5;241m=\u001b[39m \u001b[43mnx\u001b[49m\u001b[38;5;241;43m.\u001b[39;49m\u001b[43mread_graphml\u001b[49m\u001b[43m(\u001b[49m\u001b[38;5;124;43m\"\u001b[39;49m\u001b[38;5;124;43m./enwiki_math.graphml.gz\u001b[39;49m\u001b[38;5;124;43m\"\u001b[39;49m\u001b[43m)\u001b[49m\n\u001b[1;32m      7\u001b[0m \u001b[38;5;66;03m# 1\u001b[39;00m\n\u001b[1;32m      8\u001b[0m \u001b[38;5;28mprint\u001b[39m(\u001b[38;5;28msum\u001b[39m(W\u001b[38;5;241m.\u001b[39mout_degree(node) \u001b[38;5;28;01mfor\u001b[39;00m node \u001b[38;5;129;01min\u001b[39;00m W) \u001b[38;5;241m/\u001b[39m \u001b[38;5;28mlen\u001b[39m(W\u001b[38;5;241m.\u001b[39mnodes()))\n",
      "File \u001b[0;32m~/anaconda3/envs/Teaching2024/lib/python3.10/site-packages/networkx/utils/decorators.py:770\u001b[0m, in \u001b[0;36margmap.__call__.<locals>.func\u001b[0;34m(_argmap__wrapper, *args, **kwargs)\u001b[0m\n\u001b[1;32m    769\u001b[0m \u001b[38;5;28;01mdef\u001b[39;00m \u001b[38;5;21mfunc\u001b[39m(\u001b[38;5;241m*\u001b[39margs, __wrapper\u001b[38;5;241m=\u001b[39m\u001b[38;5;28;01mNone\u001b[39;00m, \u001b[38;5;241m*\u001b[39m\u001b[38;5;241m*\u001b[39mkwargs):\n\u001b[0;32m--> 770\u001b[0m     \u001b[38;5;28;01mreturn\u001b[39;00m \u001b[43margmap\u001b[49m\u001b[38;5;241;43m.\u001b[39;49m\u001b[43m_lazy_compile\u001b[49m\u001b[43m(\u001b[49m\u001b[43m__wrapper\u001b[49m\u001b[43m)\u001b[49m\u001b[43m(\u001b[49m\u001b[38;5;241;43m*\u001b[39;49m\u001b[43margs\u001b[49m\u001b[43m,\u001b[49m\u001b[43m \u001b[49m\u001b[38;5;241;43m*\u001b[39;49m\u001b[38;5;241;43m*\u001b[39;49m\u001b[43mkwargs\u001b[49m\u001b[43m)\u001b[49m\n",
      "File \u001b[0;32m<class 'networkx.utils.decorators.argmap'> compilation 10:3\u001b[0m, in \u001b[0;36margmap_read_graphml_6\u001b[0;34m(path, node_type, edge_key_type, force_multigraph, backend, **backend_kwargs)\u001b[0m\n\u001b[1;32m      1\u001b[0m \u001b[38;5;28;01mimport\u001b[39;00m \u001b[38;5;21;01mbz2\u001b[39;00m\n\u001b[1;32m      2\u001b[0m \u001b[38;5;28;01mimport\u001b[39;00m \u001b[38;5;21;01mcollections\u001b[39;00m\n\u001b[0;32m----> 3\u001b[0m \u001b[38;5;28;01mimport\u001b[39;00m \u001b[38;5;21;01mgzip\u001b[39;00m\n\u001b[1;32m      4\u001b[0m \u001b[38;5;28;01mimport\u001b[39;00m \u001b[38;5;21;01minspect\u001b[39;00m\n\u001b[1;32m      5\u001b[0m \u001b[38;5;28;01mimport\u001b[39;00m \u001b[38;5;21;01mitertools\u001b[39;00m\n",
      "File \u001b[0;32m~/anaconda3/envs/Teaching2024/lib/python3.10/site-packages/networkx/utils/decorators.py:193\u001b[0m, in \u001b[0;36mopen_file.<locals>._open_file\u001b[0;34m(path)\u001b[0m\n\u001b[1;32m    189\u001b[0m \u001b[38;5;28;01melse\u001b[39;00m:\n\u001b[1;32m    190\u001b[0m     \u001b[38;5;66;03m# could be None, or a file handle, in which case the algorithm will deal with it\u001b[39;00m\n\u001b[1;32m    191\u001b[0m     \u001b[38;5;28;01mreturn\u001b[39;00m path, \u001b[38;5;28;01mlambda\u001b[39;00m: \u001b[38;5;28;01mNone\u001b[39;00m\n\u001b[0;32m--> 193\u001b[0m fobj \u001b[38;5;241m=\u001b[39m \u001b[43m_dispatch_dict\u001b[49m\u001b[43m[\u001b[49m\u001b[43mext\u001b[49m\u001b[43m]\u001b[49m\u001b[43m(\u001b[49m\u001b[43mpath\u001b[49m\u001b[43m,\u001b[49m\u001b[43m \u001b[49m\u001b[43mmode\u001b[49m\u001b[38;5;241;43m=\u001b[39;49m\u001b[43mmode\u001b[49m\u001b[43m)\u001b[49m\n\u001b[1;32m    194\u001b[0m \u001b[38;5;28;01mreturn\u001b[39;00m fobj, \u001b[38;5;28;01mlambda\u001b[39;00m: fobj\u001b[38;5;241m.\u001b[39mclose()\n",
      "File \u001b[0;32m~/anaconda3/envs/Teaching2024/lib/python3.10/gzip.py:58\u001b[0m, in \u001b[0;36mopen\u001b[0;34m(filename, mode, compresslevel, encoding, errors, newline)\u001b[0m\n\u001b[1;32m     56\u001b[0m gz_mode \u001b[38;5;241m=\u001b[39m mode\u001b[38;5;241m.\u001b[39mreplace(\u001b[38;5;124m\"\u001b[39m\u001b[38;5;124mt\u001b[39m\u001b[38;5;124m\"\u001b[39m, \u001b[38;5;124m\"\u001b[39m\u001b[38;5;124m\"\u001b[39m)\n\u001b[1;32m     57\u001b[0m \u001b[38;5;28;01mif\u001b[39;00m \u001b[38;5;28misinstance\u001b[39m(filename, (\u001b[38;5;28mstr\u001b[39m, \u001b[38;5;28mbytes\u001b[39m, os\u001b[38;5;241m.\u001b[39mPathLike)):\n\u001b[0;32m---> 58\u001b[0m     binary_file \u001b[38;5;241m=\u001b[39m \u001b[43mGzipFile\u001b[49m\u001b[43m(\u001b[49m\u001b[43mfilename\u001b[49m\u001b[43m,\u001b[49m\u001b[43m \u001b[49m\u001b[43mgz_mode\u001b[49m\u001b[43m,\u001b[49m\u001b[43m \u001b[49m\u001b[43mcompresslevel\u001b[49m\u001b[43m)\u001b[49m\n\u001b[1;32m     59\u001b[0m \u001b[38;5;28;01melif\u001b[39;00m \u001b[38;5;28mhasattr\u001b[39m(filename, \u001b[38;5;124m\"\u001b[39m\u001b[38;5;124mread\u001b[39m\u001b[38;5;124m\"\u001b[39m) \u001b[38;5;129;01mor\u001b[39;00m \u001b[38;5;28mhasattr\u001b[39m(filename, \u001b[38;5;124m\"\u001b[39m\u001b[38;5;124mwrite\u001b[39m\u001b[38;5;124m\"\u001b[39m):\n\u001b[1;32m     60\u001b[0m     binary_file \u001b[38;5;241m=\u001b[39m GzipFile(\u001b[38;5;28;01mNone\u001b[39;00m, gz_mode, compresslevel, filename)\n",
      "File \u001b[0;32m~/anaconda3/envs/Teaching2024/lib/python3.10/gzip.py:174\u001b[0m, in \u001b[0;36mGzipFile.__init__\u001b[0;34m(self, filename, mode, compresslevel, fileobj, mtime)\u001b[0m\n\u001b[1;32m    172\u001b[0m     mode \u001b[38;5;241m+\u001b[39m\u001b[38;5;241m=\u001b[39m \u001b[38;5;124m'\u001b[39m\u001b[38;5;124mb\u001b[39m\u001b[38;5;124m'\u001b[39m\n\u001b[1;32m    173\u001b[0m \u001b[38;5;28;01mif\u001b[39;00m fileobj \u001b[38;5;129;01mis\u001b[39;00m \u001b[38;5;28;01mNone\u001b[39;00m:\n\u001b[0;32m--> 174\u001b[0m     fileobj \u001b[38;5;241m=\u001b[39m \u001b[38;5;28mself\u001b[39m\u001b[38;5;241m.\u001b[39mmyfileobj \u001b[38;5;241m=\u001b[39m \u001b[43mbuiltins\u001b[49m\u001b[38;5;241;43m.\u001b[39;49m\u001b[43mopen\u001b[49m\u001b[43m(\u001b[49m\u001b[43mfilename\u001b[49m\u001b[43m,\u001b[49m\u001b[43m \u001b[49m\u001b[43mmode\u001b[49m\u001b[43m \u001b[49m\u001b[38;5;129;43;01mor\u001b[39;49;00m\u001b[43m \u001b[49m\u001b[38;5;124;43m'\u001b[39;49m\u001b[38;5;124;43mrb\u001b[39;49m\u001b[38;5;124;43m'\u001b[39;49m\u001b[43m)\u001b[49m\n\u001b[1;32m    175\u001b[0m \u001b[38;5;28;01mif\u001b[39;00m filename \u001b[38;5;129;01mis\u001b[39;00m \u001b[38;5;28;01mNone\u001b[39;00m:\n\u001b[1;32m    176\u001b[0m     filename \u001b[38;5;241m=\u001b[39m \u001b[38;5;28mgetattr\u001b[39m(fileobj, \u001b[38;5;124m'\u001b[39m\u001b[38;5;124mname\u001b[39m\u001b[38;5;124m'\u001b[39m, \u001b[38;5;124m'\u001b[39m\u001b[38;5;124m'\u001b[39m)\n",
      "\u001b[0;31mFileNotFoundError\u001b[0m: [Errno 2] No such file or directory: './enwiki_math.graphml.gz'"
     ]
    }
   ],
   "source": [
    "#WRITE YOUR CODE HERE\n",
    "# 3.18\n",
    "\n",
    "W = nx.read_graphml(\"./enwiki_math.graphml.gz\")\n",
    "\n",
    "\n",
    "# 1\n",
    "print(sum(W.out_degree(node) for node in W) / len(W.nodes()))\n",
    "print(sum(W.in_degree(node) for node in W) / len(W.nodes()))\n",
    "\n",
    "# 2\n",
    "\n",
    "max_k_in_node = max(W.nodes, key=W.in_degree(W.nodes))\n",
    "print(W.nodes[max_k_in_node]['title'])\n",
    "# 3\n",
    "\n",
    "max_k_in_node = max(W.nodes, key=W.out_degree(W.nodes))\n",
    "print(W.nodes[max_k_in_node]['title'])\n",
    "\n",
    "# 4\n",
    "\n",
    "# max out degree, no because for airports it's not uncommon that one airport would receive a lot of planes, like Newark, but would not send out much.\n",
    "\n",
    "\n",
    "# 5\n",
    "# 6\n",
    "\n"
   ]
  },
  {
   "cell_type": "code",
   "execution_count": 7,
   "metadata": {
    "deletable": false,
    "execution": {
     "iopub.execute_input": "2024-05-21T22:12:26.058418Z",
     "iopub.status.busy": "2024-05-21T22:12:26.058097Z",
     "iopub.status.idle": "2024-05-21T22:12:26.068406Z",
     "shell.execute_reply": "2024-05-21T22:12:26.067722Z"
    },
    "nbgrader": {
     "cell_type": "code",
     "checksum": "038c4f23bde1b8f177044800433a833d",
     "grade": false,
     "grade_id": "3_19",
     "locked": false,
     "schema_version": 3,
     "solution": true
    }
   },
   "outputs": [
    {
     "data": {
      "text/plain": [
       "(9.6102100153787, 4.588235294117647, 4.588235294117647)"
      ]
     },
     "execution_count": 7,
     "metadata": {},
     "output_type": "execute_result"
    }
   ],
   "source": [
    "# SOM 3.19\n",
    "from statistics import mean\n",
    "\n",
    "def  avg_degree_neighbors(G, friend):\n",
    "    return mean([G.degree(node) for node in G.neighbors(friend)])\n",
    "    \n",
    "H= nx.karate_club_graph() \n",
    "\n",
    "{x: avg_degree_neighbors(H,x) for x in H}   \n",
    "\n",
    "# paradox op de karateclub\n",
    "(sum(avg_degree_neighbors(H,x) for x in H )/len(H), \n",
    " sum(H.degree(x) for x in H)/len(H), \n",
    "2* H.number_of_edges()/H.number_of_nodes())\n"
   ]
  }
 ],
 "metadata": {
  "hide_input": false,
  "kernelspec": {
   "display_name": "Python 3 (ipykernel)",
   "language": "python",
   "name": "python3"
  },
  "language_info": {
   "codemirror_mode": {
    "name": "ipython",
    "version": 3
   },
   "file_extension": ".py",
   "mimetype": "text/x-python",
   "name": "python",
   "nbconvert_exporter": "python",
   "pygments_lexer": "ipython3",
   "version": "3.10.13"
  },
  "toc": {
   "nav_menu": {},
   "number_sections": true,
   "sideBar": true,
   "skip_h1_title": false,
   "title_cell": "Table of Contents",
   "title_sidebar": "Contents",
   "toc_cell": false,
   "toc_position": {},
   "toc_section_display": true,
   "toc_window_display": false
  },
  "varInspector": {
   "cols": {
    "lenName": 16,
    "lenType": 16,
    "lenVar": 40
   },
   "kernels_config": {
    "python": {
     "delete_cmd_postfix": "",
     "delete_cmd_prefix": "del ",
     "library": "var_list.py",
     "varRefreshCmd": "print(var_dic_list())"
    },
    "r": {
     "delete_cmd_postfix": ") ",
     "delete_cmd_prefix": "rm(",
     "library": "var_list.r",
     "varRefreshCmd": "cat(var_dic_list()) "
    }
   },
   "types_to_exclude": [
    "module",
    "function",
    "builtin_function_or_method",
    "instance",
    "_Feature"
   ],
   "window_display": false
  }
 },
 "nbformat": 4,
 "nbformat_minor": 4
}
