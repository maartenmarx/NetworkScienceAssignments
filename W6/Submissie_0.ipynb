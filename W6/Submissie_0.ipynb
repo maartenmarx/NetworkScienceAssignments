{
 "cells": [
  {
   "cell_type": "markdown",
   "metadata": {},
   "source": [
    "# Assignment Netwerkanalyse"
   ]
  },
  {
   "cell_type": "markdown",
   "metadata": {
    "nbgrader": {
     "grade": false,
     "grade_id": "privacy",
     "locked": false,
     "schema_version": 3,
     "solution": false
    }
   },
   "source": [
    "## Notebook made by\n",
    "\n",
    "**Gebruik graag dit formaat**\n",
    "\n",
    "* Voor de namen:  voornaam rest van je naam, voornaam rest van je naam,....\n",
    "* je studentnummers: hetzelfde: scheidt met `,`\n",
    "* je emails: hetzelfde: scheidt met `,`\n",
    "* voor je groep: alleen de hoofdletter (dus voor de groep van Marx zou je `A` kiezen)\n",
    "\n",
    "__Namen__:Anoniem\n",
    "__Emails__:Anoniem\n",
    "__Student id__:Anoniem\n",
    "__Groep__:Anoniem"
   ]
  },
  {
   "cell_type": "markdown",
   "metadata": {},
   "source": [
    "## Toelichting\n",
    "\n",
    "* De meeste opgaven worden automatisch nagekeken. Bij vrijwel alle opdrachten staan er een paar tests onder de opdracht, dit is voornamelijk om te zorgen dat je de juiste type output geeft. Dit zijn dus *NIET* alle tests, die komen er bij het graden nog bij.\n",
    "* Elke vraag is 1 punt waard, tenzij anders aangegeven. Soms is die punt onderverdeeld in deelpunten, maar niet altijd. \n",
    "\n",
    "## Voor het inleveren!\n",
    "\n",
    "* Pas niet de cellen aan, vooral niet die je niet kunt editen. Dit levert problemen op bij nakijken. Twijfel je of je per ongeluk iets hebt gewijzigd, kopieer dan bij inleveren je antwoorden naar een nieuw bestand, zodat het niet fout kan gaan.\n",
    "\n",
    "* Zorg dat de code goed runt van boven naar beneden, verifieer dat door boven in Kernel -> Restart & Run All uit te voeren\n",
    "\n",
    "## Na het inleveren!\n",
    "\n",
    "* Het gebeurt erg vaak dat mensen een \"leeg bestand\" inleveren. Vaak een andere versie van de opgave die nog ergens op je computer rondslingerde. Zonde van al je werk toch!\n",
    "* Dus, lever **minstens een half uur voor tijd in**. Download dan wat je hebt ingeleverd op Canvas. Geef het een andere naam om verwarring te voorkomen. En draai alle cellen, en bekijk het. Geen syntax fouten? Alle vragen gemaakt? Dan zit het vast wel goed, en hoef je niet in de zenuwen te zitten."
   ]
  },
  {
   "cell_type": "markdown",
   "metadata": {
    "deletable": false,
    "editable": false,
    "nbgrader": {
     "cell_type": "markdown",
     "checksum": "dd3ded8aee810700514967f470e4251c",
     "grade": false,
     "grade_id": "cell-29b47934d085ca5d",
     "locked": true,
     "schema_version": 3,
     "solution": false
    }
   },
   "source": [
    "# Week 6"
   ]
  },
  {
   "cell_type": "code",
   "execution_count": 1,
   "metadata": {
    "deletable": false,
    "editable": false,
    "execution": {
     "iopub.execute_input": "2024-05-21T22:12:29.790808Z",
     "iopub.status.busy": "2024-05-21T22:12:29.790346Z",
     "iopub.status.idle": "2024-05-21T22:12:30.357229Z",
     "shell.execute_reply": "2024-05-21T22:12:30.356076Z"
    },
    "nbgrader": {
     "cell_type": "code",
     "checksum": "50e1ede8200b511b4d46cdfa44c40fd4",
     "grade": false,
     "grade_id": "cell-ef7fcbdc74fb7c74",
     "locked": true,
     "schema_version": 3,
     "solution": false
    }
   },
   "outputs": [],
   "source": [
    "%matplotlib inline\n",
    "import numpy as np\n",
    "import networkx as nx\n",
    "import matplotlib.pyplot as plt\n",
    "from nose.tools import assert_equal, assert_count_equal\n",
    "from numpy.testing import assert_almost_equal\n",
    "import math"
   ]
  },
  {
   "cell_type": "markdown",
   "metadata": {
    "deletable": false,
    "editable": false,
    "nbgrader": {
     "cell_type": "markdown",
     "checksum": "b7213d5c3b3c20887a3955da648228a2",
     "grade": false,
     "grade_id": "FP",
     "locked": true,
     "schema_version": 3,
     "solution": false
    }
   },
   "source": [
    "# First Course: chap 3.3 Friendship Paradox\n",
    "\n",
    "1. Maak een netwerkx netwerk van Figuur 3.5.\n",
    "2. Waarom is de kans dat je Tom vindt met de \"random friend of picked person\" methode $\\frac{5}{21}$. Geef een heel helder antwoord.\n",
    "3. Programmeer de functie `kans_op_knoop(G,knoop)` die voor elk netwerk, voor elke knoop de kans berekent dat je die knoop trekt met de \"random friend of picked person\" methode.\n",
    "4. Schrijf een test die checked dat die kansen optellen tot 1.\n",
    "5. **Advanced** In de een na laatste paragraaf van 3.3 op blz 76 wordt een andere manier om die kansen te berekenen gemeld, die dezelfde uitkomst geeft. Programmeer die ook, en vergelijk de uitkomsten.\n",
    "    "
   ]
  },
  {
   "cell_type": "code",
   "execution_count": 2,
   "metadata": {
    "execution": {
     "iopub.execute_input": "2024-05-21T22:12:30.361079Z",
     "iopub.status.busy": "2024-05-21T22:12:30.360833Z",
     "iopub.status.idle": "2024-05-21T22:12:30.371281Z",
     "shell.execute_reply": "2024-05-21T22:12:30.370625Z"
    }
   },
   "outputs": [
    {
     "data": {
      "text/plain": [
       "True"
      ]
     },
     "execution_count": 2,
     "metadata": {},
     "output_type": "execute_result"
    }
   ],
   "source": [
    "def kans_op_knoop(G: nx.Graph, knoop: int | str) -> float:\n",
    "    \"\"\"\n",
    "    Berekent de kans dat een knoop een verbinding heeft met een andere knoop in een netwerk G.\n",
    "    \"\"\"\n",
    "    totaalaantal_vriendschappen: int = sum(len(set(G.neighbors(persoon))) for persoon in G)\n",
    "    aantal_verbindingen_knoop: int = G.degree(knoop)\n",
    "\n",
    "    kans_andere_knoop_verbinding_met_knoop: float = aantal_verbindingen_knoop / totaalaantal_vriendschappen\n",
    "\n",
    "    return kans_andere_knoop_verbinding_met_knoop\n",
    " \n",
    "\n",
    "H= nx.karate_club_graph() \n",
    "# test\n",
    "sum(kans_op_knoop(H,x) for x in H) == 1\n",
    "#kans_op_knoop(H,1)"
   ]
  },
  {
   "cell_type": "code",
   "execution_count": 3,
   "metadata": {
    "deletable": false,
    "execution": {
     "iopub.execute_input": "2024-05-21T22:12:30.404635Z",
     "iopub.status.busy": "2024-05-21T22:12:30.404357Z",
     "iopub.status.idle": "2024-05-21T22:12:30.410541Z",
     "shell.execute_reply": "2024-05-21T22:12:30.409769Z"
    },
    "nbgrader": {
     "cell_type": "code",
     "checksum": "5f08f7beffdccb10c60698cefc566776",
     "grade": false,
     "grade_id": "FPa",
     "locked": false,
     "schema_version": 3,
     "solution": true
    }
   },
   "outputs": [
    {
     "ename": "SyntaxError",
     "evalue": "f-string: unmatched '(' (1109320016.py, line 8)",
     "output_type": "error",
     "traceback": [
      "\u001b[0;36m  Cell \u001b[0;32mIn[3], line 8\u001b[0;36m\u001b[0m\n\u001b[0;31m    print(f\"P(willekeurig persoon een vriend van Tom) = {kans_op_knoop(Fig35, \"Tom\")}.\")\u001b[0m\n\u001b[0m                                                                               ^\u001b[0m\n\u001b[0;31mSyntaxError\u001b[0m\u001b[0;31m:\u001b[0m f-string: unmatched '('\n"
     ]
    }
   ],
   "source": [
    "Fig35: nx.Graph = nx.Graph()\n",
    "Fig35.add_edges_from([\n",
    "    (\"Mary\", \"Nancy\"), (\"Tom\", \"Nancy\"), (\"John\", \"Tom\"), (\"Bob\", \"Nancy\"),\n",
    "    (\"Tara\", \"Bob\"), (\"John\", \"Pam\"), (\"Tom\", \"Pam\"), (\"Tom\", \"Bob\")\n",
    "])\n",
    "\n",
    "\n",
    "print(f\"P(willekeurig persoon een vriend van Tom) = {kans_op_knoop(Fig35, \"Tom\")}.\")\n",
    "nx.draw(Fig35, with_labels=True)"
   ]
  },
  {
   "cell_type": "code",
   "execution_count": 4,
   "metadata": {
    "deletable": false,
    "editable": false,
    "execution": {
     "iopub.execute_input": "2024-05-21T22:12:30.413868Z",
     "iopub.status.busy": "2024-05-21T22:12:30.413619Z",
     "iopub.status.idle": "2024-05-21T22:12:30.764520Z",
     "shell.execute_reply": "2024-05-21T22:12:30.763539Z"
    },
    "nbgrader": {
     "cell_type": "code",
     "checksum": "089bbe5ff2b275be4e29c0e2663f3145",
     "grade": true,
     "grade_id": "FPt",
     "locked": true,
     "points": 1,
     "schema_version": 3,
     "solution": false
    }
   },
   "outputs": [
    {
     "ename": "NameError",
     "evalue": "name 'Fig35' is not defined",
     "output_type": "error",
     "traceback": [
      "\u001b[0;31m---------------------------------------------------------------------------\u001b[0m",
      "\u001b[0;31mNameError\u001b[0m                                 Traceback (most recent call last)",
      "Cell \u001b[0;32mIn[4], line 1\u001b[0m\n\u001b[0;32m----> 1\u001b[0m \u001b[38;5;28;01massert\u001b[39;00m \u001b[38;5;28misinstance\u001b[39m(\u001b[43mFig35\u001b[49m, nx\u001b[38;5;241m.\u001b[39mGraph)\n\u001b[1;32m      2\u001b[0m H\u001b[38;5;241m=\u001b[39m nx\u001b[38;5;241m.\u001b[39mkarate_club_graph()\n\u001b[1;32m      3\u001b[0m \u001b[38;5;28;01massert\u001b[39;00m \u001b[38;5;241m0\u001b[39m \u001b[38;5;241m<\u001b[39m\u001b[38;5;241m=\u001b[39m kans_op_knoop(H,\u001b[38;5;241m1\u001b[39m)\u001b[38;5;241m<\u001b[39m\u001b[38;5;241m=\u001b[39m \u001b[38;5;241m1\u001b[39m\n",
      "\u001b[0;31mNameError\u001b[0m: name 'Fig35' is not defined"
     ]
    }
   ],
   "source": [
    "assert isinstance(Fig35, nx.Graph)\n",
    "H= nx.karate_club_graph()\n",
    "assert 0 <= kans_op_knoop(H,1)<= 1"
   ]
  },
  {
   "cell_type": "markdown",
   "metadata": {
    "deletable": false,
    "editable": false,
    "nbgrader": {
     "cell_type": "markdown",
     "checksum": "605d184f9d2327c9ee0d298adf8c4a47",
     "grade": false,
     "grade_id": "cell-94dc147cb0980df4",
     "locked": true,
     "schema_version": 3,
     "solution": false,
     "task": false
    }
   },
   "source": [
    "# First course\n",
    "\n",
    "Maak de sommen 3.11-3.24."
   ]
  },
  {
   "cell_type": "code",
   "execution_count": 5,
   "metadata": {
    "execution": {
     "iopub.execute_input": "2024-05-21T22:12:30.768677Z",
     "iopub.status.busy": "2024-05-21T22:12:30.768384Z",
     "iopub.status.idle": "2024-05-21T22:12:30.928757Z",
     "shell.execute_reply": "2024-05-21T22:12:30.927987Z"
    }
   },
   "outputs": [
    {
     "data": {
      "image/png": "[encoded data removed]",
      "text/plain": [
       "<Figure size 640x480 with 1 Axes>"
      ]
     },
     "metadata": {},
     "output_type": "display_data"
    }
   ],
   "source": [
    "G: nx.Graph = nx.Graph()\n",
    "G.add_edges_from([(4, 3), (1, 3), (2, 3), (1, 2), (2, 5), (5, 6), (5, 7)])\n",
    "\n",
    "nx.draw(G, with_labels=True)"
   ]
  },
  {
   "cell_type": "markdown",
   "metadata": {},
   "source": [
    "## 3.11"
   ]
  },
  {
   "cell_type": "code",
   "execution_count": 6,
   "metadata": {
    "execution": {
     "iopub.execute_input": "2024-05-21T22:12:30.932345Z",
     "iopub.status.busy": "2024-05-21T22:12:30.932084Z",
     "iopub.status.idle": "2024-05-21T22:12:30.938018Z",
     "shell.execute_reply": "2024-05-21T22:12:30.937369Z"
    }
   },
   "outputs": [
    {
     "name": "stdout",
     "output_type": "stream",
     "text": [
      "Knoop hoogste degreecentrality: 3.\n",
      "Knoop hoogste betweennesscentrality: 2.\n",
      "Knoop hoogste closenesscentrality: 2.\n"
     ]
    }
   ],
   "source": [
    "degreecentrality_per_knoop: dict[int, float] = nx.degree_centrality(G)\n",
    "knoop_hoogste_degreecentrality: int = max(degreecentrality_per_knoop, key=degreecentrality_per_knoop.get)\n",
    "\n",
    "betweennesscentrality_per_knoop: dict[int, float] = nx.betweenness_centrality(G)\n",
    "knoop_hoogste_betweennesscentrality: int = max(betweennesscentrality_per_knoop, key=betweennesscentrality_per_knoop.get)\n",
    "\n",
    "closenesscentrality_per_knoop: dict[int, float] = nx.closeness_centrality(G)\n",
    "knoop_hoogste_closenesscentrality: int = max(closenesscentrality_per_knoop, key=closenesscentrality_per_knoop.get)\n",
    "\n",
    "print(f\"Knoop hoogste degreecentrality: {knoop_hoogste_degreecentrality}.\")\n",
    "print(f\"Knoop hoogste betweennesscentrality: {knoop_hoogste_betweennesscentrality}.\")\n",
    "print(f\"Knoop hoogste closenesscentrality: {knoop_hoogste_betweennesscentrality}.\")"
   ]
  },
  {
   "cell_type": "markdown",
   "metadata": {},
   "source": [
    "## 3.12"
   ]
  },
  {
   "cell_type": "code",
   "execution_count": 7,
   "metadata": {
    "deletable": false,
    "execution": {
     "iopub.execute_input": "2024-05-21T22:12:30.940855Z",
     "iopub.status.busy": "2024-05-21T22:12:30.940668Z",
     "iopub.status.idle": "2024-05-21T22:12:30.947070Z",
     "shell.execute_reply": "2024-05-21T22:12:30.946283Z"
    },
    "nbgrader": {
     "cell_type": "code",
     "checksum": "95522439bf5f7cf1d8dba330546de33a",
     "grade": true,
     "grade_id": "fc",
     "locked": false,
     "points": 14,
     "schema_version": 3,
     "solution": true
    }
   },
   "outputs": [
    {
     "name": "stdout",
     "output_type": "stream",
     "text": [
      "Aantal knopens: 10\n",
      "Aantal verbindingen: 8\n",
      "Gemiddelde graad knoop: (1.6, False)\n"
     ]
    }
   ],
   "source": [
    "import math\n",
    "\n",
    "\n",
    "aantal_knopen: int = 10\n",
    "gemiddelde_graad: float = 1.8\n",
    "\n",
    "graadvolgorde: list[int] = [round(gemiddelde_graad) for _ in range(aantal_knopen)]\n",
    "\n",
    "totaalaantal_verbindingen: int = sum(graadvolgorde)\n",
    "\n",
    "if (totaalaantal_verbindingen % 2) == 1:\n",
    "    graadvolgorde[0] += 1\n",
    "    \n",
    "totaalaantal_verbindingen: int = sum(graadvolgorde)\n",
    "aantal_verbindingen: int = totaalaantal_verbindingen // 2\n",
    "\n",
    "# Create a graph with the maximum heterogeneity parameter\n",
    "maximumheterogeniteit = aantal_verbindingen - math.floor(aantal_verbindingen / (aantal_knopen - 1))\n",
    "G: nx.Graph = nx.expected_degree_graph(graadvolgorde, maximumheterogeniteit)\n",
    "\n",
    "print(f\"Aantal knopens: {G.number_of_nodes()}\")\n",
    "print(f\"Aantal verbindingen: {G.number_of_edges()}\")\n",
    "print(f\"Gemiddelde graad knoop: {sum(dict(G.degree()).values()) / G.number_of_nodes(),  sum(dict(G.degree()).values()) / G.number_of_nodes() == 1.8}\")"
   ]
  },
  {
   "cell_type": "markdown",
   "metadata": {},
   "source": [
    "## 3.19"
   ]
  },
  {
   "cell_type": "code",
   "execution_count": 8,
   "metadata": {
    "deletable": false,
    "execution": {
     "iopub.execute_input": "2024-05-21T22:12:30.950276Z",
     "iopub.status.busy": "2024-05-21T22:12:30.950077Z",
     "iopub.status.idle": "2024-05-21T22:12:30.961563Z",
     "shell.execute_reply": "2024-05-21T22:12:30.960878Z"
    },
    "nbgrader": {
     "cell_type": "code",
     "checksum": "cece48ed18f36ba8fb8e13c128848419",
     "grade": true,
     "grade_id": "fc324",
     "locked": false,
     "points": 6,
     "schema_version": 3,
     "solution": true
    }
   },
   "outputs": [
    {
     "data": {
      "text/plain": [
       "(9.6102100153787, 4.588235294117647, 4.588235294117647)"
      ]
     },
     "execution_count": 8,
     "metadata": {},
     "output_type": "execute_result"
    }
   ],
   "source": [
    "import statistics\n",
    "\n",
    "\n",
    "def avg_degree_neighbors(G: nx.Graph, vriend: int | str) -> float:\n",
    "    \"\"\"\n",
    "    Ontvangt een vriendknoop en graaf G, en geeft de gemiddelde graad van de buren van de knoop terug.\n",
    "    \"\"\"\n",
    "    graden_van_buren_knoop: list[int] = []\n",
    "\n",
    "    for knoop in G.neighbors(vriend):\n",
    "        aantal_graden_knoop: int = G.degree(knoop)\n",
    "        graden_van_buren_knoop.append(aantal_graden_knoop)\n",
    "\n",
    "    if len(graden_van_buren_knoop) > 0:\n",
    "        gemiddelde_graad_buren: float = statistics.mean(graden_van_buren_knoop)\n",
    "\n",
    "        return gemiddelde_graad_buren\n",
    "    else:\n",
    "        return -1.0\n",
    "\n",
    "\n",
    "H= nx.karate_club_graph() \n",
    "\n",
    "{x: avg_degree_neighbors(H,x) for x in H}   \n",
    "\n",
    "# paradox op de karateclub\n",
    "(sum(avg_degree_neighbors(H,x) for x in H )/len(H), \n",
    " sum(H.degree(x) for x in H)/len(H), \n",
    "2* H.number_of_edges()/H.number_of_nodes())"
   ]
  },
  {
   "cell_type": "code",
   "execution_count": 9,
   "metadata": {
    "deletable": false,
    "execution": {
     "iopub.execute_input": "2024-05-21T22:12:30.965013Z",
     "iopub.status.busy": "2024-05-21T22:12:30.964779Z",
     "iopub.status.idle": "2024-05-21T22:12:30.969762Z",
     "shell.execute_reply": "2024-05-21T22:12:30.969033Z"
    },
    "nbgrader": {
     "cell_type": "code",
     "checksum": "038c4f23bde1b8f177044800433a833d",
     "grade": false,
     "grade_id": "3_19",
     "locked": false,
     "schema_version": 3,
     "solution": true
    }
   },
   "outputs": [
    {
     "ename": "SyntaxError",
     "evalue": "only single target (not tuple) can be annotated (2545979830.py, line 1)",
     "output_type": "error",
     "traceback": [
      "\u001b[0;36m  Cell \u001b[0;32mIn[9], line 1\u001b[0;36m\u001b[0m\n\u001b[0;31m    Ja, de vriendschapparadox houdt stand in dit geval: de gemiddelde graad van de buren van knopen is groter dan de gemiddelde graad van een knoop in het Karateclubnetwerk.\u001b[0m\n\u001b[0m    ^\u001b[0m\n\u001b[0;31mSyntaxError\u001b[0m\u001b[0;31m:\u001b[0m only single target (not tuple) can be annotated\n"
     ]
    }
   ],
   "source": [
    "Ja, de vriendschapparadox houdt stand in dit geval: de gemiddelde graad van de buren van knopen is groter dan de gemiddelde graad van een knoop in het Karateclubnetwerk."
   ]
  }
 ],
 "metadata": {
  "hide_input": false,
  "kernelspec": {
   "display_name": "Python 3 (ipykernel)",
   "language": "python",
   "name": "python3"
  },
  "language_info": {
   "codemirror_mode": {
    "name": "ipython",
    "version": 3
   },
   "file_extension": ".py",
   "mimetype": "text/x-python",
   "name": "python",
   "nbconvert_exporter": "python",
   "pygments_lexer": "ipython3",
   "version": "3.10.13"
  },
  "toc": {
   "nav_menu": {},
   "number_sections": true,
   "sideBar": true,
   "skip_h1_title": false,
   "title_cell": "Table of Contents",
   "title_sidebar": "Contents",
   "toc_cell": false,
   "toc_position": {},
   "toc_section_display": true,
   "toc_window_display": false
  },
  "varInspector": {
   "cols": {
    "lenName": 16,
    "lenType": 16,
    "lenVar": 40
   },
   "kernels_config": {
    "python": {
     "delete_cmd_postfix": "",
     "delete_cmd_prefix": "del ",
     "library": "var_list.py",
     "varRefreshCmd": "print(var_dic_list())"
    },
    "r": {
     "delete_cmd_postfix": ") ",
     "delete_cmd_prefix": "rm(",
     "library": "var_list.r",
     "varRefreshCmd": "cat(var_dic_list()) "
    }
   },
   "types_to_exclude": [
    "module",
    "function",
    "builtin_function_or_method",
    "instance",
    "_Feature"
   ],
   "window_display": false
  }
 },
 "nbformat": 4,
 "nbformat_minor": 4
}
