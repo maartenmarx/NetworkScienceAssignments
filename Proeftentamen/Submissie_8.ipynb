{
 "cells": [
  {
   "cell_type": "markdown",
   "metadata": {},
   "source": [
    "# Assignment Netwerkanalyse"
   ]
  },
  {
   "cell_type": "markdown",
   "metadata": {
    "nbgrader": {
     "grade": false,
     "grade_id": "privacy",
     "locked": false,
     "schema_version": 3,
     "solution": false
    }
   },
   "source": [
    "## Notebook made by\n",
    "\n",
    "**Gebruik graag dit formaat**\n",
    "\n",
    "* Voor de namen:  voornaam rest van je naam, voornaam rest van je naam,....\n",
    "* je studentnummers: hetzelfde: scheidt met `,`\n",
    "* je emails: hetzelfde: scheidt met `,`\n",
    "* voor je groep: alleen de hoofdletter (dus voor de groep van Marx zou je `A` kiezen)\n",
    "\n",
    "__Namen__:Anoniem\n",
    "__Emails__:Anoniem\n",
    "__Student id__:Anoniem\n",
    "__Groep__:Anoniem"
   ]
  },
  {
   "cell_type": "markdown",
   "metadata": {},
   "source": [
    "## Toelichting\n",
    "\n",
    "* De meeste opgaven worden automatisch nagekeken. Bij vrijwel alle opdrachten staan er een paar tests onder de opdracht, dit is voornamelijk om te zorgen dat je de juiste type output geeft. Dit zijn dus *NIET* alle tests, die komen er bij het graden nog bij.\n",
    "* Elke vraag is 1 punt waard, tenzij anders aangegeven. Soms is die punt onderverdeeld in deelpunten, maar niet altijd. \n",
    "\n",
    "## Voor het inleveren!\n",
    "\n",
    "* Pas niet de cellen aan, vooral niet die je niet kunt editen. Dit levert problemen op bij nakijken. Twijfel je of je per ongeluk iets hebt gewijzigd, kopieer dan bij inleveren je antwoorden naar een nieuw bestand, zodat het niet fout kan gaan.\n",
    "\n",
    "* Zorg dat de code goed runt van boven naar beneden, verifieer dat door boven in Kernel -> Restart & Run All uit te voeren\n",
    "\n",
    "## Na het inleveren!\n",
    "\n",
    "* Het gebeurt erg vaak dat mensen een \"leeg bestand\" inleveren. Vaak een andere versie van de opgave die nog ergens op je computer rondslingerde. Zonde van al je werk toch!\n",
    "* Dus, lever **minstens een half uur voor tijd in**. Download dan wat je hebt ingeleverd op Canvas. Geef het een andere naam om verwarring te voorkomen. En draai alle cellen, en bekijk het. Geen syntax fouten? Alle vragen gemaakt? Dan zit het vast wel goed, en hoef je niet in de zenuwen te zitten."
   ]
  },
  {
   "cell_type": "markdown",
   "metadata": {
    "toc": true
   },
   "source": [
    "<h1>Table of Contents<span class=\"tocSkip\"></span></h1>\n",
    "<div class=\"toc\"><ul class=\"toc-item\"><li><span><a href=\"#Proeftentamen\" data-toc-modified-id=\"Proeftentamen-1\"><span class=\"toc-item-num\">1&nbsp;&nbsp;</span>Proeftentamen</a></span></li><li><span><a href=\"#Verzamelingen---(2pt)\" data-toc-modified-id=\"Verzamelingen---(2pt)-2\"><span class=\"toc-item-num\">2&nbsp;&nbsp;</span>Verzamelingen   (2pt)</a></span><ul class=\"toc-item\"><li><ul class=\"toc-item\"><li><ul class=\"toc-item\"><li><span><a href=\"#Maak-zelf-goede-testjes\" data-toc-modified-id=\"Maak-zelf-goede-testjes-2.0.0.1\"><span class=\"toc-item-num\">2.0.0.1&nbsp;&nbsp;</span>Maak zelf goede testjes</a></span></li></ul></li></ul></li></ul></li><li><span><a href=\"#Logica-(2pt)\" data-toc-modified-id=\"Logica-(2pt)-3\"><span class=\"toc-item-num\">3&nbsp;&nbsp;</span>Logica (2pt)</a></span></li><li><span><a href=\"#Maak-modellen\" data-toc-modified-id=\"Maak-modellen-4\"><span class=\"toc-item-num\">4&nbsp;&nbsp;</span>Maak modellen</a></span></li><li><span><a href=\"#Beschrijf-netjes\" data-toc-modified-id=\"Beschrijf-netjes-5\"><span class=\"toc-item-num\">5&nbsp;&nbsp;</span>Beschrijf netjes</a></span><ul class=\"toc-item\"><li><ul class=\"toc-item\"><li><ul class=\"toc-item\"><li><span><a href=\"#Verzamelingen\" data-toc-modified-id=\"Verzamelingen-5.0.0.1\"><span class=\"toc-item-num\">5.0.0.1&nbsp;&nbsp;</span>Verzamelingen</a></span></li><li><span><a href=\"#Logica\" data-toc-modified-id=\"Logica-5.0.0.2\"><span class=\"toc-item-num\">5.0.0.2&nbsp;&nbsp;</span>Logica</a></span></li><li><span><a href=\"#Netwerken\" data-toc-modified-id=\"Netwerken-5.0.0.3\"><span class=\"toc-item-num\">5.0.0.3&nbsp;&nbsp;</span>Netwerken</a></span></li></ul></li></ul></li></ul></li><li><span><a href=\"#Verzamelingen-knopen\" data-toc-modified-id=\"Verzamelingen-knopen-6\"><span class=\"toc-item-num\">6&nbsp;&nbsp;</span>Verzamelingen knopen</a></span></li><li><span><a href=\"#Subgrafen\" data-toc-modified-id=\"Subgrafen-7\"><span class=\"toc-item-num\">7&nbsp;&nbsp;</span>Subgrafen</a></span></li><li><span><a href=\"#argmax\" data-toc-modified-id=\"argmax-8\"><span class=\"toc-item-num\">8&nbsp;&nbsp;</span>argmax</a></span></li><li><span><a href=\"#triadic-closure\" data-toc-modified-id=\"triadic-closure-9\"><span class=\"toc-item-num\">9&nbsp;&nbsp;</span>triadic closure</a></span></li><li><span><a href=\"#clustering-coefficient\" data-toc-modified-id=\"clustering-coefficient-10\"><span class=\"toc-item-num\">10&nbsp;&nbsp;</span>clustering coefficient</a></span></li><li><span><a href=\"#clustering-coefficient-(CC)-en-neighborhood-overlap-(NO)\" data-toc-modified-id=\"clustering-coefficient-(CC)-en-neighborhood-overlap-(NO)-11\"><span class=\"toc-item-num\">11&nbsp;&nbsp;</span>clustering coefficient (CC) en neighborhood overlap (NO)</a></span><ul class=\"toc-item\"><li><span><a href=\"#Gatekeeper\" data-toc-modified-id=\"Gatekeeper-11.1\"><span class=\"toc-item-num\">11.1&nbsp;&nbsp;</span>Gatekeeper</a></span></li></ul></li><li><span><a href=\"#gatekeeper-2\" data-toc-modified-id=\"gatekeeper-2-12\"><span class=\"toc-item-num\">12&nbsp;&nbsp;</span>gatekeeper 2</a></span></li><li><span><a href=\"#Vergelijk-eens\" data-toc-modified-id=\"Vergelijk-eens-13\"><span class=\"toc-item-num\">13&nbsp;&nbsp;</span>Vergelijk eens</a></span></li></ul></div>"
   ]
  },
  {
   "cell_type": "markdown",
   "metadata": {},
   "source": [
    "# Proeftentamen\n",
    "\n",
    "* Dit proeftentamen bevat vragen voor de eerste   deeltoets. Het is wat langer dan een echt tentamen.\n",
    "* Je kunt ze het beste als volgt maken:\n",
    "    * zet een timer\n",
    "        * In een echt tentamen zou je tussen de 10 en 15 minuten per vraag hebben.\n",
    "        * Maak gewoon eerst de vraag en zie dan hoeveel tijd je extra (of niet) nodig had.\n",
    "    * gebruik geen internet\n",
    "    * doe alleen dit\n",
    "    * herstart kernel en run opnieuw als je denkt dat je klaar bent\n",
    "    * maak een test(je) of 2 waarmee je je antwoord checked.\n",
    "    \n",
    "> succes!    "
   ]
  },
  {
   "cell_type": "code",
   "execution_count": 1,
   "metadata": {
    "execution": {
     "iopub.execute_input": "2024-04-22T13:16:40.643156Z",
     "iopub.status.busy": "2024-04-22T13:16:40.642786Z",
     "iopub.status.idle": "2024-04-22T13:16:41.465745Z",
     "shell.execute_reply": "2024-04-22T13:16:41.464977Z"
    },
    "nbgrader": {
     "grade": false,
     "grade_id": "imp",
     "locked": true,
     "schema_version": 3,
     "solution": false
    }
   },
   "outputs": [],
   "source": [
    "import networkx as nx\n",
    "import numpy as np\n",
    "%matplotlib inline\n",
    "\n",
    "G= nx.karate_club_graph()"
   ]
  },
  {
   "cell_type": "markdown",
   "metadata": {
    "nbgrader": {
     "grade": false,
     "grade_id": "cell-071a7102a3021797",
     "locked": true,
     "schema_version": 3,
     "solution": false,
     "task": false
    }
   },
   "source": [
    "# Verzamelingen   (2pt)\n",
    "\n",
    "1. Definieer het product van 2 verzamelingen in Python.\n",
    "2. Definieer het symmetrishe verschil van 2 verzamelingen in Python. Gebruik desnoods alleen de set functie union/vereniging. Doe het echt zelf.\n",
    "3. Definieer de verzamelingen getallen groter dan 0 en kleiner dan $n$ die deelbaar zijn door $a$ maar niet door $b$. \n",
    "4. DSefinieer de functie `jaccard(A,B)` voor 2 verzamelingen A en B, met het volgende resultaat (je weet wel dat $|A|$ d cardinaliteit van $A$ geeft (wat een moeilijk woord is voor het aantal elementen dat erin zit).\n",
    "$$ jaccard(A,B)= \\frac{|A\\cap B|}{|A\\cup B|}$$\n",
    "\n",
    "#### Maak zelf goede testjes"
   ]
  },
  {
   "cell_type": "markdown",
   "metadata": {},
   "source": [
    "# Verzamelingen   (2pt)\n",
    "\n",
    "1. Definieer het product van 2 verzamelingen in Python.\n",
    "2. Definieer het symmetrishe verschil van 2 verzamelingen in Python. Gebruik desnoods alleen de set functie union/vereniging. Doe het echt zelf.\n",
    "3. Definieer de verzamelingen getallen groter dan 0 en kleiner dan $n$ die deelbaar zijn door $a$ maar niet door $b$. \n",
    "4. DSefinieer de functie `jaccard(A,B)` voor 2 verzamelingen A en B, met het volgende resultaat (je weet wel dat $|A|$ d cardinaliteit van $A$ geeft (wat een moeilijk woord is voor het aantal elementen dat erin zit).\n",
    "$$ jaccard(A,B)= \\frac{|A\\cap B|}{|A\\cup B|}$$\n",
    "\n",
    "#### Maak zelf goede testjes"
   ]
  },
  {
   "cell_type": "code",
   "execution_count": 2,
   "metadata": {
    "execution": {
     "iopub.execute_input": "2024-04-22T13:16:41.469344Z",
     "iopub.status.busy": "2024-04-22T13:16:41.469119Z",
     "iopub.status.idle": "2024-04-22T13:16:41.473918Z",
     "shell.execute_reply": "2024-04-22T13:16:41.473259Z"
    },
    "nbgrader": {
     "grade": false,
     "grade_id": "vz",
     "locked": false,
     "schema_version": 3,
     "solution": true
    }
   },
   "outputs": [
    {
     "ename": "SyntaxError",
     "evalue": "incomplete input (1178032215.py, line 15)",
     "output_type": "error",
     "traceback": [
      "\u001b[0;36m  Cell \u001b[0;32mIn[2], line 15\u001b[0;36m\u001b[0m\n\u001b[0;31m    #WRITE YOUR CODE HERE\u001b[0m\n\u001b[0m                         ^\u001b[0m\n\u001b[0;31mSyntaxError\u001b[0m\u001b[0;31m:\u001b[0m incomplete input\n"
     ]
    }
   ],
   "source": [
    "def product(A,B):\n",
    "    '''Definieer het product van 2 verzamelingen in Python.'''\n",
    "    #WRITE YOUR CODE HERE\n",
    "    \n",
    "def symmetriesch_verschil(A,B):\n",
    "    '''Definieer het symmetrishe verschil van 2 verzamelingen in Python.'''\n",
    "    \n",
    "    #WRITE YOUR CODE HERE\n",
    "    \n",
    "def vraag3(n,a,b):\n",
    "    '''Definieer de verzamelingen getallen groter dan 0 en kleiner dan $n$ die deelbaar zijn door $a$ maar niet door $b$. '''\n",
    "    #WRITE YOUR CODE HERE\n",
    "    \n",
    "def jaccard(A,B):\n",
    "    #WRITE YOUR CODE HERE"
   ]
  },
  {
   "cell_type": "code",
   "execution_count": 3,
   "metadata": {
    "execution": {
     "iopub.execute_input": "2024-04-22T13:16:41.512183Z",
     "iopub.status.busy": "2024-04-22T13:16:41.511970Z",
     "iopub.status.idle": "2024-04-22T13:16:41.829629Z",
     "shell.execute_reply": "2024-04-22T13:16:41.828852Z"
    },
    "nbgrader": {
     "grade": true,
     "grade_id": "vzt",
     "locked": true,
     "points": 2,
     "schema_version": 3,
     "solution": false
    }
   },
   "outputs": [
    {
     "ename": "NameError",
     "evalue": "name 'product' is not defined",
     "output_type": "error",
     "traceback": [
      "\u001b[0;31m---------------------------------------------------------------------------\u001b[0m",
      "\u001b[0;31mNameError\u001b[0m                                 Traceback (most recent call last)",
      "Cell \u001b[0;32mIn[3], line 3\u001b[0m\n\u001b[1;32m      1\u001b[0m A \u001b[38;5;241m=\u001b[39m \u001b[38;5;28mset\u001b[39m([\u001b[38;5;241m1\u001b[39m,\u001b[38;5;241m2\u001b[39m,\u001b[38;5;241m3\u001b[39m])\n\u001b[1;32m      2\u001b[0m B\u001b[38;5;241m=\u001b[39m\u001b[38;5;28mset\u001b[39m([\u001b[38;5;241m4\u001b[39m,\u001b[38;5;241m5\u001b[39m])\n\u001b[0;32m----> 3\u001b[0m \u001b[38;5;28;01massert\u001b[39;00m \u001b[38;5;28misinstance\u001b[39m(\u001b[43mproduct\u001b[49m(A,B), \u001b[38;5;28mset\u001b[39m)\n\u001b[1;32m      4\u001b[0m \u001b[38;5;28;01massert\u001b[39;00m \u001b[38;5;28misinstance\u001b[39m(symmetriesch_verschil(A,B), \u001b[38;5;28mset\u001b[39m)\n\u001b[1;32m      5\u001b[0m \u001b[38;5;28;01massert\u001b[39;00m \u001b[38;5;28misinstance\u001b[39m(vraag3(\u001b[38;5;241m1000\u001b[39m,\u001b[38;5;241m4\u001b[39m,\u001b[38;5;241m15\u001b[39m), \u001b[38;5;28mset\u001b[39m)\n",
      "\u001b[0;31mNameError\u001b[0m: name 'product' is not defined"
     ]
    }
   ],
   "source": [
    "A = set([1,2,3])\n",
    "B=set([4,5])\n",
    "assert isinstance(product(A,B), set)\n",
    "assert isinstance(symmetriesch_verschil(A,B), set)\n",
    "assert isinstance(vraag3(1000,4,15), set)\n",
    "assert isinstance(jaccard(A,B), float)"
   ]
  },
  {
   "cell_type": "markdown",
   "metadata": {
    "nbgrader": {
     "grade": false,
     "grade_id": "cell-3e942d76f1ab5e97",
     "locked": true,
     "schema_version": 3,
     "solution": false,
     "task": false
    }
   },
   "source": [
    "# Logica (2pt)\n",
    "\n",
    "1. Je gaat een waarheidstafel maken voor een redenering waarin $k$ propositieletters voorkomen. Hoeveel rijen heeft die? (functie `rijen(k)` )\n",
    "2. Je wilt een waarheidstafel maken voor de volgende redenering, waarin je ook echt voor elke subformule een kolom maakt. Hoeveel kolommen heb je dan? En hoeveel rijen? \n",
    "$$ \\{(p\\wedge \\neg q )\\rightarrow r,  p, q\\rightarrow \\neg q\\} \\models r $$ \n",
    "3. Is die redenering eigenlijk geldig?\n",
    "4. Maak die hele waarheidstafel maar. Op een apart blaadje voor jezelf, en maak een foto.\n",
    "5. Geef nu heel helder aan in je waarheistafel naar welke rijen en kolommen je moet kijken om deze geldigheid te checken. "
   ]
  },
  {
   "cell_type": "markdown",
   "metadata": {},
   "source": [
    "# Logica (2pt)\n",
    "\n",
    "1. Je gaat een waarheidstafel maken voor een redenering waarin $k$ propositieletters voorkomen. Hoeveel rijen heeft die? (functie `rijen(k)` )\n",
    "2. Je wilt een waarheidstafel maken voor de volgende redenering, waarin je ook echt voor elke subformule een kolom maakt. Hoeveel kolommen heb je dan? En hoeveel rijen? \n",
    "$$ \\{(p\\wedge \\neg q )\\rightarrow r,  p, q\\rightarrow \\neg q\\} \\models r $$ \n",
    "3. Is die redenering eigenlijk geldig?\n",
    "4. Maak die hele waarheidstafel maar. Op een apart blaadje voor jezelf, en maak een foto.\n",
    "5. Geef nu heel helder aan in je waarheistafel naar welke rijen en kolommen je moet kijken om deze geldigheid te checken. "
   ]
  },
  {
   "cell_type": "code",
   "execution_count": 4,
   "metadata": {
    "execution": {
     "iopub.execute_input": "2024-04-22T13:16:41.834087Z",
     "iopub.status.busy": "2024-04-22T13:16:41.833805Z",
     "iopub.status.idle": "2024-04-22T13:16:41.838600Z",
     "shell.execute_reply": "2024-04-22T13:16:41.837888Z"
    },
    "nbgrader": {
     "grade": false,
     "grade_id": "log",
     "locked": false,
     "schema_version": 3,
     "solution": true
    }
   },
   "outputs": [
    {
     "ename": "IndentationError",
     "evalue": "expected an indented block after function definition on line 1 (2446961508.py, line 4)",
     "output_type": "error",
     "traceback": [
      "\u001b[0;36m  Cell \u001b[0;32mIn[4], line 4\u001b[0;36m\u001b[0m\n\u001b[0;31m    def aantal_rijen():\u001b[0m\n\u001b[0m    ^\u001b[0m\n\u001b[0;31mIndentationError\u001b[0m\u001b[0;31m:\u001b[0m expected an indented block after function definition on line 1\n"
     ]
    }
   ],
   "source": [
    "def rijen(k):\n",
    "    #WRITE YOUR CODE HERE\n",
    "    \n",
    "def aantal_rijen():    \n",
    "    #WRITE YOUR CODE HERE\n",
    "    \n",
    "def aantal_kolommen():    \n",
    "    #WRITE YOUR CODE HERE\n",
    " \n",
    "geldig= None\n",
    "#WRITE YOUR CODE HERE"
   ]
  },
  {
   "cell_type": "code",
   "execution_count": 5,
   "metadata": {
    "execution": {
     "iopub.execute_input": "2024-04-22T13:16:41.842110Z",
     "iopub.status.busy": "2024-04-22T13:16:41.841870Z",
     "iopub.status.idle": "2024-04-22T13:16:41.860851Z",
     "shell.execute_reply": "2024-04-22T13:16:41.860170Z"
    },
    "nbgrader": {
     "grade": true,
     "grade_id": "logt",
     "locked": true,
     "points": 2,
     "schema_version": 3,
     "solution": false
    }
   },
   "outputs": [
    {
     "ename": "NameError",
     "evalue": "name 'rijen' is not defined",
     "output_type": "error",
     "traceback": [
      "\u001b[0;31m---------------------------------------------------------------------------\u001b[0m",
      "\u001b[0;31mNameError\u001b[0m                                 Traceback (most recent call last)",
      "Cell \u001b[0;32mIn[5], line 1\u001b[0m\n\u001b[0;32m----> 1\u001b[0m \u001b[38;5;28;01massert\u001b[39;00m \u001b[38;5;28misinstance\u001b[39m(\u001b[43mrijen\u001b[49m(\u001b[38;5;241m10\u001b[39m), \u001b[38;5;28mint\u001b[39m)\n\u001b[1;32m      2\u001b[0m \u001b[38;5;28;01massert\u001b[39;00m \u001b[38;5;28misinstance\u001b[39m(aantal_rijen(), \u001b[38;5;28mint\u001b[39m)\n\u001b[1;32m      3\u001b[0m \u001b[38;5;28;01massert\u001b[39;00m \u001b[38;5;28misinstance\u001b[39m(aantal_kolommen(), \u001b[38;5;28mint\u001b[39m)\n",
      "\u001b[0;31mNameError\u001b[0m: name 'rijen' is not defined"
     ]
    }
   ],
   "source": [
    "assert isinstance(rijen(10), int)\n",
    "assert isinstance(aantal_rijen(), int)\n",
    "assert isinstance(aantal_kolommen(), int)\n",
    "assert isinstance(geldig, bool)"
   ]
  },
  {
   "cell_type": "markdown",
   "metadata": {
    "nbgrader": {
     "grade": false,
     "grade_id": "models",
     "locked": true,
     "schema_version": 3,
     "solution": false
    }
   },
   "source": [
    "# Maak modellen\n",
    "\n",
    "Schrijf de functie alle modellen, die gegeven een getal $n$ alle mogelijke modellen maakt voor $n$ propositieletters. \n",
    "\n",
    "Een model voor $n$ letters kan je makkelijk weergeven met een lijst van lengte $n$, gevuld met True/False of nullen en enen. De $i$-de positie geeft dan de waarheidswaarde van propositie $p_i$.\n",
    "\n",
    "Je antwoord is dus een lijst van allemaal even lange lijsten.\n",
    "\n",
    "**Hint** Het antwoord voor n=0 is dus geweoon `[[]]`."
   ]
  },
  {
   "cell_type": "code",
   "execution_count": 6,
   "metadata": {
    "execution": {
     "iopub.execute_input": "2024-04-22T13:16:41.864091Z",
     "iopub.status.busy": "2024-04-22T13:16:41.863885Z",
     "iopub.status.idle": "2024-04-22T13:16:41.870178Z",
     "shell.execute_reply": "2024-04-22T13:16:41.869683Z"
    },
    "nbgrader": {
     "grade": false,
     "grade_id": "modelsa",
     "locked": false,
     "schema_version": 3,
     "solution": true
    }
   },
   "outputs": [
    {
     "data": {
      "text/plain": [
       "([[]], [[]], [[]])"
      ]
     },
     "execution_count": 6,
     "metadata": {},
     "output_type": "execute_result"
    }
   ],
   "source": [
    "def models(n):\n",
    "    models = [[]]\n",
    "    #WRITE YOUR CODE HERE\n",
    "    return models\n",
    "\n",
    "models(1), models(2), models(3)"
   ]
  },
  {
   "cell_type": "code",
   "execution_count": 7,
   "metadata": {
    "execution": {
     "iopub.execute_input": "2024-04-22T13:16:41.873197Z",
     "iopub.status.busy": "2024-04-22T13:16:41.872996Z",
     "iopub.status.idle": "2024-04-22T13:16:41.895784Z",
     "shell.execute_reply": "2024-04-22T13:16:41.895135Z"
    },
    "nbgrader": {
     "grade": true,
     "grade_id": "modelsa_Antwoord",
     "locked": true,
     "points": 1,
     "schema_version": 3,
     "solution": false,
     "task": false
    }
   },
   "outputs": [
    {
     "ename": "NameError",
     "evalue": "name 'assert_equal' is not defined",
     "output_type": "error",
     "traceback": [
      "\u001b[0;31m---------------------------------------------------------------------------\u001b[0m",
      "\u001b[0;31mNameError\u001b[0m                                 Traceback (most recent call last)",
      "Cell \u001b[0;32mIn[7], line 18\u001b[0m\n\u001b[1;32m      1\u001b[0m \u001b[38;5;66;03m### BEGIN HIDDEN TESTS\u001b[39;00m\n\u001b[1;32m      2\u001b[0m correct_answer \u001b[38;5;241m=\u001b[39m [[\u001b[38;5;241m0\u001b[39m, \u001b[38;5;241m0\u001b[39m, \u001b[38;5;241m0\u001b[39m, \u001b[38;5;241m0\u001b[39m],\n\u001b[1;32m      3\u001b[0m  [\u001b[38;5;241m1\u001b[39m, \u001b[38;5;241m0\u001b[39m, \u001b[38;5;241m0\u001b[39m, \u001b[38;5;241m0\u001b[39m],\n\u001b[1;32m      4\u001b[0m  [\u001b[38;5;241m0\u001b[39m, \u001b[38;5;241m1\u001b[39m, \u001b[38;5;241m0\u001b[39m, \u001b[38;5;241m0\u001b[39m],\n\u001b[0;32m   (...)\u001b[0m\n\u001b[1;32m     16\u001b[0m  [\u001b[38;5;241m0\u001b[39m, \u001b[38;5;241m1\u001b[39m, \u001b[38;5;241m1\u001b[39m, \u001b[38;5;241m1\u001b[39m],\n\u001b[1;32m     17\u001b[0m  [\u001b[38;5;241m1\u001b[39m, \u001b[38;5;241m1\u001b[39m, \u001b[38;5;241m1\u001b[39m, \u001b[38;5;241m1\u001b[39m]]\n\u001b[0;32m---> 18\u001b[0m \u001b[43massert_equal\u001b[49m(np\u001b[38;5;241m.\u001b[39marray(models(\u001b[38;5;241m4\u001b[39m))\u001b[38;5;241m.\u001b[39mshape, np\u001b[38;5;241m.\u001b[39marray(correct_answer)\u001b[38;5;241m.\u001b[39mshape)\n\u001b[1;32m     19\u001b[0m correct_sets \u001b[38;5;241m=\u001b[39m [\u001b[38;5;28mset\u001b[39m([\u001b[38;5;28mbool\u001b[39m(a) \u001b[38;5;28;01mfor\u001b[39;00m a \u001b[38;5;129;01min\u001b[39;00m item]) \u001b[38;5;28;01mfor\u001b[39;00m item \u001b[38;5;129;01min\u001b[39;00m correct_answer]\n\u001b[1;32m     20\u001b[0m student_sets \u001b[38;5;241m=\u001b[39m [\u001b[38;5;28mset\u001b[39m([\u001b[38;5;28mbool\u001b[39m(a) \u001b[38;5;28;01mfor\u001b[39;00m a \u001b[38;5;129;01min\u001b[39;00m item]) \u001b[38;5;28;01mfor\u001b[39;00m item \u001b[38;5;129;01min\u001b[39;00m models(\u001b[38;5;241m4\u001b[39m)]\n",
      "\u001b[0;31mNameError\u001b[0m: name 'assert_equal' is not defined"
     ]
    }
   ],
   "source": [
    "### BEGIN HIDDEN TESTS\n",
    "correct_answer = [[0, 0, 0, 0],\n",
    " [1, 0, 0, 0],\n",
    " [0, 1, 0, 0],\n",
    " [1, 1, 0, 0],\n",
    " [0, 0, 1, 0],\n",
    " [1, 0, 1, 0],\n",
    " [0, 1, 1, 0],\n",
    " [1, 1, 1, 0],\n",
    " [0, 0, 0, 1],\n",
    " [1, 0, 0, 1],\n",
    " [0, 1, 0, 1],\n",
    " [1, 1, 0, 1],\n",
    " [0, 0, 1, 1],\n",
    " [1, 0, 1, 1],\n",
    " [0, 1, 1, 1],\n",
    " [1, 1, 1, 1]]\n",
    "assert_equal(np.array(models(4)).shape, np.array(correct_answer).shape)\n",
    "correct_sets = [set([bool(a) for a in item]) for item in correct_answer]\n",
    "student_sets = [set([bool(a) for a in item]) for item in models(4)]\n",
    "assert_equal(all([item in correct_sets for item in student_sets]), True)\n",
    "### END HIDDEN TESTS"
   ]
  },
  {
   "cell_type": "markdown",
   "metadata": {
    "nbgrader": {
     "grade": false,
     "grade_id": "cell-7f221cec19ec788f",
     "locked": true,
     "schema_version": 3,
     "solution": false,
     "task": false
    }
   },
   "source": [
    "# Beschrijf netjes\n",
    "\n",
    "Maak de volgende zinnen/definities af in grammaticaal correct Nederlands.\n",
    "\n",
    "#### Verzamelingen \n",
    "\n",
    "1. Verzameling A is een deelverzameling van B als ....\n",
    "2. De machtsverzameling van verzameling A heeft ... elementen.\n",
    "3. Twee verzamelingen zijn aan elkaar gelijk als ....\n",
    "4. De vereniging van 2 verzamelingen is ....\n",
    "\n",
    "#### Logica\n",
    "\n",
    "1. Een redenering $A,B$ DAN  $C$ is geldig dan en slechts dan alleen als ....\n",
    "2. Een tegenvoorbeeld voor een redenering in propositielogica is .....\n",
    "3. Een formule is een *contradictie* als ...\n",
    "4. En een tautologie als .....\n",
    "5. Een redenering met een verzameling premissen die samen een contradictie vormen is .....\n",
    "\n",
    "\n",
    "#### Netwerken\n",
    "\n",
    "1. Een netwerk is verbonden als ....\n",
    "2. En volledig als ...\n",
    "3. De *degree* van een knoop is ....\n",
    "4. De dichtheid van een netwerk is ....\n",
    "5. De afstand tussen twee knopen is ....\n",
    "6. De diameter van een netwerk is ...."
   ]
  },
  {
   "cell_type": "markdown",
   "metadata": {
    "nbgrader": {
     "grade": false,
     "grade_id": "cell-86358017f82eba7e",
     "locked": true,
     "schema_version": 3,
     "solution": false,
     "task": false
    }
   },
   "source": [
    "# Verzamelingen knopen \n",
    "\n",
    "WE gaan wat deelverzamelingen knopen definieren van `G`, het karateclub netwerk.\n",
    "\n",
    "1. Alle knopen in G met een degree van meer dan 2.\n",
    "2. Alle knopen wiens eccentricity gelijk is aan de diameter.\n",
    "3.  Alle knopen wiens eccentricity gelijk is aan de radius\n",
    "4. De knopen met degree 1.\n",
    "5. De verzameling van alle edges die NIET in het netwerk zitten.\n",
    "    * geen reflexieve edges\n",
    "    * geen symmetrische"
   ]
  },
  {
   "cell_type": "markdown",
   "metadata": {},
   "source": [
    "# Beschrijf netjes\n",
    "\n",
    "Maak de volgende zinnen/definities af in grammaticaal correct Nederlands.\n",
    "\n",
    "#### Verzamelingen \n",
    "\n",
    "1. Verzameling A is een deelverzameling van B als ....\n",
    "2. De machtsverzameling van verzameling A heeft ... elementen.\n",
    "3. Twee verzamelingen zijn aan elkaar gelijk als ....\n",
    "4. De vereniging van 2 verzamelingen is ....\n",
    "\n",
    "#### Logica\n",
    "\n",
    "1. Een redenering $A,B$ DAN  $C$ is geldig dan en slechts dan alleen als ....\n",
    "2. Een tegenvoorbeeld voor een redenering in propositielogica is .....\n",
    "3. Een formule is een *contradictie* als ...\n",
    "4. En een tautologie als .....\n",
    "5. Een redenering met een verzameling premissen die samen een contradictie vormen is .....\n",
    "\n",
    "\n",
    "#### Netwerken\n",
    "\n",
    "1. Een netwerk is verbonden als ....\n",
    "2. En volledig als ...\n",
    "3. De *degree* van een knoop is ....\n",
    "4. De dichtheid van een netwerk is ....\n",
    "5. De afstand tussen twee knopen is ....\n",
    "6. De diameter van een netwerk is ...."
   ]
  },
  {
   "cell_type": "markdown",
   "metadata": {},
   "source": [
    "# Verzamelingen knopen \n",
    "\n",
    "WE gaan wat deelverzamelingen knopen definieren van `G`, het karateclub netwerk.\n",
    "\n",
    "1. Alle knopen in G met een degree van meer dan 2.\n",
    "2. Alle knopen wiens eccentricity gelijk is aan de diameter.\n",
    "3.  Alle knopen wiens eccentricity gelijk is aan de radius\n",
    "4. De knopen met degree 1.\n",
    "5. De verzameling van alle edges die NIET in het netwerk zitten.\n",
    "    * geen reflexieve edges\n",
    "    * geen symmetrische"
   ]
  },
  {
   "cell_type": "code",
   "execution_count": 8,
   "metadata": {
    "execution": {
     "iopub.execute_input": "2024-04-22T13:16:41.899031Z",
     "iopub.status.busy": "2024-04-22T13:16:41.898813Z",
     "iopub.status.idle": "2024-04-22T13:16:41.904236Z",
     "shell.execute_reply": "2024-04-22T13:16:41.903692Z"
    },
    "nbgrader": {
     "grade": false,
     "grade_id": "vz2",
     "locked": false,
     "schema_version": 3,
     "solution": true
    }
   },
   "outputs": [
    {
     "data": {
      "text/plain": [
       "(set(), set(), set(), set(), 0, 78, 561, 0.0, 0.13903743315508021)"
      ]
     },
     "execution_count": 8,
     "metadata": {},
     "output_type": "execute_result"
    }
   ],
   "source": [
    "v1=set()\n",
    "v2=set()\n",
    "v3=set()\n",
    "v4=set()\n",
    "v5=set()\n",
    "#WRITE YOUR CODE HERE\n",
    "N=len(G)\n",
    "v1, v2,v3,v4, len(v5), G.number_of_edges(), N*(N-1)//2,  len(v5)/(N*(N-1)//2), nx.density(G)"
   ]
  },
  {
   "cell_type": "code",
   "execution_count": 9,
   "metadata": {
    "execution": {
     "iopub.execute_input": "2024-04-22T13:16:41.906816Z",
     "iopub.status.busy": "2024-04-22T13:16:41.906652Z",
     "iopub.status.idle": "2024-04-22T13:16:41.924836Z",
     "shell.execute_reply": "2024-04-22T13:16:41.924309Z"
    },
    "nbgrader": {
     "grade": true,
     "grade_id": "vz2t",
     "locked": true,
     "points": 2,
     "schema_version": 3,
     "solution": false,
     "task": false
    }
   },
   "outputs": [
    {
     "ename": "NameError",
     "evalue": "name 'assert_equal' is not defined",
     "output_type": "error",
     "traceback": [
      "\u001b[0;31m---------------------------------------------------------------------------\u001b[0m",
      "\u001b[0;31mNameError\u001b[0m                                 Traceback (most recent call last)",
      "Cell \u001b[0;32mIn[9], line 2\u001b[0m\n\u001b[1;32m      1\u001b[0m \u001b[38;5;66;03m### BEGIN HIDDEN TESTS\u001b[39;00m\n\u001b[0;32m----> 2\u001b[0m \u001b[43massert_equal\u001b[49m(v1, {x \u001b[38;5;28;01mfor\u001b[39;00m x \u001b[38;5;129;01min\u001b[39;00m G \u001b[38;5;28;01mif\u001b[39;00m G\u001b[38;5;241m.\u001b[39mdegree(x)\u001b[38;5;241m>\u001b[39m\u001b[38;5;241m2\u001b[39m})\n\u001b[1;32m      3\u001b[0m assert_equal(v2, {x \u001b[38;5;28;01mfor\u001b[39;00m x \u001b[38;5;129;01min\u001b[39;00m G \u001b[38;5;28;01mif\u001b[39;00m nx\u001b[38;5;241m.\u001b[39meccentricity(G)[x] \u001b[38;5;241m==\u001b[39m nx\u001b[38;5;241m.\u001b[39mdiameter(G)})\n\u001b[1;32m      4\u001b[0m assert_equal(v3, {x \u001b[38;5;28;01mfor\u001b[39;00m x \u001b[38;5;129;01min\u001b[39;00m G \u001b[38;5;28;01mif\u001b[39;00m nx\u001b[38;5;241m.\u001b[39meccentricity(G)[x] \u001b[38;5;241m==\u001b[39m nx\u001b[38;5;241m.\u001b[39mradius(G)})\n",
      "\u001b[0;31mNameError\u001b[0m: name 'assert_equal' is not defined"
     ]
    }
   ],
   "source": [
    "### BEGIN HIDDEN TESTS\n",
    "assert_equal(v1, {x for x in G if G.degree(x)>2})\n",
    "assert_equal(v2, {x for x in G if nx.eccentricity(G)[x] == nx.diameter(G)})\n",
    "assert_equal(v3, {x for x in G if nx.eccentricity(G)[x] == nx.radius(G)})\n",
    "assert_equal(v4, { x for x in G if G.degree(x)==1})\n",
    "assert_equal(v5, {(x,y) for x in G for y in G if x<y and not G.has_edge(x,y)})\n",
    "### END HIDDEN TESTS"
   ]
  },
  {
   "cell_type": "markdown",
   "metadata": {
    "nbgrader": {
     "grade": false,
     "grade_id": "sub",
     "locked": true,
     "schema_version": 3,
     "solution": false
    }
   },
   "source": [
    "# Subgrafen\n",
    "\n",
    "We gaan wat deelgrafen bekijken van de beroemde karateclub graaf, en er wat over uitzoeken.\n",
    "\n",
    "De vragen staan steeds in de code cellen in commentaar. Een onzinn-antwoord staat erbij. Dat ga jij natuurlijk vervangen door het juiste."
   ]
  },
  {
   "cell_type": "code",
   "execution_count": 10,
   "metadata": {
    "execution": {
     "iopub.execute_input": "2024-04-22T13:16:41.928062Z",
     "iopub.status.busy": "2024-04-22T13:16:41.927852Z",
     "iopub.status.idle": "2024-04-22T13:16:42.141321Z",
     "shell.execute_reply": "2024-04-22T13:16:42.140762Z"
    },
    "nbgrader": {
     "grade": false,
     "grade_id": "subac",
     "locked": true,
     "schema_version": 3,
     "solution": false
    }
   },
   "outputs": [
    {
     "data": {
      "image/png": "[encoded data removed]",
      "text/plain": [
       "<Figure size 640x480 with 1 Axes>"
      ]
     },
     "metadata": {},
     "output_type": "display_data"
    }
   ],
   "source": [
    "kc= nx.karate_club_graph()\n",
    "\n",
    "nx.draw_networkx(kc)"
   ]
  },
  {
   "cell_type": "code",
   "execution_count": 11,
   "metadata": {
    "execution": {
     "iopub.execute_input": "2024-04-22T13:16:42.144185Z",
     "iopub.status.busy": "2024-04-22T13:16:42.143986Z",
     "iopub.status.idle": "2024-04-22T13:16:42.279872Z",
     "shell.execute_reply": "2024-04-22T13:16:42.279177Z"
    },
    "nbgrader": {
     "grade": false,
     "grade_id": "suba1",
     "locked": false,
     "schema_version": 3,
     "solution": true
    }
   },
   "outputs": [
    {
     "data": {
      "image/png": "[encoded data removed]",
      "text/plain": [
       "<Figure size 640x480 with 1 Axes>"
      ]
     },
     "metadata": {},
     "output_type": "display_data"
    }
   ],
   "source": [
    "# maak het gehele deelnetwerk van kc bestaande uit knoop 33 en all zijn buren \n",
    "# (en alle lijnen daartussen die ook in kc zitten)\n",
    "\n",
    "burenvan33=nx.Graph()\n",
    "#WRITE YOUR CODE HERE\n",
    "nx.draw_networkx(burenvan33)"
   ]
  },
  {
   "cell_type": "code",
   "execution_count": 12,
   "metadata": {
    "execution": {
     "iopub.execute_input": "2024-04-22T13:16:42.283013Z",
     "iopub.status.busy": "2024-04-22T13:16:42.282783Z",
     "iopub.status.idle": "2024-04-22T13:16:42.300409Z",
     "shell.execute_reply": "2024-04-22T13:16:42.299742Z"
    },
    "nbgrader": {
     "grade": true,
     "grade_id": "suba1_Antwoord",
     "locked": true,
     "points": 1,
     "schema_version": 3,
     "solution": false,
     "task": false
    }
   },
   "outputs": [
    {
     "ename": "NameError",
     "evalue": "name 'assert_equal' is not defined",
     "output_type": "error",
     "traceback": [
      "\u001b[0;31m---------------------------------------------------------------------------\u001b[0m",
      "\u001b[0;31mNameError\u001b[0m                                 Traceback (most recent call last)",
      "Cell \u001b[0;32mIn[12], line 2\u001b[0m\n\u001b[1;32m      1\u001b[0m \u001b[38;5;66;03m### BEGIN HIDDEN TESTS\u001b[39;00m\n\u001b[0;32m----> 2\u001b[0m \u001b[43massert_equal\u001b[49m(graphs_equal(burenvan33, kc\u001b[38;5;241m.\u001b[39msubgraph({\u001b[38;5;241m33\u001b[39m}\u001b[38;5;241m|\u001b[39m\u001b[38;5;28mset\u001b[39m(kc\u001b[38;5;241m.\u001b[39mneighbors(\u001b[38;5;241m33\u001b[39m)))), \u001b[38;5;28;01mTrue\u001b[39;00m)\n\u001b[1;32m      3\u001b[0m \u001b[38;5;66;03m### END HIDDEN TESTS\u001b[39;00m\n",
      "\u001b[0;31mNameError\u001b[0m: name 'assert_equal' is not defined"
     ]
    }
   ],
   "source": [
    "### BEGIN HIDDEN TESTS\n",
    "assert_equal(graphs_equal(burenvan33, kc.subgraph({33}|set(kc.neighbors(33)))), True)\n",
    "### END HIDDEN TESTS"
   ]
  },
  {
   "cell_type": "code",
   "execution_count": 13,
   "metadata": {
    "execution": {
     "iopub.execute_input": "2024-04-22T13:16:42.303221Z",
     "iopub.status.busy": "2024-04-22T13:16:42.303040Z",
     "iopub.status.idle": "2024-04-22T13:16:42.305803Z",
     "shell.execute_reply": "2024-04-22T13:16:42.305290Z"
    },
    "nbgrader": {
     "grade": false,
     "grade_id": "suba1a",
     "locked": false,
     "schema_version": 3,
     "solution": true
    }
   },
   "outputs": [],
   "source": [
    "# uit hoeveel knopen bestaat burenvan33?\n",
    "# Check je antwoord op de vorige vraag met een leuke test die gebruik maakt van kc.degree\n",
    "\n",
    "aantalknopen=burenvan33.number_of_nodes()\n",
    "#WRITE YOUR CODE HERE"
   ]
  },
  {
   "cell_type": "code",
   "execution_count": 14,
   "metadata": {
    "execution": {
     "iopub.execute_input": "2024-04-22T13:16:42.308515Z",
     "iopub.status.busy": "2024-04-22T13:16:42.308339Z",
     "iopub.status.idle": "2024-04-22T13:16:42.324038Z",
     "shell.execute_reply": "2024-04-22T13:16:42.323264Z"
    },
    "nbgrader": {
     "grade": true,
     "grade_id": "suba1a_Antwoord",
     "locked": true,
     "points": 1,
     "schema_version": 3,
     "solution": false,
     "task": false
    }
   },
   "outputs": [
    {
     "ename": "NameError",
     "evalue": "name 'assert_equal' is not defined",
     "output_type": "error",
     "traceback": [
      "\u001b[0;31m---------------------------------------------------------------------------\u001b[0m",
      "\u001b[0;31mNameError\u001b[0m                                 Traceback (most recent call last)",
      "Cell \u001b[0;32mIn[14], line 2\u001b[0m\n\u001b[1;32m      1\u001b[0m \u001b[38;5;66;03m### BEGIN HIDDEN TESTS\u001b[39;00m\n\u001b[0;32m----> 2\u001b[0m \u001b[43massert_equal\u001b[49m(aantalknopen, kc\u001b[38;5;241m.\u001b[39mdegree(\u001b[38;5;241m33\u001b[39m)\u001b[38;5;241m+\u001b[39m\u001b[38;5;241m1\u001b[39m)\n\u001b[1;32m      3\u001b[0m \u001b[38;5;66;03m### END HIDDEN TESTS\u001b[39;00m\n",
      "\u001b[0;31mNameError\u001b[0m: name 'assert_equal' is not defined"
     ]
    }
   ],
   "source": [
    "### BEGIN HIDDEN TESTS\n",
    "assert_equal(aantalknopen, kc.degree(33)+1)\n",
    "### END HIDDEN TESTS"
   ]
  },
  {
   "cell_type": "code",
   "execution_count": 15,
   "metadata": {
    "execution": {
     "iopub.execute_input": "2024-04-22T13:16:42.326942Z",
     "iopub.status.busy": "2024-04-22T13:16:42.326745Z",
     "iopub.status.idle": "2024-04-22T13:16:42.436084Z",
     "shell.execute_reply": "2024-04-22T13:16:42.435347Z"
    },
    "nbgrader": {
     "grade": false,
     "grade_id": "suba2",
     "locked": false,
     "schema_version": 3,
     "solution": true
    }
   },
   "outputs": [
    {
     "data": {
      "image/png": "[encoded data removed]",
      "text/plain": [
       "<Figure size 640x480 with 1 Axes>"
      ]
     },
     "metadata": {},
     "output_type": "display_data"
    }
   ],
   "source": [
    "# maak het  deelnetwerk van kc bestaande uit knoop 33 en all zijn buren, en alleen de lijnen die liggen aan knoop 33 \n",
    "# (je krijgt een ster)\n",
    "\n",
    "ster33=nx.Graph()\n",
    "#WRITE YOUR CODE HERE\n",
    "nx.draw_networkx(ster33)"
   ]
  },
  {
   "cell_type": "code",
   "execution_count": 16,
   "metadata": {
    "execution": {
     "iopub.execute_input": "2024-04-22T13:16:42.439678Z",
     "iopub.status.busy": "2024-04-22T13:16:42.439479Z",
     "iopub.status.idle": "2024-04-22T13:16:42.456823Z",
     "shell.execute_reply": "2024-04-22T13:16:42.456233Z"
    },
    "nbgrader": {
     "grade": true,
     "grade_id": "suba2_Antwoord",
     "locked": true,
     "points": 1,
     "schema_version": 3,
     "solution": false,
     "task": false
    }
   },
   "outputs": [
    {
     "ename": "NameError",
     "evalue": "name 'assert_equal' is not defined",
     "output_type": "error",
     "traceback": [
      "\u001b[0;31m---------------------------------------------------------------------------\u001b[0m",
      "\u001b[0;31mNameError\u001b[0m                                 Traceback (most recent call last)",
      "Cell \u001b[0;32mIn[16], line 4\u001b[0m\n\u001b[1;32m      2\u001b[0m ster33_antwoord\u001b[38;5;241m=\u001b[39mnx\u001b[38;5;241m.\u001b[39mGraph()\n\u001b[1;32m      3\u001b[0m ster33_antwoord\u001b[38;5;241m.\u001b[39madd_edges_from({e \u001b[38;5;28;01mfor\u001b[39;00m e \u001b[38;5;129;01min\u001b[39;00m kc\u001b[38;5;241m.\u001b[39medges \u001b[38;5;28;01mif\u001b[39;00m e[\u001b[38;5;241m0\u001b[39m]\u001b[38;5;241m==\u001b[39m\u001b[38;5;241m33\u001b[39m \u001b[38;5;129;01mor\u001b[39;00m e[\u001b[38;5;241m1\u001b[39m]\u001b[38;5;241m==\u001b[39m\u001b[38;5;241m33\u001b[39m})\n\u001b[0;32m----> 4\u001b[0m \u001b[43massert_equal\u001b[49m(graphs_equal(ster33, ster33_antwoord), \u001b[38;5;28;01mTrue\u001b[39;00m)\n\u001b[1;32m      5\u001b[0m \u001b[38;5;66;03m### END HIDDEN TESTS\u001b[39;00m\n",
      "\u001b[0;31mNameError\u001b[0m: name 'assert_equal' is not defined"
     ]
    }
   ],
   "source": [
    "### BEGIN HIDDEN TESTS\n",
    "ster33_antwoord=nx.Graph()\n",
    "ster33_antwoord.add_edges_from({e for e in kc.edges if e[0]==33 or e[1]==33})\n",
    "assert_equal(graphs_equal(ster33, ster33_antwoord), True)\n",
    "### END HIDDEN TESTS"
   ]
  },
  {
   "cell_type": "code",
   "execution_count": 17,
   "metadata": {
    "execution": {
     "iopub.execute_input": "2024-04-22T13:16:42.459901Z",
     "iopub.status.busy": "2024-04-22T13:16:42.459682Z",
     "iopub.status.idle": "2024-04-22T13:16:42.504162Z",
     "shell.execute_reply": "2024-04-22T13:16:42.503280Z"
    },
    "nbgrader": {
     "grade": false,
     "grade_id": "suba3",
     "locked": false,
     "schema_version": 3,
     "solution": true
    }
   },
   "outputs": [
    {
     "data": {
      "image/png": "[encoded data removed]",
      "text/plain": [
       "<Figure size 640x480 with 1 Axes>"
      ]
     },
     "metadata": {},
     "output_type": "display_data"
    }
   ],
   "source": [
    "# Maak nu juist het deelnetwerk bestaande uit alleen de buren van 33 (zonder 33 dus)\n",
    "\n",
    "alleenburenvan33=nx.Graph()\n",
    "#WRITE YOUR CODE HERE\n",
    "nx.draw_circular(alleenburenvan33)"
   ]
  },
  {
   "cell_type": "code",
   "execution_count": 18,
   "metadata": {
    "execution": {
     "iopub.execute_input": "2024-04-22T13:16:42.507714Z",
     "iopub.status.busy": "2024-04-22T13:16:42.507521Z",
     "iopub.status.idle": "2024-04-22T13:16:42.523111Z",
     "shell.execute_reply": "2024-04-22T13:16:42.522248Z"
    },
    "nbgrader": {
     "grade": true,
     "grade_id": "suba3_Antwoord",
     "locked": true,
     "points": 1,
     "schema_version": 3,
     "solution": false,
     "task": false
    }
   },
   "outputs": [
    {
     "ename": "NameError",
     "evalue": "name 'assert_equal' is not defined",
     "output_type": "error",
     "traceback": [
      "\u001b[0;31m---------------------------------------------------------------------------\u001b[0m",
      "\u001b[0;31mNameError\u001b[0m                                 Traceback (most recent call last)",
      "Cell \u001b[0;32mIn[18], line 2\u001b[0m\n\u001b[1;32m      1\u001b[0m \u001b[38;5;66;03m### BEGIN HIDDEN TESTS\u001b[39;00m\n\u001b[0;32m----> 2\u001b[0m \u001b[43massert_equal\u001b[49m(graphs_equal(alleenburenvan33, kc\u001b[38;5;241m.\u001b[39msubgraph(\u001b[38;5;28mset\u001b[39m(kc\u001b[38;5;241m.\u001b[39mneighbors(\u001b[38;5;241m33\u001b[39m)))), \u001b[38;5;28;01mTrue\u001b[39;00m)\n\u001b[1;32m      3\u001b[0m \u001b[38;5;66;03m### END HIDDEN TESTS\u001b[39;00m\n",
      "\u001b[0;31mNameError\u001b[0m: name 'assert_equal' is not defined"
     ]
    }
   ],
   "source": [
    "### BEGIN HIDDEN TESTS\n",
    "assert_equal(graphs_equal(alleenburenvan33, kc.subgraph(set(kc.neighbors(33)))), True)\n",
    "### END HIDDEN TESTS"
   ]
  },
  {
   "cell_type": "code",
   "execution_count": 19,
   "metadata": {
    "execution": {
     "iopub.execute_input": "2024-04-22T13:16:42.525975Z",
     "iopub.status.busy": "2024-04-22T13:16:42.525789Z",
     "iopub.status.idle": "2024-04-22T13:16:42.530434Z",
     "shell.execute_reply": "2024-04-22T13:16:42.529796Z"
    },
    "nbgrader": {
     "grade": false,
     "grade_id": "suba4",
     "locked": false,
     "schema_version": 3,
     "solution": true
    }
   },
   "outputs": [
    {
     "data": {
      "text/plain": [
       "(0, 0.11029411764705882)"
      ]
     },
     "execution_count": 19,
     "metadata": {},
     "output_type": "execute_result"
    }
   ],
   "source": [
    "# In sectie 2.8 in het boek (vergelijking 2.6) wordt de clustering coefficient van een knoop gedefinieerd.\n",
    "# Bereken die in Python voor knoop 33\n",
    "# Gebruik alleen de networkx functie .number_of_edges() en je eerder gemaakte deelnetwerken\n",
    "# Maak een mooie check op je antwoord door ht te vergelijken met nx.clustering(kc,33)\n",
    "cc33=0\n",
    "#WRITE YOUR CODE HERE\n",
    "cc33 , nx.clustering(kc,33)"
   ]
  },
  {
   "cell_type": "code",
   "execution_count": 20,
   "metadata": {
    "execution": {
     "iopub.execute_input": "2024-04-22T13:16:42.533311Z",
     "iopub.status.busy": "2024-04-22T13:16:42.533113Z",
     "iopub.status.idle": "2024-04-22T13:16:42.535915Z",
     "shell.execute_reply": "2024-04-22T13:16:42.535167Z"
    },
    "nbgrader": {
     "grade": false,
     "grade_id": "suba5",
     "locked": false,
     "schema_version": 3,
     "solution": true
    }
   },
   "outputs": [],
   "source": [
    "# Bereken eens de dichtheid van alle netwerken die je tot nu toe gemaakt hebt.\n",
    "# He, wat krijgen we nou? \n",
    "# Beredeneer dat de gelijkheid die je nu ziet ook echt klopt, en altijd zal opgaan\n",
    "\n",
    "#WRITE YOUR CODE HERE"
   ]
  },
  {
   "cell_type": "code",
   "execution_count": 21,
   "metadata": {
    "execution": {
     "iopub.execute_input": "2024-04-22T13:16:42.539685Z",
     "iopub.status.busy": "2024-04-22T13:16:42.539430Z",
     "iopub.status.idle": "2024-04-22T13:16:42.725231Z",
     "shell.execute_reply": "2024-04-22T13:16:42.724557Z"
    },
    "nbgrader": {
     "grade": false,
     "grade_id": "suba6",
     "locked": false,
     "schema_version": 3,
     "solution": true
    }
   },
   "outputs": [
    {
     "name": "stdout",
     "output_type": "stream",
     "text": [
      "1 1\n"
     ]
    },
    {
     "data": {
      "image/png": "[encoded data removed]",
      "text/plain": [
       "<Figure size 640x480 with 1 Axes>"
      ]
     },
     "metadata": {},
     "output_type": "display_data"
    }
   ],
   "source": [
    "# Wat zal er gebeuren met de karateclub als knoop 33 onder de tram komt? \n",
    "# In hoeveel delen valt het netwerk uiteen als we knoop 33 verwijderen en daarmee ook alle lijnen uit knoop 33?\n",
    "# Uit hoeveel knopen bestaat de grootste component die overblijft?\n",
    "\n",
    "hoeveeldelen=1\n",
    "size_maximal_component=1\n",
    "kczonder33=kc.copy()  # ga nu dingen uit kczonder33 halen\n",
    "\n",
    "#WRITE YOUR CODE HERE\n",
    "print(hoeveeldelen, size_maximal_component)\n",
    "nx.draw_networkx(kczonder33)"
   ]
  },
  {
   "cell_type": "code",
   "execution_count": 22,
   "metadata": {
    "execution": {
     "iopub.execute_input": "2024-04-22T13:16:42.728284Z",
     "iopub.status.busy": "2024-04-22T13:16:42.728038Z",
     "iopub.status.idle": "2024-04-22T13:16:42.743646Z",
     "shell.execute_reply": "2024-04-22T13:16:42.743177Z"
    },
    "nbgrader": {
     "grade": true,
     "grade_id": "suba6_Antwoord",
     "locked": true,
     "points": 1,
     "schema_version": 3,
     "solution": false,
     "task": false
    }
   },
   "outputs": [
    {
     "ename": "NameError",
     "evalue": "name 'assert_equal' is not defined",
     "output_type": "error",
     "traceback": [
      "\u001b[0;31m---------------------------------------------------------------------------\u001b[0m",
      "\u001b[0;31mNameError\u001b[0m                                 Traceback (most recent call last)",
      "Cell \u001b[0;32mIn[22], line 2\u001b[0m\n\u001b[1;32m      1\u001b[0m \u001b[38;5;66;03m### BEGIN HIDDEN TESTS\u001b[39;00m\n\u001b[0;32m----> 2\u001b[0m \u001b[43massert_equal\u001b[49m(hoeveeldelen, \u001b[38;5;241m1\u001b[39m)\n\u001b[1;32m      3\u001b[0m assert_equal(size_maximal_component, \u001b[38;5;241m33\u001b[39m)\n\u001b[1;32m      4\u001b[0m \u001b[38;5;66;03m### END HIDDEN TESTS\u001b[39;00m\n",
      "\u001b[0;31mNameError\u001b[0m: name 'assert_equal' is not defined"
     ]
    }
   ],
   "source": [
    "### BEGIN HIDDEN TESTS\n",
    "assert_equal(hoeveeldelen, 1)\n",
    "assert_equal(size_maximal_component, 33)\n",
    "### END HIDDEN TESTS"
   ]
  },
  {
   "cell_type": "code",
   "execution_count": 23,
   "metadata": {
    "execution": {
     "iopub.execute_input": "2024-04-22T13:16:42.746397Z",
     "iopub.status.busy": "2024-04-22T13:16:42.746234Z",
     "iopub.status.idle": "2024-04-22T13:16:42.760310Z",
     "shell.execute_reply": "2024-04-22T13:16:42.759822Z"
    },
    "nbgrader": {
     "grade": false,
     "grade_id": "suba7",
     "locked": false,
     "schema_version": 3,
     "solution": true
    }
   },
   "outputs": [
    {
     "ename": "NameError",
     "evalue": "name 'MijnDict' is not defined",
     "output_type": "error",
     "traceback": [
      "\u001b[0;31m---------------------------------------------------------------------------\u001b[0m",
      "\u001b[0;31mNameError\u001b[0m                                 Traceback (most recent call last)",
      "Cell \u001b[0;32mIn[23], line 8\u001b[0m\n\u001b[1;32m      6\u001b[0m grootste_effect_knoop\u001b[38;5;241m=\u001b[39m\u001b[38;5;241m33\u001b[39m\n\u001b[1;32m      7\u001b[0m \u001b[38;5;66;03m#WRITE YOUR CODE HERE\u001b[39;00m\n\u001b[0;32m----> 8\u001b[0m grootste_effect_knoop, \u001b[38;5;124m\"\u001b[39m\u001b[38;5;124mgrootste component: \u001b[39m\u001b[38;5;124m\"\u001b[39m, \u001b[43mMijnDict\u001b[49m[grootste_effect_knoop]\n",
      "\u001b[0;31mNameError\u001b[0m: name 'MijnDict' is not defined"
     ]
    }
   ],
   "source": [
    "#  Dat valt best mee he? \n",
    "# Voor welke knoop in de karateclub is het effect het ergst? Dus bij welke knoop zorget ervoor dat als we die knoop en haar lijnen\n",
    "# weghalen, de overbegleven grootste component het kleinst is?\n",
    "# Als er meerdere antwoorden goed zijn, geef je er gewoon eentje van\n",
    "\n",
    "grootste_effect_knoop=33\n",
    "#WRITE YOUR CODE HERE\n",
    "grootste_effect_knoop, \"grootste component: \", MijnDict[grootste_effect_knoop]"
   ]
  },
  {
   "cell_type": "code",
   "execution_count": 24,
   "metadata": {
    "execution": {
     "iopub.execute_input": "2024-04-22T13:16:42.763594Z",
     "iopub.status.busy": "2024-04-22T13:16:42.763418Z",
     "iopub.status.idle": "2024-04-22T13:16:42.776629Z",
     "shell.execute_reply": "2024-04-22T13:16:42.776164Z"
    },
    "nbgrader": {
     "grade": true,
     "grade_id": "suba7_Antwoord",
     "locked": true,
     "points": 1,
     "schema_version": 3,
     "solution": false,
     "task": false
    }
   },
   "outputs": [
    {
     "ename": "NameError",
     "evalue": "name 'assert_equal' is not defined",
     "output_type": "error",
     "traceback": [
      "\u001b[0;31m---------------------------------------------------------------------------\u001b[0m",
      "\u001b[0;31mNameError\u001b[0m                                 Traceback (most recent call last)",
      "Cell \u001b[0;32mIn[24], line 2\u001b[0m\n\u001b[1;32m      1\u001b[0m \u001b[38;5;66;03m### BEGIN HIDDEN TESTS\u001b[39;00m\n\u001b[0;32m----> 2\u001b[0m \u001b[43massert_equal\u001b[49m(grootste_effect_knoop, \u001b[38;5;241m0\u001b[39m)\n\u001b[1;32m      3\u001b[0m \u001b[38;5;66;03m### END HIDDEN TESTS\u001b[39;00m\n",
      "\u001b[0;31mNameError\u001b[0m: name 'assert_equal' is not defined"
     ]
    }
   ],
   "source": [
    "### BEGIN HIDDEN TESTS\n",
    "assert_equal(grootste_effect_knoop, 0)\n",
    "### END HIDDEN TESTS"
   ]
  },
  {
   "cell_type": "code",
   "execution_count": 25,
   "metadata": {
    "execution": {
     "iopub.execute_input": "2024-04-22T13:16:42.779279Z",
     "iopub.status.busy": "2024-04-22T13:16:42.779058Z",
     "iopub.status.idle": "2024-04-22T13:16:42.782930Z",
     "shell.execute_reply": "2024-04-22T13:16:42.782430Z"
    },
    "nbgrader": {
     "grade": false,
     "grade_id": "suba8",
     "locked": false,
     "schema_version": 3,
     "solution": true
    }
   },
   "outputs": [
    {
     "data": {
      "text/plain": [
       "set()"
      ]
     },
     "execution_count": 25,
     "metadata": {},
     "output_type": "execute_result"
    }
   ],
   "source": [
    "\n",
    "## OK de laatste, wat nu als er 2 onder de tram komen? \n",
    "## voor welke 2 verliezen we de meeste leden uit de grootste verbonden component?\n",
    "# geef je antwoord als verzameling. Bij meerdere paartjes kandidaten geef je er gewoon 1.\n",
    "\n",
    "grootste_effect_set=set()\n",
    "#WRITE YOUR CODE HERE\n",
    "grootste_effect_set"
   ]
  },
  {
   "cell_type": "code",
   "execution_count": 26,
   "metadata": {
    "execution": {
     "iopub.execute_input": "2024-04-22T13:16:42.785796Z",
     "iopub.status.busy": "2024-04-22T13:16:42.785562Z",
     "iopub.status.idle": "2024-04-22T13:16:42.798852Z",
     "shell.execute_reply": "2024-04-22T13:16:42.798353Z"
    },
    "nbgrader": {
     "grade": true,
     "grade_id": "sbua8_Antwoord",
     "locked": true,
     "points": 1,
     "schema_version": 3,
     "solution": false,
     "task": false
    }
   },
   "outputs": [
    {
     "ename": "NameError",
     "evalue": "name 'assert_equal' is not defined",
     "output_type": "error",
     "traceback": [
      "\u001b[0;31m---------------------------------------------------------------------------\u001b[0m",
      "\u001b[0;31mNameError\u001b[0m                                 Traceback (most recent call last)",
      "Cell \u001b[0;32mIn[26], line 2\u001b[0m\n\u001b[1;32m      1\u001b[0m \u001b[38;5;66;03m### BEGIN HIDDEN TESTS\u001b[39;00m\n\u001b[0;32m----> 2\u001b[0m \u001b[43massert_equal\u001b[49m(grootste_effect_set, {\u001b[38;5;241m0\u001b[39m, \u001b[38;5;241m1\u001b[39m})\n\u001b[1;32m      3\u001b[0m \u001b[38;5;66;03m### END HIDDEN TESTS\u001b[39;00m\n",
      "\u001b[0;31mNameError\u001b[0m: name 'assert_equal' is not defined"
     ]
    }
   ],
   "source": [
    "### BEGIN HIDDEN TESTS\n",
    "assert_equal(grootste_effect_set, {0, 1})\n",
    "### END HIDDEN TESTS"
   ]
  },
  {
   "cell_type": "markdown",
   "metadata": {
    "nbgrader": {
     "grade": false,
     "grade_id": "max",
     "locked": true,
     "schema_version": 3,
     "solution": false
    }
   },
   "source": [
    "# argmax\n",
    "\n",
    "* Definieer de functie `argmax`, die gegeven een dict een sleutel teruggeeft die de hoogste waarde in die dict heeft."
   ]
  },
  {
   "cell_type": "code",
   "execution_count": 27,
   "metadata": {
    "execution": {
     "iopub.execute_input": "2024-04-22T13:16:42.801554Z",
     "iopub.status.busy": "2024-04-22T13:16:42.801379Z",
     "iopub.status.idle": "2024-04-22T13:16:42.804819Z",
     "shell.execute_reply": "2024-04-22T13:16:42.804363Z"
    },
    "nbgrader": {
     "grade": false,
     "grade_id": "maxa",
     "locked": false,
     "schema_version": 3,
     "solution": true
    }
   },
   "outputs": [
    {
     "ename": "IndentationError",
     "evalue": "expected an indented block after function definition on line 1 (1276102949.py, line 6)",
     "output_type": "error",
     "traceback": [
      "\u001b[0;36m  Cell \u001b[0;32mIn[27], line 6\u001b[0;36m\u001b[0m\n\u001b[0;31m    G= nx.karate_club_graph()\u001b[0m\n\u001b[0m    ^\u001b[0m\n\u001b[0;31mIndentationError\u001b[0m\u001b[0;31m:\u001b[0m expected an indented block after function definition on line 1\n"
     ]
    }
   ],
   "source": [
    "def argmax(D):\n",
    "    #WRITE YOUR CODE HERE\n",
    "\n",
    "# test    \n",
    "\n",
    "G= nx.karate_club_graph()\n",
    "Deetje= {n:G.degree(n) for n in G}\n",
    "argmax(Deetje)\n",
    "#argmax(dict())"
   ]
  },
  {
   "cell_type": "code",
   "execution_count": 28,
   "metadata": {
    "execution": {
     "iopub.execute_input": "2024-04-22T13:16:42.807406Z",
     "iopub.status.busy": "2024-04-22T13:16:42.807244Z",
     "iopub.status.idle": "2024-04-22T13:16:42.811411Z",
     "shell.execute_reply": "2024-04-22T13:16:42.810970Z"
    },
    "nbgrader": {
     "grade": true,
     "grade_id": "maxa_Antwoord",
     "locked": true,
     "points": 1,
     "schema_version": 3,
     "solution": false,
     "task": false
    }
   },
   "outputs": [
    {
     "data": {
      "text/plain": [
       "True"
      ]
     },
     "execution_count": 28,
     "metadata": {},
     "output_type": "execute_result"
    }
   ],
   "source": [
    "# real tests\n",
    "G.degree(33)== max(dict(G.degree()).values())\n",
    "G.degree(33)== sorted(dict(G.degree()).values())[-1]"
   ]
  },
  {
   "cell_type": "code",
   "execution_count": 29,
   "metadata": {
    "execution": {
     "iopub.execute_input": "2024-04-22T13:16:42.813939Z",
     "iopub.status.busy": "2024-04-22T13:16:42.813776Z",
     "iopub.status.idle": "2024-04-22T13:16:42.817718Z",
     "shell.execute_reply": "2024-04-22T13:16:42.817281Z"
    }
   },
   "outputs": [
    {
     "data": {
      "text/plain": [
       "True"
      ]
     },
     "execution_count": 29,
     "metadata": {},
     "output_type": "execute_result"
    }
   ],
   "source": [
    "# real tests\n",
    "\n",
    "G.degree(33)== max(dict(G.degree()).values())\n",
    "\n",
    "G.degree(33)== sorted(dict(G.degree()).values())[-1]"
   ]
  },
  {
   "cell_type": "markdown",
   "metadata": {
    "nbgrader": {
     "grade": false,
     "grade_id": "tc",
     "locked": true,
     "schema_version": 3,
     "solution": false
    }
   },
   "source": [
    "# triadic closure\n",
    "\n",
    ">Consider an arbitrary (undirected)  social network `G`.\n",
    "\n",
    ">Suppose that this social network was obtained by observing a group of people at a particular point in time and recording all their friendship relations. Now suppose that we come back at some point in the future and observe it again. \n",
    "\n",
    ">According to the theories based on empirical studies of triadic closure in networks, which new edge is most likely to be present? (I.e. which pair of nodes, who do not currently have an edge connecting them, are most likely to be linked by an edge when we return to take the second observation?)\n",
    "\n",
    "Je beantwoord deze vraag uit het boek op drie manieren: (de eerste hebben we al gegeven)\n",
    "\n",
    "1. Maak onderstaande zin af in correct gramaticaal Nederlands gebruik makend van hoogstens 10 woorden.\n",
    "    * *Het paar (A,B) met de hoogste kans om verbonden te worden is ... \n",
    "2. Nu maak je dezelfde zin af maar je gebruikt al wat meer termen die heel precies zijn en die ook een implementatie in networkx hebben. \n",
    "    * het is nog steeds kort, begrijpelijk, en krachtig.\n",
    "3. Nu implementeer je het in Python.    "
   ]
  },
  {
   "cell_type": "markdown",
   "metadata": {
    "nbgrader": {
     "grade": true,
     "grade_id": "tc1",
     "locked": false,
     "points": 0.33,
     "schema_version": 3,
     "solution": true
    }
   },
   "source": [
    "YOUR ANSWER HERE"
   ]
  },
  {
   "cell_type": "markdown",
   "metadata": {
    "nbgrader": {
     "grade": true,
     "grade_id": "tc2",
     "locked": false,
     "points": 0.33,
     "schema_version": 3,
     "solution": true
    }
   },
   "source": [
    "YOUR ANSWER HERE"
   ]
  },
  {
   "cell_type": "code",
   "execution_count": 30,
   "metadata": {
    "execution": {
     "iopub.execute_input": "2024-04-22T13:16:42.820443Z",
     "iopub.status.busy": "2024-04-22T13:16:42.820263Z",
     "iopub.status.idle": "2024-04-22T13:16:43.443671Z",
     "shell.execute_reply": "2024-04-22T13:16:43.443028Z"
    },
    "nbgrader": {
     "grade": false,
     "grade_id": "tc3",
     "locked": false,
     "schema_version": 3,
     "solution": true
    }
   },
   "outputs": [
    {
     "data": {
      "image/png": "[encoded data removed]",
      "text/plain": [
       "<Figure size 640x480 with 1 Axes>"
      ]
     },
     "metadata": {},
     "output_type": "display_data"
    }
   ],
   "source": [
    "def hoogste_kans(G):\n",
    "    '''Geef een paar knopen uit G waartussen geen lijn ligt, en die de \n",
    "    hoogste kans hebben om een i\n",
    "    een lijn te krijgen volgens de triadic closure theorie.\n",
    "    Als er meerdere zijn voldoet een willekeurige winnaar.'''\n",
    "    #WRITE YOUR CODE HERE\n",
    "    \n",
    "G= nx.karate_club_graph()\n",
    "nx.draw_kamada_kawai(G, with_labels=True)\n",
    "\n",
    "hoogste_kans(G)"
   ]
  },
  {
   "cell_type": "code",
   "execution_count": 31,
   "metadata": {
    "execution": {
     "iopub.execute_input": "2024-04-22T13:16:43.447903Z",
     "iopub.status.busy": "2024-04-22T13:16:43.447688Z",
     "iopub.status.idle": "2024-04-22T13:16:43.497345Z",
     "shell.execute_reply": "2024-04-22T13:16:43.496682Z"
    },
    "nbgrader": {
     "grade": true,
     "grade_id": "tc3_Antwoord",
     "locked": true,
     "points": 1,
     "schema_version": 3,
     "solution": false,
     "task": false
    }
   },
   "outputs": [
    {
     "ename": "NameError",
     "evalue": "name 'assert_equal' is not defined",
     "output_type": "error",
     "traceback": [
      "\u001b[0;31m---------------------------------------------------------------------------\u001b[0m",
      "\u001b[0;31mNameError\u001b[0m                                 Traceback (most recent call last)",
      "Cell \u001b[0;32mIn[31], line 4\u001b[0m\n\u001b[1;32m      2\u001b[0m \u001b[38;5;28mlen\u001b[39m(\u001b[38;5;28mset\u001b[39m(G\u001b[38;5;241m.\u001b[39mneighbors(\u001b[38;5;241m2\u001b[39m))\u001b[38;5;241m&\u001b[39m \u001b[38;5;28mset\u001b[39m(G\u001b[38;5;241m.\u001b[39mneighbors(\u001b[38;5;241m33\u001b[39m)))\n\u001b[1;32m      3\u001b[0m \u001b[38;5;66;03m### BEGIN HIDDEN TESTS\u001b[39;00m\n\u001b[0;32m----> 4\u001b[0m \u001b[43massert_equal\u001b[49m(hoogste_kans(G), (\u001b[38;5;241m2\u001b[39m, \u001b[38;5;241m33\u001b[39m))\n\u001b[1;32m      5\u001b[0m \u001b[38;5;66;03m### END HIDDEN TESTS\u001b[39;00m\n",
      "\u001b[0;31mNameError\u001b[0m: name 'assert_equal' is not defined"
     ]
    }
   ],
   "source": [
    "# test hoeveel ie sluit\n",
    "len(set(G.neighbors(2))& set(G.neighbors(33)))\n",
    "### BEGIN HIDDEN TESTS\n",
    "assert_equal(hoogste_kans(G), (2, 33))\n",
    "### END HIDDEN TESTS"
   ]
  },
  {
   "cell_type": "code",
   "execution_count": 32,
   "metadata": {
    "execution": {
     "iopub.execute_input": "2024-04-22T13:16:43.500794Z",
     "iopub.status.busy": "2024-04-22T13:16:43.500544Z",
     "iopub.status.idle": "2024-04-22T13:16:43.505310Z",
     "shell.execute_reply": "2024-04-22T13:16:43.504726Z"
    }
   },
   "outputs": [
    {
     "data": {
      "text/plain": [
       "6"
      ]
     },
     "execution_count": 32,
     "metadata": {},
     "output_type": "execute_result"
    }
   ],
   "source": [
    "# test hoeveel ie sluit\n",
    "\n",
    "len(set(G.neighbors(2))& set(G.neighbors(33)))"
   ]
  },
  {
   "cell_type": "markdown",
   "metadata": {
    "nbgrader": {
     "grade": false,
     "grade_id": "no",
     "locked": true,
     "schema_version": 3,
     "solution": false
    }
   },
   "source": [
    "# clustering coefficient\n",
    "\n",
    "> Suppose that a team of anthropologists is studying a set of three small villages that neighbor one another. Each village has 30 people, consisting of 2-3 extended families.\n",
    "       \n",
    "> Everyone in each village knows all the people in their own village, as well as the people\n",
    "in the other villages.\n",
    "When the anthropologists build the social network on the people in all three villages taken together, they find that each person is friends with all the other people in their own village, and enemies with everyone in the two other villages. \n",
    "\n",
    ">This gives them a network on 90 people (i.e., 30 in each village), with positive and negative signs on its edges.\n",
    "\n",
    "In dit  ongerichte netwerk hebben we dus twee maten voor clustering coefficient voor elke knoop, een voor de positieve, en een voor de negatieve lijnen.\n",
    "\n",
    "1. Maak de volgende zin in een paar woorden af. Woorden die je kleine zusje ook zou snappen.\n",
    "\n",
    ">De clustering coefficient van een knoop is gelijk aan ....\n",
    "\n",
    "2. De CC van een knoop n is gelijk aan een breuk. Geef in simpel Nederlands weer wat de teller en wat de noemer van die breuk is.\n",
    "\n",
    "3. Henk is de leider van een van de 3 dorpjes. Geef een beargumenteerde schatting voor de positieve CC en de negatieve CC van Henk.\n",
    "\n",
    "4. Bereken exact die 2 waardes voor Henk.\n",
    "\n",
    "5. Beargumenteer dat die waardes voor elke knoop in dat dorp hetzelfde zijn. En voor de leidster, Ingrid, van het andere dorp? "
   ]
  },
  {
   "cell_type": "markdown",
   "metadata": {
    "nbgrader": {
     "grade": true,
     "grade_id": "no1",
     "locked": false,
     "points": 0.2,
     "schema_version": 3,
     "solution": true
    }
   },
   "source": [
    "YOUR ANSWER HERE"
   ]
  },
  {
   "cell_type": "markdown",
   "metadata": {
    "nbgrader": {
     "grade": true,
     "grade_id": "no2",
     "locked": false,
     "points": 0.2,
     "schema_version": 3,
     "solution": true
    }
   },
   "source": [
    "YOUR ANSWER HERE"
   ]
  },
  {
   "cell_type": "markdown",
   "metadata": {
    "nbgrader": {
     "grade": true,
     "grade_id": "no3",
     "locked": false,
     "points": 0.2,
     "schema_version": 3,
     "solution": true
    }
   },
   "source": [
    "YOUR ANSWER HERE"
   ]
  },
  {
   "cell_type": "markdown",
   "metadata": {
    "nbgrader": {
     "grade": true,
     "grade_id": "no4",
     "locked": false,
     "points": 0.2,
     "schema_version": 3,
     "solution": true
    }
   },
   "source": [
    "YOUR ANSWER HERE"
   ]
  },
  {
   "cell_type": "markdown",
   "metadata": {
    "nbgrader": {
     "grade": true,
     "grade_id": "no5",
     "locked": false,
     "points": 0.2,
     "schema_version": 3,
     "solution": true
    }
   },
   "source": [
    "YOUR ANSWER HERE"
   ]
  },
  {
   "cell_type": "markdown",
   "metadata": {
    "nbgrader": {
     "grade": false,
     "grade_id": "ccno",
     "locked": true,
     "schema_version": 3,
     "solution": false
    }
   },
   "source": [
    "# clustering coefficient (CC) en neighborhood overlap (NO)\n",
    "\n",
    "\n",
    "\n",
    "De neighborhood overlap (NO) van een lijn tussen twee knopen $A$ en $B$ is het aantal gedeelde buren van zowel A als B gedeeld door het totaal aantal buren van A en B min 2 (want we tellen A en B zelf niet mee).\n",
    "\n",
    "\n",
    "1. Geef de relatie tussen de neighbourhoud overlap en de Jaccard coefficient. Die is, voor 2 verzamelingen A en B:\n",
    "\n",
    "$$Jaccard(A,B)= \\frac{|A\\cap B|}{|A\\cup B|}$$\n",
    "\n",
    "2.  Geef voor elke van de mogelijkheden hieronder een voorbeeld van een netwerk met 2 knopen A en B waarvoor geldt dat\n",
    " \n",
    "     1. $CC(A)=CC(B)=1$ en $NO((A,B))=0$.\n",
    "     1. $CC(A)=CC(B)=1$ en $NO((A,B))=1$.\n",
    "     1. $CC(A)=CC(B)=0$ en $NO((A,B))=1$.\n",
    "     1. $CC(A)=CC(B)=0$ en $NO((A,B))=0$.\n",
    " \n",
    " Teken ze, en laat zien dat je voorbeeld echt een voorbeeld is. Hoe kleiner, hoe beter!"
   ]
  },
  {
   "cell_type": "markdown",
   "metadata": {
    "nbgrader": {
     "grade": true,
     "grade_id": "ccno1",
     "locked": false,
     "points": 1,
     "schema_version": 3,
     "solution": true
    }
   },
   "source": [
    "YOUR ANSWER HERE"
   ]
  },
  {
   "cell_type": "markdown",
   "metadata": {
    "nbgrader": {
     "grade": false,
     "grade_id": "gt",
     "locked": true,
     "schema_version": 3,
     "solution": false
    }
   },
   "source": [
    "##  Gatekeeper\n",
    "\n",
    "Een knoop z is een *gatekeeper* voor knopen x en y in graaf G als z op elk kortste pad tussen x en y ligt. (Hier zijn x,y,z altijd verschillend).\n",
    "\n",
    "En z is een gatekeeper in graaf G als z een gatekeeper is voor minstens twee knopen x en y.\n",
    "\n",
    "\n",
    "Dus in een \"spin in het web netwerk\" met 1 middelpunt en allemaal ondeling niet verbonden satelitten is dat middelpunt een gatekeeper voor elk paar satelieten, en het is ook de enige gatekeper.\n",
    "\n",
    "Definieer die functie en maak een paar mooie tests.\n",
    "\n",
    "**HINT** Denk eens aan `nx.all_shortest_paths`.\n",
    "\n",
    "**HINT** Dit is best een lastige. Je zou om te beginnen eerst een functie `gatekeep(G,z,x,y)` kunnen maken die `true` teruggeeft precies als `z` een gatkeeper is voor `x` en `y`. Dan kan je deze functie gebruiken in je antwoord.\n",
    "\n"
   ]
  },
  {
   "cell_type": "code",
   "execution_count": 33,
   "metadata": {
    "execution": {
     "iopub.execute_input": "2024-04-22T13:16:43.509565Z",
     "iopub.status.busy": "2024-04-22T13:16:43.509346Z",
     "iopub.status.idle": "2024-04-22T13:16:43.513740Z",
     "shell.execute_reply": "2024-04-22T13:16:43.512835Z"
    },
    "nbgrader": {
     "grade": false,
     "grade_id": "gta",
     "locked": false,
     "schema_version": 3,
     "solution": true
    }
   },
   "outputs": [
    {
     "ename": "IndentationError",
     "evalue": "expected an indented block after function definition on line 1 (946553466.py, line 4)",
     "output_type": "error",
     "traceback": [
      "\u001b[0;36m  Cell \u001b[0;32mIn[33], line 4\u001b[0;36m\u001b[0m\n\u001b[0;31m    G= nx.karate_club_graph()\u001b[0m\n\u001b[0m    ^\u001b[0m\n\u001b[0;31mIndentationError\u001b[0m\u001b[0;31m:\u001b[0m expected an indented block after function definition on line 1\n"
     ]
    }
   ],
   "source": [
    "def gatekeepers(G):\n",
    "    #WRITE YOUR CODE HERE\n",
    "    #WRITE YOUR CODE HERE\n",
    "G= nx.karate_club_graph()    \n",
    "gatekeepers(G)"
   ]
  },
  {
   "cell_type": "code",
   "execution_count": 34,
   "metadata": {
    "execution": {
     "iopub.execute_input": "2024-04-22T13:16:43.517432Z",
     "iopub.status.busy": "2024-04-22T13:16:43.517177Z",
     "iopub.status.idle": "2024-04-22T13:16:43.533511Z",
     "shell.execute_reply": "2024-04-22T13:16:43.532758Z"
    },
    "nbgrader": {
     "grade": true,
     "grade_id": "gta_Antwoord",
     "locked": true,
     "points": 1,
     "schema_version": 3,
     "solution": false,
     "task": false
    }
   },
   "outputs": [
    {
     "ename": "NameError",
     "evalue": "name 'assert_equal' is not defined",
     "output_type": "error",
     "traceback": [
      "\u001b[0;31m---------------------------------------------------------------------------\u001b[0m",
      "\u001b[0;31mNameError\u001b[0m                                 Traceback (most recent call last)",
      "Cell \u001b[0;32mIn[34], line 2\u001b[0m\n\u001b[1;32m      1\u001b[0m \u001b[38;5;66;03m### BEGIN HIDDEN TESTS\u001b[39;00m\n\u001b[0;32m----> 2\u001b[0m \u001b[43massert_equal\u001b[49m(gatekeepers(G), {\u001b[38;5;241m0\u001b[39m, \u001b[38;5;241m1\u001b[39m, \u001b[38;5;241m2\u001b[39m, \u001b[38;5;241m5\u001b[39m, \u001b[38;5;241m6\u001b[39m, \u001b[38;5;241m13\u001b[39m, \u001b[38;5;241m23\u001b[39m, \u001b[38;5;241m27\u001b[39m, \u001b[38;5;241m31\u001b[39m, \u001b[38;5;241m32\u001b[39m, \u001b[38;5;241m33\u001b[39m})\n\u001b[1;32m      3\u001b[0m \u001b[38;5;66;03m### END HIDDEN TESTS\u001b[39;00m\n",
      "\u001b[0;31mNameError\u001b[0m: name 'assert_equal' is not defined"
     ]
    }
   ],
   "source": [
    "### BEGIN HIDDEN TESTS\n",
    "assert_equal(gatekeepers(G), {0, 1, 2, 5, 6, 13, 23, 27, 31, 32, 33})\n",
    "### END HIDDEN TESTS"
   ]
  },
  {
   "cell_type": "markdown",
   "metadata": {
    "nbgrader": {
     "grade": false,
     "grade_id": "gt2",
     "locked": true,
     "schema_version": 3,
     "solution": false
    }
   },
   "source": [
    "# gatekeeper 2\n",
    "\n",
    "* Nu willen we niet alleen de gatekeepers weten , maar ook voor hoeveel paren x,y ze gatekeeper zijn. Let op dat je paartjes maar 1 keer telt (dat kan bijv door te eisen dat voor een paartje (x,y) altijd `x<y` geldt.)\n",
    "* Geef je antwoord als dict met de gatekeepers als sleutels en het aantal paren als waarde.\n",
    "\n",
    "* Met wat geluk is het een kleine aanpassing van je eerdere code\n"
   ]
  },
  {
   "cell_type": "code",
   "execution_count": 35,
   "metadata": {
    "execution": {
     "iopub.execute_input": "2024-04-22T13:16:43.536504Z",
     "iopub.status.busy": "2024-04-22T13:16:43.536315Z",
     "iopub.status.idle": "2024-04-22T13:16:43.539861Z",
     "shell.execute_reply": "2024-04-22T13:16:43.539312Z"
    },
    "nbgrader": {
     "grade": false,
     "grade_id": "gt2a",
     "locked": false,
     "schema_version": 3,
     "solution": true
    }
   },
   "outputs": [
    {
     "ename": "IndentationError",
     "evalue": "expected an indented block after function definition on line 1 (885198718.py, line 4)",
     "output_type": "error",
     "traceback": [
      "\u001b[0;36m  Cell \u001b[0;32mIn[35], line 4\u001b[0;36m\u001b[0m\n\u001b[0;31m    gatekeepers(G)\u001b[0m\n\u001b[0m    ^\u001b[0m\n\u001b[0;31mIndentationError\u001b[0m\u001b[0;31m:\u001b[0m expected an indented block after function definition on line 1\n"
     ]
    }
   ],
   "source": [
    "def gatekeepers(G):\n",
    "    #WRITE YOUR CODE HERE\n",
    "    \n",
    "gatekeepers(G)"
   ]
  },
  {
   "cell_type": "markdown",
   "metadata": {
    "nbgrader": {
     "grade": false,
     "grade_id": "gt2b",
     "locked": true,
     "schema_version": 3,
     "solution": false
    }
   },
   "source": [
    "# Vergelijk eens\n",
    "\n",
    "Vergelijk jouw lijstje van gatekeepers (en hun ordening) nu eens met dit lijstje van knopen en hun betweenness centraliteit.\n",
    "\n",
    "Probeer die overeenkomst eens te verklaren."
   ]
  },
  {
   "cell_type": "code",
   "execution_count": 36,
   "metadata": {
    "execution": {
     "iopub.execute_input": "2024-04-22T13:16:43.543010Z",
     "iopub.status.busy": "2024-04-22T13:16:43.542807Z",
     "iopub.status.idle": "2024-04-22T13:16:43.659126Z",
     "shell.execute_reply": "2024-04-22T13:16:43.658553Z"
    },
    "nbgrader": {
     "grade": false,
     "grade_id": "cell-ed8f26967be36f65",
     "locked": true,
     "schema_version": 3,
     "solution": false,
     "task": false
    }
   },
   "outputs": [
    {
     "data": {
      "text/plain": [
       "{0: 0.43763528138528146,\n",
       " 1: 0.053936688311688304,\n",
       " 2: 0.14365680615680618,\n",
       " 5: 0.02998737373737374,\n",
       " 6: 0.029987373737373736,\n",
       " 8: 0.05592682780182781,\n",
       " 13: 0.04586339586339586,\n",
       " 19: 0.03247504810004811,\n",
       " 27: 0.02233345358345358,\n",
       " 31: 0.13827561327561325,\n",
       " 32: 0.145247113997114,\n",
       " 33: 0.30407497594997596}"
      ]
     },
     "execution_count": 36,
     "metadata": {},
     "output_type": "execute_result"
    }
   ],
   "source": [
    "{x: nx.betweenness_centrality(G)[x] for x in G if nx.betweenness_centrality(G)[x] > .02}"
   ]
  },
  {
   "cell_type": "code",
   "execution_count": 37,
   "metadata": {
    "execution": {
     "iopub.execute_input": "2024-04-22T13:16:43.661956Z",
     "iopub.status.busy": "2024-04-22T13:16:43.661778Z",
     "iopub.status.idle": "2024-04-22T13:16:43.779883Z",
     "shell.execute_reply": "2024-04-22T13:16:43.779272Z"
    }
   },
   "outputs": [
    {
     "data": {
      "text/plain": [
       "{0: 0.43763528138528146,\n",
       " 1: 0.053936688311688304,\n",
       " 2: 0.14365680615680618,\n",
       " 5: 0.02998737373737374,\n",
       " 6: 0.029987373737373736,\n",
       " 8: 0.05592682780182781,\n",
       " 13: 0.04586339586339586,\n",
       " 19: 0.03247504810004811,\n",
       " 27: 0.02233345358345358,\n",
       " 31: 0.13827561327561325,\n",
       " 32: 0.145247113997114,\n",
       " 33: 0.30407497594997596}"
      ]
     },
     "execution_count": 37,
     "metadata": {},
     "output_type": "execute_result"
    }
   ],
   "source": [
    "{x: nx.betweenness_centrality(G)[x] for x in G if nx.betweenness_centrality(G)[x] > .02}"
   ]
  },
  {
   "cell_type": "markdown",
   "metadata": {
    "nbgrader": {
     "grade": true,
     "grade_id": "gt2ba",
     "locked": false,
     "points": 1,
     "schema_version": 3,
     "solution": true
    }
   },
   "source": [
    "YOUR ANSWER HERE"
   ]
  },
  {
   "cell_type": "markdown",
   "metadata": {
    "nbgrader": {
     "grade": false,
     "grade_id": "cell-56d95846cc575c96",
     "locked": true,
     "schema_version": 3,
     "solution": false,
     "task": false
    },
    "toc": true
   },
   "source": [
    "<h1>Table of Contents<span class=\"tocSkip\"></span></h1>\n",
    "<div class=\"toc\"><ul class=\"toc-item\"><li><span><a href=\"#Proeftentamen\" data-toc-modified-id=\"Proeftentamen-1\"><span class=\"toc-item-num\">1&nbsp;&nbsp;</span>Proeftentamen</a></span></li><li><span><a href=\"#Verzamelingen---(2pt)\" data-toc-modified-id=\"Verzamelingen---(2pt)-2\"><span class=\"toc-item-num\">2&nbsp;&nbsp;</span>Verzamelingen   (2pt)</a></span><ul class=\"toc-item\"><li><ul class=\"toc-item\"><li><ul class=\"toc-item\"><li><span><a href=\"#Maak-zelf-goede-testjes\" data-toc-modified-id=\"Maak-zelf-goede-testjes-2.0.0.1\"><span class=\"toc-item-num\">2.0.0.1&nbsp;&nbsp;</span>Maak zelf goede testjes</a></span></li></ul></li></ul></li></ul></li><li><span><a href=\"#Logica-(2pt)\" data-toc-modified-id=\"Logica-(2pt)-3\"><span class=\"toc-item-num\">3&nbsp;&nbsp;</span>Logica (2pt)</a></span></li><li><span><a href=\"#Maak-modellen\" data-toc-modified-id=\"Maak-modellen-4\"><span class=\"toc-item-num\">4&nbsp;&nbsp;</span>Maak modellen</a></span></li><li><span><a href=\"#Beschrijf-netjes\" data-toc-modified-id=\"Beschrijf-netjes-5\"><span class=\"toc-item-num\">5&nbsp;&nbsp;</span>Beschrijf netjes</a></span><ul class=\"toc-item\"><li><ul class=\"toc-item\"><li><ul class=\"toc-item\"><li><span><a href=\"#Verzamelingen\" data-toc-modified-id=\"Verzamelingen-5.0.0.1\"><span class=\"toc-item-num\">5.0.0.1&nbsp;&nbsp;</span>Verzamelingen</a></span></li><li><span><a href=\"#Logica\" data-toc-modified-id=\"Logica-5.0.0.2\"><span class=\"toc-item-num\">5.0.0.2&nbsp;&nbsp;</span>Logica</a></span></li><li><span><a href=\"#Netwerken\" data-toc-modified-id=\"Netwerken-5.0.0.3\"><span class=\"toc-item-num\">5.0.0.3&nbsp;&nbsp;</span>Netwerken</a></span></li></ul></li></ul></li></ul></li><li><span><a href=\"#Verzamelingen-knopen\" data-toc-modified-id=\"Verzamelingen-knopen-6\"><span class=\"toc-item-num\">6&nbsp;&nbsp;</span>Verzamelingen knopen</a></span></li><li><span><a href=\"#Subgrafen\" data-toc-modified-id=\"Subgrafen-7\"><span class=\"toc-item-num\">7&nbsp;&nbsp;</span>Subgrafen</a></span></li><li><span><a href=\"#argmax\" data-toc-modified-id=\"argmax-8\"><span class=\"toc-item-num\">8&nbsp;&nbsp;</span>argmax</a></span></li><li><span><a href=\"#triadic-closure\" data-toc-modified-id=\"triadic-closure-9\"><span class=\"toc-item-num\">9&nbsp;&nbsp;</span>triadic closure</a></span></li><li><span><a href=\"#clustering-coefficient\" data-toc-modified-id=\"clustering-coefficient-10\"><span class=\"toc-item-num\">10&nbsp;&nbsp;</span>clustering coefficient</a></span></li><li><span><a href=\"#clustering-coefficient-(CC)-en-neighborhood-overlap-(NO)\" data-toc-modified-id=\"clustering-coefficient-(CC)-en-neighborhood-overlap-(NO)-11\"><span class=\"toc-item-num\">11&nbsp;&nbsp;</span>clustering coefficient (CC) en neighborhood overlap (NO)</a></span><ul class=\"toc-item\"><li><span><a href=\"#Gatekeeper\" data-toc-modified-id=\"Gatekeeper-11.1\"><span class=\"toc-item-num\">11.1&nbsp;&nbsp;</span>Gatekeeper</a></span></li></ul></li><li><span><a href=\"#gatekeeper-2\" data-toc-modified-id=\"gatekeeper-2-12\"><span class=\"toc-item-num\">12&nbsp;&nbsp;</span>gatekeeper 2</a></span></li><li><span><a href=\"#Vergelijk-eens\" data-toc-modified-id=\"Vergelijk-eens-13\"><span class=\"toc-item-num\">13&nbsp;&nbsp;</span>Vergelijk eens</a></span></li></ul></div>"
   ]
  },
  {
   "cell_type": "markdown",
   "metadata": {
    "nbgrader": {
     "grade": false,
     "grade_id": "cell-91e493798ac14317",
     "locked": true,
     "schema_version": 3,
     "solution": false,
     "task": false
    }
   },
   "source": [
    "# Proeftentamen\n",
    "\n",
    "* Dit proeftentamen bevat vragen voor de eerste   deeltoets. Het is wat langer dan een echt tentamen.\n",
    "* Je kunt ze het beste als volgt maken:\n",
    "    * zet een timer\n",
    "        * In een echt tentamen zou je tussen de 10 en 15 minuten per vraag hebben.\n",
    "        * Maak gewoon eerst de vraag en zie dan hoeveel tijd je extra (of niet) nodig had.\n",
    "    * gebruik geen internet\n",
    "    * doe alleen dit\n",
    "    * herstart kernel en run opnieuw als je denkt dat je klaar bent\n",
    "    * maak een test(je) of 2 waarmee je je antwoord checked.\n",
    "    \n",
    "> succes!    "
   ]
  }
 ],
 "metadata": {
  "kernelspec": {
   "display_name": "Python 3 (ipykernel)",
   "language": "python",
   "name": "python3"
  },
  "language_info": {
   "codemirror_mode": {
    "name": "ipython",
    "version": 3
   },
   "file_extension": ".py",
   "mimetype": "text/x-python",
   "name": "python",
   "nbconvert_exporter": "python",
   "pygments_lexer": "ipython3",
   "version": "3.10.13"
  },
  "toc": {
   "nav_menu": {},
   "number_sections": true,
   "sideBar": true,
   "skip_h1_title": false,
   "title_cell": "Table of Contents",
   "title_sidebar": "Contents",
   "toc_cell": true,
   "toc_position": {},
   "toc_section_display": true,
   "toc_window_display": false
  }
 },
 "nbformat": 4,
 "nbformat_minor": 2
}
