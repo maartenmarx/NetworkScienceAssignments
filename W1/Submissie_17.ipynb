{
 "cells": [
  {
   "cell_type": "markdown",
   "metadata": {},
   "source": [
    "# Assignment Netwerkanalyse"
   ]
  },
  {
   "cell_type": "markdown",
   "metadata": {
    "nbgrader": {
     "grade": false,
     "grade_id": "privacy",
     "locked": false,
     "schema_version": 3,
     "solution": false
    }
   },
   "source": [
    "## Notebook made by\n",
    "\n",
    "**Gebruik graag dit formaat**\n",
    "\n",
    "* Voor de namen:  voornaam rest van je naam, voornaam rest van je naam,....\n",
    "* je studentnummers: hetzelfde: scheidt met `,`\n",
    "* je emails: hetzelfde: scheidt met `,`\n",
    "* voor je groep: alleen de hoofdletter (dus voor de groep van Marx zou je `A` kiezen)\n",
    "\n",
    "__Namen__:Anoniem",
    "\n",
    "__Emails__:Anoniem",
    "\n",
    "__Student id__:Anoniem",
    "\n",
    "__Groep__:Anoniem"
   ]
  },
  {
   "cell_type": "markdown",
   "metadata": {},
   "source": [
    "## Toelichting\n",
    "\n",
    "* De meeste opgaven worden automatisch nagekeken. Bij vrijwel alle opdrachten staan er een paar tests onder de opdracht, dit is voornamelijk om te zorgen dat je de juiste type output geeft. Dit zijn dus *NIET* alle tests, die komen er bij het graden nog bij.\n",
    "* Elke vraag is 1 punt waard, tenzij anders aangegeven. Soms is die punt onderverdeeld in deelpunten, maar niet altijd. \n",
    "\n",
    "## Voor het inleveren!\n",
    "\n",
    "* Pas niet de cellen aan, vooral niet die je niet kunt editen. Dit levert problemen op bij nakijken. Twijfel je of je per ongeluk iets hebt gewijzigd, kopieer dan bij inleveren je antwoorden naar een nieuw bestand, zodat het niet fout kan gaan.\n",
    "\n",
    "* Zorg dat de code goed runt van boven naar beneden, verifieer dat door boven in Kernel -> Restart & Run All uit te voeren\n",
    "\n",
    "## Na het inleveren!\n",
    "\n",
    "* Het gebeurt erg vaak dat mensen een \"leeg bestand\" inleveren. Vaak een andere versie van de opgave die nog ergens op je computer rondslingerde. Zonde van al je werk toch!\n",
    "* Dus, lever **minstens een half uur voor tijd in**. Download dan wat je hebt ingeleverd op Canvas. Geef het een andere naam om verwarring te voorkomen. En draai alle cellen, en bekijk het. Geen syntax fouten? Alle vragen gemaakt? Dan zit het vast wel goed, en hoef je niet in de zenuwen te zitten."
   ]
  },
  {
   "cell_type": "markdown",
   "metadata": {
    "deletable": false,
    "editable": false,
    "nbgrader": {
     "cell_type": "markdown",
     "checksum": "4eddd8795f2cf05755727bf9661d3279",
     "grade": false,
     "grade_id": "cell-2f53b0d44f5944c8",
     "locked": true,
     "schema_version": 3,
     "solution": false
    }
   },
   "source": [
    "# Week 1"
   ]
  },
  {
   "cell_type": "markdown",
   "metadata": {
    "deletable": false,
    "editable": false,
    "nbgrader": {
     "cell_type": "markdown",
     "checksum": "9cfcdb6ce9cb7ddcfe2f05b5b14f33df",
     "grade": false,
     "grade_id": "cell-57401e015f004af7",
     "locked": true,
     "schema_version": 3,
     "solution": false
    }
   },
   "source": [
    "# Deel 1: Programmeren\n",
    "\n",
    "Voor deze opdrachten maken we gebruik van Networkx, de documentatie daarvan is te vinden via [deze link](https://networkx.github.io/documentation/stable/). Kijk vooral naar welke functies zij bieden, zodat je niet dingen doet die zij al voor je doen (tenzij dat natuurlijk de opdracht is).\n",
    "\n",
    "Staat er `ModuleNotFoundError: No module named X`, doe dan in een cell `!pip install X` (natuurlijk is X hier iets van `matplotlib`, `networkx`, `scipy` of `nose`) en run de cell dan opnieuw.\n",
    "\n",
    "Mocht dat niet werken, probeer dan `!pip3 install X` (werkt alleen bij Mac) of restart de kernel en probeer opnieuw! Mocht dat allemaal ook niet werken, roep dan even een TA!"
   ]
  },
  {
   "cell_type": "code",
   "execution_count": null,
   "metadata": {
    "deletable": false,
    "editable": false,
    "nbgrader": {
     "cell_type": "code",
     "checksum": "5c2f6050820fc18ad48bb39b5fced2b4",
     "grade": false,
     "grade_id": "cell-a6202143af23bfa6",
     "locked": true,
     "schema_version": 3,
     "solution": false
    }
   },
   "outputs": [],
   "source": [
    "# Installeer benodigde packages\n",
    "%matplotlib inline\n",
    "import networkx as nx\n",
    "import matplotlib.pyplot as plt\n",
    "import numpy as np\n",
    "import scipy\n",
    "from nose.tools import assert_equal\n",
    "from numpy.testing import assert_almost_equal, assert_array_almost_equal"
   ]
  },
  {
   "cell_type": "markdown",
   "metadata": {
    "deletable": false,
    "editable": false,
    "nbgrader": {
     "cell_type": "markdown",
     "checksum": "b3bf8cda67c11a44c76cd283f2163a37",
     "grade": false,
     "grade_id": "cell-48f4ba3545c0d50b",
     "locked": true,
     "schema_version": 3,
     "solution": false
    }
   },
   "source": [
    "## Vraag 1\n",
    "<p>Maak een networkx ongerichte graaf `G` met de volgende knopen en lijnen:</p>\n",
    "<center>\n",
    "    V = {1, 2, 3, 4, 5} en \n",
    "    E = { (1, 2) , (1, 4) , (2, 3) , (2, 4) , (2, 5) , (3, 4) , (3, 5) }\n",
    "</center>\n",
    "De uitkomst van de volgende cel is een mooi plaatje van een netwerkje met... ja echt 5 knopen.\n"
   ]
  },
  {
   "cell_type": "code",
   "execution_count": null,
   "metadata": {
    "deletable": false,
    "nbgrader": {
     "cell_type": "code",
     "checksum": "b5cd600414856eeb40e381efb280f431",
     "grade": false,
     "grade_id": "Vraag1",
     "locked": false,
     "schema_version": 3,
     "solution": true
    }
   },
   "outputs": [],
   "source": [
    "G = nx.Graph()\n",
    "V = {1, 2, 3, 4, 5}\n",
    "E = { (1, 2) , (1, 4) , (2, 3) , (2, 4) , (2, 5) , (3, 4) , (3, 5) }\n",
    "#WRITE YOUR CODE HERE\n",
    "G.add_nodes_from(V)\n",
    "G.add_edges_from(E)\n",
    "\n",
    "nx.draw_networkx(G, with_labels=True)"
   ]
  },
  {
   "cell_type": "code",
   "execution_count": null,
   "metadata": {
    "deletable": false,
    "editable": false,
    "nbgrader": {
     "cell_type": "code",
     "checksum": "3beb23ca23eaba628be84f7d739982fe",
     "grade": true,
     "grade_id": "Vraag1_antwoord",
     "locked": true,
     "points": 1,
     "schema_version": 3,
     "solution": false
    }
   },
   "outputs": [],
   "source": [
    "assert_equal(nx.is_directed(G), False)"
   ]
  },
  {
   "cell_type": "markdown",
   "metadata": {
    "deletable": false,
    "editable": false,
    "nbgrader": {
     "cell_type": "markdown",
     "checksum": "208c59c2355800b0945531438a7a8d4a",
     "grade": false,
     "grade_id": "cell-af905db2c0399b45",
     "locked": true,
     "schema_version": 3,
     "solution": false
    }
   },
   "source": [
    "## Vraag 2\n",
    "Maak op basis van het netwerk `G` een dictionary genaamd `neighborDict` met als key een node en als value de verzameling  met alle buren van die knoop.\n",
    "Gebruik dict comprehensie.\n",
    "\n",
    "Bijvoorbeeld: `neighborDict[5] = {2, 3}`"
   ]
  },
  {
   "cell_type": "code",
   "execution_count": null,
   "metadata": {
    "deletable": false,
    "nbgrader": {
     "cell_type": "code",
     "checksum": "bec7adbfcb8f9c89b72cfa8112e81aa9",
     "grade": false,
     "grade_id": "Vraag2",
     "locked": false,
     "schema_version": 3,
     "solution": true
    }
   },
   "outputs": [],
   "source": [
    "neighborDict = {node: set(G[node]) for node in G}\n",
    "\n",
    "neighborDict"
   ]
  },
  {
   "cell_type": "code",
   "execution_count": null,
   "metadata": {
    "deletable": false,
    "editable": false,
    "nbgrader": {
     "cell_type": "code",
     "checksum": "51b20a61c0c23ab0755aa369e67daf29",
     "grade": true,
     "grade_id": "Vraag2_antwoord",
     "locked": true,
     "points": 1,
     "schema_version": 3,
     "solution": false
    }
   },
   "outputs": [],
   "source": [
    "# Onderstaande tests helpen je bij het vinden van het juiste antwoord\n",
    "# Als hier iets mis gaat, probeer dan de foutmelding te begrijpen en jouw antwoord aan te passen\n",
    "# Ook op het tentamen geven we zulke hints\n",
    "# De echte check of je antwoord correct is is geheim. Die staat hieronder maar zie jij niet.\n",
    "\n",
    "\n",
    "assert_equal(type(neighborDict), dict) # we testen hier of jouw antwoord van het juiste type is.\n",
    "assert_equal(len(neighborDict),5)  # we testen hier of je elke knoop in je dict hebt gestopt en niks meer\n",
    "assert_equal(set(neighborDict.keys()), set(G.nodes)) # en hier doen we dat nog een keer\n",
    "for knoop in neighborDict:  # hier testen we of elke verzameling buren van elke knoop in jouw antword echt knopen uit G zijn.\n",
    "    assert neighborDict[knoop].issubset(set(G.nodes))\n",
    "\n"
   ]
  },
  {
   "cell_type": "markdown",
   "metadata": {
    "deletable": false,
    "editable": false,
    "nbgrader": {
     "cell_type": "markdown",
     "checksum": "8268a29220be8349b72ef23e3c56bb35",
     "grade": false,
     "grade_id": "cell-397906d371adcacc",
     "locked": true,
     "schema_version": 3,
     "solution": false
    }
   },
   "source": [
    "## Vraag 3\n",
    "Maak een functie `make_complete(G)` die teruggeeft hoeveel lijnen toegevoegd moeten worden aan een willekeurig  ongericht netwerk `G` (die misschien al lijnen bevat) om er een volledige graaf van te maken. Zorg dat het resultaat een integer is.\n"
   ]
  },
  {
   "cell_type": "code",
   "execution_count": null,
   "metadata": {
    "deletable": false,
    "nbgrader": {
     "cell_type": "code",
     "checksum": "30b0d510f2b302f936ad4a3d3bc9edfc",
     "grade": false,
     "grade_id": "Vraag3",
     "locked": false,
     "schema_version": 3,
     "solution": true
    }
   },
   "outputs": [],
   "source": [
    "def make_complete(G):\n",
    "    #WRITE YOUR CODE HERE\n",
    "    \n",
    "    #eerst checken hoeveel nodes er in G zitten\n",
    "    n = len(G.nodes())\n",
    "    \n",
    "    # geef de waarde van het aantal lijnen dat het netwerk zou moeten hebben om compleet te zijn\n",
    "    complete_network = n * (n-1) / 2\n",
    "    \n",
    "    # geef het verschil van het complete netwerk en het netwerk van G (en maak er een int van)\n",
    "    return int(complete_network - len(G.edges()))\n",
    "\n",
    "# test 1\n",
    "print(make_complete(G))\n",
    "# test 2\n",
    "ER = nx.gnm_random_graph(100, 200) # Zie https://networkx.github.io/documentation/stable/auto_examples/graph/plot_erdos_renyi.html\n",
    "nx.draw_networkx(ER, with_labels=True);\n",
    "make_complete(ER)"
   ]
  },
  {
   "cell_type": "code",
   "execution_count": null,
   "metadata": {
    "deletable": false,
    "editable": false,
    "nbgrader": {
     "cell_type": "code",
     "checksum": "229bc6451ccec4574cfc1913acd0d7c2",
     "grade": true,
     "grade_id": "Vraag3_antwoord",
     "locked": true,
     "points": 1,
     "schema_version": 3,
     "solution": false
    }
   },
   "outputs": [],
   "source": [
    "assert_equal(type(make_complete(G)), int) # jouw antwoord is een geheel getal, een integer"
   ]
  },
  {
   "cell_type": "markdown",
   "metadata": {
    "deletable": false,
    "editable": false,
    "nbgrader": {
     "cell_type": "markdown",
     "checksum": "dd7899affe63e8de4da2610356b95a1a",
     "grade": false,
     "grade_id": "cell-d87520b5c6b1fcf7",
     "locked": true,
     "schema_version": 3,
     "solution": false
    }
   },
   "source": [
    "## Vraag 4\n",
    "Maak een functie `my_degree(G)` die een dictionary maakt met als sleutels alle knopen van `G`    en als value de degree van de sleutel in `G`. Het resultaat is hetzelfde als `dict(G.degree())`.\n",
    "\n",
    "* Gebruik een dict comprehensie!\n",
    "* Je mag alleen de networkx functie `G.has_edge()` gebruiken. \n",
    "* Dit kan gewoon in 1 regel. Ga geen gekke loops of zo gebruiken. Wees elegant, en vermijd zo foutjes. Denk liever zelf eerst na vordat je iemand nadoet die jij niet kent en die iets op het internet heeft geroepen.\n",
    "\n",
    "Zie: https://en.wikipedia.org/wiki/Degree_(graph_theory)\n",
    "\n",
    "Voorbeeld resultaat op ons eigen netwerk `G`: `{1: 2, 2: 4,...}`"
   ]
  },
  {
   "cell_type": "code",
   "execution_count": null,
   "metadata": {
    "deletable": false,
    "nbgrader": {
     "cell_type": "code",
     "checksum": "a844d7fe1b7fa46fe06eceeccb030129",
     "grade": false,
     "grade_id": "Vraag4",
     "locked": false,
     "schema_version": 3,
     "solution": true
    }
   },
   "outputs": [],
   "source": [
    "def my_degree(G):\n",
    "    return {node: sum(1 for other_node in G.nodes() if node != other_node and G.has_edge(node, other_node)) for node in G}\n",
    "\n",
    "# test 1\n",
    "print('G:', my_degree(G))\n",
    "\n",
    "# test 2\n",
    "ER = nx.gnm_random_graph(10, 20) # Zie https://networkx.github.io/documentation/stable/auto_examples/graph/plot_erdos_renyi.html\n",
    "nx.draw_networkx(ER, with_labels=True);\n",
    "my_degree(ER)"
   ]
  },
  {
   "cell_type": "code",
   "execution_count": null,
   "metadata": {
    "deletable": false,
    "editable": false,
    "nbgrader": {
     "cell_type": "code",
     "checksum": "30f88fe605bc7f104b2377a5eb29876e",
     "grade": true,
     "grade_id": "Vraag4_antwoord",
     "locked": true,
     "points": 1,
     "schema_version": 3,
     "solution": false
    }
   },
   "outputs": [],
   "source": [
    "assert_equal(my_degree(G), dict(G.degree()))"
   ]
  },
  {
   "cell_type": "markdown",
   "metadata": {
    "deletable": false,
    "editable": false,
    "nbgrader": {
     "cell_type": "markdown",
     "checksum": "90e50ebc453742e790a83e725ef6b319",
     "grade": false,
     "grade_id": "cell-758bd776f998402a",
     "locked": true,
     "schema_version": 3,
     "solution": false
    }
   },
   "source": [
    "## Vraag 5\n",
    "Teken de subgraven van `G` geinduceerd door {1,2,3} en {2,5,3} en {5,4} en geef deze graven de namen respectievelijk `I`, `J` en `K`"
   ]
  },
  {
   "cell_type": "code",
   "execution_count": null,
   "metadata": {
    "deletable": false,
    "nbgrader": {
     "cell_type": "code",
     "checksum": "dbcccf74cf0aed1d1528971b7c07443d",
     "grade": false,
     "grade_id": "Vraag5",
     "locked": false,
     "schema_version": 3,
     "solution": true
    }
   },
   "outputs": [],
   "source": [
    "I = G.subgraph({1,2,3})\n",
    "J = G.subgraph({2,5,3})\n",
    "K = G.subgraph({5,4})\n",
    "\n",
    "#WRITE YOUR CODE HERE\n",
    "plt.figure(1)\n",
    "nx.draw_networkx(I)\n",
    "plt.figure(2)\n",
    "nx.draw_networkx(J)\n",
    "plt.figure(3)\n",
    "nx.draw_networkx(K)\n",
    "plt.show()"
   ]
  },
  {
   "cell_type": "code",
   "execution_count": null,
   "metadata": {
    "deletable": false,
    "editable": false,
    "nbgrader": {
     "cell_type": "code",
     "checksum": "401c27b02e6aa7d591823408c3252095",
     "grade": true,
     "grade_id": "Vraag5_antwoord",
     "locked": true,
     "points": 1,
     "schema_version": 3,
     "solution": false
    }
   },
   "outputs": [],
   "source": [
    "assert_equal(sorted(list(I.nodes())), [1, 2, 3])\n",
    "assert_equal(sorted(list(J.nodes())), [2, 3, 5])\n",
    "assert_equal(sorted(list(K.nodes())), [4, 5])"
   ]
  },
  {
   "cell_type": "markdown",
   "metadata": {
    "deletable": false,
    "editable": false,
    "nbgrader": {
     "cell_type": "markdown",
     "checksum": "49941b6bd7e63eb1efdf47602ae9e5e6",
     "grade": false,
     "grade_id": "cell-d4a2702cbe026966",
     "locked": true,
     "schema_version": 3,
     "solution": false
    }
   },
   "source": [
    "## Vraag 6\n",
    "Maak de functie `adj_matrix(G)`  en `adj_matrix2(G)` die allebei een adjacency matrix maken. In het geval van de graaf `G` die je hebt gemaakt bij vraag 1, heeft de matrix van deze  vorm (alleen dan in de vorm van een lijst van lijsten):\n",
    "    <pre>\n",
    "        1 2 3 4 5\n",
    "      1 0 1 0 1 0\n",
    "      2\n",
    "      3\n",
    "      4\n",
    "      5\n",
    "    </pre>\n",
    "    \n",
    "Een aantal eisen:\n",
    "* Zorg dat de functies werken voor elk netwerk, niet alleen `G`. (We kijken de functies ook na met andere netwerken dan `G`.\n",
    "* Gebruik enkel list comprehensies.\n",
    "* Je mag in beide functies niet de networkx functie `nx.adjacency_matrix` gebruiken.\n",
    "* Bij `adj_matrix(G)` moet je de networkx functie `G.has_edge` gebruiken en  geen enkele andere networkx functie.\n",
    "* Bij `adj_matrix2(G)` moet je de networkx functie `G.neighbors` (dit is niet hetzelfde als `nx.neighbors`!) gebruiken en  geen enkele andere networkx functie.\n",
    "* Zorg dat de nodes altijd gesorteerd zijn, zodat de matrix op volgorde is\n",
    "* Hint:`int(True)==1` en `int(False)==0`, en dus ook `int(5==4)==0`.\n",
    "    \n",
    "Je antwoord voor netwerk `G` zal er zo uit zien:\n",
    "\n",
    "```\n",
    "[[0, 1, 0, 1, 0],\n",
    " [....],\n",
    "       ....\n",
    " [....]\n",
    "] \n",
    "```"
   ]
  },
  {
   "cell_type": "code",
   "execution_count": null,
   "metadata": {
    "deletable": false,
    "nbgrader": {
     "cell_type": "code",
     "checksum": "22f5e52a9fc59ab00ff30d085a7d32be",
     "grade": false,
     "grade_id": "Vraag6",
     "locked": false,
     "schema_version": 3,
     "solution": true
    }
   },
   "outputs": [],
   "source": [
    "def adj_matrix(G):\n",
    "    #WRITE YOUR CODE HERE\n",
    "    n = len(G.nodes())\n",
    "    # adds a 0 for the length of n\n",
    "    matrix = [[0]*n for _ in range(n)]\n",
    "    nodes = list(G.nodes())\n",
    "    \n",
    "    for i in range(n):\n",
    "        for j in range(n):\n",
    "            if G.has_edge(nodes[i], nodes[j]):\n",
    "                matrix[i][j] = 1\n",
    "    return matrix\n",
    "\n",
    "\n",
    "def adj_matrix2(G):\n",
    "    #WRITE YOUR CODE HERE\n",
    "    n = len(G.nodes())\n",
    "    matrix = [[0 for _ in range(n)] for _ in range(n)]\n",
    "    \n",
    "    # Create a node index mapping to ensure consistent indexing\n",
    "    node_index = {node: idx for idx, node in enumerate(G.nodes())}\n",
    "    for node1, node2 in G.edges():\n",
    "        index1 = node_index[node1]\n",
    "        index2 = node_index[node2]\n",
    "        matrix[index1][index2] = 1\n",
    "        matrix[index2][index1] = 1 \n",
    "    \n",
    "    return matrix\n",
    "\n",
    "adj_matrix(G),adj_matrix2(G), adj_matrix(G)==adj_matrix2(G)\n",
    "\n",
    "# test het zelf ook met de ER graaf."
   ]
  },
  {
   "cell_type": "code",
   "execution_count": null,
   "metadata": {
    "deletable": false,
    "editable": false,
    "nbgrader": {
     "cell_type": "code",
     "checksum": "7dbff52b2dd0db74f510344b8dd3483e",
     "grade": true,
     "grade_id": "Vraag6_test",
     "locked": true,
     "points": 1,
     "schema_version": 3,
     "solution": false
    }
   },
   "outputs": [],
   "source": [
    "assert_equal(type(adj_matrix(G)), list)\n",
    "assert_equal(type(adj_matrix(G)[0]), list)\n",
    "assert_equal(type(adj_matrix(G)[0][0]), int)\n",
    "assert_equal(type(adj_matrix2(G)), list)\n",
    "assert_equal(type(adj_matrix2(G)[0]), list)\n",
    "assert_equal(type(adj_matrix2(G)[0][0]), int)\n",
    "assert_equal(type(adj_matrix2(G)[0][0]), int)\n",
    "assert_array_almost_equal(adj_matrix(G), adj_matrix2(G))\n"
   ]
  },
  {
   "cell_type": "markdown",
   "metadata": {
    "deletable": false,
    "editable": false,
    "nbgrader": {
     "cell_type": "markdown",
     "checksum": "f6a5e6dd2e682dffc48cd542610e68dc",
     "grade": false,
     "grade_id": "FC",
     "locked": true,
     "schema_version": 3,
     "solution": false
    }
   },
   "source": [
    "# Opgaven uit First Course\n",
    "\n",
    "1. Alles uit Hfd 0\n",
    "2. Hfd 1: alles tot en met 21.\n",
    "3. Maak opgave 21 in `networkx`\n",
    "        * maak het netwerk, met `G.add_edges`\n",
    "        * print het\n",
    "        * maak ook de adjecency matrix als een lijst van lijsten\n",
    "        * check dat deze adjencency matrix hetzelfde is als een adjececy matrix die networkx maakt.\n",
    "4. Schrijf nu ook checks voor alle vragen 1.17-1.20 in Python en controleer je antwoord."
   ]
  },
  {
   "cell_type": "markdown",
   "metadata": {
    "deletable": false,
    "nbgrader": {
     "cell_type": "markdown",
     "checksum": "265462dc9ac5967a7bef8d79bdc27119",
     "grade": true,
     "grade_id": "FCa",
     "locked": false,
     "points": 1,
     "schema_version": 3,
     "solution": true
    }
   },
   "source": []
  },
  {
   "cell_type": "markdown",
   "metadata": {},
   "source": [
    "# Hoofdstuk 0"
   ]
  },
  {
   "cell_type": "markdown",
   "metadata": {},
   "source": [
    "0.1 C\\\n",
    "0.2 B\\\n",
    "0.3 A link between two airports could represent the possibility of flights between them.\\\n",
    "0.4 D\\\n",
    "0.5 Undirected, because a friendship means that two people are connected to each other. It is not one-sided as with     followers.\\\n",
    "0.6 Directed."
   ]
  },
  {
   "cell_type": "markdown",
   "metadata": {},
   "source": [
    "# Hoofdstuk 1\n",
    "1.2 A link can connect exactly two nodes. A node n can have as many links as there are nodes.\\\n",
    "1.3 The most common degree is 2.\\\n",
    "1.4 Both are 2.\\\n",
    "1.5 The density of the network? \\\n",
    "1.6 D\\\n",
    "1.7 D\\\n",
    "1.8 B\\\n",
    "1.9 A\\\n",
    "1.10 D\\\n",
    "1.11 A complete network. The number of links is 25 * (n-1)/2 = 300\\\n",
    "1.12 n * (n-1) / 2 links.\\\n",
    "1.13 L max=∣A∣×∣B∣\\\n",
    "1.14 A\\\n",
    "1.15 Yes, in an undirected network (or undirected graph), for it to be considered complete, each node must be connected to every other node with exactly one link. This means every pair of distinct vertices is connected by a  unique edge.\\\n",
    "1.16 D \\\n",
    "1.17 There are 5 nodes, 9 links and there are no self loops.\\\n",
    "1.18 Node F\\\n",
    "1.19 Nodes A, D, F have no out links\\\n",
    "1.20 Node C has an  in-strength of 0 and an out-strength of 1."
   ]
  },
  {
   "cell_type": "code",
   "execution_count": null,
   "metadata": {},
   "outputs": [],
   "source": [
    "# 1.21\n",
    "N = ['A','B','C','D','E','F']\n",
    "V = [('A','B'), ('B','C'),('D','B'), ('D','E'), ('E','F'), ('F','A'), ('F','B'), ('F','C'), ('F','D')]\n",
    "\n",
    "G = nx.Graph()\n",
    "G.add_nodes_from(N)\n",
    "G.add_edges_from(V)\n",
    "\n",
    "print('There are', len(G.nodes()), 'nodes in this network')\n",
    "print('There are', len(G.edges()), 'links in this network')\n",
    "nx.draw_networkx(G)"
   ]
  },
  {
   "cell_type": "markdown",
   "metadata": {
    "deletable": false,
    "editable": false,
    "nbgrader": {
     "cell_type": "markdown",
     "checksum": "20af09af35926a7a1fb03a46c3014de9",
     "grade": false,
     "grade_id": "fc113",
     "locked": true,
     "schema_version": 3,
     "solution": false
    }
   },
   "source": [
    "# FC vraag 1.13\n",
    "\n",
    "* Maak deze vraag ook in networkx.\n",
    "    * Maak een functie `Q113(N1,N2)` die een network teruggeeft zoals gevraagd\n",
    "    * Met welke check check je dat het \"volledig\" (voor een bipartiet netwerk natuurlijk) is?\n",
    "    \n",
    "* **Hint** Google eens wat."
   ]
  },
  {
   "cell_type": "code",
   "execution_count": null,
   "metadata": {
    "deletable": false,
    "nbgrader": {
     "cell_type": "code",
     "checksum": "f9f3e124c1b40038c9d23e79854547a5",
     "grade": false,
     "grade_id": "fc113a",
     "locked": false,
     "schema_version": 3,
     "solution": true
    }
   },
   "outputs": [],
   "source": [
    "def Q113(N1,N2):\n",
    "    '''Return a maximal bipartite network with N1 nodes on one side and N2 on the other.'''\n",
    "    #WRITE YOUR CODE HERE\n",
    "    # Create a new graph\n",
    "    G = nx.Graph()\n",
    "    \n",
    "    # Add nodes with the bipartite attribute\n",
    "    G.add_nodes_from(range(1, N1+1), bipartite=0)  # Label one set of nodes 0\n",
    "    G.add_nodes_from(range(N1+1, N1+N2+1), bipartite=1)  # And the other set 1\n",
    "    \n",
    "    # Add edges between every node in the first set to every node in the second set\n",
    "    for node1 in range(1, N1+1):\n",
    "        for node2 in range(N1+1, N1+N2+1):\n",
    "            G.add_edge(node1, node2)\n",
    "    \n",
    "    return G\n",
    "    \n",
    "def maximaal_bipartiet(BG):\n",
    "    \"\"\"\n",
    "    Return True if BG is a maximal bipartite network. False in all other cases.\n",
    "    \"\"\"\n",
    "    # Check if the graph is bipartite\n",
    "    if not nx.is_bipartite(BG):\n",
    "        return False\n",
    "    \n",
    "    # Get the two sets of nodes\n",
    "    nodes_set_1, nodes_set_2 = nx.bipartite.sets(BG)\n",
    "    \n",
    "    # Check for maximal connections\n",
    "    for node1 in nodes_set_1:\n",
    "        if len(list(BG.neighbors(node1))) != len(nodes_set_2):\n",
    "            return False\n",
    "    for node2 in nodes_set_2:\n",
    "        if len(list(BG.neighbors(node2))) != len(nodes_set_1):\n",
    "            return False\n",
    "    \n",
    "    # If all nodes in one set are connected to all nodes in the other set, it's maximal\n",
    "    return True\n",
    "    \n",
    "#test\n",
    "maximaal_bipartiet(Q113(5,10))"
   ]
  },
  {
   "cell_type": "code",
   "execution_count": null,
   "metadata": {
    "deletable": false,
    "editable": false,
    "nbgrader": {
     "cell_type": "code",
     "checksum": "f9c553f4e2d6b24ec3c44b5d27ebc874",
     "grade": true,
     "grade_id": "fc113t",
     "locked": true,
     "points": 1,
     "schema_version": 3,
     "solution": false
    }
   },
   "outputs": [],
   "source": [
    "assert isinstance(Q113(5,10),nx.Graph)\n",
    "assert isinstance(maximaal_bipartiet(Q113(5,10)), bool)\n",
    "\n",
    "\n",
    "    \n",
    " "
   ]
  },
  {
   "cell_type": "code",
   "execution_count": null,
   "metadata": {
    "deletable": false,
    "nbgrader": {
     "cell_type": "code",
     "checksum": "d6848ddf7abe19df1622e4c01b95d567",
     "grade": true,
     "grade_id": "adjmatrixchecksd",
     "locked": false,
     "points": 1,
     "schema_version": 3,
     "solution": true
    }
   },
   "outputs": [],
   "source": [
    "#WRITE YOUR CODE HERE"
   ]
  },
  {
   "cell_type": "code",
   "execution_count": null,
   "metadata": {
    "deletable": false,
    "nbgrader": {
     "cell_type": "code",
     "checksum": "57c0cd30f820f23743303abee629bc86",
     "grade": true,
     "grade_id": "FCa21",
     "locked": false,
     "points": 1,
     "schema_version": 3,
     "solution": true
    }
   },
   "outputs": [],
   "source": [
    "#WRITE YOUR CODE HERE"
   ]
  },
  {
   "cell_type": "markdown",
   "metadata": {},
   "source": [
    "# Verzamelingen\n",
    "\n",
    "* Dubbel klik eens op deze cel zodat je de code ziet.\n",
    "* Leer dan de latex codes voor de mooie symbolen, en zorg dat je zelf nu ook netjes antwoord kunt geven.\n",
    "* Formules zet je altijd tussen dollartekens.\n",
    "    * Als je het in het midden van de regel wil tussen dubbele dolalartekens\n",
    "* Elk commando begint altijd met `\\`. Spaties maken niks uit. Latex regelt hoe het er netjes uit komt te zien.\n",
    "\n",
    "### Opgaven\n",
    "\n",
    "1. $\\{1,2,3\\}\\cap\\{2,3,4\\}=?$ 3\n",
    "1. $\\{1,2,3\\}\\cup\\{2,3,4\\}=?$ 1,2,3,4\n",
    "1. $\\{1,2,3\\}\\setminus\\{2,3,4\\}=?$ 1, 4\n",
    "1. $\\emptyset\\setminus\\{2,3,4\\}=?$ 2, 3, 4, $\\emptyset$\n",
    "2. $\\{1,2,3\\}\\times\\{2,3,4\\}$= {(1,2),(1,3),(1,4),(2,2),(2,3),(2,4),(3,2),(3,3),(3,4)\\}\n",
    "\n",
    "3. De machtsverzameling van $\\{1,2,3,4\\}$ is {1,4,9,16}\n",
    "     * Check dat je echt $2^4$ veel deelverzamelingen hebt gevonden.\n",
    "     * het heet niet voor niks *machts* verzameling ;-)\n",
    "\n",
    "#### Teken ook netjes de Venn diagrammen\n",
    "#### Check je antwoorden ook in Python\n",
    "#### Maak zelf opgaven en leg die aan je groepsleden voor"
   ]
  },
  {
   "cell_type": "markdown",
   "metadata": {},
   "source": [
    "# Comprehensies\n",
    "\n",
    "* Zorg dat je list, set en dict comprehensies echt goed in je vingers krijgt!\n",
    "* Het is heerlijk als je het kunt.\n",
    "\n",
    "### Goede uitleg\n",
    "\n",
    "Ik [Googlede op python comprehension tutorial](https://www.google.com/search?q=python+comprehension+tutorial) en de [video](https://www.youtube.com/watch?v=3dt4OGnU5sM) is prima, maar ook de [datacamp tutorial](https://www.datacamp.com/community/tutorials/python-list-comprehension) of de [real python](https://realpython.com/list-comprehension-python/) tutorial.\n",
    "\n",
    "### Wat opgaven\n",
    "\n",
    "Je gaat allemaal comprehensies doen op een gedicht van annie MG Schmidt. Het staat in de cel hieronder als string in de variabele `AMGS` en daarna als lijst van woorden in `t`.\n",
    "\n",
    "In je tests gebruik je allemaal string functies, en ook `in`. \n",
    "\n",
    "#### list comprehensies\n",
    "\n",
    "1. de lijst van alle woorden in `AMGS` beginnend met een `i`. (antwoord beneden)\n",
    "2. zelfde maar dan beginnend met `i` of `I`. (antwoord beneden)\n",
    "3. de lijst van alle woorden in `AMGS` van lengte meer dan 3\n",
    "4. de lijst van alle woorden in `AMGS` waar een `a` in zit\n",
    "5. nu waar juist geen `a` in zit\n",
    "6. nu waar als er een `a` in zit ook een `b` in zit (wat betekent dit precies he?)\n",
    "7. alle woorden zonder klinker.\n",
    "8. Voor elk woord zijn lengte.\n",
    "9. De lijst met het hele gedicht maar nu waar elk woord met een hoofdletter begint.\n",
    "10. De lijst die net zo lang is als het gedicht (dus `t`), maar dan op elke positie of het woord op die positie gelijk is aan `ik`. Dus de waardes zijn alleen maar `True` en `False`.\n",
    "    * Gebruik `sum` om te berekenen hoe vaak het woord `ik` voorkomt.\n",
    "11. Verzien er zelf 10 bij, en maak die ook, en geef ze aan je groepsgenoeten.\n",
    "\n",
    "#### set comprehensies\n",
    "\n",
    "1. De verzameling van alle unieke woorden in `AMGS`.\n",
    "2. De verzameling van alle unieke woorden in `AMGS` met `ch` er in.\n",
    "3. De verzameling van alle unieke woorden in `AMGS`, maar dan geschreven in hoofdletters.\n",
    "4. Alle woordlengtes die in `AMGS` voorkomen.\n",
    "\n",
    "\n",
    "### Dict comprehensies\n",
    "\n",
    "1. De dict met voor elk uniek \"woord\" in `AMGS` zijn lengte. Dus het woord is de key en de lengte de waarde. Let op , woorden zijn dus de elementen in `t`. (antwoord beneden)\n",
    "2. De dict met voor elk uniek \"woord\" in `AMGS` de verzameling karakters in dat woord.\n",
    "3. De dict met voor elk uniek \"woord\" in `AMGS`  de \"schoongemaakte\" versie van dat woord (zonder leestekens, etc, gebruik een lange lijst als `a.replace(':','').replace(',','')`. Zet het woord ook in klein eletters.\n",
    "\n",
    "    \n",
    "### Nesting\n",
    "\n",
    "3. De dict met voor elk uniek woord, de verzameling klinkers in dat  woord. \n",
    "    *   (antwoord beneden, probeer eerst minstens een half uur zelf)\n",
    "4.  De dict met voor elke positie in `AMGS`, de verzameling met het woord voor die positie  en het woord erna.\n",
    "    (antwoord ook beneden, niet meteen gan kijken.)\n",
    "5. DE dict met voor elk woord de verzameling posities waar het voorkomt. Tricky maar leuk!   Hint loop over de posities. \n",
    "6. Na de vorige is deze heel makkelijk: DE dict met voor elk woord  hoe vaak het voorkomt. \n"
   ]
  },
  {
   "cell_type": "code",
   "execution_count": null,
   "metadata": {
    "deletable": false,
    "editable": false,
    "nbgrader": {
     "cell_type": "code",
     "checksum": "a6ad497baa01dc58ba1e15a92af5c3aa",
     "grade": false,
     "grade_id": "amgs",
     "locked": true,
     "schema_version": 3,
     "solution": false
    }
   },
   "outputs": [],
   "source": [
    "AMGS='''\n",
    "Ik wil niet meer, ik wil niet meer!\n",
    "Ik wil geen handjes geven!\n",
    "Ik wil niet zeggen elke keer:\n",
    "Jawel mevrouw, jawel meneer...\n",
    "nee, nooit meer in m'n leven!\n",
    "Ik hou m'n handen op m'n rug\n",
    "en ik zeg lekker niks terug!\n",
    "\n",
    "Ik wil geen vieze havermout,\n",
    "ik wil geen tandjes poetsen!\n",
    "Ik wil lekker knoeien met het zout,\n",
    "ik wil niet aardig zijn, maar stout\n",
    "en van de leuning roetsen\n",
    "en schipbreuk spelen in de teil\n",
    "en ik wil spugen op het zeil!\n",
    "\n",
    "En heel hard stampen in een plas\n",
    "en dan m'n tong uitsteken\n",
    "en morsen op m'n nieuwe jas\n",
    "en ik wil overmorgen pas\n",
    "weer met twee woorden spreken!\n",
    "En ik wil alles wat niet mag,\n",
    "de hele dag, de hele dag!\n",
    "\n",
    "En ik wil op de kanapee\n",
    "met hele vuile schoenen\n",
    "en ik wil aldoor gillen: nee!\n",
    "En ik wil met de melkboer mee\n",
    "en dan het paardje zoenen.\n",
    "En dat is alles wat ik wil\n",
    "en als ze kwaad zijn, zeg ik: Bil!'''\n",
    "\n",
    "t=AMGS.split()\n",
    "len(t),t[:10]"
   ]
  },
  {
   "cell_type": "code",
   "execution_count": null,
   "metadata": {},
   "outputs": [],
   "source": [
    "# probeer eens alleen t[0]. en dan shift return, en probeer eens wat van de suggesties\n",
    "# om erachter te komen wat iets doet typ je t[0].isupper? en dan shift enter.\n",
    "# Ideaal he! Dat kan bij elk object. t[0] is natuurlijk een string, dus je krijgt string functies te zien. \n",
    "t[0].isupper()"
   ]
  },
  {
   "cell_type": "code",
   "execution_count": null,
   "metadata": {},
   "outputs": [],
   "source": [
    "# \"in\" is ook heel handig in Python\n",
    "\n",
    "print(t[1])\n",
    "'i' in t[1], 'W' in t[1], 'W' in t[1].upper()"
   ]
  },
  {
   "cell_type": "code",
   "execution_count": null,
   "metadata": {},
   "outputs": [],
   "source": [
    "#de lijst van alle woorden in `AMGS` beginnend met een `i`. (antwoord beneden)\n",
    "[w for w in t if w.startswith('i')]"
   ]
  },
  {
   "cell_type": "code",
   "execution_count": null,
   "metadata": {},
   "outputs": [],
   "source": [
    "#2. zelfde maar dan beginnend met `i` of `I`. (antwoord beneden)\n",
    "# Verzin minstens 2 andere manieren om exact hetzelfde te krijgen\n",
    "[w for w in t if w.startswith('i') or w.startswith('I')]"
   ]
  },
  {
   "cell_type": "code",
   "execution_count": null,
   "metadata": {},
   "outputs": [],
   "source": [
    "#  De dict met voor elk uniek woord in `AMGS` zijn lengte.\n",
    "\n",
    "{w:len(w) for w in t}"
   ]
  },
  {
   "cell_type": "code",
   "execution_count": null,
   "metadata": {},
   "outputs": [],
   "source": [
    "# De dict met voor elk uniek woord, de verzameling klinkers in dat  woord.\n",
    "\n",
    "{w:{l for l in w if l in 'aeiou'} \n",
    "    for w in set(t)} # verbeter hem zelf zodat hoofdletters ook mee worden genomen\n"
   ]
  },
  {
   "cell_type": "code",
   "execution_count": null,
   "metadata": {},
   "outputs": [],
   "source": [
    "#  De dict met voor elke positie in `AMGS`, de verzameling met het woord voor die positie  en het woord erna.\n",
    "\n",
    "{i:{t[i-1],t[i+1]} for i in range(1,len(t)-1)}"
   ]
  },
  {
   "cell_type": "code",
   "execution_count": null,
   "metadata": {
    "deletable": false,
    "nbgrader": {
     "cell_type": "code",
     "checksum": "845a6ef560597deb9641ed04569e6737",
     "grade": false,
     "grade_id": "TRICKY",
     "locked": false,
     "schema_version": 3,
     "solution": true
    }
   },
   "outputs": [],
   "source": [
    "#  DE dict met voor elk woord de verzameling posities waar het voorkomt. Tricky maar leuk!    \n",
    "l=dict()\n",
    "#WRITE YOUR CODE HERE"
   ]
  },
  {
   "cell_type": "code",
   "execution_count": null,
   "metadata": {},
   "outputs": [],
   "source": []
  },
  {
   "cell_type": "code",
   "execution_count": null,
   "metadata": {},
   "outputs": [],
   "source": []
  },
  {
   "cell_type": "code",
   "execution_count": null,
   "metadata": {},
   "outputs": [],
   "source": []
  }
 ],
 "metadata": {
  "anaconda-cloud": {},
  "hide_input": false,
  "kernelspec": {
   "display_name": "Python 3 (ipykernel)",
   "language": "python",
   "name": "python3"
  },
  "language_info": {
   "codemirror_mode": {
    "name": "ipython",
    "version": 3
   },
   "file_extension": ".py",
   "mimetype": "text/x-python",
   "name": "python",
   "nbconvert_exporter": "python",
   "pygments_lexer": "ipython3",
   "version": "3.10.9"
  },
  "toc": {
   "nav_menu": {},
   "number_sections": true,
   "sideBar": true,
   "skip_h1_title": false,
   "title_cell": "Table of Contents",
   "title_sidebar": "Contents",
   "toc_cell": false,
   "toc_position": {},
   "toc_section_display": true,
   "toc_window_display": false
  },
  "varInspector": {
   "cols": {
    "lenName": 16,
    "lenType": 16,
    "lenVar": 40
   },
   "kernels_config": {
    "python": {
     "delete_cmd_postfix": "",
     "delete_cmd_prefix": "del ",
     "library": "var_list.py",
     "varRefreshCmd": "print(var_dic_list())"
    },
    "r": {
     "delete_cmd_postfix": ") ",
     "delete_cmd_prefix": "rm(",
     "library": "var_list.r",
     "varRefreshCmd": "cat(var_dic_list()) "
    }
   },
   "types_to_exclude": [
    "module",
    "function",
    "builtin_function_or_method",
    "instance",
    "_Feature"
   ],
   "window_display": false
  }
 },
 "nbformat": 4,
 "nbformat_minor": 4
}
