{
 "cells": [
  {
   "cell_type": "markdown",
   "metadata": {},
   "source": [
    "# Assignment Netwerkanalyse"
   ]
  },
  {
   "cell_type": "markdown",
   "metadata": {
    "nbgrader": {
     "grade": false,
     "grade_id": "privacy",
     "locked": false,
     "schema_version": 3,
     "solution": false
    }
   },
   "source": [
    "## Notebook made by\n",
    "\n",
    "**Gebruik graag dit formaat**\n",
    "\n",
    "* Voor de namen:  voornaam rest van je naam, voornaam rest van je naam,....\n",
    "* je studentnummers: hetzelfde: scheidt met `,`\n",
    "* je emails: hetzelfde: scheidt met `,`\n",
    "* voor je groep: alleen de hoofdletter (dus voor de groep van Marx zou je `A` kiezen)\n",
    "\n",
    "__Namen__:Anoniem",
    "\n",
    "__Emails__:Anoniem",
    "\n",
    "__Student id__:Anoniem",
    "\n",
    "__Groep__:Anoniem"
   ]
  },
  {
   "cell_type": "markdown",
   "metadata": {},
   "source": [
    "## Toelichting\n",
    "\n",
    "* De meeste opgaven worden automatisch nagekeken. Bij vrijwel alle opdrachten staan er een paar tests onder de opdracht, dit is voornamelijk om te zorgen dat je de juiste type output geeft. Dit zijn dus *NIET* alle tests, die komen er bij het graden nog bij.\n",
    "* Elke vraag is 1 punt waard, tenzij anders aangegeven. Soms is die punt onderverdeeld in deelpunten, maar niet altijd. \n",
    "\n",
    "## Voor het inleveren!\n",
    "\n",
    "* Pas niet de cellen aan, vooral niet die je niet kunt editen. Dit levert problemen op bij nakijken. Twijfel je of je per ongeluk iets hebt gewijzigd, kopieer dan bij inleveren je antwoorden naar een nieuw bestand, zodat het niet fout kan gaan.\n",
    "\n",
    "* Zorg dat de code goed runt van boven naar beneden, verifieer dat door boven in Kernel -> Restart & Run All uit te voeren\n",
    "\n",
    "## Na het inleveren!\n",
    "\n",
    "* Het gebeurt erg vaak dat mensen een \"leeg bestand\" inleveren. Vaak een andere versie van de opgave die nog ergens op je computer rondslingerde. Zonde van al je werk toch!\n",
    "* Dus, lever **minstens een half uur voor tijd in**. Download dan wat je hebt ingeleverd op Canvas. Geef het een andere naam om verwarring te voorkomen. En draai alle cellen, en bekijk het. Geen syntax fouten? Alle vragen gemaakt? Dan zit het vast wel goed, en hoef je niet in de zenuwen te zitten."
   ]
  },
  {
   "cell_type": "markdown",
   "metadata": {
    "deletable": false,
    "editable": false,
    "nbgrader": {
     "cell_type": "markdown",
     "checksum": "4eddd8795f2cf05755727bf9661d3279",
     "grade": false,
     "grade_id": "cell-2f53b0d44f5944c8",
     "locked": true,
     "schema_version": 3,
     "solution": false
    }
   },
   "source": [
    "# Week 1"
   ]
  },
  {
   "cell_type": "markdown",
   "metadata": {
    "deletable": false,
    "editable": false,
    "nbgrader": {
     "cell_type": "markdown",
     "checksum": "9cfcdb6ce9cb7ddcfe2f05b5b14f33df",
     "grade": false,
     "grade_id": "cell-57401e015f004af7",
     "locked": true,
     "schema_version": 3,
     "solution": false
    }
   },
   "source": [
    "# Deel 1: Programmeren\n",
    "\n",
    "Voor deze opdrachten maken we gebruik van Networkx, de documentatie daarvan is te vinden via [deze link](https://networkx.github.io/documentation/stable/). Kijk vooral naar welke functies zij bieden, zodat je niet dingen doet die zij al voor je doen (tenzij dat natuurlijk de opdracht is).\n",
    "\n",
    "Staat er `ModuleNotFoundError: No module named X`, doe dan in een cell `!pip install X` (natuurlijk is X hier iets van `matplotlib`, `networkx`, `scipy` of `nose`) en run de cell dan opnieuw.\n",
    "\n",
    "Mocht dat niet werken, probeer dan `!pip3 install X` (werkt alleen bij Mac) of restart de kernel en probeer opnieuw! Mocht dat allemaal ook niet werken, roep dan even een TA!"
   ]
  },
  {
   "cell_type": "code",
   "execution_count": null,
   "metadata": {
    "deletable": false,
    "editable": false,
    "nbgrader": {
     "cell_type": "code",
     "checksum": "5c2f6050820fc18ad48bb39b5fced2b4",
     "grade": false,
     "grade_id": "cell-a6202143af23bfa6",
     "locked": true,
     "schema_version": 3,
     "solution": false
    }
   },
   "outputs": [],
   "source": [
    "# Installeer benodigde packages\n",
    "%matplotlib inline\n",
    "import networkx as nx\n",
    "import matplotlib.pyplot as plt\n",
    "import numpy as np\n",
    "import scipy\n",
    "from nose.tools import assert_equal\n",
    "from numpy.testing import assert_almost_equal, assert_array_almost_equal"
   ]
  },
  {
   "cell_type": "markdown",
   "metadata": {
    "deletable": false,
    "editable": false,
    "nbgrader": {
     "cell_type": "markdown",
     "checksum": "b3bf8cda67c11a44c76cd283f2163a37",
     "grade": false,
     "grade_id": "cell-48f4ba3545c0d50b",
     "locked": true,
     "schema_version": 3,
     "solution": false
    }
   },
   "source": [
    "## Vraag 1\n",
    "<p>Maak een networkx ongerichte graaf `G` met de volgende knopen en lijnen:</p>\n",
    "<center>\n",
    "    V = {1, 2, 3, 4, 5} en \n",
    "    E = { (1, 2) , (1, 4) , (2, 3) , (2, 4) , (2, 5) , (3, 4) , (3, 5) }\n",
    "</center>\n",
    "De uitkomst van de volgende cel is een mooi plaatje van een netwerkje met... ja echt 5 knopen.\n"
   ]
  },
  {
   "cell_type": "code",
   "execution_count": null,
   "metadata": {
    "deletable": false,
    "nbgrader": {
     "cell_type": "code",
     "checksum": "b5cd600414856eeb40e381efb280f431",
     "grade": false,
     "grade_id": "Vraag1",
     "locked": false,
     "schema_version": 3,
     "solution": true
    }
   },
   "outputs": [],
   "source": [
    "G = nx.Graph()\n",
    "\n",
    "V = [1, 2, 3, 4, 5]\n",
    "G.add_nodes_from(V)\n",
    "\n",
    "E = [(1,2), (1,4), (2,3), (2,4), (2,5), (3,4), (3,5)]\n",
    "G.add_edges_from(E)\n",
    "\n",
    "nx.draw(G, with_labels=True)"
   ]
  },
  {
   "cell_type": "code",
   "execution_count": null,
   "metadata": {
    "deletable": false,
    "editable": false,
    "nbgrader": {
     "cell_type": "code",
     "checksum": "3beb23ca23eaba628be84f7d739982fe",
     "grade": true,
     "grade_id": "Vraag1_antwoord",
     "locked": true,
     "points": 1,
     "schema_version": 3,
     "solution": false
    }
   },
   "outputs": [],
   "source": [
    "assert_equal(nx.is_directed(G), False)"
   ]
  },
  {
   "cell_type": "markdown",
   "metadata": {
    "deletable": false,
    "editable": false,
    "nbgrader": {
     "cell_type": "markdown",
     "checksum": "208c59c2355800b0945531438a7a8d4a",
     "grade": false,
     "grade_id": "cell-af905db2c0399b45",
     "locked": true,
     "schema_version": 3,
     "solution": false
    }
   },
   "source": [
    "## Vraag 2\n",
    "Maak op basis van het netwerk `G` een dictionary genaamd `neighborDict` met als key een node en als value de verzameling  met alle buren van die knoop.\n",
    "Gebruik dict comprehensie.\n",
    "\n",
    "Bijvoorbeeld: `neighborDict[5] = {2, 3}`"
   ]
  },
  {
   "cell_type": "code",
   "execution_count": null,
   "metadata": {
    "deletable": false,
    "nbgrader": {
     "cell_type": "code",
     "checksum": "bec7adbfcb8f9c89b72cfa8112e81aa9",
     "grade": false,
     "grade_id": "Vraag2",
     "locked": false,
     "schema_version": 3,
     "solution": true
    }
   },
   "outputs": [],
   "source": [
    "#deze dict comprehension loopt door de nodes in het netwerk G\n",
    "#Elke node wordt een key in de dictionary\n",
    "#de value is een lijst die ontstaat door te loopen over alle buren van deze node\n",
    "#de lijst wordt vervolgens omgezet in een set\n",
    "\n",
    "neighborDict = {node: {x for x in G.neighbors(node)} for node in G.nodes()}\n",
    "\n",
    "neighborDict[5]"
   ]
  },
  {
   "cell_type": "code",
   "execution_count": null,
   "metadata": {
    "deletable": false,
    "editable": false,
    "nbgrader": {
     "cell_type": "code",
     "checksum": "51b20a61c0c23ab0755aa369e67daf29",
     "grade": true,
     "grade_id": "Vraag2_antwoord",
     "locked": true,
     "points": 1,
     "schema_version": 3,
     "solution": false
    }
   },
   "outputs": [],
   "source": [
    "# Onderstaande tests helpen je bij het vinden van het juiste antwoord\n",
    "# Als hier iets mis gaat, probeer dan de foutmelding te begrijpen en jouw antwoord aan te passen\n",
    "# Ook op het tentamen geven we zulke hints\n",
    "# De echte check of je antwoord correct is is geheim. Die staat hieronder maar zie jij niet.\n",
    "\n",
    "\n",
    "assert_equal(type(neighborDict), dict) # we testen hier of jouw antwoord van het juiste type is.\n",
    "assert_equal(len(neighborDict),5)  # we testen hier of je elke knoop in je dict hebt gestopt en niks meer\n",
    "assert_equal(set(neighborDict.keys()), set(G.nodes)) # en hier doen we dat nog een keer\n",
    "for knoop in neighborDict:  # hier testen we of elke verzameling buren van elke knoop in jouw antword echt knopen uit G zijn.\n",
    "    assert neighborDict[knoop].issubset(set(G.nodes))\n",
    "\n"
   ]
  },
  {
   "cell_type": "markdown",
   "metadata": {
    "deletable": false,
    "editable": false,
    "nbgrader": {
     "cell_type": "markdown",
     "checksum": "8268a29220be8349b72ef23e3c56bb35",
     "grade": false,
     "grade_id": "cell-397906d371adcacc",
     "locked": true,
     "schema_version": 3,
     "solution": false
    }
   },
   "source": [
    "## Vraag 3\n",
    "Maak een functie `make_complete(G)` die teruggeeft hoeveel lijnen toegevoegd moeten worden aan een willekeurig  ongericht netwerk `G` (die misschien al lijnen bevat) om er een volledige graaf van te maken. Zorg dat het resultaat een integer is.\n"
   ]
  },
  {
   "cell_type": "code",
   "execution_count": null,
   "metadata": {
    "deletable": false,
    "nbgrader": {
     "cell_type": "code",
     "checksum": "30b0d510f2b302f936ad4a3d3bc9edfc",
     "grade": false,
     "grade_id": "Vraag3",
     "locked": false,
     "schema_version": 3,
     "solution": true
    }
   },
   "outputs": [],
   "source": [
    "def make_complete(G):\n",
    "    \n",
    "    #het maximale aantal edges in een graph is het aantal nodes - 1\n",
    "    max_degree = G.number_of_nodes() - 1 \n",
    "    \n",
    "    #een compleet netwerk wordt berekend aan de hand van de formule: (aantal nodes * maximale degree) / 2\n",
    "    complete_network = (G.number_of_nodes() * max_degree) / 2 \n",
    "    \n",
    "    #het antwoord is de hoeveelheid edges van het complete netwerk - de hoeveelheid edges die het netwerk al heeft\n",
    "    return int(complete_network - G.number_of_edges())\n",
    "\n",
    "# test 1\n",
    "print(make_complete(G))\n",
    "# test 2\n",
    "ER = nx.gnm_random_graph(100, 200) # Zie https://networkx.github.io/documentation/stable/auto_examples/graph/plot_erdos_renyi.html\n",
    "nx.draw(ER, with_labels=True);\n",
    "make_complete(ER)"
   ]
  },
  {
   "cell_type": "code",
   "execution_count": null,
   "metadata": {
    "deletable": false,
    "editable": false,
    "nbgrader": {
     "cell_type": "code",
     "checksum": "229bc6451ccec4574cfc1913acd0d7c2",
     "grade": true,
     "grade_id": "Vraag3_antwoord",
     "locked": true,
     "points": 1,
     "schema_version": 3,
     "solution": false
    }
   },
   "outputs": [],
   "source": [
    "assert_equal(type(make_complete(G)), int) # jouw antwoord is een geheel getal, een integer"
   ]
  },
  {
   "cell_type": "markdown",
   "metadata": {
    "deletable": false,
    "editable": false,
    "nbgrader": {
     "cell_type": "markdown",
     "checksum": "dd7899affe63e8de4da2610356b95a1a",
     "grade": false,
     "grade_id": "cell-d87520b5c6b1fcf7",
     "locked": true,
     "schema_version": 3,
     "solution": false
    }
   },
   "source": [
    "## Vraag 4\n",
    "Maak een functie `my_degree(G)` die een dictionary maakt met als sleutels alle knopen van `G`    en als value de degree van de sleutel in `G`. Het resultaat is hetzelfde als `dict(G.degree())`.\n",
    "\n",
    "* Gebruik een dict comprehensie!\n",
    "* Je mag alleen de networkx functie `G.has_edge()` gebruiken. \n",
    "* Dit kan gewoon in 1 regel. Ga geen gekke loops of zo gebruiken. Wees elegant, en vermijd zo foutjes. Denk liever zelf eerst na vordat je iemand nadoet die jij niet kent en die iets op het internet heeft geroepen.\n",
    "\n",
    "Zie: https://en.wikipedia.org/wiki/Degree_(graph_theory)\n",
    "\n",
    "Voorbeeld resultaat op ons eigen netwerk `G`: `{1: 2, 2: 4,...}`"
   ]
  },
  {
   "cell_type": "code",
   "execution_count": null,
   "metadata": {
    "deletable": false,
    "nbgrader": {
     "cell_type": "code",
     "checksum": "a844d7fe1b7fa46fe06eceeccb030129",
     "grade": false,
     "grade_id": "Vraag4",
     "locked": false,
     "schema_version": 3,
     "solution": true
    }
   },
   "outputs": [],
   "source": [
    "def my_degree(G):\n",
    "    \n",
    "    return {node: G.degree(node) for node in G.nodes()}\n",
    "\n",
    "# test 1\n",
    "print('G:', my_degree(G))\n",
    "\n",
    "# test 2\n",
    "ER = nx.gnm_random_graph(10, 20) # Zie https://networkx.github.io/documentation/stable/auto_examples/graph/plot_erdos_renyi.html\n",
    "nx.draw(ER, with_labels=True);\n",
    "my_degree(ER)"
   ]
  },
  {
   "cell_type": "code",
   "execution_count": null,
   "metadata": {
    "deletable": false,
    "editable": false,
    "nbgrader": {
     "cell_type": "code",
     "checksum": "30f88fe605bc7f104b2377a5eb29876e",
     "grade": true,
     "grade_id": "Vraag4_antwoord",
     "locked": true,
     "points": 1,
     "schema_version": 3,
     "solution": false
    }
   },
   "outputs": [],
   "source": [
    "assert_equal(my_degree(G), dict(G.degree()))"
   ]
  },
  {
   "cell_type": "markdown",
   "metadata": {
    "deletable": false,
    "editable": false,
    "nbgrader": {
     "cell_type": "markdown",
     "checksum": "90e50ebc453742e790a83e725ef6b319",
     "grade": false,
     "grade_id": "cell-758bd776f998402a",
     "locked": true,
     "schema_version": 3,
     "solution": false
    }
   },
   "source": [
    "## Vraag 5\n",
    "Teken de subgraven van `G` geinduceerd door {1,2,3} en {2,5,3} en {5,4} en geef deze graven de namen respectievelijk `I`, `J` en `K`"
   ]
  },
  {
   "cell_type": "code",
   "execution_count": null,
   "metadata": {
    "deletable": false,
    "nbgrader": {
     "cell_type": "code",
     "checksum": "dbcccf74cf0aed1d1528971b7c07443d",
     "grade": false,
     "grade_id": "Vraag5",
     "locked": false,
     "schema_version": 3,
     "solution": true
    }
   },
   "outputs": [],
   "source": [
    "I = G.subgraph([1,2,3])\n",
    "J = G.subgraph([2,5,3])\n",
    "K = G.subgraph([5,4])\n",
    "\n",
    "#WRITE YOUR CODE HERE\n",
    "plt.figure(1)\n",
    "nx.draw(I)\n",
    "plt.figure(2)\n",
    "nx.draw(J)\n",
    "plt.figure(3)\n",
    "nx.draw(K)\n",
    "plt.show()"
   ]
  },
  {
   "cell_type": "code",
   "execution_count": null,
   "metadata": {
    "deletable": false,
    "editable": false,
    "nbgrader": {
     "cell_type": "code",
     "checksum": "401c27b02e6aa7d591823408c3252095",
     "grade": true,
     "grade_id": "Vraag5_antwoord",
     "locked": true,
     "points": 1,
     "schema_version": 3,
     "solution": false
    }
   },
   "outputs": [],
   "source": [
    "assert_equal(sorted(list(I.nodes())), [1, 2, 3])\n",
    "assert_equal(sorted(list(J.nodes())), [2, 3, 5])\n",
    "assert_equal(sorted(list(K.nodes())), [4, 5])"
   ]
  },
  {
   "cell_type": "markdown",
   "metadata": {
    "deletable": false,
    "editable": false,
    "nbgrader": {
     "cell_type": "markdown",
     "checksum": "49941b6bd7e63eb1efdf47602ae9e5e6",
     "grade": false,
     "grade_id": "cell-d4a2702cbe026966",
     "locked": true,
     "schema_version": 3,
     "solution": false
    }
   },
   "source": [
    "## Vraag 6\n",
    "Maak de functie `adj_matrix(G)`  en `adj_matrix2(G)` die allebei een adjacency matrix maken. In het geval van de graaf `G` die je hebt gemaakt bij vraag 1, heeft de matrix van deze  vorm (alleen dan in de vorm van een lijst van lijsten):\n",
    "    <pre>\n",
    "        1 2 3 4 5\n",
    "      1 0 1 0 1 0\n",
    "      2\n",
    "      3\n",
    "      4\n",
    "      5\n",
    "    </pre>\n",
    "    \n",
    "Een aantal eisen:\n",
    "* Zorg dat de functies werken voor elk netwerk, niet alleen `G`. (We kijken de functies ook na met andere netwerken dan `G`.\n",
    "* Gebruik enkel list comprehensies.\n",
    "* Je mag in beide functies niet de networkx functie `nx.adjacency_matrix` gebruiken.\n",
    "* Bij `adj_matrix(G)` moet je de networkx functie `G.has_edge` gebruiken en  geen enkele andere networkx functie.\n",
    "* Bij `adj_matrix2(G)` moet je de networkx functie `G.neighbors` (dit is niet hetzelfde als `nx.neighbors`!) gebruiken en  geen enkele andere networkx functie.\n",
    "* Zorg dat de nodes altijd gesorteerd zijn, zodat de matrix op volgorde is\n",
    "* Hint:`int(True)==1` en `int(False)==0`, en dus ook `int(5==4)==0`.\n",
    "    \n",
    "Je antwoord voor netwerk `G` zal er zo uit zien:\n",
    "\n",
    "```\n",
    "[[0, 1, 0, 1, 0],\n",
    " [....],\n",
    "       ....\n",
    " [....]\n",
    "] \n",
    "```"
   ]
  },
  {
   "cell_type": "code",
   "execution_count": null,
   "metadata": {
    "deletable": false,
    "nbgrader": {
     "cell_type": "code",
     "checksum": "22f5e52a9fc59ab00ff30d085a7d32be",
     "grade": false,
     "grade_id": "Vraag6",
     "locked": false,
     "schema_version": 3,
     "solution": true
    }
   },
   "outputs": [],
   "source": [
    "def adj_matrix(G):\n",
    "    \n",
    "    matrix = []\n",
    "    \n",
    "    for row_nodes in G:\n",
    "        rows = []\n",
    "        for column_nodes in G:\n",
    "            if G.has_edge(row_nodes, column_nodes):\n",
    "                rows.append(1)\n",
    "            else:\n",
    "                rows.append(0)\n",
    "        matrix.append(rows)\n",
    "    return matrix\n",
    "\n",
    "def adj_matrix2(G):\n",
    "    \n",
    "    matrix = []\n",
    "    \n",
    "    for row_nodes in G:\n",
    "        rows = []\n",
    "        for column_nodes in G:\n",
    "            if column_nodes in G.neighbors(row_nodes):\n",
    "                rows.append(1)\n",
    "            else:\n",
    "                rows.append(0)\n",
    "        matrix.append(rows)\n",
    "    return matrix\n",
    "\n",
    "adj_matrix(G),adj_matrix2(G), adj_matrix(G)==adj_matrix2(G)\n",
    "\n",
    "# test het zelf ook met de ER graaf."
   ]
  },
  {
   "cell_type": "code",
   "execution_count": null,
   "metadata": {
    "deletable": false,
    "editable": false,
    "nbgrader": {
     "cell_type": "code",
     "checksum": "7dbff52b2dd0db74f510344b8dd3483e",
     "grade": true,
     "grade_id": "Vraag6_test",
     "locked": true,
     "points": 1,
     "schema_version": 3,
     "solution": false
    }
   },
   "outputs": [],
   "source": [
    "assert_equal(type(adj_matrix(G)), list)\n",
    "assert_equal(type(adj_matrix(G)[0]), list)\n",
    "assert_equal(type(adj_matrix(G)[0][0]), int)\n",
    "assert_equal(type(adj_matrix2(G)), list)\n",
    "assert_equal(type(adj_matrix2(G)[0]), list)\n",
    "assert_equal(type(adj_matrix2(G)[0][0]), int)\n",
    "assert_equal(type(adj_matrix2(G)[0][0]), int)\n",
    "assert_array_almost_equal(adj_matrix(G), adj_matrix2(G))\n"
   ]
  },
  {
   "cell_type": "markdown",
   "metadata": {
    "deletable": false,
    "editable": false,
    "nbgrader": {
     "cell_type": "markdown",
     "checksum": "f6a5e6dd2e682dffc48cd542610e68dc",
     "grade": false,
     "grade_id": "FC",
     "locked": true,
     "schema_version": 3,
     "solution": false
    }
   },
   "source": [
    "# Opgaven uit First Course\n",
    "\n",
    "1. Alles uit Hfd 0\n",
    "2. Hfd 1: alles tot en met 21.\n",
    "3. Maak opgave 21 in `networkx`\n",
    "        * maak het netwerk, met `G.add_edges`\n",
    "        * print het\n",
    "        * maak ook de adjecency matrix als een lijst van lijsten\n",
    "        * check dat deze adjencency matrix hetzelfde is als een adjececy matrix die networkx maakt.\n",
    "4. Schrijf nu ook checks voor alle vragen 1.17-1.20 in Python en controleer je antwoord."
   ]
  },
  {
   "cell_type": "markdown",
   "metadata": {
    "deletable": false,
    "nbgrader": {
     "cell_type": "markdown",
     "checksum": "265462dc9ac5967a7bef8d79bdc27119",
     "grade": true,
     "grade_id": "FCa",
     "locked": false,
     "points": 1,
     "schema_version": 3,
     "solution": true
    }
   },
   "source": [
    "**answers chapter 0**\n",
    "\n",
    "0.1\tC\n",
    "\n",
    "0.2\tA\n",
    "\n",
    "0.3\tA flights that departed from on airport to the other airport\n",
    "\n",
    "0.4\tD\n",
    "\n",
    "0.5\tDe link between a ‘friend’ connection between two users, this is undirected.\n",
    "\n",
    "0.6\tA user who decides to follow another users without that user following him/her back, this is directed.\n",
    "\n",
    "\n",
    "**answers chapter 1**\n",
    "\n",
    "1.2 a link can connect a maximum of two nodes, a node can have a maximum of N-1 links\n",
    "\n",
    "1.3  -\n",
    "\n",
    "1.4 the in-degree and out-degree would both be 2\n",
    "\n",
    "1.5 –\n",
    "\n",
    "1.6 D\n",
    "\n",
    "1.7 D\n",
    "\n",
    "1.8 B\n",
    "\n",
    "1.9 A\n",
    "\n",
    "1.10 D\n",
    "\n",
    "1.11 a complete network of 300 links\n",
    "\n",
    "1.12 N(N-1) / 2\n",
    "\n",
    "1.13 N1 x N2\n",
    "\n",
    "1.14 A\n",
    "\n",
    "1.15 since there can’t be an link between a node itself, the network must be complete in the case of N(N-1)/2 links. \n",
    "\n",
    "1.16 D\n",
    "\n",
    "1.17 six nodes, 10 edges, and no self-loops\n",
    "\n",
    "1.18 node F has outgoing links to every other node, there are no nodes with in-links from every node.\n",
    "\n",
    "1.19 node C\n",
    "\n",
    "1.20 in-strength is 5 and out-strength is 0\n"
   ]
  },
  {
   "cell_type": "markdown",
   "metadata": {
    "deletable": false,
    "editable": false,
    "nbgrader": {
     "cell_type": "markdown",
     "checksum": "20af09af35926a7a1fb03a46c3014de9",
     "grade": false,
     "grade_id": "fc113",
     "locked": true,
     "schema_version": 3,
     "solution": false
    }
   },
   "source": [
    "# FC vraag 1.13\n",
    "\n",
    "* Maak deze vraag ook in networkx.\n",
    "    * Maak een functie `Q113(N1,N2)` die een network teruggeeft zoals gevraagd\n",
    "    * Met welke check check je dat het \"volledig\" (voor een bipartiet netwerk natuurlijk) is?\n",
    "    \n",
    "* **Hint** Google eens wat."
   ]
  },
  {
   "cell_type": "code",
   "execution_count": null,
   "metadata": {
    "deletable": false,
    "nbgrader": {
     "cell_type": "code",
     "checksum": "f9f3e124c1b40038c9d23e79854547a5",
     "grade": false,
     "grade_id": "fc113a",
     "locked": false,
     "schema_version": 3,
     "solution": true
    }
   },
   "outputs": [],
   "source": [
    "def Q113(N1,N2):\n",
    "    '''Return a maximal bipartite network with N1 nodes on one side and N2 on the other.'''\n",
    "    \n",
    "    return nx.complete_bipartite_graph(N1, N2)\n",
    "    \n",
    "def maximaal_bipartiet(BG):\n",
    "    '''Return True if BG is a maximal bipartite network. False in all other cases.'''\n",
    "    \n",
    "    nodes = nx.bipartite.sets(BG) #will retrieve the two sets of nodes from the bipartite network\n",
    "    N1, N2 = nodes #stores the two sets of nodes in seperate variables\n",
    "    \n",
    "    for node1 in N1:\n",
    "        for node2 in N2:\n",
    "            if not BG.has_edge(node1, node2): #checks if there's a missing edge in the complete graph\n",
    "                return False \n",
    "    return True #returns True if graph is complete\n",
    "    \n",
    "#test\n",
    "maximaal_bipartiet(Q113(5,10))"
   ]
  },
  {
   "cell_type": "code",
   "execution_count": null,
   "metadata": {
    "deletable": false,
    "editable": false,
    "nbgrader": {
     "cell_type": "code",
     "checksum": "f9c553f4e2d6b24ec3c44b5d27ebc874",
     "grade": true,
     "grade_id": "fc113t",
     "locked": true,
     "points": 1,
     "schema_version": 3,
     "solution": false
    }
   },
   "outputs": [],
   "source": [
    "assert isinstance(Q113(5,10),nx.Graph)\n",
    "assert isinstance(maximaal_bipartiet(Q113(5,10)), bool)\n",
    "\n",
    "\n",
    "    \n",
    " "
   ]
  },
  {
   "cell_type": "code",
   "execution_count": null,
   "metadata": {
    "deletable": false,
    "nbgrader": {
     "cell_type": "code",
     "checksum": "d6848ddf7abe19df1622e4c01b95d567",
     "grade": true,
     "grade_id": "adjmatrixchecksd",
     "locked": false,
     "points": 1,
     "schema_version": 3,
     "solution": true
    }
   },
   "outputs": [],
   "source": [
    "#code opgave 21\n",
    "\n",
    "WG = nx.DiGraph()\n",
    "edges_with_weights = [('A', 'B', 1), ('B', 'C', 2), ('D', 'B', 1), ('D', 'E', 1), ('E', 'F', 1), \n",
    "                      ('F', 'A', 2), ('F', 'B', 1), ('F', 'C', 3), ('F', 'D', 1), ('F', 'E', 1)]\n",
    "WG.add_weighted_edges_from(edges_with_weights)\n",
    "nx.draw(WG, with_labels = True)"
   ]
  },
  {
   "cell_type": "code",
   "execution_count": null,
   "metadata": {},
   "outputs": [],
   "source": [
    "# adjacency matrix als lijst van lijsten voor graph opgave 21\n",
    "matrix = []\n",
    "\n",
    "for nodes_row in WG.nodes():\n",
    "    rows = []\n",
    "    for nodes_column in WG.nodes():\n",
    "        edge = (nodes_row, nodes_column)\n",
    "        if edge in WG.edges(): #controleert of the link in het netwerk zit\n",
    "            rows.append(WG.get_edge_data(nodes_row, nodes_column)['weight']) #als de links in het netwerk zit, wordt de bijbehorende weight toegevoegd\n",
    "        else:\n",
    "            rows.append(0) #als er geen link is, wordt 0 toegevoegd\n",
    "    matrix.append(rows)\n",
    "\n",
    "print(matrix)\n",
    "            \n",
    "#WG.get_edge_data('F', 'C')['weight']"
   ]
  },
  {
   "cell_type": "code",
   "execution_count": null,
   "metadata": {
    "deletable": false,
    "nbgrader": {
     "cell_type": "code",
     "checksum": "57c0cd30f820f23743303abee629bc86",
     "grade": true,
     "grade_id": "FCa21",
     "locked": false,
     "points": 1,
     "schema_version": 3,
     "solution": true
    }
   },
   "outputs": [],
   "source": [
    "#check functie voor 1.17\n",
    "\n",
    "WG_matrix = [[0, 1, 0, 0, 0, 0], [0, 0, 2, 0, 0, 0], [0, 0, 0, 0, 0, 0], [0, 1, 0, 0, 1, 0], [0, 0, 0, 0, 0, 1], [2, 1, 3, 1, 1, 0]]\n",
    "\n",
    "def network_structure(adj_matrix):\n",
    "    \n",
    "    number_nodes = len(adj_matrix)\n",
    "    number_edges = 0\n",
    "    self_loops = 0\n",
    "    \n",
    "    for rows in adj_matrix:\n",
    "        for values in rows:\n",
    "            if values >= 1:\n",
    "                number_edges += 1\n",
    "                \n",
    "    for index in range(len(adj_matrix)):\n",
    "        row = adj_matrix[index]\n",
    "        if row[index] != 0:\n",
    "            self_loops += 1\n",
    "\n",
    "    print(f'This adjacency matrix contains {number_nodes} nodes, {number_edges} edges, and {self_loops} self-loops')\n",
    "\n",
    "#check functie voor 1.18\n",
    "\n",
    "def di_network_structure(WG):\n",
    "    only_incoming = False\n",
    "    only_incoming_nodes = []\n",
    "    for node in WG.nodes():\n",
    "        for pairs in WG.edges():\n",
    "            if (node, node) not in pairs and WG.in_degree(node) == len(WG.nodes()) - 1:\n",
    "                only_incoming = True\n",
    "                only_incoming_nodes.append(node)\n",
    "            \n",
    "    only_outgoing = False\n",
    "    only_outgoing_nodes = []\n",
    "    for node in WG.nodes():\n",
    "        for pairs in WG.edges():\n",
    "            if (node, node) not in pairs and WG.out_degree(node) == len(WG.nodes()) - 1:\n",
    "                only_outgoing = True\n",
    "                if node not in only_outgoing_nodes:\n",
    "                    only_outgoing_nodes.append(node)\n",
    "    \n",
    "    if only_incoming == True:\n",
    "        print(f'This graph has the following nodes with incoming links from every other node: {only_incoming_nodes}')\n",
    "    else:\n",
    "        print('This graph has no nodes with only incoming links from every other node')\n",
    "\n",
    "    if only_outgoing == True:\n",
    "        print(f'This graph has the following nodes with outgoing links to every other node: {only_outgoing_nodes}')\n",
    "    else:\n",
    "        print('This graph has no nodes with outgoing links to every other node')\n",
    "        \n",
    "#check functie voor 1.19\n",
    "\n",
    "def sink(WG):\n",
    "    sinks = []\n",
    "    sinks_present = False\n",
    "\n",
    "    for node in WG.nodes():\n",
    "        if WG.in_degree(node) != 0 and WG.out_degree(node) == 0:\n",
    "            sinks_present = True\n",
    "            sinks.append(node)\n",
    "            \n",
    "    if sinks_present == True:\n",
    "        print(f'This graph has the following sinks: {sinks}')\n",
    "    else:\n",
    "        print('This graphs has no sinks')\n",
    "        \n",
    "#check functie voor 1.20\n",
    "\n",
    "def strength(node, WG):\n",
    "    \n",
    "    in_strength = WG.in_degree(node, weight = 'weight')\n",
    "    out_strength = WG.out_degree(node, weight = 'weight')\n",
    "    \n",
    "    print(f'node {node} heeft een in-strength van: {in_strength} en een out-strength van: {out_strength}')\n",
    "\n",
    "\n",
    "network_structure(WG_matrix)\n",
    "di_network_structure(WG)\n",
    "sink(WG)\n",
    "strength('C', WG)"
   ]
  },
  {
   "cell_type": "markdown",
   "metadata": {},
   "source": [
    "# Verzamelingen\n",
    "\n",
    "* Dubbel klik eens op deze cel zodat je de code ziet.\n",
    "* Leer dan de latex codes voor de mooie symbolen, en zorg dat je zelf nu ook netjes antwoord kunt geven.\n",
    "* Formules zet je altijd tussen dollartekens.\n",
    "    * Als je het in het midden van de regel wil tussen dubbele dolalartekens\n",
    "* Elk commando begint altijd met `\\`. Spaties maken niks uit. Latex regelt hoe het er netjes uit komt te zien.\n",
    "\n",
    "### Opgaven\n",
    "\n",
    "1. $\\{1,2,3\\}\\cap\\{2,3,4\\}=\\{2,3\\}$\n",
    "1. $\\{1,2,3\\}\\cup\\{2,3,4\\}= \\{1,2,3,4\\}$\n",
    "1. $\\{1,2,3\\}\\setminus\\{2,3,4\\}= \\{1\\}$\n",
    "1. $\\emptyset\\setminus\\{2,3,4\\}=\\{\\}$\n",
    "2. $\\{1,2,3\\}\\times\\{2,3,4\\}=\\{\\{1,2\\}, \\{1,3\\}, \\{1,4\\}, \\{2,2\\}, \\{2,3\\}, \\{2,4\\}, \\{3,2\\}, \\{3,3\\}, \\{3,4\\}\\}$\n",
    "3. De machtsverzameling van $\\{1,2,3,4\\}$ is ....\\\n",
    "$\\{\\{\\}, \\{1\\}, \\{2\\}, \\{3\\}, \\{4\\}, \\{1,2\\}, \\{1,3\\}, \\{1,4\\}, \\{2,3\\}, \\{2,4\\}, \\{3,4\\}, \\{1,2,3\\}, \\{1,2,4\\}, \\{2,3,4\\}, \\{1,3,4\\}, \\{1,2,3,4\\}\\}$\n",
    "     * Check dat je echt $2^4$ veel deelverzamelingen hebt gevonden.\n",
    "     * het heet niet voor niks *machts* verzameling ;-)\n",
    "\n",
    "#### Teken ook netjes de Venn diagrammen\n",
    "#### Check je antwoorden ook in Python\n",
    "#### Maak zelf opgaven en leg die aan je groepsleden voor"
   ]
  },
  {
   "cell_type": "markdown",
   "metadata": {},
   "source": [
    "# Comprehensies\n",
    "\n",
    "* Zorg dat je list, set en dict comprehensies echt goed in je vingers krijgt!\n",
    "* Het is heerlijk als je het kunt.\n",
    "\n",
    "### Goede uitleg\n",
    "\n",
    "Ik [Googlede op python comprehension tutorial](https://www.google.com/search?q=python+comprehension+tutorial) en de [video](https://www.youtube.com/watch?v=3dt4OGnU5sM) is prima, maar ook de [datacamp tutorial](https://www.datacamp.com/community/tutorials/python-list-comprehension) of de [real python](https://realpython.com/list-comprehension-python/) tutorial.\n",
    "\n",
    "### Wat opgaven\n",
    "\n",
    "Je gaat allemaal comprehensies doen op een gedicht van annie MG Schmidt. Het staat in de cel hieronder als string in de variabele `AMGS` en daarna als lijst van woorden in `t`.\n",
    "\n",
    "In je tests gebruik je allemaal string functies, en ook `in`. \n",
    "\n",
    "#### list comprehensies\n",
    "\n",
    "1. de lijst van alle woorden in `AMGS` beginnend met een `i`. (antwoord beneden)\n",
    "2. zelfde maar dan beginnend met `i` of `I`. (antwoord beneden)\n",
    "3. de lijst van alle woorden in `AMGS` van lengte meer dan 3\n",
    "4. de lijst van alle woorden in `AMGS` waar een `a` in zit\n",
    "5. nu waar juist geen `a` in zit\n",
    "6. nu waar als er een `a` in zit ook een `b` in zit (wat betekent dit precies he?)\n",
    "7. alle woorden zonder klinker.\n",
    "8. Voor elk woord zijn lengte.\n",
    "9. De lijst met het hele gedicht maar nu waar elk woord met een hoofdletter begint.\n",
    "10. De lijst die net zo lang is als het gedicht (dus `t`), maar dan op elke positie of het woord op die positie gelijk is aan `ik`. Dus de waardes zijn alleen maar `True` en `False`.\n",
    "    * Gebruik `sum` om te berekenen hoe vaak het woord `ik` voorkomt.\n",
    "11. Verzien er zelf 10 bij, en maak die ook, en geef ze aan je groepsgenoeten.\n",
    "\n",
    "#### set comprehensies\n",
    "\n",
    "1. De verzameling van alle unieke woorden in `AMGS`.\n",
    "2. De verzameling van alle unieke woorden in `AMGS` met `ch` er in.\n",
    "3. De verzameling van alle unieke woorden in `AMGS`, maar dan geschreven in hoofdletters.\n",
    "4. Alle woordlengtes die in `AMGS` voorkomen.\n",
    "\n",
    "\n",
    "### Dict comprehensies\n",
    "\n",
    "1. De dict met voor elk uniek \"woord\" in `AMGS` zijn lengte. Dus het woord is de key en de lengte de waarde. Let op , woorden zijn dus de elementen in `t`. (antwoord beneden)\n",
    "2. De dict met voor elk uniek \"woord\" in `AMGS` de verzameling karakters in dat woord.\n",
    "3. De dict met voor elk uniek \"woord\" in `AMGS`  de \"schoongemaakte\" versie van dat woord (zonder leestekens, etc, gebruik een lange lijst als `a.replace(':','').replace(',','')`. Zet het woord ook in klein eletters.\n",
    "\n",
    "    \n",
    "### Nesting\n",
    "\n",
    "3. De dict met voor elk uniek woord, de verzameling klinkers in dat  woord. \n",
    "    *   (antwoord beneden, probeer eerst minstens een half uur zelf)\n",
    "4.  De dict met voor elke positie in `AMGS`, de verzameling met het woord voor die positie  en het woord erna.\n",
    "    (antwoord ook beneden, niet meteen gan kijken.)\n",
    "5. DE dict met voor elk woord de verzameling posities waar het voorkomt. Tricky maar leuk!   Hint loop over de posities. \n",
    "6. Na de vorige is deze heel makkelijk: DE dict met voor elk woord  hoe vaak het voorkomt. \n"
   ]
  },
  {
   "cell_type": "code",
   "execution_count": null,
   "metadata": {
    "deletable": false,
    "editable": false,
    "nbgrader": {
     "cell_type": "code",
     "checksum": "a6ad497baa01dc58ba1e15a92af5c3aa",
     "grade": false,
     "grade_id": "amgs",
     "locked": true,
     "schema_version": 3,
     "solution": false
    }
   },
   "outputs": [],
   "source": [
    "AMGS='''\n",
    "Ik wil niet meer, ik wil niet meer!\n",
    "Ik wil geen handjes geven!\n",
    "Ik wil niet zeggen elke keer:\n",
    "Jawel mevrouw, jawel meneer...\n",
    "nee, nooit meer in m'n leven!\n",
    "Ik hou m'n handen op m'n rug\n",
    "en ik zeg lekker niks terug!\n",
    "\n",
    "Ik wil geen vieze havermout,\n",
    "ik wil geen tandjes poetsen!\n",
    "Ik wil lekker knoeien met het zout,\n",
    "ik wil niet aardig zijn, maar stout\n",
    "en van de leuning roetsen\n",
    "en schipbreuk spelen in de teil\n",
    "en ik wil spugen op het zeil!\n",
    "\n",
    "En heel hard stampen in een plas\n",
    "en dan m'n tong uitsteken\n",
    "en morsen op m'n nieuwe jas\n",
    "en ik wil overmorgen pas\n",
    "weer met twee woorden spreken!\n",
    "En ik wil alles wat niet mag,\n",
    "de hele dag, de hele dag!\n",
    "\n",
    "En ik wil op de kanapee\n",
    "met hele vuile schoenen\n",
    "en ik wil aldoor gillen: nee!\n",
    "En ik wil met de melkboer mee\n",
    "en dan het paardje zoenen.\n",
    "En dat is alles wat ik wil\n",
    "en als ze kwaad zijn, zeg ik: Bil!'''\n",
    "\n",
    "t=AMGS.split()\n",
    "len(t),t[:10]"
   ]
  },
  {
   "cell_type": "code",
   "execution_count": null,
   "metadata": {},
   "outputs": [],
   "source": [
    "# probeer eens alleen t[0]. en dan shift return, en probeer eens wat van de suggesties\n",
    "# om erachter te komen wat iets doet typ je t[0].isupper? en dan shift enter.\n",
    "# Ideaal he! Dat kan bij elk object. t[0] is natuurlijk een string, dus je krijgt string functies te zien. \n",
    "t[0].isupper()"
   ]
  },
  {
   "cell_type": "code",
   "execution_count": null,
   "metadata": {},
   "outputs": [],
   "source": [
    "# \"in\" is ook heel handig in Python\n",
    "\n",
    "print(t[1])\n",
    "'i' in t[1], 'W' in t[1], 'W' in t[1].upper()"
   ]
  },
  {
   "cell_type": "code",
   "execution_count": null,
   "metadata": {},
   "outputs": [],
   "source": [
    "#de lijst van alle woorden in `AMGS` beginnend met een `i`. (antwoord beneden)\n",
    "[w for w in t if w.startswith('i')]"
   ]
  },
  {
   "cell_type": "code",
   "execution_count": null,
   "metadata": {},
   "outputs": [],
   "source": [
    "#2. zelfde maar dan beginnend met `i` of `I`. (antwoord beneden)\n",
    "# Verzin minstens 2 andere manieren om exact hetzelfde te krijgen\n",
    "[w for w in t if w.startswith('i') or w.startswith('I')]"
   ]
  },
  {
   "cell_type": "code",
   "execution_count": null,
   "metadata": {},
   "outputs": [],
   "source": [
    "#  De dict met voor elk uniek woord in `AMGS` zijn lengte.\n",
    "\n",
    "{w:len(w) for w in t}"
   ]
  },
  {
   "cell_type": "code",
   "execution_count": null,
   "metadata": {},
   "outputs": [],
   "source": [
    "# De dict met voor elk uniek woord, de verzameling klinkers in dat  woord.\n",
    "\n",
    "{w:{l for l in w if l in 'aeiou'} \n",
    "    for w in set(t)} # verbeter hem zelf zodat hoofdletters ook mee worden genomen\n"
   ]
  },
  {
   "cell_type": "code",
   "execution_count": null,
   "metadata": {},
   "outputs": [],
   "source": [
    "#  De dict met voor elke positie in `AMGS`, de verzameling met het woord voor die positie  en het woord erna.\n",
    "\n",
    "{i:{t[i-1],t[i+1]} for i in range(1,len(t)-1)}"
   ]
  },
  {
   "cell_type": "code",
   "execution_count": null,
   "metadata": {
    "deletable": false,
    "nbgrader": {
     "cell_type": "code",
     "checksum": "845a6ef560597deb9641ed04569e6737",
     "grade": false,
     "grade_id": "TRICKY",
     "locked": false,
     "schema_version": 3,
     "solution": true
    }
   },
   "outputs": [],
   "source": [
    "#  DE dict met voor elk woord de verzameling posities waar het voorkomt. Tricky maar leuk!    \n",
    "l = {w : {i for i in range(1, len(t)-1) if t[i] == w} for w in t}\n",
    "print(l)"
   ]
  },
  {
   "cell_type": "code",
   "execution_count": null,
   "metadata": {},
   "outputs": [],
   "source": []
  }
 ],
 "metadata": {
  "anaconda-cloud": {},
  "hide_input": false,
  "kernelspec": {
   "display_name": "Python 3 (ipykernel)",
   "language": "python",
   "name": "python3"
  },
  "language_info": {
   "codemirror_mode": {
    "name": "ipython",
    "version": 3
   },
   "file_extension": ".py",
   "mimetype": "text/x-python",
   "name": "python",
   "nbconvert_exporter": "python",
   "pygments_lexer": "ipython3",
   "version": "3.8.13"
  },
  "toc": {
   "nav_menu": {},
   "number_sections": true,
   "sideBar": true,
   "skip_h1_title": false,
   "title_cell": "Table of Contents",
   "title_sidebar": "Contents",
   "toc_cell": false,
   "toc_position": {},
   "toc_section_display": true,
   "toc_window_display": false
  },
  "varInspector": {
   "cols": {
    "lenName": 16,
    "lenType": 16,
    "lenVar": 40
   },
   "kernels_config": {
    "python": {
     "delete_cmd_postfix": "",
     "delete_cmd_prefix": "del ",
     "library": "var_list.py",
     "varRefreshCmd": "print(var_dic_list())"
    },
    "r": {
     "delete_cmd_postfix": ") ",
     "delete_cmd_prefix": "rm(",
     "library": "var_list.r",
     "varRefreshCmd": "cat(var_dic_list()) "
    }
   },
   "types_to_exclude": [
    "module",
    "function",
    "builtin_function_or_method",
    "instance",
    "_Feature"
   ],
   "window_display": false
  }
 },
 "nbformat": 4,
 "nbformat_minor": 4
}
